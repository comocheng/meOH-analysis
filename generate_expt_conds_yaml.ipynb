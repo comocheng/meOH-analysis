{
 "cells": [
  {
   "cell_type": "code",
   "execution_count": 85,
   "id": "f732790d",
   "metadata": {},
   "outputs": [],
   "source": [
    "import yaml\n",
    "import numpy as np\n",
    "import pandas as pd\n",
    "import cantera as ct"
   ]
  },
  {
   "cell_type": "code",
   "execution_count": 86,
   "id": "e0031c80",
   "metadata": {},
   "outputs": [],
   "source": [
    "# manually give addresses for data.\n",
    "graaf_data_dir = './cantera_simulations/Graaf_data/'\n",
    "yang_data_dir = './cantera_simulations/yang_2010_data/'\n",
    "grabow_conditions_dir = './cantera_simulations/Grabow_data/original_runs/'"
   ]
  },
  {
   "cell_type": "markdown",
   "id": "4f94e37c",
   "metadata": {},
   "source": [
    "# SBR: Grabow"
   ]
  },
  {
   "cell_type": "code",
   "execution_count": 87,
   "id": "9cd42661",
   "metadata": {},
   "outputs": [],
   "source": [
    "# make conditions dict for grabow runs to start: \n",
    "conditions_dict = {}\n",
    "\n",
    "# get vol\n",
    "volume = ((35e-3)**2)*np.pi*(70e-3)/2\n",
    "\n",
    "# catalyst area\n",
    "site_density = 5*61.67*1e-6*1e3 # [moles/kg]\n",
    "\n",
    "total_sites = site_density*4.24e-3 #moles sites (4.24 g cat)\n",
    "\n",
    "rmg_site_density_cu = 2.943e-9*1e4 #mol/m^2 see chemkin surface file\n",
    "\n",
    "cat_area = (total_sites)/(rmg_site_density_cu) #mol/mol/m^2()\n",
    "\n",
    "# Volume flow rate\n",
    "Vin_cm3_min = 470.4\n",
    "Vin_m3_sec = Vin_cm3_min/(60*10**6)\n",
    "volume_flow = Vin_m3_sec\n",
    "\n",
    "temp = [528] # K\n",
    "\n",
    "pressure = [75] # atm\n",
    "\n",
    "expt_name = 'grabow2011'\n",
    "\n",
    "expt_type = 'sbr'"
   ]
  },
  {
   "cell_type": "code",
   "execution_count": 88,
   "id": "f22abc44",
   "metadata": {},
   "outputs": [],
   "source": [
    "# mole fractions \n",
    "CO2_ratio = [0.0, 0.1, 0.2, 0.3, 0.4, 0.5, 0.6, 0.7, 0.8, 0.9, 1.0] #CO2/(CO+CO2)\n",
    "\n",
    "H2_moles = [0.5, 0.75, 0.8, 0.95]\n",
    "\n",
    "H2O_moles = [0.05]\n",
    "\n",
    "#get total number of runs\n",
    "size = len(H2_moles)*len(CO2_ratio)\n",
    "\n",
    "H2_mole_list = []\n",
    "CO2_mole_list = []\n",
    "CO_mole_list = []\n",
    "H2O_mole_list = []\n",
    "\n",
    "for h2 in H2_moles: \n",
    "    for co2_r in CO2_ratio: \n",
    "        if h2 == 0.75:\n",
    "            h2o = 0.05\n",
    "        else: \n",
    "            h2o = 0.\n",
    "        \n",
    "        co2 = (1 - h2o - h2)*co2_r\n",
    "        co2 = round(co2,3)\n",
    "        co = (1 - h2o - h2)*(1-co2_r)\n",
    "        co = round(co, 3)\n",
    "        H2_mole_list.append(h2)\n",
    "        CO2_mole_list.append(co2)\n",
    "        CO_mole_list.append(co)\n",
    "        H2O_mole_list.append(h2o)\n",
    "            \n",
    "\n",
    "mole_dict = {\n",
    "    'H2':H2_mole_list,\n",
    "    'CO2':CO2_mole_list,\n",
    "    'CO':CO_mole_list,\n",
    "    'H2O':H2O_mole_list,\n",
    "}\n",
    "\n",
    "# check that mole fractions add to 1\n",
    "for i in range(len(H2_mole_list)):\n",
    "    summy = H2_mole_list[i] + CO2_mole_list[i]+CO_mole_list[i]+H2O_mole_list[i]\n",
    "    if summy !=1:\n",
    "        print(f\"mole fractions do not add up to one! add up to {summy}\")  "
   ]
  },
  {
   "cell_type": "code",
   "execution_count": 89,
   "id": "4619ca2c",
   "metadata": {},
   "outputs": [],
   "source": [
    "# make yaml\n",
    "grabow_yammy = {}\n",
    "grabow_yammy['volume'] = [volume]*size\n",
    "grabow_yammy['catalyst_area']= [cat_area]*size\n",
    "grabow_yammy['volume_flowrate'] = [volume_flow]*size\n",
    "grabow_yammy['temperature'] = [temp]*size\n",
    "grabow_yammy['pressure'] = [pressure]*size\n",
    "grabow_yammy['experiment_type'] = [expt_type]*size\n",
    "grabow_yammy['species'] = mole_dict"
   ]
  },
  {
   "cell_type": "markdown",
   "id": "95cbcb47",
   "metadata": {},
   "source": [
    "# SBR: Graaf"
   ]
  },
  {
   "cell_type": "code",
   "execution_count": 90,
   "id": "a8f94e62",
   "metadata": {},
   "outputs": [
    {
     "data": {
      "text/plain": [
       "float"
      ]
     },
     "execution_count": 90,
     "metadata": {},
     "output_type": "execute_result"
    }
   ],
   "source": [
    "file_name_feed1 = graaf_data_dir + \"Feed_1.xlsx\"\n",
    "file_name_feed2 = graaf_data_dir + \"Feed_2.xlsx\"\n",
    "file_name_feed3 = graaf_data_dir + \"Feed_3.xlsx\"\n",
    "file_name_feed4 = graaf_data_dir + \"Feed_4.xlsx\"\n",
    "file_name_feed5 = graaf_data_dir + \"Feed_5.xlsx\"\n",
    "file_name_feed6a = graaf_data_dir + \"Feed_6a.xlsx\"\n",
    "file_name_feed6b = graaf_data_dir + \"Feed_6b.xlsx\"\n",
    "file_name_feed7a = graaf_data_dir + \"Feed_7a.xlsx\"\n",
    "file_name_feed7b = graaf_data_dir + \"Feed_7b.xlsx\"\n",
    "\n",
    "df_1 = pd.read_excel(file_name_feed1, engine='openpyxl')\n",
    "df_2 = pd.read_excel(file_name_feed2, engine='openpyxl')\n",
    "df_3 = pd.read_excel(file_name_feed3, engine='openpyxl')\n",
    "df_4 = pd.read_excel(file_name_feed4, engine='openpyxl')\n",
    "df_5 = pd.read_excel(file_name_feed5, engine='openpyxl')\n",
    "df_6a = pd.read_excel(file_name_feed6a, engine='openpyxl')\n",
    "df_6b = pd.read_excel(file_name_feed6b, engine='openpyxl')\n",
    "df_7a = pd.read_excel(file_name_feed7a, engine='openpyxl')\n",
    "df_7b = pd.read_excel(file_name_feed7b, engine='openpyxl')\n",
    "\n",
    "# Needed: [T, P, V, YH2, YCO2, wcat] -- Create a list of lists\n",
    "# Should be columns 2 (T), 1 (P), 3 (V), 6 (YH2), 5 (YCO2) 6 (cat weight)\n",
    "# Each list is the conditions of one experimental Graaf run\n",
    "\n",
    "# List of dataframes with feed conditions\n",
    "df_list = [df_1, df_2, df_3, df_4, df_5, df_6a, df_6b, df_7a, df_7b]\n",
    "\n",
    "# Loop through dataframes and create a list of conditions based on Graaf runs\n",
    "# Loop through each row in the dataframes and add that row's conditions to the list of lists\n",
    "\n",
    "H2_mole_list = []\n",
    "CO2_mole_list = []\n",
    "CO_mole_list = []\n",
    "volume_flows = []\n",
    "cat_areas = []\n",
    "pressures = []\n",
    "temps = []\n",
    "\n",
    "for i in range(len(df_list)):\n",
    "    df = df_list[i]\n",
    "    for row in range(len(df)):\n",
    "        if not np.isnan(df.iloc[row, df.columns.get_loc('T(K)')]):\n",
    "            \n",
    "            # moles\n",
    "            H2_mole_list.append(float(df.iloc[row,df.columns.get_loc('feed Yh2')]))\n",
    "            CO2_mole_list.append(float(df.iloc[row,df.columns.get_loc('feed Yco2')]))\n",
    "            CO_mole_list.append(float(df.iloc[row,df.columns.get_loc('feed Yco')]))\n",
    "            \n",
    "            # volume flow\n",
    "            volume_flow = float(df.iloc[row,df.columns.get_loc('10^6 * V (M^3/s)')])*1e-6  # m^3\n",
    "            volume_flows.append(volume_flow)   \n",
    "            \n",
    "            # catalyst weight\n",
    "            cat_weight = float(df.iloc[row,df.columns.get_loc('wcat (g)')])*1e-3 # [kg]\n",
    "            cat_area = (cat_weight * site_density)/rmg_site_density_cu  # [m^3]\n",
    "            cat_areas.append(cat_area)\n",
    "            \n",
    "            # Pressure\n",
    "            pressure = float(df.iloc[row,df.columns.get_loc('p (bar)')])*1e5 #[Pa]\n",
    "            pressures.append(pressure)\n",
    "            \n",
    "            # temperatures\n",
    "            temps.append(float(df.iloc[row,df.columns.get_loc('T(K)')]))  \n",
    "                                        \n",
    "# check that mole fractions add to 1\n",
    "for i in range(len(H2_mole_list)):\n",
    "    summy = H2_mole_list[i] + CO2_mole_list[i]+CO_mole_list[i]\n",
    "    if summy !=1:\n",
    "        print(f\"mole fractions do not add up to one! add up to {summy}\")              \n",
    "\n",
    "# construct mole dict\n",
    "mole_dict = {\n",
    "    'H2':H2_mole_list,\n",
    "    'CO2':CO2_mole_list,\n",
    "    'CO':CO_mole_list,\n",
    "}        \n",
    "\n",
    "type(pressures[0])"
   ]
  },
  {
   "cell_type": "code",
   "execution_count": 91,
   "id": "4c01d3e4",
   "metadata": {},
   "outputs": [],
   "source": [
    "size = len(temps)\n",
    "# make yaml\n",
    "graaf_yammy = {}\n",
    "graaf_yammy['volume'] = [volume]*size\n",
    "graaf_yammy['catalyst_area']= cat_areas\n",
    "graaf_yammy['volume_flowrate'] = volume_flows\n",
    "graaf_yammy['temperature'] = temps\n",
    "graaf_yammy['pressure'] = pressures\n",
    "graaf_yammy['experiment_type'] = [expt_type]*size\n",
    "graaf_yammy['species'] = mole_dict    "
   ]
  },
  {
   "cell_type": "markdown",
   "id": "e439a799",
   "metadata": {},
   "source": [
    "# batch (single crystal): Yang"
   ]
  },
  {
   "cell_type": "code",
   "execution_count": 92,
   "id": "8f80988e",
   "metadata": {},
   "outputs": [
    {
     "data": {
      "text/plain": [
       "'1.241860e+12'"
      ]
     },
     "execution_count": 92,
     "metadata": {},
     "output_type": "execute_result"
    }
   ],
   "source": [
    "# Load in values from plot in Yang 2010\n",
    "temps = [525, 550, 575, 600]\n",
    "\n",
    "size = len(temps)\n",
    "\n",
    "meoh_ln_rate = [\n",
    "    -6.691144708,\n",
    "    -5.978401728,\n",
    "    -4.48812095,\n",
    "    -3.894168467,\n",
    "]\n",
    "\n",
    "rwgs_ln_rate = [\n",
    "    -0.578342066,\n",
    "    0.572607525,\n",
    "    1.171517945,\n",
    "    2.072487534,\n",
    "]\n",
    "\n",
    "# convert to molecules/cm^2/sec\n",
    "meoh_rates_cm = np.exp(meoh_ln_rate)*10**15\n",
    "meoh_rates = dict(zip(temps, meoh_rates_cm))\n",
    "\n",
    "rwgs_rates_cm = np.exp(rwgs_ln_rate)*10**15\n",
    "rwgs_rates = dict(zip(temps, rwgs_rates_cm))\n",
    "\"{:2e}\".format(meoh_rates[525])"
   ]
  },
  {
   "cell_type": "code",
   "execution_count": 93,
   "id": "c010c504",
   "metadata": {},
   "outputs": [
    {
     "data": {
      "text/plain": [
       "'site density molecules/cm: 1.788560e+15'"
      ]
     },
     "execution_count": 93,
     "metadata": {},
     "output_type": "execute_result"
    }
   ],
   "source": [
    "meoh_rate_tof = 6.3e-3\n",
    "rwgs_rate_tof = 1.8\n",
    "meoh_rate_cm = meoh_rates[575]\n",
    "rwgs_rate_cm = rwgs_rates[575]\n",
    "site_density = np.mean([meoh_rate_cm/meoh_rate_tof, rwgs_rate_cm/rwgs_rate_tof])\n",
    "\"site density molecules/cm: {:2e}\".format(site_density)"
   ]
  },
  {
   "cell_type": "code",
   "execution_count": 94,
   "id": "4d4f56d9",
   "metadata": {},
   "outputs": [
    {
     "data": {
      "text/plain": [
       "{525: 0.0006943354237582917,\n",
       " 550: 0.001416151334630445,\n",
       " 575: 0.006285363285118115,\n",
       " 600: 0.011383627345307495}"
      ]
     },
     "execution_count": 94,
     "metadata": {},
     "output_type": "execute_result"
    }
   ],
   "source": [
    "meoh_rates_tof = {temp:rate/site_density for temp,rate in meoh_rates.items()}\n",
    "meoh_rates_tof"
   ]
  },
  {
   "cell_type": "code",
   "execution_count": 95,
   "id": "218f05aa",
   "metadata": {},
   "outputs": [
    {
     "data": {
      "text/plain": [
       "{525: 0.3135636990826555,\n",
       " 550: 0.9912354726941712,\n",
       " 575: 1.8041819185376813,\n",
       " 600: 4.441876166963712}"
      ]
     },
     "execution_count": 95,
     "metadata": {},
     "output_type": "execute_result"
    }
   ],
   "source": [
    "rwgs_rates_tof = {temp:rate/site_density for temp,rate in rwgs_rates.items()}\n",
    "rwgs_rates_tof"
   ]
  },
  {
   "cell_type": "code",
   "execution_count": 96,
   "id": "7310c5e1",
   "metadata": {},
   "outputs": [],
   "source": [
    "# convert to pascals\n",
    "p_co2 = 0.5 * ct.one_atm\n",
    "p_h2 =  4.5 * ct.one_atm\n",
    "p_total = p_co2+p_h2\n",
    "\n",
    "# get total pressure at temp using ig law pv = nrt\n",
    "initial_temp = 300 #[k]\n",
    "p_total_at_temp = np.array(temps)*p_total/initial_temp\n",
    "\n",
    "# get mole fractions\n",
    "x_co2 = p_co2/p_total\n",
    "x_h2 = p_h2/p_total"
   ]
  },
  {
   "cell_type": "code",
   "execution_count": 97,
   "id": "da3c83be",
   "metadata": {},
   "outputs": [
    {
     "data": {
      "text/plain": [
       "float"
      ]
     },
     "execution_count": 97,
     "metadata": {},
     "output_type": "execute_result"
    }
   ],
   "source": [
    "H2_mole_list = [x_h2]*size\n",
    "CO2_mole_list = [x_co2]*size\n",
    "\n",
    "mole_dict = {\n",
    "    'H2':H2_mole_list,\n",
    "    'CO2':CO2_mole_list,\n",
    "}  \n",
    "\n",
    "type(mole_dict['H2'][0])"
   ]
  },
  {
   "cell_type": "code",
   "execution_count": 98,
   "id": "08314d7c",
   "metadata": {
    "scrolled": true
   },
   "outputs": [],
   "source": [
    "# make yaml\n",
    "yang_yammy = {}\n",
    "yang_yammy['volume'] = [0.1]*size\n",
    "yang_yammy['catalyst_area']= [1e2]*size\n",
    "yang_yammy['temperature'] = temps\n",
    "yang_yammy['pressure'] = p_total_at_temp.tolist()\n",
    "yang_yammy['experiment_type'] = [\"batch\"]*size\n",
    "yang_yammy['species'] = mole_dict"
   ]
  },
  {
   "cell_type": "markdown",
   "id": "679299a1",
   "metadata": {},
   "source": [
    "# batch (single crystal) CO methanation"
   ]
  },
  {
   "cell_type": "markdown",
   "id": "ad09220a",
   "metadata": {},
   "source": [
    "## turn experimental conditions dictionaries into yaml file"
   ]
  },
  {
   "cell_type": "code",
   "execution_count": 100,
   "id": "3a3f18c8",
   "metadata": {},
   "outputs": [],
   "source": [
    "yaml_output = {}\n",
    "yaml_output['yang_2010'] = yang_yammy\n",
    "yaml_output['graaf_1988'] = graaf_yammy\n",
    "yaml_output['grabow_2011'] = grabow_yammy"
   ]
  },
  {
   "cell_type": "code",
   "execution_count": 101,
   "id": "0ee88444",
   "metadata": {},
   "outputs": [],
   "source": [
    "output_file = \"all_experiments.yaml\"\n",
    "with open(output_file , 'w') as f:\n",
    "    doc = yaml.safe_dump(yaml_output, f)\n"
   ]
  },
  {
   "cell_type": "code",
   "execution_count": null,
   "id": "c08445b0",
   "metadata": {},
   "outputs": [],
   "source": []
  }
 ],
 "metadata": {
  "kernelspec": {
   "display_name": "rmg_julia_env",
   "language": "python",
   "name": "rmg_julia_env"
  },
  "language_info": {
   "codemirror_mode": {
    "name": "ipython",
    "version": 3
   },
   "file_extension": ".py",
   "mimetype": "text/x-python",
   "name": "python",
   "nbconvert_exporter": "python",
   "pygments_lexer": "ipython3",
   "version": "3.7.11"
  }
 },
 "nbformat": 4,
 "nbformat_minor": 5
}
