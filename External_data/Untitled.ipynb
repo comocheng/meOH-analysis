{
 "cells": [
  {
   "cell_type": "code",
   "execution_count": 57,
   "metadata": {},
   "outputs": [
    {
     "name": "stdout",
     "output_type": "stream",
     "text": [
      "Running Cantera version: 2.5.1\n"
     ]
    }
   ],
   "source": [
    "import pandas as pd\n",
    "import numpy as np\n",
    "import scipy.io\n",
    "import time\n",
    "import cantera as ct\n",
    "from matplotlib import pyplot as plt\n",
    "import csv\n",
    "import math\n",
    "import os\n",
    "import sys\n",
    "from IPython.display import Image\n",
    "%matplotlib inline\n",
    "\n",
    "import logging\n",
    "from collections import defaultdict\n",
    "\n",
    "print(\"Running Cantera version: {}\".format(ct.__version__))"
   ]
  },
  {
   "cell_type": "code",
   "execution_count": 58,
   "metadata": {},
   "outputs": [],
   "source": [
    "# add in grabow conditions from matlab file\n",
    "mat = scipy.io.loadmat('Matlab_files/Graaf1988_ExpID_1.mat')\n",
    "conditions = mat['ccondition']"
   ]
  },
  {
   "cell_type": "code",
   "execution_count": 59,
   "metadata": {},
   "outputs": [
    {
     "name": "stdout",
     "output_type": "stream",
     "text": [
      "Initializing reactor network.\n",
      "Reactor 0: 34 variables.\n",
      "              0 sensitivity params.\n",
      "Number of equations: 34\n",
      "Maximum time step:                0\n"
     ]
    }
   ],
   "source": [
    "# Grabow model and RMG input files\n",
    "cti_file_rmg = 'mech_grabow_new.cti'\n",
    "# cti_file_rmg = 'mech_grabow.cti'\n",
    "\n",
    "#constants\n",
    "pi = math.pi\n",
    "\n",
    "# set initial temps, pressures, concentrations\n",
    "# temp = 230+273.15 # kelvin\n",
    "temp = Fin = float(conditions['T'][0])                # kelvin\n",
    "pressure = 15.01*ct.one_atm # Pascals\n",
    "volume_flow = 0.00424             # [m^3/s]\n",
    "\n",
    "# load mole fractions from partial pressures\n",
    "P_CO = float(conditions['Y0'][0][0][0])\n",
    "P_H2 = float(conditions['Y0'][0][0][5])\n",
    "P_CO2 = float(conditions['Y0'][0][0][7])\n",
    "Ptot = P_CO + P_H2 + P_CO2\n",
    "\n",
    "X_co = P_CO/Ptot\n",
    "X_h2 = P_H2/Ptot\n",
    "X_co2= P_CO2/Ptot\n",
    "\n",
    "mw_co = 28.01e-3  # [kg/mol]\n",
    "mw_co2 = 44.01e-3 # [kg/mol]\n",
    "mw_h2 = 1.01e-3 # [kg/mol]\n",
    "\n",
    "# CO/CO2/H2/H2O: typical is \n",
    "concentrations_rmg = {'CO': X_co,'CO2': X_co2, 'H2':X_h2}\n",
    "\n",
    "# initialize cantera gas and surface\n",
    "gas= ct.Solution(cti_file_rmg,'gas')\n",
    "\n",
    "# surf_grab = ct.Interface(cti_file,'surface1_grab', [gas_grab])\n",
    "surf = ct.Interface(cti_file_rmg,'surface1', [gas])\n",
    "\n",
    "# gas_grab.TPX = \n",
    "gas.TPX = temp, pressure, concentrations_rmg\n",
    "surf.TP = temp, pressure\n",
    "surf.coverages = 'X:1.0'\n",
    "\n",
    "# create gas inlet\n",
    "inlet = ct.Reservoir(gas)\n",
    "\n",
    "#create gas outlet\n",
    "exhaust = ct.Reservoir(gas)\n",
    "\n",
    "# Reactor volume\n",
    "rvol = float(conditions['V'][0])\n",
    "\n",
    "# Catalyst Surface Area\n",
    "sites = float(conditions['Sites'][0])  # moles\n",
    "site_density = surf.site_density*1000                #[mol/m^2]cantera uses kmol/m^2, convert to mol/m^2\n",
    "cat_area = sites/site_density  #[m^2]\n",
    "\n",
    "# reactor initialization\n",
    "r = ct.IdealGasReactor(gas, energy='off')\n",
    "rsurf = ct.ReactorSurface(surf, r, A=cat_area)\n",
    "r.volume = rvol\n",
    "\n",
    "# flow controllers (Graaf measured flow at 293.15 and 1 atm)\n",
    "volume_flow = float(conditions['Flow'][0])/(60*(100**3)) # volume flow in m^3/s (matlab in cm^3/min)\n",
    "molar_flow = volume_flow*pressure/(8.3145*temp)          # [mol/s]\n",
    "mass_flow = molar_flow*(X_co*mw_co+X_co2*mw_co2)         # [kg/s]\n",
    "mfc = ct.MassFlowController(inlet, r, mdot=mass_flow)\n",
    "\n",
    "# initialize reactor network\n",
    "sim = ct.ReactorNet([r])\n",
    "# set relative and absolute tolerances on the simulation\n",
    "sim.rtol = 1.0e-11\n",
    "sim.atol = 1.0e-23\n",
    "\n",
    "#for debugging\n",
    "sim.verbose = True\n",
    "sim.reinitialize()\n",
    "\n",
    "surf.advance_coverages(10)\n",
    "\n",
    "gas_X_initial = zip(gas.species_names,gas.X)"
   ]
  },
  {
   "cell_type": "code",
   "execution_count": 60,
   "metadata": {},
   "outputs": [
    {
     "name": "stdout",
     "output_type": "stream",
     "text": [
      "0.0001347\n"
     ]
    }
   ],
   "source": [
    "print(rvol)"
   ]
  },
  {
   "cell_type": "code",
   "execution_count": 61,
   "metadata": {},
   "outputs": [],
   "source": [
    "# try:\n",
    "#     sim.advance_to_steady_state()\n",
    "# except ct.CanteraError as ce: \n",
    "#     print(ce)"
   ]
  },
  {
   "cell_type": "code",
   "execution_count": 62,
   "metadata": {},
   "outputs": [],
   "source": [
    "# gas_X_final = zip(gas.species_names,gas.X)\n",
    "# print(\"initial:\")\n",
    "# for i,j in gas_X_initial:\n",
    "#     print(i,\":\",j)\n",
    "    \n",
    "# print(\"\\nfinal:\")\n",
    "# for i,j in gas_X_final:\n",
    "#     print(i,\":\",j)"
   ]
  },
  {
   "cell_type": "code",
   "execution_count": 63,
   "metadata": {},
   "outputs": [],
   "source": [
    "try:    \n",
    "    output_filename = \"Grabow_model.csv\"\n",
    "    outfile = open(output_filename, \"w\")\n",
    "    writer = csv.writer(outfile)\n",
    "\n",
    "    writer.writerow(\n",
    "                [\n",
    "                    \"time\",\n",
    "                    \"press\",\n",
    "                    \"temp\",\n",
    "                    \"density mass [kg/m^3]\",\n",
    "                    \"density mole [kmol/m^3]\",\n",
    "                    \n",
    "                ]\n",
    "                + gas.species_names\n",
    "                + surf.species_names\n",
    "                + [\"gas total concentration (kmol/m^3)\", \n",
    "                   \"surf total concentration (kmol/m^2)\"]\n",
    "                  \n",
    "    )\n",
    "    \n",
    "    # write first row\n",
    "    writer.writerow(\n",
    "        [\n",
    "            sim.time,\n",
    "            gas.P,\n",
    "            gas.T,\n",
    "            gas.density_mass,\n",
    "            gas.density_mole,\n",
    "        ]\n",
    "        + list(gas.X)\n",
    "        + list(surf.X)\n",
    "        + [sum(gas.concentrations),\n",
    "           sum(surf.concentrations)\n",
    "          ]\n",
    "    )\n",
    "    \n",
    "    t = 0.0\n",
    "    dt = 1\n",
    "    iter_ct = 0\n",
    "    reactime = 1e4\n",
    "\n",
    "    # run the simulation\n",
    "    first_run = True\n",
    "\n",
    "    while t < reactime:\n",
    "        \n",
    "        writer.writerow(\n",
    "            [\n",
    "                sim.time,\n",
    "                gas.P,\n",
    "                gas.T,\n",
    "                gas.density_mass,\n",
    "                gas.density_mole,\n",
    "            ]\n",
    "            + list(gas.X)\n",
    "            + list(surf.X)\n",
    "            + [sum(gas.concentrations),\n",
    "               sum(surf.concentrations)\n",
    "              ]\n",
    "            )\n",
    "        t += dt\n",
    "        sim.advance(t)\n",
    "\n",
    "\n",
    "    outfile.close()\n",
    "except ct.CanteraError as ce: \n",
    "    print(ce)\n",
    "    outfile.close()"
   ]
  },
  {
   "cell_type": "code",
   "execution_count": 56,
   "metadata": {},
   "outputs": [
    {
     "data": {
      "text/plain": [
       "'IdealGasReactor_8: HCOHX'"
      ]
     },
     "execution_count": 56,
     "metadata": {},
     "output_type": "execute_result"
    }
   ],
   "source": [
    "sim.component_name(25)"
   ]
  },
  {
   "cell_type": "code",
   "execution_count": 78,
   "metadata": {},
   "outputs": [],
   "source": [
    "df = pd.read_csv(\"Grabow_model.csv\")"
   ]
  },
  {
   "cell_type": "code",
   "execution_count": null,
   "metadata": {},
   "outputs": [],
   "source": [
    "sum(surf.concentrations)"
   ]
  },
  {
   "cell_type": "code",
   "execution_count": 79,
   "metadata": {},
   "outputs": [
    {
     "data": {
      "text/plain": [
       "<AxesSubplot:xlabel='time'>"
      ]
     },
     "execution_count": 79,
     "metadata": {},
     "output_type": "execute_result"
    },
    {
     "data": {
      "image/png": "[encoded data removed]",
      "text/plain": [
       "<Figure size 432x288 with 1 Axes>"
      ]
     },
     "metadata": {
      "needs_background": "light"
     },
     "output_type": "display_data"
    }
   ],
   "source": [
    "df.plot(\"time\", \"gas total concentration (kmol/m^3)\")"
   ]
  },
  {
   "cell_type": "code",
   "execution_count": null,
   "metadata": {},
   "outputs": [],
   "source": [
    "df.plot(\"time\", \"surf total concentration (kmol/m^2)\")\n",
    "print(df[\"surf total concentration (kmol/m^2)\"].max(),df[\"surf total concentration (kmol/m^2)\"].min())"
   ]
  },
  {
   "cell_type": "code",
   "execution_count": 80,
   "metadata": {},
   "outputs": [
    {
     "data": {
      "text/plain": [
       "<AxesSubplot:xlabel='time'>"
      ]
     },
     "execution_count": 80,
     "metadata": {},
     "output_type": "execute_result"
    },
    {
     "data": {
      "image/png": "[encoded data removed]",
      "text/plain": [
       "<Figure size 432x288 with 1 Axes>"
      ]
     },
     "metadata": {
      "needs_background": "light"
     },
     "output_type": "display_data"
    }
   ],
   "source": [
    "df.plot(\"time\", surf.species_names)"
   ]
  },
  {
   "cell_type": "code",
   "execution_count": null,
   "metadata": {},
   "outputs": [],
   "source": [
    "df.plot(\"time\", \"CH3OH\")"
   ]
  },
  {
   "cell_type": "code",
   "execution_count": 72,
   "metadata": {},
   "outputs": [
    {
     "data": {
      "text/plain": [
       "31"
      ]
     },
     "execution_count": 72,
     "metadata": {},
     "output_type": "execute_result"
    }
   ],
   "source": [
    "len(surf.net_production_rates)"
   ]
  },
  {
   "cell_type": "code",
   "execution_count": 70,
   "metadata": {},
   "outputs": [
    {
     "data": {
      "text/plain": [
       "23"
      ]
     },
     "execution_count": 70,
     "metadata": {},
     "output_type": "execute_result"
    }
   ],
   "source": [
    "len(surf.species_names)"
   ]
  },
  {
   "cell_type": "code",
   "execution_count": 66,
   "metadata": {},
   "outputs": [
    {
     "data": {
      "text/plain": [
       "8"
      ]
     },
     "execution_count": 66,
     "metadata": {},
     "output_type": "execute_result"
    }
   ],
   "source": [
    "len(gas.species_names)"
   ]
  },
  {
   "cell_type": "code",
   "execution_count": 73,
   "metadata": {},
   "outputs": [
    {
     "data": {
      "text/plain": [
       "8"
      ]
     },
     "execution_count": 73,
     "metadata": {},
     "output_type": "execute_result"
    }
   ],
   "source": [
    "len(gas.net_production_rates)"
   ]
  },
  {
   "cell_type": "code",
   "execution_count": 74,
   "metadata": {},
   "outputs": [
    {
     "data": {
      "text/plain": [
       "array([ 7.47205400e-13,  1.58334007e-17,  2.93519560e-04,  9.39898299e-04,\n",
       "        7.44324055e-03,  2.39905995e-12,  7.06428491e-31,  2.79394050e-11,\n",
       "        5.58548117e-26, -7.47197571e-13,  6.36412894e-29, -1.58332293e-17,\n",
       "        4.91394079e-28, -9.39898300e-04,  5.32606610e-18,  2.85080321e-30,\n",
       "        4.57635626e-25, -2.93519559e-04,  7.03936146e-27,  2.62863393e-42,\n",
       "       -2.39904048e-12,  2.26574917e-18, -6.03180162e-26, -7.06418025e-31,\n",
       "       -2.79390425e-11,  1.07471656e-18, -1.18665034e-24, -1.48864811e-02,\n",
       "        1.83066594e-18,  9.25939425e-13,  1.61198990e-02])"
      ]
     },
     "execution_count": 74,
     "metadata": {},
     "output_type": "execute_result"
    }
   ],
   "source": [
    "surf.net_production_rates"
   ]
  },
  {
   "cell_type": "code",
   "execution_count": 75,
   "metadata": {},
   "outputs": [
    {
     "data": {
      "text/plain": [
       "array([0., 0., 0., 0., 0., 0., 0., 0.])"
      ]
     },
     "execution_count": 75,
     "metadata": {},
     "output_type": "execute_result"
    }
   ],
   "source": [
    "gas.net_production_rates"
   ]
  },
  {
   "cell_type": "markdown",
   "metadata": {},
   "source": [
    "get index of first gas phase species"
   ]
  },
  {
   "cell_type": "code",
   "execution_count": 76,
   "metadata": {},
   "outputs": [
    {
     "data": {
      "text/plain": [
       "8"
      ]
     },
     "execution_count": 76,
     "metadata": {},
     "output_type": "execute_result"
    }
   ],
   "source": [
    "surf.kinetics_species_index(0, surf.phase_index(surf))"
   ]
  },
  {
   "cell_type": "markdown",
   "metadata": {},
   "source": [
    "get index of first surface species"
   ]
  },
  {
   "cell_type": "code",
   "execution_count": 77,
   "metadata": {},
   "outputs": [
    {
     "data": {
      "text/plain": [
       "0"
      ]
     },
     "execution_count": 77,
     "metadata": {},
     "output_type": "execute_result"
    }
   ],
   "source": [
    "surf.kinetics_species_index(0, surf.phase_index(gas))"
   ]
  },
  {
   "cell_type": "code",
   "execution_count": 91,
   "metadata": {},
   "outputs": [
    {
     "name": "stdout",
     "output_type": "stream",
     "text": [
      "H2 + 2 X <=> 2 HX\n",
      "0.0\n"
     ]
    }
   ],
   "source": [
    "reaction_equation = surf.reaction_equation(1)\n",
    "print(reaction_equation)\n",
    "surf.set_multiplier(0,1)\n",
    "print(surf.multiplier(1))"
   ]
  },
  {
   "cell_type": "code",
   "execution_count": null,
   "metadata": {},
   "outputs": [],
   "source": []
  }
 ],
 "metadata": {
  "kernelspec": {
   "display_name": "cantera_env",
   "language": "python",
   "name": "cantera_env"
  },
  "language_info": {
   "codemirror_mode": {
    "name": "ipython",
    "version": 3
   },
   "file_extension": ".py",
   "mimetype": "text/x-python",
   "name": "python",
   "nbconvert_exporter": "python",
   "pygments_lexer": "ipython3",
   "version": "3.8.5"
  }
 },
 "nbformat": 4,
 "nbformat_minor": 2
}
