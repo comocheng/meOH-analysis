{
 "cells": [
  {
   "cell_type": "code",
   "execution_count": 1,
   "id": "5fefadb5",
   "metadata": {},
   "outputs": [],
   "source": [
    "import cantera as ct\n",
    "import numpy as np\n",
    "import pandas as pd\n",
    "import matplotlib.pyplot as plt\n",
    "%matplotlib inline\n",
    "\n",
    "import rmgpy\n",
    "from rmgpy.data.thermo import ThermoDatabase\n",
    "from rmgpy.data.kinetics import KineticsDatabase\n",
    "from rmgpy.molecule import Molecule\n",
    "from rmgpy.species import Species\n",
    "from rmgpy.reaction import Reaction\n",
    "import inspect\n",
    "import copy\n",
    "from rmgpy.kinetics.surface import SurfaceArrhenius\n",
    "from rmgpy.kinetics.surface import StickingCoefficient\n",
    "\n",
    "import rmgpy.chemkin as Chemkin"
   ]
  },
  {
   "cell_type": "code",
   "execution_count": 2,
   "id": "ac140034",
   "metadata": {},
   "outputs": [
    {
     "name": "stdout",
     "output_type": "stream",
     "text": [
      "using rmgpy at:  /home/blais.ch/_02_RMG_envs/RMG_julia_env/RMG-Py/rmgpy/__init__.py\n",
      "using rmgpy version:  3.1.0\n"
     ]
    }
   ],
   "source": [
    "# quick check that we are using the correct rmgpy and version\n",
    "print('using rmgpy at: ',inspect.getfile(rmgpy))\n",
    "print('using rmgpy version: ', rmgpy.__version__)"
   ]
  },
  {
   "cell_type": "code",
   "execution_count": 3,
   "id": "c1bbf17a",
   "metadata": {},
   "outputs": [
    {
     "data": {
      "text/plain": [
       "'/home/blais.ch/_02_RMG_envs/RMG_julia_env/RMG-database/'"
      ]
     },
     "execution_count": 3,
     "metadata": {},
     "output_type": "execute_result"
    }
   ],
   "source": [
    "rmg_py_path = inspect.getfile(rmgpy).split(\"rmgpy\")[0]\n",
    "rmg_db_path = rmg_py_path.split(\"RMG-Py\")[0] + \"RMG-database/\"\n",
    "rmg_db_path"
   ]
  },
  {
   "cell_type": "markdown",
   "id": "b79d52ef",
   "metadata": {},
   "source": [
    "load files"
   ]
  },
  {
   "cell_type": "code",
   "execution_count": 4,
   "id": "08396689",
   "metadata": {},
   "outputs": [],
   "source": [
    "park_xl_file = './park_thermo_and_rates.xlsx'\n",
    "BE_sheet='Binding Energies'\n",
    "rxn_sheet = 'reactions'\n",
    "be_df = pd.read_excel(park_xl_file, sheet_name=BE_sheet, engine='openpyxl')\n",
    "rxn_df = pd.read_excel(park_xl_file, sheet_name=rxn_sheet, engine='openpyxl')"
   ]
  },
  {
   "cell_type": "markdown",
   "id": "a1d4070d",
   "metadata": {},
   "source": [
    "Constants"
   ]
  },
  {
   "cell_type": "code",
   "execution_count": 5,
   "id": "6ecdabea",
   "metadata": {},
   "outputs": [],
   "source": [
    "site_density_mol_cm = 2.943e-09\n",
    "site_density_si = site_density_mol_cm * 1e4"
   ]
  },
  {
   "cell_type": "markdown",
   "id": "0afcd0f2",
   "metadata": {},
   "source": [
    "load thermo database"
   ]
  },
  {
   "cell_type": "code",
   "execution_count": 6,
   "id": "72688efd",
   "metadata": {},
   "outputs": [],
   "source": [
    "db_input_path = rmg_db_path + 'input/'"
   ]
  },
  {
   "cell_type": "code",
   "execution_count": 7,
   "id": "79914291",
   "metadata": {},
   "outputs": [],
   "source": [
    "library_path = db_input_path + 'thermo/'\n",
    "thermo_libraries = [\n",
    "    'primaryThermoLibrary', \n",
    "    'thermo_DFT_CCSDTF12_BAC',\n",
    "    'DFT_QCI_thermo',\n",
    "    'surfaceThermoPt111',\n",
    "    \n",
    "]\n",
    "thermo_database = ThermoDatabase()\n",
    "thermo_database.load(\n",
    "    library_path,\n",
    "    libraries=thermo_libraries,\n",
    "    depository=False,\n",
    "    surface=True\n",
    ")"
   ]
  },
  {
   "cell_type": "markdown",
   "id": "4b2bdc95",
   "metadata": {},
   "source": [
    "import kinetic data "
   ]
  },
  {
   "cell_type": "code",
   "execution_count": 8,
   "id": "99651ddf",
   "metadata": {},
   "outputs": [],
   "source": [
    "kin_libraries_dir = db_input_path + \"kinetics/libraries/Surface/\"\n",
    "kin_fam_dir = db_input_path + \"kinetics/families/\"\n",
    "\n",
    "kinetics_libraries = [\n",
    "    'CPOX_Pt/Deutschmann2006_adjusted',   \n",
    "]\n",
    "\n",
    "kinetics_families = ['surface']\n",
    "\n",
    "kinetics_database = KineticsDatabase()\n",
    "kinetics_database.load_recommended_families(kin_fam_dir  + 'recommended.py')\n",
    "kinetics_database.load_families(\n",
    "    path=kin_fam_dir,\n",
    "    families=kinetics_families,\n",
    ")\n",
    "\n",
    "kinetics_database.load_libraries(\n",
    "    kin_libraries_dir,\n",
    "    libraries=kinetics_libraries\n",
    ")"
   ]
  },
  {
   "cell_type": "markdown",
   "id": "ea58e095",
   "metadata": {},
   "source": [
    "get thermo for molecule"
   ]
  },
  {
   "cell_type": "markdown",
   "id": "33f3fbb5",
   "metadata": {},
   "source": [
    "We need to just manually make the right species, not a great way to translate from their structure to smiles"
   ]
  },
  {
   "cell_type": "code",
   "execution_count": 9,
   "id": "138e8b63",
   "metadata": {},
   "outputs": [],
   "source": [
    "# need a dictionary translating species names to smiles\n",
    "spec_smiles_dict = {\n",
    "    'CO*':'O=C=[*]', \n",
    "    'CO2*':'O=C=O.[*]', \n",
    "    'H*':'[H]*',\n",
    "    'H2O*':'O.[*]',\n",
    "    'CH3OH*':'CO.[*]',\n",
    "    'O*':'O=[*]',\n",
    "    'OH*':'O[*]',\n",
    "    'HCO*':'O=C*',\n",
    "#     'HCOO**':'O=CO[*][*]', #formate, bidentate\n",
    "    'HCOO**':'O=CO[*].[*]', # formate, bidentate, plus extra X\n",
    "    'H2CO2*':'[*]OCO[*]', # its monodentate in model but dft shows bidentate\n",
    "    'COOH*':'O=C(O)[*]',\n",
    "    'CH2O*':'C=O.[*]',\n",
    "    'CH3O*':'CO[*]',\n",
    "    'CH3O2*':'OCO[*]',\n",
    "    '*':'[*]',\n",
    "}\n",
    "\n",
    "# also need a dict of gas phase species to get be's from\n",
    "gas_pre_dict = {\n",
    "    'CO*':'[C-]#[O+]', \n",
    "    'CO2*':'O=C=O', \n",
    "    'H*':'[H]',\n",
    "    'H2O*':'O',\n",
    "    'CH3OH*':'CO',\n",
    "    'O*':'[O]',\n",
    "    'OH*':'[OH]',\n",
    "    'HCO*':'[CH]=O',\n",
    "    'HCOO**':'[O]C=O', #formate, bidentate\n",
    "    'H2CO2*':'[O]C[O]',\n",
    "    'COOH*':'O=[C]O',\n",
    "    'CH2O*':'C=O',\n",
    "    'CH3O*':'C[O]',\n",
    "    'CH3O2*':'[O]CO',\n",
    "    '*':'[*]',\n",
    "}\n",
    "\n",
    "gas_smiles_dict = {\n",
    "    'CO':'[C-]#[O+]', \n",
    "    'CO2':'O=C=O', \n",
    "    'H2O':'O',\n",
    "    'CH3OH':'CO',\n",
    "    'CH2O':'C=O',\n",
    "    'H2':'[H][H]',\n",
    "}"
   ]
  },
  {
   "cell_type": "code",
   "execution_count": 10,
   "id": "3b4a0a27",
   "metadata": {},
   "outputs": [],
   "source": [
    "def get_thermo(spec_str):\n",
    "    '''\n",
    "    takes a string input and returns a species object with complete thermo\n",
    "    this may already exist in RMG.\n",
    "    '''\n",
    "    spec = Species()\n",
    "    spec.from_smiles(spec_str)\n",
    "    est_thermo = thermo_database.get_thermo_data(spec,metal_to_scale_to=\"Cu111\")\n",
    "    spec.thermo = est_thermo\n",
    "    return spec"
   ]
  },
  {
   "cell_type": "code",
   "execution_count": 11,
   "id": "c73e0f13",
   "metadata": {},
   "outputs": [],
   "source": [
    "def get_gas_phase_precurs(spec):\n",
    "    ''' \n",
    "    adapted from ThermoDatabase method: \n",
    "    get_thermo_data_for_surface_species()\n",
    "    '''\n",
    "    dummy_molecules = spec.molecule[0].get_desorbed_molecules()\n",
    "    \n",
    "    for mol in dummy_molecules:\n",
    "        mol.clear_labeled_atoms()\n",
    "    if len(dummy_molecules) == 0:\n",
    "        raise RuntimeError(f\"Cannot get thermo for gas-phase molecule\")\n",
    "\n",
    "    # if len(molecule) > 1, it will assume all resonance structures have already been \n",
    "    #generated when it tries to generate them, so evaluate each configuration separately \n",
    "    # and pick the lowest energy one by H298 value\n",
    "    \n",
    "    gas_phase_species_from_libraries = []\n",
    "    gas_phase_species_estimates = []\n",
    "    for dummy_molecule in dummy_molecules:\n",
    "        dummy_species = Species()\n",
    "        dummy_species.molecule = [dummy_molecule]\n",
    "        dummy_species.generate_resonance_structures()\n",
    "        dummy_species.thermo = thermo_database.get_thermo_data(dummy_species)\n",
    "        if dummy_species.thermo.label:\n",
    "            gas_phase_species_from_libraries.append(dummy_species)\n",
    "        else:\n",
    "            gas_phase_species_estimates.append(dummy_species)\n",
    "\n",
    "    # define the comparison function to find the lowest energy\n",
    "    def lowest_energy(species):\n",
    "        if hasattr(species.thermo, 'H298'):\n",
    "            print(species.thermo.H298.value_si)\n",
    "            return species.thermo.H298.value_si\n",
    "        else:\n",
    "            print(species.thermo.get_enthalpy(298.0))\n",
    "            return species.thermo.get_enthalpy(298.0)\n",
    "        \n",
    "\n",
    "    if gas_phase_species_from_libraries:\n",
    "        species = min(gas_phase_species_from_libraries, key=lowest_energy)\n",
    "    else:\n",
    "        species = min(gas_phase_species_estimates, key=lowest_energy)\n",
    "\n",
    "    thermo = species.thermo\n",
    "    \n",
    "    return species"
   ]
  },
  {
   "cell_type": "markdown",
   "id": "d4f98f7e",
   "metadata": {},
   "source": [
    "generate dictionary of current binding energies"
   ]
  },
  {
   "cell_type": "code",
   "execution_count": 12,
   "id": "34bf2efa",
   "metadata": {},
   "outputs": [],
   "source": [
    "be_dict = {}\n",
    "gas_species_dict = {}\n",
    "for label in spec_smiles_dict.keys():\n",
    "    surf_spec = get_thermo(spec_smiles_dict[label])\n",
    "    gas_spec = get_thermo(gas_pre_dict[label])\n",
    "    surf_h298 = surf_spec.thermo.get_enthalpy(298)\n",
    "    gas_h298 = gas_spec.thermo.get_enthalpy(298)\n",
    "    \n",
    "    be_dict[label] = (surf_h298 - gas_h298)/9.6e4"
   ]
  },
  {
   "cell_type": "code",
   "execution_count": 13,
   "id": "1257b6a8",
   "metadata": {},
   "outputs": [
    {
     "data": {
      "text/plain": [
       "{'CO*': -0.71,\n",
       " 'CO2*': -0.04,\n",
       " 'H*': -2.4,\n",
       " 'H2O*': -0.18,\n",
       " 'CH3OH*': -0.19,\n",
       " 'O*': -4.89,\n",
       " 'OH*': -3.13,\n",
       " 'HCO*': -1.23,\n",
       " 'HCOO**': -2.75,\n",
       " 'H2CO2*': -3.81,\n",
       " 'COOH*': -1.56,\n",
       " 'CH2O*': -0.06,\n",
       " 'CH3O*': -2.26,\n",
       " 'CH3O2*': -2.2,\n",
       " '*': 0.0}"
      ]
     },
     "execution_count": 13,
     "metadata": {},
     "output_type": "execute_result"
    }
   ],
   "source": [
    "be_dict_park = {}\n",
    "for i in range(len(be_df)):\n",
    "    species = be_df['Species'][i].strip()\n",
    "    be_park = be_df[\"BE\"][i]\n",
    "    be_dict_park[species] = be_park\n",
    "be_dict_park"
   ]
  },
  {
   "cell_type": "code",
   "execution_count": 14,
   "id": "bebbec15",
   "metadata": {},
   "outputs": [],
   "source": [
    "# dir(species_dict['CO*'].thermo)\n",
    "# species_dict['CO*'].thermo.get_enthalpy(298)"
   ]
  },
  {
   "cell_type": "code",
   "execution_count": 15,
   "id": "acc6029d",
   "metadata": {},
   "outputs": [
    {
     "data": {
      "text/plain": [
       "{'CO': Species(label=\"CO\", thermo=ThermoData(Tdata=([300,400,500,600,800,1000,1500],'K'), Cpdata=([6.95,7.02,7.12,7.26,7.58,7.86,8.35],'cal/(mol*K)'), H298=(-26.31,'kcal/mol'), S298=(47.2,'cal/(mol*K)'), Cp0=(29.1007,'J/(mol*K)'), CpInf=(37.4151,'J/(mol*K)'), label=\"\"\"CO\"\"\", comment=\"\"\"Thermo library: primaryThermoLibrary\"\"\"), molecule=[Molecule(smiles=\"[C-]#[O+]\")], molecular_weight=(28.01,'amu')),\n",
       " 'CO2': Species(label=\"CO2\", thermo=ThermoData(Tdata=([300,400,500,600,800,1000,1500],'K'), Cpdata=([8.86,9.86,10.64,11.27,12.25,12.93,13.82],'cal/(mol*K)'), H298=(-93.92,'kcal/mol'), S298=(51.07,'cal/(mol*K)'), Cp0=(29.1007,'J/(mol*K)'), CpInf=(62.3585,'J/(mol*K)'), label=\"\"\"CO2\"\"\", comment=\"\"\"Thermo library: thermo_DFT_CCSDTF12_BAC\"\"\"), molecule=[Molecule(smiles=\"O=C=O\")], molecular_weight=(44.0094,'amu')),\n",
       " 'H2O': Species(label=\"H2O\", thermo=ThermoData(Tdata=([300,400,500,600,800,1000,1500],'K'), Cpdata=([8.038,8.18,8.379,8.624,9.195,9.766,11.019],'cal/(mol*K)'), H298=(-57.797,'kcal/mol'), S298=(45.084,'cal/(mol*K)'), Cp0=(33.2579,'J/(mol*K)'), CpInf=(58.2013,'J/(mol*K)'), label=\"\"\"H2O\"\"\", comment=\"\"\"Thermo library: primaryThermoLibrary\"\"\"), molecule=[Molecule(smiles=\"O\")], molecular_weight=(18.0153,'amu')),\n",
       " 'CH3OH': Species(label=\"CH3OH\", thermo=ThermoData(Tdata=([300,400,500,600,800,1000,1500],'K'), Cpdata=([10.91,12.61,14.34,15.99,18.85,21.11,24.85],'cal/(mol*K)'), H298=(-48.23,'kcal/mol'), S298=(57.4,'cal/(mol*K)'), Cp0=(33.2579,'J/(mol*K)'), CpInf=(128.874,'J/(mol*K)'), label=\"\"\"CH3OH\"\"\", comment=\"\"\"Thermo library: thermo_DFT_CCSDTF12_BAC\"\"\"), molecule=[Molecule(smiles=\"CO\")], molecular_weight=(32.0419,'amu')),\n",
       " 'CH2O': Species(label=\"CH2O\", thermo=ThermoData(Tdata=([300,400,500,600,800,1000,1500],'K'), Cpdata=([8.52,9.35,10.36,11.42,13.24,14.67,16.93],'cal/(mol*K)'), H298=(-26.3,'kcal/mol'), S298=(52.23,'cal/(mol*K)'), Cp0=(33.2579,'J/(mol*K)'), CpInf=(83.1447,'J/(mol*K)'), label=\"\"\"CH2O\"\"\", comment=\"\"\"Thermo library: thermo_DFT_CCSDTF12_BAC\"\"\"), molecule=[Molecule(smiles=\"C=O\")], molecular_weight=(30.026,'amu')),\n",
       " 'H2': Species(label=\"H2\", thermo=ThermoData(Tdata=([300,400,500,600,800,1000,1500],'K'), Cpdata=([6.895,6.975,6.994,7.009,7.081,7.219,7.72],'cal/(mol*K)'), H298=(0,'kcal/mol'), S298=(31.233,'cal/(mol*K)','+|-',0.0007), Cp0=(29.1007,'J/(mol*K)'), CpInf=(37.4151,'J/(mol*K)'), label=\"\"\"H2\"\"\", comment=\"\"\"Thermo library: primaryThermoLibrary\"\"\"), molecule=[Molecule(smiles=\"[H][H]\")], molecular_weight=(2.01594,'amu'))}"
      ]
     },
     "execution_count": 15,
     "metadata": {},
     "output_type": "execute_result"
    }
   ],
   "source": [
    "species_dict = {}\n",
    "for spec_name in be_df['Species']:\n",
    "    smiles = spec_smiles_dict[spec_name.strip()]\n",
    "    spec = get_thermo(smiles)\n",
    "    spec.label = spec_name\n",
    "    species_dict[spec_name.strip()] = spec\n",
    "    \n",
    "# manually do surface site \n",
    "# species_dict['*'] = get_thermo(spec_smiles_dict['*'])\n",
    "\n",
    "gas_species_dict = {}\n",
    "for spec_name in gas_smiles_dict.keys():\n",
    "    smiles = gas_smiles_dict[spec_name.strip()]\n",
    "    spec = get_thermo(smiles)\n",
    "    spec.label = spec_name\n",
    "    gas_species_dict[spec_name.strip()] = spec\n",
    "gas_species_dict"
   ]
  },
  {
   "cell_type": "markdown",
   "id": "20153e17",
   "metadata": {},
   "source": [
    "estimated thermo be"
   ]
  },
  {
   "cell_type": "code",
   "execution_count": 16,
   "id": "8c186f84",
   "metadata": {},
   "outputs": [],
   "source": [
    "def update_thermo(spec, name, be1, be2):\n",
    "    '''\n",
    "    updates species thermo given an input for binding energy.\n",
    "    input species object (spec)\n",
    "    park name as string (name)\n",
    "    two floats for the original binding\n",
    "    energy (be1) and the \"correct\" binding energy (be2)\n",
    "    '''\n",
    "    spec_new = copy.deepcopy(spec)\n",
    "    ev_2_kj = 9.6e4\n",
    "    be_diff = (be_dict[name] - be_dict_park[name])*9.6e4\n",
    "    new_h298 = spec.thermo.H298.value_si - be_diff\n",
    "    spec_new.thermo.H298.value_si = new_h298\n",
    "    print(name, id(spec_new.thermo.H298.value_si), id(spec.thermo.H298.value_si))\n",
    "    print(name, spec_new.thermo.H298.value_si, spec.thermo.H298.value_si, be_diff)\n",
    "    return spec_new"
   ]
  },
  {
   "cell_type": "code",
   "execution_count": 17,
   "id": "9ec820f7",
   "metadata": {},
   "outputs": [
    {
     "name": "stdout",
     "output_type": "stream",
     "text": [
      "CO* 47883591547952 47883591547952\n",
      "CO* -178241.03999999998 -181822.28766727418 -3581.2476672741946\n",
      "CO2* 47883591547408 47883591547408\n",
      "CO2* -396801.28 -388622.7245530643 8178.555446935702\n",
      "H* 47883591547728 47883591547728\n",
      "H* -12401.047999999982 -10558.930129219953 1842.1178707800295\n",
      "H2O* 47883591547952 47883591547952\n",
      "H2O* -259102.648 -263455.73733153223 -4353.089331532247\n",
      "CH3OH* 47883591547408 47883591547408\n",
      "CH3OH* -220034.31999999992 -246559.8425112978 -26525.522511297866\n",
      "O* 47883591547728 47883591547728\n",
      "O* -220211.67199999996 -178709.2068455112 41502.46515448876\n",
      "OH* 47883591547952 47883591547952\n",
      "OH* -263397.208 -174960.8073592942 88436.40064070578\n",
      "HCO* 47883591547408 47883591547408\n",
      "HCO* -76156.31999999999 -174562.55232281738 -98406.23232281739\n",
      "HCOO** 47883591547728 47883591547728\n",
      "HCOO** -391026.24 -344038.84448164486 46987.3955183551\n",
      "H2CO2* 47883591547728 47883591547728\n",
      "H2CO2* -300139.183266992 -360036.3922302817 -59897.20896328971\n",
      "COOH* 47883591547408 47883591547408\n",
      "COOH* -333019.19999999995 -379039.0755311749 -46019.87553117492\n",
      "CH2O* 47883591547952 47883591547952\n",
      "CH2O* -115799.19999999997 -162290.99371726078 -46491.79371726081\n",
      "CH3O* 47883591547728 47883591547728\n",
      "CH3O* -196625.75999999998 -178349.09123076466 18276.668769235315\n",
      "CH3O2* 47883591547408 47883591547408\n",
      "CH3O2* -380882.12 -382510.72448164487 -1628.6044816448425\n",
      "* 47883591547952 47883591547952\n",
      "* 0.0 0.0 0.0\n"
     ]
    }
   ],
   "source": [
    "new_thermo_spec_dict = {}\n",
    "for name, spec in species_dict.items():\n",
    "    spec_new = update_thermo(\n",
    "        spec, \n",
    "        name,\n",
    "        be_dict[name], \n",
    "        be_dict_park[name],   \n",
    "    )\n",
    "    new_thermo_spec_dict[name] = spec_new\n",
    "new_thermo_spec_dict['*'] = species_dict['*']"
   ]
  },
  {
   "cell_type": "code",
   "execution_count": 18,
   "id": "ee6c7902",
   "metadata": {},
   "outputs": [],
   "source": [
    "def convert_to_nasa(spec):\n",
    "    thermo = spec.thermo\n",
    "    thermo_nasa = thermo.to_nasa(298, 1500, 1000)\n",
    "    spec.thermo = thermo_nasa"
   ]
  },
  {
   "cell_type": "code",
   "execution_count": 19,
   "id": "859c7d6f",
   "metadata": {},
   "outputs": [],
   "source": [
    "# combine gas and surface species dicts\n",
    "for spec in new_thermo_spec_dict.values():\n",
    "    convert_to_nasa(spec)\n",
    "for spec in gas_species_dict.values():\n",
    "    convert_to_nasa(spec)\n",
    "\n",
    "combined_species_dict = {**new_thermo_spec_dict, **gas_species_dict}"
   ]
  },
  {
   "cell_type": "code",
   "execution_count": 20,
   "id": "7519cccf",
   "metadata": {},
   "outputs": [],
   "source": [
    "def make_reaction(reactants, products, rxn_str, A, Ea, stick = False,):\n",
    "    '''\n",
    "    make a rmgpy reaction object. \n",
    "    takes a list of the species objects for \n",
    "    the reactants and products.\n",
    "    takes a string for the reaction string\n",
    "    if Stick is true, A-factor is the sticking coefficient\n",
    "    '''\n",
    "    if stick: \n",
    "        kinetics = StickingCoefficient(\n",
    "            A=A, \n",
    "            n=0.0, \n",
    "            Ea=Ea, \n",
    "            T0=(1.0, \"K\"), \n",
    "            Tmin=None, \n",
    "            Tmax=None, \n",
    "            Pmin=None, \n",
    "            Pmax=None,\n",
    "            coverage_dependence=None, \n",
    "            comment=''\n",
    "        )\n",
    "    else: \n",
    "        kinetics = SurfaceArrhenius(\n",
    "            A=A, \n",
    "            n=0.0, \n",
    "            Ea=Ea, \n",
    "            T0=(1.0, \"K\"), \n",
    "            Tmin=None, \n",
    "            Tmax=None, \n",
    "            Pmin=None, \n",
    "            Pmax=None,\n",
    "            coverage_dependence=None, \n",
    "            comment=''\n",
    "        ) \n",
    "        \n",
    "    \n",
    "    # use the rmgpy reaction object \n",
    "    rxn = Reaction(\n",
    "        index=-1,\n",
    "        label=rxn_str,\n",
    "        reactants=reactants,\n",
    "        products=products,\n",
    "        specific_collider=None,\n",
    "        kinetics=kinetics,\n",
    "        network_kinetics=None,\n",
    "        reversible=True,\n",
    "        transition_state=None,\n",
    "        duplicate=False,\n",
    "        degeneracy=1,\n",
    "        pairs=None,\n",
    "        allow_pdep_route=False,\n",
    "        elementary_high_p=False,\n",
    "        allow_max_rate_violation=False,\n",
    "        rank=None,\n",
    "        comment='',\n",
    "        is_forward=None,\n",
    "        )\n",
    "    \n",
    "    return rxn"
   ]
  },
  {
   "cell_type": "code",
   "execution_count": 21,
   "id": "8a10e639",
   "metadata": {},
   "outputs": [],
   "source": [
    "rxn_spec_dict = {}\n",
    "rxn_dict = {}\n",
    "rxn_dict_coeff = {}\n",
    "rxn_list = {}\n",
    "for index, row in rxn_df.iterrows():\n",
    "    rxn_raw = row['eqtn']\n",
    "    rxn = rxn_raw.strip()\n",
    "    reactants, products = rxn.split(\"<=>\")\n",
    "    reac_spl = reactants.split(\"+\")\n",
    "    prod_spl = products.split(\"+\")\n",
    "    \n",
    "    # retain to list with stoichiometric coeff\n",
    "    # just in case we need it\n",
    "    reac_spl_coeff = reac_spl\n",
    "    prod_spl_coeff = prod_spl\n",
    "    \n",
    "    # expand split reactant/product string so \n",
    "    # reactants with \"2\" as prefix become two \n",
    "    # separate strings \n",
    "    # e.g. 2OH --> OH, OH\n",
    "    for reac in reac_spl:\n",
    "        if reac.startswith(\"2\"):\n",
    "            reac_dup = reac.replace(\"2\",\"\")\n",
    "            reac_spl.remove(reac)\n",
    "            reac_spl.extend([reac_dup]*2)\n",
    "            \n",
    "    for prod in prod_spl:\n",
    "        if prod.startswith(\"2\"):\n",
    "            prod_dup = prod.replace(\"2\",\"\")\n",
    "            prod_spl.remove(prod)\n",
    "            prod_spl.extend([prod_dup]*2) \n",
    "    \n",
    "    rxn_dict[rxn] = [reac_spl, prod_spl] \n",
    "    rxn_dict_coeff[rxn] = [reac_spl_coeff, prod_spl_coeff] \n",
    "    \n",
    "    if row['Ar'] == 'N/A' and row['stick']:\n",
    "        # if no rate info and sticking coefficient\n",
    "        A = 1.0\n",
    "        Ea = (0,'J/mol')\n",
    "    else:\n",
    "        # we are making a concession here. rates that do \n",
    "        # not have an A-factor or Ea specified are quasi-\n",
    "        # equilibrated, so I am setting the A-factor to the \n",
    "        # highest value (1e22 1/s) in the mechanism, and\n",
    "        # making it barrierless (Ea=0 eV)\n",
    "\n",
    "        if len(reac_spl) > 1:\n",
    "            A = (float(row['Af'] / site_density_si), 'm^2/(mol*s)') # units of mol/m^2/s\n",
    "        else:\n",
    "            A = (float(row['Af'] / site_density_si), 's^-1') # units of mol/m^2/s\n",
    "        \n",
    "        Ea = (float(row['Ef (eV)'] * 9.6e4), 'J/mol') # units of J/mol\n",
    "        \n",
    "    \n",
    "    rxn_spec_dict[rxn] = [\n",
    "        [combined_species_dict[reac] for reac in reac_spl], \n",
    "        [combined_species_dict[prod] for prod in prod_spl],\n",
    "    ]\n",
    "    \n",
    "    rxn_obj = make_reaction(\n",
    "        rxn_spec_dict[rxn][0], \n",
    "        rxn_spec_dict[rxn][1], \n",
    "        rxn, \n",
    "        A, \n",
    "        Ea, \n",
    "        row['stick'],\n",
    "    )\n",
    "    rxn_list[rxn] = rxn_obj"
   ]
  },
  {
   "cell_type": "code",
   "execution_count": 22,
   "id": "22c3337c",
   "metadata": {},
   "outputs": [
    {
     "data": {
      "text/plain": [
       "28"
      ]
     },
     "execution_count": 22,
     "metadata": {},
     "output_type": "execute_result"
    }
   ],
   "source": [
    "len(rxn_list)\n",
    "# rxn_list['CO+*<=>CO*'].to_chemkin()"
   ]
  },
  {
   "cell_type": "code",
   "execution_count": 23,
   "id": "61743418",
   "metadata": {},
   "outputs": [
    {
     "name": "stdout",
     "output_type": "stream",
     "text": [
      "2.5499999999999998e-20\n",
      "1.75e-18\n",
      "1.73e-09\n",
      "1.3100000000000001e-17\n",
      "0.0\n",
      "5.509999999999999e-21\n",
      "3.83e+16\n",
      "1e+20\n",
      "1e+22\n",
      "1e+18\n",
      "607000000000.0\n",
      "8.78e+17\n",
      "157000000000.0\n",
      "1e+22\n",
      "3.17e+18\n",
      "1.94e+17\n",
      "1.18e+17\n",
      "7670000000000.0\n",
      "1e+22\n",
      "194000000000.0\n",
      "51600000.0\n",
      "197000000000000.0\n",
      "43099999999999.99\n",
      "8150000000000.0\n",
      "2.08e+19\n",
      "1e+22\n",
      "131.0\n",
      "1e+22\n"
     ]
    }
   ],
   "source": [
    "for index, row in rxn_df.iterrows():\n",
    "    print(row['Af'])   "
   ]
  },
  {
   "cell_type": "markdown",
   "id": "4ec6bf39",
   "metadata": {},
   "source": [
    "### write chemkin"
   ]
  },
  {
   "cell_type": "markdown",
   "id": "a24f466d",
   "metadata": {},
   "source": [
    "write gas chemkin"
   ]
  },
  {
   "cell_type": "code",
   "execution_count": 24,
   "id": "31417fb7",
   "metadata": {},
   "outputs": [],
   "source": [
    "# make inputs into lists for chemkin file write\n",
    "chemkin_specs = []\n",
    "for spec in gas_species_dict.values():\n",
    "    chemkin_specs.append(spec)\n",
    "\n",
    "chemkin_rxns = []\n",
    "\n",
    "# can I pass an empty list for reactions? \n",
    "Chemkin.save_chemkin_file('./test_chemkin.inp', chemkin_specs, chemkin_rxns, verbose=True, check_for_duplicates=True,)"
   ]
  },
  {
   "cell_type": "markdown",
   "id": "50aec3fb",
   "metadata": {},
   "source": [
    "write surface chemkin"
   ]
  },
  {
   "cell_type": "code",
   "execution_count": 25,
   "id": "25b8e91f",
   "metadata": {},
   "outputs": [],
   "source": [
    "# make inputs into lists for chemkin file write\n",
    "chemkin_specs = []\n",
    "for spec in new_thermo_spec_dict.values():\n",
    "    chemkin_specs.append(spec)\n",
    "\n",
    "chemkin_rxns = []\n",
    "for rxn in rxn_list.values():\n",
    "    chemkin_rxns.append(rxn)\n",
    "    \n",
    "Chemkin.save_chemkin_surface_file('./test_chemkin_surface.inp', chemkin_specs, chemkin_rxns, verbose=True, check_for_duplicates=True,\n",
    "                              surface_site_density=None)"
   ]
  },
  {
   "cell_type": "markdown",
   "id": "5fc94a9a",
   "metadata": {},
   "source": [
    "make a cantera file from the two chemkin files"
   ]
  },
  {
   "cell_type": "code",
   "execution_count": 26,
   "id": "6136c932",
   "metadata": {},
   "outputs": [
    {
     "data": {
      "text/plain": [
       "['surface1']"
      ]
     },
     "execution_count": 26,
     "metadata": {},
     "output_type": "execute_result"
    }
   ],
   "source": [
    "from cantera import ck2cti\n",
    "parser = ck2cti.Parser()\n",
    "parser.convertMech(\n",
    "    './test_chemkin.inp', \n",
    "    outName='test_cantera.cti', \n",
    "    quiet=True, \n",
    "    permissive=True, \n",
    "    surfaceFile='./test_chemkin_surface.inp'\n",
    ")"
   ]
  },
  {
   "cell_type": "code",
   "execution_count": 29,
   "id": "ac4766fb",
   "metadata": {},
   "outputs": [
    {
     "data": {
      "text/plain": [
       "dict_keys(['CO+*<=>CO*', 'CO2+*<=>CO2*', 'H2+2*<=>2H*', 'H2O+*<=>H2O*', 'CH2O+*<=>CH2O*', 'CH3OH+*<=>CH3OH*', 'CO*+O*<=>CO2*+*', 'CO*+OH*<=>COOH*+*', 'CO2*+H*<=>COOH*+*', 'CO2*+H2O*<=>COOH*+OH*', 'H2O*+*<=>OH*+H*', 'OH*+*<=>O*+H*', '2OH*<=>H2O*+H*', 'CO2*+H*<=>HCOO**', 'HCOO**+H*<=>H2CO2*+2*', 'H2CO2*+H*<=>CH3O2*+*', 'H2CO2*+*<=>CH2O*+O*', 'CH3O2*+*<=>CH2O*+OH*', 'CH2O*+H*<=>CH3O*+*', 'CH3O*+H*<=>CH3OH*+*', 'CO*+H*<=>HCO*+*', 'HCOO**<=>HCO*+O*', 'HCO*+H*<=>CH2O*+*', 'CO*+OH*<=>HCO*+O*', 'CO*+H2O*<=>HCO*+OH*', 'CH3O*+CO*<=>CH2O*+*', 'CH3O*+HCO*<=>CH3OH*+CO*', 'CH3O2*+H*<=>CH2O*+H2O*'])"
      ]
     },
     "execution_count": 29,
     "metadata": {},
     "output_type": "execute_result"
    }
   ],
   "source": [
    "rxn_list.keys()"
   ]
  },
  {
   "cell_type": "markdown",
   "id": "7f92e768",
   "metadata": {},
   "source": [
    "### edit excel file "
   ]
  },
  {
   "cell_type": "code",
   "execution_count": 9,
   "id": "a5bf1b25",
   "metadata": {},
   "outputs": [
    {
     "name": "stdout",
     "output_type": "stream",
     "text": [
      "1e-4\n"
     ]
    }
   ],
   "source": [
    "import pandas as pd \n",
    "from openpyxl import load_workbook\n",
    "\n",
    "park_xl_file = './park_thermo_and_rates.xlsx'\n",
    "#load excel file\n",
    "workbook = load_workbook(filename=park_xl_file)\n",
    " \n",
    "#open workbook\n",
    "sheet = workbook.active\n",
    " \n",
    "#modify the desired cell\n",
    "cell = \"C4\"\n",
    "print(sheet[cell].value)\n",
    " \n",
    "#save the file\n",
    "# workbook.save(filename=park_xl_file)\n",
    "# rxn_df = pd.read_excel(park_xl_file, sheet_name=rxn_sheet, engine='openpyxl')\n",
    "\n"
   ]
  },
  {
   "cell_type": "markdown",
   "id": "ca758f31",
   "metadata": {},
   "source": [
    "### change cell value"
   ]
  },
  {
   "cell_type": "code",
   "execution_count": 10,
   "id": "17c0279e",
   "metadata": {},
   "outputs": [],
   "source": [
    "sheet[cell] = '1e-5'\n",
    "workbook.save(filename=park_xl_file)"
   ]
  },
  {
   "cell_type": "code",
   "execution_count": null,
   "id": "1ebe4bc8",
   "metadata": {},
   "outputs": [],
   "source": []
  }
 ],
 "metadata": {
  "kernelspec": {
   "display_name": "rmg_julia_env",
   "language": "python",
   "name": "rmg_julia_env"
  },
  "language_info": {
   "codemirror_mode": {
    "name": "ipython",
    "version": 3
   },
   "file_extension": ".py",
   "mimetype": "text/x-python",
   "name": "python",
   "nbconvert_exporter": "python",
   "pygments_lexer": "ipython3",
   "version": "3.7.11"
  }
 },
 "nbformat": 4,
 "nbformat_minor": 5
}
