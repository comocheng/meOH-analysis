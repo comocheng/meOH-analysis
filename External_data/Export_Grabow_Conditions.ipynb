{
 "cells": [
  {
   "cell_type": "markdown",
   "metadata": {},
   "source": [
    "## export the initial conditions for the grabow experiment matlab files"
   ]
  },
  {
   "cell_type": "code",
   "execution_count": 8,
   "metadata": {},
   "outputs": [],
   "source": [
    "import scipy.io\n",
    "import math\n",
    "import cantera as ct"
   ]
  },
  {
   "cell_type": "code",
   "execution_count": 10,
   "metadata": {},
   "outputs": [
    {
     "ename": "NameError",
     "evalue": "name 'surf' is not defined",
     "output_type": "error",
     "traceback": [
      "\u001b[0;31m---------------------------------------------------------------------------\u001b[0m",
      "\u001b[0;31mNameError\u001b[0m                                 Traceback (most recent call last)",
      "\u001b[0;32m<ipython-input-10-76dd54eba779>\u001b[0m in \u001b[0;36m<module>\u001b[0;34m\u001b[0m\n\u001b[1;32m     32\u001b[0m \u001b[0;31m# Catalyst Surface Area\u001b[0m\u001b[0;34m\u001b[0m\u001b[0;34m\u001b[0m\u001b[0;34m\u001b[0m\u001b[0m\n\u001b[1;32m     33\u001b[0m \u001b[0msites\u001b[0m \u001b[0;34m=\u001b[0m \u001b[0mfloat\u001b[0m\u001b[0;34m(\u001b[0m\u001b[0mconditions\u001b[0m\u001b[0;34m[\u001b[0m\u001b[0;34m'Sites'\u001b[0m\u001b[0;34m]\u001b[0m\u001b[0;34m[\u001b[0m\u001b[0;36m0\u001b[0m\u001b[0;34m]\u001b[0m\u001b[0;34m)\u001b[0m  \u001b[0;31m# [mol]\u001b[0m\u001b[0;34m\u001b[0m\u001b[0;34m\u001b[0m\u001b[0m\n\u001b[0;32m---> 34\u001b[0;31m \u001b[0msite_density\u001b[0m \u001b[0;34m=\u001b[0m \u001b[0msurf\u001b[0m\u001b[0;34m.\u001b[0m\u001b[0msite_density\u001b[0m\u001b[0;34m*\u001b[0m\u001b[0;36m1000\u001b[0m  \u001b[0;31m# [mol/m^2] cantera uses kmol/m^2, convert to mol/m^2\u001b[0m\u001b[0;34m\u001b[0m\u001b[0;34m\u001b[0m\u001b[0m\n\u001b[0m\u001b[1;32m     35\u001b[0m \u001b[0mcat_area\u001b[0m \u001b[0;34m=\u001b[0m \u001b[0msites\u001b[0m\u001b[0;34m/\u001b[0m\u001b[0msite_density\u001b[0m          \u001b[0;31m# [m^2]\u001b[0m\u001b[0;34m\u001b[0m\u001b[0;34m\u001b[0m\u001b[0m\n\u001b[1;32m     36\u001b[0m \u001b[0;34m\u001b[0m\u001b[0m\n",
      "\u001b[0;31mNameError\u001b[0m: name 'surf' is not defined"
     ]
    }
   ],
   "source": [
    "expt_num = 1 \n",
    "    # add in grabow conditions from matlab file\n",
    "    mat = scipy.io.loadmat(f'Matlab_files/Graaf1988_ExpID_{expt_num}.mat')\n",
    "    conditions = mat['ccondition']\n",
    "\n",
    "    mw_co = 28.01e-3  # [kg/mol]\n",
    "    mw_co2 = 44.01e-3 # [kg/mol]\n",
    "    mw_h2 = 1.01e-3 # [kg/mol]\n",
    "\n",
    "    #constants\n",
    "    pi = math.pi\n",
    "\n",
    "    # set initial temps, pressures, concentrations\n",
    "    # temp = 230+273.15 # kelvin\n",
    "    temp = Fin = float(conditions['T'][0])                # kelvin\n",
    "    pressure = 15.01*ct.one_atm # Pascals\n",
    "    volume_flow = 0.00424             # [m^3/s]\n",
    "\n",
    "    # load mole fractions from partial pressures\n",
    "    P_CO = float(conditions['Y0'][0][0][0])\n",
    "    P_H2 = float(conditions['Y0'][0][0][5])\n",
    "    P_CO2 = float(conditions['Y0'][0][0][7])\n",
    "    Ptot = P_CO + P_H2 + P_CO2\n",
    "\n",
    "    X_co = P_CO/Ptot\n",
    "    X_h2 = P_H2/Ptot\n",
    "    X_co2= P_CO2/Ptot\n",
    "\n",
    "    # Reactor volume\n",
    "    rvol = float(conditions['V'][0])\n",
    "\n",
    "    # Catalyst Surface Area\n",
    "    sites = float(conditions['Sites'][0])  # [mol]\n",
    "    \n",
    "\n",
    "    # flow controllers (Graaf measured flow at 293.15 and 1 atm)\n",
    "    volume_flow = float(conditions['Flow'][0])/(60*(100**3)) # volume flow in m^3/s (matlab in cm^3/min)\n",
    "    molar_flow = volume_flow*pressure/(8.3145*temp)          # [mol/s]\n",
    "    mass_flow = molar_flow*(X_co*mw_co+X_co2*mw_co2)         # [kg/s]\n"
   ]
  },
  {
   "cell_type": "code",
   "execution_count": null,
   "metadata": {},
   "outputs": [],
   "source": []
  }
 ],
 "metadata": {
  "kernelspec": {
   "display_name": "cantera_env",
   "language": "python",
   "name": "cantera_env"
  },
  "language_info": {
   "codemirror_mode": {
    "name": "ipython",
    "version": 3
   },
   "file_extension": ".py",
   "mimetype": "text/x-python",
   "name": "python",
   "nbconvert_exporter": "python",
   "pygments_lexer": "ipython3",
   "version": "3.8.5"
  }
 },
 "nbformat": 4,
 "nbformat_minor": 2
}
