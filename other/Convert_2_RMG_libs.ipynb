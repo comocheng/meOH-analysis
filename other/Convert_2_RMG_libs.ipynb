{
 "cells": [
  {
   "cell_type": "code",
   "execution_count": 2,
   "metadata": {},
   "outputs": [],
   "source": [
    "import rmgpy"
   ]
  },
  {
   "cell_type": "code",
   "execution_count": 3,
   "metadata": {},
   "outputs": [],
   "source": [
    "import rmgpy.molecule"
   ]
  },
  {
   "cell_type": "markdown",
   "metadata": {},
   "source": [
    "## Convert shomate to NASA polynomial\n",
    "\n",
    "### NASA Polynomials\n",
    "$\\frac{C_\\mathrm{p}(T)}{R} = a_{-2} T^{-2} + a_{-1} T^{-1} + a_0 + a_1 T + a_2 T^2 + a_3 T^3 + a_4 T^4$  \n",
    "\n",
    "$\\frac{H(T)}{RT} = - a_{-2} T^{-2} + a_{-1} T^{-1} \\ln T + a_0 + \\frac{1}{2} a_1 T + \\frac{1}{3} a_2 T^2 + \\frac{1}{4} a_3 T^3 + \\frac{1}{5} a_4 T^4 + \\frac{a_5}{T}$\n",
    "\n",
    "$\\frac{S(T)}{R} = -\\frac{1}{2} a_{-2} T^{-2} - a_{-1} T^{-1} + a_0 \\ln T + a_1 T + \\frac{1}{2} a_2 T^2 + \\frac{1}{3} a_3 T^3 + \\frac{1}{4} a_4 T^4 + a_6$\n",
    "\n",
    "### shomate equation\n",
    "\n",
    "$t = \\frac{T}{1e3}$"
   ]
  },
  {
   "cell_type": "markdown",
   "metadata": {},
   "source": [
    "#### Heat Capacity\n",
    " $C_p(T)[J/molK] = A+Bt+Ct^2+Dt^3+\\frac{E}{t^2}$  "
   ]
  },
  {
   "cell_type": "markdown",
   "metadata": {},
   "source": [
    "$C_p(T) = A+\\frac{BT}{1e3}+\\frac{CT^2}{1e6}+\\frac{DT^3}{1e9}+\\frac{(1e6)E}{T^2}$"
   ]
  },
  {
   "cell_type": "markdown",
   "metadata": {},
   "source": [
    "$\\frac{C_p(T)}{R} = \\frac{A}{R}+\\frac{BT}{(1e3)R}+\\frac{CT^2}{(1e6)R}+\\frac{DT^3}{(1e9)R}+\\frac{(1e6)E}{RT^2}$\n",
    "\n",
    "##### Compare to NASA\n",
    "$\\frac{C_p(T)}{R} = a_0 + a_1 T + a_2 T^2 + a_3 T^3 + a_4 T^4 + a_{-1} T^{-1} + a_{-2} T^{-2} $ "
   ]
  },
  {
   "cell_type": "markdown",
   "metadata": {},
   "source": [
    "##### Remap parameters\n",
    "$a_0 = \\frac{A}{R}$  \n",
    "$a_1 = \\frac{B}{(1e3)R}$  \n",
    "$a_2 = \\frac{C}{(1e6)R}$  \n",
    "$a_3 = \\frac{D}{(1e9)R}$  \n",
    "$a_4 = 0 $  \n",
    "$a_{-1} = 0$  \n",
    "$a_{-2} = \\frac{(1e6)E}{R}$  "
   ]
  },
  {
   "cell_type": "markdown",
   "metadata": {},
   "source": [
    "#### Enthalpy\n",
    " $H(T)[kJ/molK] = At+\\frac{Bt^2}{2}+\\frac{Ct^3}{3}+\\frac{Dt^4}{4}-\\frac{E}{t}+F$"
   ]
  },
  {
   "cell_type": "markdown",
   "metadata": {},
   "source": [
    " $H(T)[J/molK] = At(1e3)+\\frac{(1e3)Bt^2}{2}+\\frac{(1e3)Ct^3}{3}+\\frac{(1e3)Dt^4}{4}-\\frac{(1e3)E}{t}+(1e3)F$"
   ]
  },
  {
   "cell_type": "markdown",
   "metadata": {},
   "source": [
    " $H(T) = \\frac{AT(1e3)}{1e3}+\\frac{(1e3)BT^2}{2*(1e6)}+\\frac{(1e3)CT^3}{3*(1e9)}+\\frac{(1e3)DT^4}{4*(1e12)}-\\frac{(1e3)(1e3)E}{T}+(1e3)F$"
   ]
  },
  {
   "cell_type": "markdown",
   "metadata": {},
   "source": [
    " $H(T) = AT+\\frac{BT^2}{2*(1e3)}+\\frac{CT^3}{3*(1e6)}+\\frac{DT^4}{4*(1e9)}-\\frac{(1e3)(1e3)E}{T}+(1e3)F$"
   ]
  },
  {
   "cell_type": "markdown",
   "metadata": {},
   "source": [
    " $\\frac{H(T)}{RT} = \\frac{A}{R}+\\frac{BT}{2R(1e3)}+\\frac{CT^2}{3R(1e6)}+\\frac{DT^3}{4R(1e9)}-\\frac{(1e6)E}{RT^2}+\\frac{(1e3)F}{RT}$\n",
    "\n",
    "##### Compare to NASA\n",
    "$\\frac{H(T)}{RT} = - a_{-2} T^{-2} + a_{-1} T^{-1} \\ln T + a_0 + \\frac{1}{2} a_1 T + \\frac{1}{3} a_2 T^2 + \\frac{1}{4} a_3 T^3 + \\frac{1}{5} a_4 T^4 + \\frac{a_5}{T}$"
   ]
  },
  {
   "cell_type": "markdown",
   "metadata": {},
   "source": [
    "##### Remap parameters\n",
    "$a_0 = \\frac{A}{R}$  \n",
    "$a_1 = \\frac{B}{(1e3)R}$  \n",
    "$a_2 = \\frac{C}{(1e6)R}$  \n",
    "$a_3 = \\frac{D}{(1e9)R}$  \n",
    "$a_4 = 0 $\n",
    "$a_5 = \\frac{(1e3)F}{R}$  \n",
    "$a_{-1} = 0$  \n",
    "$a_{-2} = \\frac{(1e6)E}{R}$ "
   ]
  },
  {
   "cell_type": "code",
   "execution_count": null,
   "metadata": {},
   "outputs": [],
   "source": []
  },
  {
   "cell_type": "code",
   "execution_count": null,
   "metadata": {},
   "outputs": [],
   "source": []
  },
  {
   "cell_type": "code",
   "execution_count": null,
   "metadata": {},
   "outputs": [],
   "source": [
    "def shomate_to_nasa():\n",
    "    nasa[1] = \n",
    "    "
   ]
  },
  {
   "cell_type": "markdown",
   "metadata": {},
   "source": [
    "### make adjacency lists"
   ]
  },
  {
   "cell_type": "code",
   "execution_count": null,
   "metadata": {},
   "outputs": [],
   "source": [
    "input_file = \"../../../meoh-synthesis_RMG/meOH-synthesis/base/cantera\"\n",
    "with open(input_file) as old, open(lib_file, \"w\") as new:"
   ]
  }
 ],
 "metadata": {
  "kernelspec": {
   "display_name": "rmg_env",
   "language": "python",
   "name": "rmg_env"
  },
  "language_info": {
   "codemirror_mode": {
    "name": "ipython",
    "version": 3
   },
   "file_extension": ".py",
   "mimetype": "text/x-python",
   "name": "python",
   "nbconvert_exporter": "python",
   "pygments_lexer": "ipython3",
   "version": "3.7.7"
  }
 },
 "nbformat": 4,
 "nbformat_minor": 2
}
