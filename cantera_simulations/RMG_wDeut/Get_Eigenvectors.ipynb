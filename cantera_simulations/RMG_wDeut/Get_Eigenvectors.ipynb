{
 "cells": [
  {
   "cell_type": "code",
   "execution_count": 2,
   "metadata": {},
   "outputs": [
    {
     "name": "stdout",
     "output_type": "stream",
     "text": [
      "Running Cantera version: 2.4.0\n"
     ]
    }
   ],
   "source": [
    "import pandas as pd\n",
    "import numpy as np\n",
    "import time\n",
    "import cantera as ct\n",
    "from matplotlib import pyplot as plt\n",
    "import csv\n",
    "import math\n",
    "import os\n",
    "import sys\n",
    "from IPython.display import Image\n",
    "\n",
    "import itertools\n",
    "import logging\n",
    "from collections import defaultdict\n",
    "\n",
    "import scipy.linalg as la\n",
    "\n",
    "print(\"Running Cantera version: {}\".format(ct.__version__))"
   ]
  },
  {
   "cell_type": "markdown",
   "metadata": {},
   "source": [
    "### load model "
   ]
  },
  {
   "cell_type": "code",
   "execution_count": 3,
   "metadata": {},
   "outputs": [
    {
     "name": "stdout",
     "output_type": "stream",
     "text": [
      "Initializing reactor network.\n",
      "Reactor 0: 64 variables.\n",
      "              0 sensitivity params.\n",
      "Number of equations: 64\n",
      "Maximum time step:                0\n",
      "0.02313679245283019\n"
     ]
    }
   ],
   "source": [
    "# Grabow model and RMG input files\n",
    "# cti_file_rmg = 'Grabow_species_removed/chem_annotated_removed.cti'\n",
    "cti_file_rmg = 'chem_annotated.cti'\n",
    "\n",
    "# Multipliers\n",
    "cat_mult = 1\n",
    "\n",
    "#constants\n",
    "pi = math.pi\n",
    "\n",
    "# set initial temps, pressures, concentrations\n",
    "# temp = 230+273.15         # [kelvin]\n",
    "temp = 528# 483.5                # [kelvin]\n",
    "pressure = 15.3*1e5         # [Pascals] \n",
    "X_co = 0.025\n",
    "X_co2= 0.025\n",
    "X_h2 = 0.95\n",
    "mw_co = 28.01e-3     # [kg/mol]\n",
    "mw_co2 = 44.01e-3    # [kg/mol]\n",
    "mw_h2 = 1.01e-3      # [kg/mol]\n",
    "\n",
    "# CO/CO2/H2/H2O: typical is \n",
    "concentrations_rmg = {'CO(3)': X_co,'CO2(4)': X_co2, 'H2(2)':X_h2}\n",
    "\n",
    "# initialize cantera gas and surface\n",
    "gas= ct.Solution(cti_file_rmg,'gas')\n",
    "\n",
    "# surf_grab = ct.Interface(cti_file,'surface1_grab', [gas_grab])\n",
    "surf = ct.Interface(cti_file_rmg,'surface1', [gas])\n",
    "\n",
    "# gas_grab.TPX = \n",
    "gas.TPX = temp, pressure, concentrations_rmg\n",
    "surf.TP = temp, pressure\n",
    "surf.coverages = 'X(1):1.0'\n",
    "\n",
    "# create gas inlet\n",
    "inlet = ct.Reservoir(gas)\n",
    "\n",
    "#create gas outlet\n",
    "exhaust = ct.Reservoir(gas)\n",
    "\n",
    "# Reactor volume\n",
    "rradius = 35e-3\n",
    "rlength = 70e-3\n",
    "rvol = (rradius**2)*pi*rlength\n",
    "\n",
    "# Catalyst Surface Area\n",
    "site_density = surf.site_density*1000                #[mol/m^2]cantera uses kmol/m^2, convert to mol/m^2\n",
    "cat_weight = 4.24e-3                                 #[kg]\n",
    "cat_site_per_wt = (300*1e-6)*1000                    #[mol/kg] 1e-6mol/micromole, 1000g/kg\n",
    "cat_area = cat_mult*site_density/(cat_weight*cat_site_per_wt) #[m^3]\n",
    "\n",
    "# reactor initialization\n",
    "r = ct.IdealGasConstPressureReactor(gas, energy='off')\n",
    "rsurf = ct.ReactorSurface(surf, r, A=cat_area)\n",
    "r.volume = rvol\n",
    "\n",
    "# flow controllers (Graaf measured flow at 293.15 and 1 atm)\n",
    "one_atm = ct.one_atm\n",
    "FC_temp = 293.15\n",
    "volume_flow = 4.24e-3                                               # [m^3/s]\n",
    "molar_flow = volume_flow*one_atm/(8.3145*FC_temp)                     # [mol/s]\n",
    "mass_flow = molar_flow*(X_co*mw_co+X_co2*mw_co2) # [kg/s]\n",
    "mfc = ct.MassFlowController(inlet, r, mdot=mass_flow)\n",
    "\n",
    "# initialize reactor network\n",
    "sim = ct.ReactorNet([r])\n",
    "# set relative and absolute tolerances on the simulation\n",
    "sim.rtol = 1.0e-11\n",
    "sim.atol = 1.0e-22\n",
    "\n",
    "#for debugging\n",
    "sim.verbose = True\n",
    "sim.reinitialize()\n",
    "\n",
    "\n",
    "print(cat_area)"
   ]
  },
  {
   "cell_type": "markdown",
   "metadata": {},
   "source": [
    "### generate matrices"
   ]
  },
  {
   "cell_type": "code",
   "execution_count": null,
   "metadata": {},
   "outputs": [],
   "source": []
  }
 ],
 "metadata": {
  "kernelspec": {
   "display_name": "Python 3",
   "language": "python",
   "name": "python3"
  },
  "language_info": {
   "codemirror_mode": {
    "name": "ipython",
    "version": 3
   },
   "file_extension": ".py",
   "mimetype": "text/x-python",
   "name": "python",
   "nbconvert_exporter": "python",
   "pygments_lexer": "ipython3",
   "version": "3.7.7"
  }
 },
 "nbformat": 4,
 "nbformat_minor": 4
}
