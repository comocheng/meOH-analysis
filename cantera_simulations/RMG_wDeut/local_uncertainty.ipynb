{
 "cells": [
  {
   "cell_type": "code",
   "execution_count": 1,
   "metadata": {},
   "outputs": [],
   "source": [
    "import os\n",
    "\n",
    "from IPython.display import display, Image\n",
    "\n",
    "from rmgpy.tools.uncertainty import Uncertainty, process_local_results\n",
    "from rmgpy.tools.canteramodel import get_rmg_species_from_user_species\n",
    "from rmgpy.species import Species"
   ]
  },
  {
   "cell_type": "markdown",
   "metadata": {},
   "source": [
    "# First Order Local Uncertainty Analysis for Chemical Reaction Systems\n",
    "\n",
    "This IPython notebook performs first order local uncertainty analysis for a chemical reaction system\n",
    "using a RMG-generated model.  "
   ]
  },
  {
   "cell_type": "markdown",
   "metadata": {},
   "source": [
    "## Step 1: Define mechanism files and simulation settings"
   ]
  },
  {
   "cell_type": "code",
   "execution_count": null,
   "metadata": {},
   "outputs": [],
   "source": [
    "# This is a small ethane pyrolysis model\n",
    "\n",
    "# Must use annotated chemkin file\n",
    "chemkin_file = '/work/westgroup/ChrisB/chem_annotated.inp'\n",
    "dict_file = '/work/westgroup/ChrisB/species_dictionary.txt'\n",
    "\n",
    "# Initialize the Uncertainty class instance and load the model\n",
    "uncertainty = Uncertainty(output_directory='./temp/uncertainty')\n",
    "uncertainty.load_model(chemkin_file, dict_file)\n",
    "\n",
    "# Map the species to the objects within the Uncertainty class\n",
    "H2 = Species().from_smiles('[H][H]')\n",
    "CO = Species().from_smiles('[C-]#[O+]')\n",
    "CO2 = Species().from_smiles('O=C=O')\n",
    "CH3OH = Species().from_smiles('CO')\n",
    "mapping = get_rmg_species_from_user_species([H2, CO, CO2, CH3OH], uncertainty.species_list)\n",
    "\n",
    "# # Define the reaction conditions\n",
    "# initial_mole_fractions = {mapping[ethane]: 1.0}\n",
    "# T = (483.5, 'K')\n",
    "# P = (15.3, 'bar')\n",
    "# termination_time = 1.0, 'ms')\n",
    "# sensitive_species=[mapping[ethane], mapping[C2H4]]"
   ]
  },
  {
   "cell_type": "markdown",
   "metadata": {},
   "source": [
    "## Step 2: Run sensitivity analysis\n",
    "\n",
    "Local uncertainty analysis uses the results from a first-order sensitivity analysis. This analysis is done using RMG's native solver."
   ]
  },
  {
   "cell_type": "code",
   "execution_count": null,
   "metadata": {},
   "outputs": [],
   "source": [
    "# Perform the sensitivity analysis\n",
    "uncertainty.sensitivity_analysis(initial_mole_fractions, sensitive_species, T, P, termination_time, number=5, fileformat='.png')"
   ]
  },
  {
   "cell_type": "code",
   "execution_count": null,
   "metadata": {
    "scrolled": false
   },
   "outputs": [],
   "source": [
    "# Show the sensitivity plots\n",
    "for species in sensitive_species:\n",
    "#     print('{}: Reaction Sensitivities'.format(species))\n",
    "#     index = species.index\n",
    "#     display(Image(filename=os.path.join(uncertainty.output_directory,'solver','sensitivity_1_SPC_{}_reactions.png'.format(index))))\n",
    "    \n",
    "    print('{}: Thermo Sensitivities'.format(species))\n",
    "    display(Image(filename=os.path.join(uncertainty.output_directory,'solver','sensitivity_1_SPC_{}_thermo.png'.format(index))))"
   ]
  }
 ],
 "metadata": {
  "kernelspec": {
   "display_name": "rmg_env",
   "language": "python",
   "name": "rmg_env"
  },
  "language_info": {
   "codemirror_mode": {
    "name": "ipython",
    "version": 3
   },
   "file_extension": ".py",
   "mimetype": "text/x-python",
   "name": "python",
   "nbconvert_exporter": "python",
   "pygments_lexer": "ipython3",
   "version": "3.7.7"
  }
 },
 "nbformat": 4,
 "nbformat_minor": 1
}
