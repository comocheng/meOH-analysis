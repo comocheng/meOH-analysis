{
 "cells": [
  {
   "cell_type": "markdown",
   "metadata": {},
   "source": [
    "# MeOH synthesis model comparison (Grabow vs RMG)\n",
    "\n",
    "Source for grabow model:  \n",
    "Grabow, L. C., & Mavrikakis, M. (2011). Mechanism of methanol synthesis on cu through CO2 and CO hydrogenation. ACS Catalysis, 1(4), 365–384. https://doi.org/10.1021/cs200055d"
   ]
  },
  {
   "cell_type": "code",
   "execution_count": 1,
   "metadata": {},
   "outputs": [
    {
     "name": "stdout",
     "output_type": "stream",
     "text": [
      "Running Cantera version: 2.5.1\n"
     ]
    }
   ],
   "source": [
    "import pandas as pd\n",
    "import numpy as np\n",
    "import time\n",
    "import cantera as ct\n",
    "from matplotlib import pyplot as plt\n",
    "import csv\n",
    "import math\n",
    "import os\n",
    "import sys\n",
    "from IPython.display import Image\n",
    "\n",
    "import itertools\n",
    "import logging\n",
    "from collections import defaultdict\n",
    "\n",
    "import scipy.linalg as la\n",
    "\n",
    "print(\"Running Cantera version: {}\".format(ct.__version__))"
   ]
  },
  {
   "cell_type": "code",
   "execution_count": 2,
   "metadata": {
    "scrolled": false
   },
   "outputs": [
    {
     "name": "stdout",
     "output_type": "stream",
     "text": [
      "0\n"
     ]
    },
    {
     "ename": "AttributeError",
     "evalue": "'cantera._cantera.ReactorSurface' object has no attribute 'add_sensitivity_species_enthalpy'",
     "output_type": "error",
     "traceback": [
      "\u001b[0;31m---------------------------------------------------------------------------\u001b[0m",
      "\u001b[0;31mAttributeError\u001b[0m                            Traceback (most recent call last)",
      "\u001b[0;32m<ipython-input-2-0b385b375814>\u001b[0m in \u001b[0;36m<module>\u001b[0;34m\u001b[0m\n\u001b[1;32m     73\u001b[0m \u001b[0;32mfor\u001b[0m \u001b[0mi\u001b[0m \u001b[0;32min\u001b[0m \u001b[0mrange\u001b[0m\u001b[0;34m(\u001b[0m\u001b[0msurf\u001b[0m\u001b[0;34m.\u001b[0m\u001b[0mn_species\u001b[0m\u001b[0;34m)\u001b[0m\u001b[0;34m:\u001b[0m\u001b[0;34m\u001b[0m\u001b[0;34m\u001b[0m\u001b[0m\n\u001b[1;32m     74\u001b[0m     \u001b[0mprint\u001b[0m\u001b[0;34m(\u001b[0m\u001b[0mi\u001b[0m\u001b[0;34m)\u001b[0m\u001b[0;34m\u001b[0m\u001b[0;34m\u001b[0m\u001b[0m\n\u001b[0;32m---> 75\u001b[0;31m     \u001b[0mrsurf\u001b[0m\u001b[0;34m.\u001b[0m\u001b[0madd_sensitivity_species_enthalpy\u001b[0m\u001b[0;34m(\u001b[0m\u001b[0mi\u001b[0m\u001b[0;34m)\u001b[0m\u001b[0;34m\u001b[0m\u001b[0;34m\u001b[0m\u001b[0m\n\u001b[0m\u001b[1;32m     76\u001b[0m \u001b[0;34m\u001b[0m\u001b[0m\n\u001b[1;32m     77\u001b[0m \u001b[0;31m# set relative and absolute tolerances on the simulation\u001b[0m\u001b[0;34m\u001b[0m\u001b[0;34m\u001b[0m\u001b[0;34m\u001b[0m\u001b[0m\n",
      "\u001b[0;31mAttributeError\u001b[0m: 'cantera._cantera.ReactorSurface' object has no attribute 'add_sensitivity_species_enthalpy'"
     ]
    }
   ],
   "source": [
    "# os.remove(\"Results_single.csv\") \n",
    "# Grabow model and RMG input files\n",
    "# cti_file_rmg = 'Grabow_species_removed/chem_annotated_removed.cti'\n",
    "cti_file_rmg = '/work/westgroup/ChrisB/meoh-synthesis_RMG/meOH-synthesis/base/cantera/chem_annotated.cti'\n",
    "\n",
    "# Multipliers\n",
    "cat_mult = 100\n",
    "\n",
    "#constants\n",
    "pi = math.pi\n",
    "\n",
    "# set initial temps, pressures, concentrations\n",
    "# temp = 230+273.15         # [kelvin]\n",
    "temp = 528# 483.5                # [kelvin]\n",
    "pressure = 15.3*1e5         # [Pascals] \n",
    "X_co = 0.025\n",
    "X_co2= 0.025\n",
    "X_h2 = 0.95\n",
    "mw_co = 28.01e-3     # [kg/mol]\n",
    "mw_co2 = 44.01e-3    # [kg/mol]\n",
    "mw_h2 = 1.01e-3      # [kg/mol]\n",
    "\n",
    "# CO/CO2/H2/H2O: typical is \n",
    "concentrations_rmg = {'CO(3)': X_co,'CO2(4)': X_co2, 'H2(2)':X_h2}\n",
    "\n",
    "# initialize cantera gas and surface\n",
    "gas= ct.Solution(cti_file_rmg,'gas')\n",
    "\n",
    "# surf_grab = ct.Interface(cti_file,'surface1_grab', [gas_grab])\n",
    "surf = ct.Interface(cti_file_rmg,'surface1', [gas])\n",
    "\n",
    "# gas_grab.TPX = \n",
    "gas.TPX = temp, pressure, concentrations_rmg\n",
    "surf.TP = temp, pressure\n",
    "surf.coverages = 'X(1):1.0'\n",
    "\n",
    "# create gas inlet\n",
    "inlet = ct.Reservoir(gas)\n",
    "\n",
    "#create gas outlet\n",
    "exhaust = ct.Reservoir(gas)\n",
    "\n",
    "# Reactor volume\n",
    "rradius = 35e-3\n",
    "rlength = 70e-3\n",
    "rvol = (rradius**2)*pi*rlength\n",
    "\n",
    "# Catalyst Surface Area\n",
    "site_density = surf.site_density*1000                #[mol/m^2]cantera uses kmol/m^2, convert to mol/m^2\n",
    "cat_weight = 4.24e-3                                 #[kg]\n",
    "cat_site_per_wt = (300*1e-6)*1000                    #[mol/kg] 1e-6mol/micromole, 1000g/kg\n",
    "cat_area = cat_mult*site_density/(cat_weight*cat_site_per_wt) #[m^3]\n",
    "\n",
    "# reactor initialization\n",
    "r = ct.IdealGasConstPressureReactor(gas, energy='off')\n",
    "# r = ct.IdealGasReactor(gas, energy='off')\n",
    "rsurf = ct.ReactorSurface(surf, r, A=cat_area)\n",
    "r.volume = rvol\n",
    "\n",
    "\n",
    "\n",
    "# flow controllers (Graaf measured flow at 293.15 and 1 atm)\n",
    "one_atm = ct.one_atm\n",
    "FC_temp = 293.15\n",
    "volume_flow = 4.24e-3                                               # [m^3/s]\n",
    "molar_flow = volume_flow*one_atm/(8.3145*FC_temp)                     # [mol/s]\n",
    "mass_flow = molar_flow*(X_co*mw_co+X_co2*mw_co2) # [kg/s]\n",
    "mfc = ct.MassFlowController(inlet, r, mdot=mass_flow)\n",
    "\n",
    "# initialize reactor network\n",
    "sim = ct.ReactorNet([r])\n",
    "\n",
    "for i in range(surf.n_species):\n",
    "    print(i)\n",
    "    rsurf.add_sensitivity_species_enthalpy(i)\n",
    "\n",
    "# set relative and absolute tolerances on the simulation\n",
    "sim.rtol = 1.0e-11\n",
    "sim.atol = 1.0e-22\n",
    "\n",
    "#for debugging\n",
    "sim.verbose = True\n",
    "sim.reinitialize()\n",
    "\n",
    "\n",
    "print(cat_area)"
   ]
  },
  {
   "cell_type": "code",
   "execution_count": null,
   "metadata": {},
   "outputs": [],
   "source": []
  },
  {
   "cell_type": "code",
   "execution_count": null,
   "metadata": {},
   "outputs": [],
   "source": [
    "output_filename = f'Results_single.csv'\n",
    "outfile = open(output_filename,'w')\n",
    "writer = csv.writer(outfile)\n",
    "writer.writerow(['time(s)','T (C)', 'P (atm)', 'gas density'] \n",
    "                + gas.species_names + surf.species_names,)\n",
    "\n",
    "t = 0.0\n",
    "dt = 0.1\n",
    "\n",
    "# Setup solution array\"\n",
    "states = ct.SolutionArray(gas, extra=['t'])\n",
    "\n",
    "while t < 20000.0:\n",
    "    t += dt\n",
    "    sim.advance(t)\n",
    "    writer.writerow([t,temp, pressure, gas.density] +\n",
    "                 list(gas.X) + list(surf.X),)\n",
    "        \n",
    "results = pd.read_csv('Results_single.csv')\n",
    "results.plot('time(s)',['H2(2)', 'H2O(5)', 'CO(3)','CO2(4)','CH3OH(8)'])\n"
   ]
  },
  {
   "cell_type": "code",
   "execution_count": null,
   "metadata": {},
   "outputs": [],
   "source": [
    "results.plot('time(s)',['gas density'])"
   ]
  },
  {
   "cell_type": "code",
   "execution_count": null,
   "metadata": {},
   "outputs": [],
   "source": [
    "sim.advance_to_steady_state(max_steps=100000,residual_threshold=sim.rtol*2,return_residuals=True)\n",
    "writer.writerow([temp, pressure, 'V (M^3/s)', 'X_co initial','X_co initial','X_co initial', gas.T] +\n",
    "                 list(gas.X) + list(surf.X),)"
   ]
  },
  {
   "cell_type": "code",
   "execution_count": null,
   "metadata": {},
   "outputs": [],
   "source": [
    "import matplotlib.pyplot as plt\n",
    "import matplotlib.ticker as mtick\n",
    "\n",
    "results = pd.read_csv('Results_single.csv')\n",
    "max_dist = 2\n",
    "imp_reactions = []\n",
    "imprxn_max = []\n",
    "imprxn_min = []\n",
    "\n",
    "df_short = results\n",
    "\n",
    "print('\\n Reactions with ROP that spikes between 1.5 and 1.8:', '\\n')\n",
    "for i in range (6, len(df_short.columns)):\n",
    "    \n",
    "    column = df_short[df_short.columns[i]]\n",
    "    dist = df_short[df_short.columns[0]]\n",
    "    max_value = column.max()\n",
    "    max_index = column.idxmax()\n",
    "    min_value = column.min()\n",
    "    min_index = column.idxmin()\n",
    "    \n",
    "\n",
    "# 1.5 <= dist[min_index] <= 1.74 and \n",
    "    if max_value >= 1e-4 and ((\"X\" in df_short.columns[i]) or (\"Pt\" in df_short.columns[i]) or (\"Pd\" in df_short.columns[i]) or (\"*\" in df_short.columns[i])):\n",
    "            \n",
    "        imp_reactions.append(df_short.columns[i])\n",
    "        imprxn_max.append(max_value)\n",
    "        imprxn_min.append(min_value)\n",
    "        print(df_short.columns[i], \"Max = \" \"{:.10f}\".format(max_value))\n",
    "        \n",
    "    elif min_value <= -1e-4 and ((\"X\" in df_short.columns[i]) or (\"Pt\" in df_short.columns[i]) or (\"Pd\" in df_short.columns[i]) or (\"*\" in df_short.columns[i])):\n",
    "        \n",
    "        imp_reactions.append(df_short.columns[i])\n",
    "        print(df_short.columns[i], \"Min = \" \"{:.10f}\".format(min_value))\n",
    "        imprxn_max.append(max_value)\n",
    "        imprxn_min.append(min_value)"
   ]
  },
  {
   "cell_type": "code",
   "execution_count": null,
   "metadata": {},
   "outputs": [],
   "source": [
    "results.plot('time(s)',['CO*(14)', 'X(1)','CH3OH(8)'])\n",
    "print(gas.X)\n"
   ]
  },
  {
   "cell_type": "code",
   "execution_count": null,
   "metadata": {},
   "outputs": [],
   "source": [
    "def save_flux_diagrams(*phases, suffix=''):\n",
    "    \"\"\"\n",
    "    Saves the flux diagrams. The filenames have a suffix if provided,\n",
    "    so you can keep them separate and not over-write.\n",
    "    \"\"\"\n",
    "    for element in 'CHONX':\n",
    "        for phase_object in phases:\n",
    "            phase = phase_object.name\n",
    "\n",
    "            diagram = ct.ReactionPathDiagram(phase_object, element)\n",
    "            diagram.title = f'Reaction path diagram following {element} in {phase}'\n",
    "            diagram.label_threshold = 0.01\n",
    "\n",
    "            dot_file = f\"reaction_path_{element}_{phase}{'_' if suffix else ''}{suffix}.dot\"\n",
    "            img_file = f\"reaction_path_{element}_{phase}{'_' if suffix else ''}{suffix}.png\"\n",
    "            img_path = os.path.join(os.getcwd(), img_file)\n",
    "            diagram.write_dot(dot_file)\n",
    "            #print(diagram.get_data())\n",
    "\n",
    "            print(f\"Wrote graphviz input file to '{os.path.join(os.getcwd(), dot_file)}'.\")\n",
    "            os.system(f'dot {dot_file} -Tpng -o{img_file} -Gdpi=200')\n",
    "            print(f\"Wrote graphviz output file to '{img_path}'.\")\n",
    "\n",
    "def show_flux_diagrams(*phases, suffix='', embed=False):\n",
    "    \"\"\"\n",
    "    Shows the flux diagrams in the notebook.\n",
    "    Loads them from disk.\n",
    "    Does not embed them, to keep the .ipynb file small,\n",
    "    unless embed=True. Use embed=True if you might over-write the files,\n",
    "    eg. you want to show flux at different points.\n",
    "    \"\"\"\n",
    "    import IPython\n",
    "    for element in 'CHONX':\n",
    "        for phase_object in phases:\n",
    "            phase = phase_object.name\n",
    "            img_file = f\"reaction_path_{element}_{phase}{'_' if suffix else ''}{suffix}.png\"\n",
    "            display(IPython.display.HTML(f'<hr><h2>{element} {phase}</h2>'))\n",
    "            if embed:\n",
    "                display(IPython.display.Image(filename=img_file,width=400,embed=True))\n",
    "            else:\n",
    "                display(IPython.display.Image(url=img_file,width=400,embed=False))"
   ]
  },
  {
   "cell_type": "code",
   "execution_count": null,
   "metadata": {},
   "outputs": [],
   "source": [
    "save_flux_diagrams(gas)"
   ]
  },
  {
   "cell_type": "code",
   "execution_count": null,
   "metadata": {},
   "outputs": [],
   "source": [
    "save_flux_diagrams(surf)"
   ]
  },
  {
   "cell_type": "code",
   "execution_count": null,
   "metadata": {},
   "outputs": [],
   "source": [
    "Image(filename='reaction_path_O_surface1.png')"
   ]
  },
  {
   "cell_type": "code",
   "execution_count": null,
   "metadata": {},
   "outputs": [],
   "source": [
    "Image(filename='reaction_path_H_surface1.png')"
   ]
  },
  {
   "cell_type": "code",
   "execution_count": null,
   "metadata": {
    "scrolled": true
   },
   "outputs": [],
   "source": [
    "# Report the highest rates in reaction\n",
    "def report_rates(n=8):\n",
    "    print(\"\\nHighest net rates of progress, gas\")\n",
    "    for i in np.argsort(abs(gas.net_rates_of_progress))[-1:-n:-1]: # top n in descending order\n",
    "        print(f\"{i+1:3d} : {gas.reaction_equation(i):48s}  {gas.net_rates_of_progress[i]:8.1g}\")\n",
    "    print(\"\\nHighest forward rates of progress, gas\")\n",
    "    for i in np.argsort(abs(gas.forward_rates_of_progress))[-1:-n:-1]: # top n in descending order\n",
    "        print(f\"{i+1:3d} : {gas.reaction_equation(i):48s}  {gas.forward_rates_of_progress[i]:8.1g}\")\n",
    "    print(\"\\nHighest reverse rates of progress, gas\")\n",
    "    for i in np.argsort(abs(gas.reverse_rates_of_progress))[-1:-n:-1]: # top n in descending order\n",
    "        print(f\"{i+1:3d} : {gas.reaction_equation(i):48s}  {gas.reverse_rates_of_progress[i]:8.1g}\")\n",
    "report_rates()"
   ]
  },
  {
   "cell_type": "code",
   "execution_count": null,
   "metadata": {
    "scrolled": false
   },
   "outputs": [],
   "source": [
    "def report_rate_constants(n=8):\n",
    "    print(\"\\nHighest forward rate constants, gas\")\n",
    "    for i in np.argsort(abs(gas.forward_rate_constants))[-1:-n:-1]: # top n in descending order\n",
    "        print(f\"{i+1:3d} : {gas.reaction_equation(i):48s}  {gas.forward_rate_constants[i]:8.1e}\")\n",
    "    print(\"\\nHighest reverse rate constants, gas\")\n",
    "    for i in np.argsort(abs(gas.reverse_rate_constants))[-1:-n:-1]: # top n in descending order\n",
    "        print(f\"{i+1:3d} : {gas.reaction_equation(i):48s}  {gas.reverse_rate_constants[i]:8.1e}\")\n",
    "\n",
    "    print(\"Units are a combination of kmol, m^3 and s, that depend on the rate expression for the reaction.\")\n",
    "report_rate_constants()"
   ]
  },
  {
   "cell_type": "markdown",
   "metadata": {},
   "source": [
    "## Analysis of H2 and H2X thermo"
   ]
  },
  {
   "cell_type": "code",
   "execution_count": null,
   "metadata": {},
   "outputs": [],
   "source": [
    "# Molar enthalpy\n",
    "# species(self, k=None)\n",
    "# species_index(self, species)\n",
    "# species_name(self, k)\n",
    "ThermoTemp = 483.5          # [kelvin]\n",
    "pressure = 15.3*1e5         # [Pascals] \n",
    "\n",
    "for i in surf.species_names:\n",
    "    if 'H2X' in i and ('C' not in i): \n",
    "#         print('Name: ', i , '  index:  ', surf.species_index(i))\n",
    "        H2X_index = surf.species_index(i)\n",
    "        H2X_name = i        \n",
    "# print(H2X_index, '  ', H2X_name)\n",
    "\n",
    "for i in gas.species_names:\n",
    "    if 'H2(' in i and ('C' not in i): \n",
    "#         print('Name: ', i , '  index:  ', gas.species_index(i))\n",
    "        H2_index = gas.species_index(i)\n",
    "        H2_name = i        \n",
    "# print(H2_index, '  ', H2_name)\n",
    "\n",
    "\n",
    "H2X_H = surf.species(H2X_index).thermo.h(ThermoTemp)  # [J/kmol]\n",
    "H2_H = gas.species(H2X_index).thermo.h(ThermoTemp)    # [J/kmol]\n",
    "\n",
    "deltaH = H2_H - H2X_H   # [J/kmol]\n",
    "\n",
    "deltaH = deltaH/10**6 # convert to [kJ/mol]\n",
    "\n",
    "H2X_G = surf.standard_gibbs_RT[H2X_index]*8.3145*ThermoTemp # [J/mol]\n",
    "H2_G = gas.standard_gibbs_RT[H2_index]*8.3145*ThermoTemp    # [J/mol]\n",
    "\n",
    "deltaG = H2_G - H2X_G   # [J/mol]\n",
    "deltaG = deltaG/10**3   # [kJ/mol]\n",
    "\n",
    "print('Enthalpy: ',deltaH, '[kJ/mol]', '\\nGibbs   : ', deltaG, ' [kJ/mol]')"
   ]
  },
  {
   "cell_type": "markdown",
   "metadata": {},
   "source": [
    "### equilibration of H2 only"
   ]
  },
  {
   "cell_type": "code",
   "execution_count": null,
   "metadata": {},
   "outputs": [],
   "source": [
    "# Grabow model and RMG input files\n",
    "# cti_file_rmg = 'Grabow_species_removed/chem_annotated_removed.cti'\n",
    "cti_file_rmg = 'chem_annotated.cti'\n",
    "\n",
    "#constants\n",
    "pi = math.pi\n",
    "\n",
    "# set initial temps, pressures, concentrations\n",
    "# temp = 230+273.15         # [kelvin]\n",
    "temp = 483.5                # [kelvin]\n",
    "pressure = 15.3*1e5         # [Pascals] \n",
    "X_co = 0.0\n",
    "X_co2= 0.0\n",
    "X_h2 = 1.0\n",
    "mw_co = 28.01e-3     # [kg/mol]\n",
    "mw_co2 = 44.01e-3    # [kg/mol]\n",
    "mw_h2 = 1.01e-3      # [kg/mol]\n",
    "\n",
    "# CO/CO2/H2/H2O: typical is \n",
    "concentrations_rmg = {'CO(3)': X_co,'CO2(4)': X_co2, 'H2(2)':X_h2}\n",
    "\n",
    "# initialize cantera gas and surface\n",
    "gas= ct.Solution(cti_file_rmg,'gas')\n",
    "\n",
    "# surf_grab = ct.Interface(cti_file,'surface1_grab', [gas_grab])\n",
    "surf = ct.Interface(cti_file_rmg,'surface1', [gas])\n",
    "\n",
    "# gas_grab.TPX = \n",
    "gas.TPX = temp, pressure, concentrations_rmg\n",
    "surf.TP = temp, pressure\n",
    "surf.coverages = 'X(1):1.0'\n",
    "\n",
    "# equilibrate surface\n",
    "surf.equilibrate(XY='TP')"
   ]
  },
  {
   "cell_type": "code",
   "execution_count": null,
   "metadata": {},
   "outputs": [],
   "source": []
  }
 ],
 "metadata": {
  "kernelspec": {
   "display_name": "cantera_env",
   "language": "python",
   "name": "cantera_env"
  },
  "language_info": {
   "codemirror_mode": {
    "name": "ipython",
    "version": 3
   },
   "file_extension": ".py",
   "mimetype": "text/x-python",
   "name": "python",
   "nbconvert_exporter": "python",
   "pygments_lexer": "ipython3",
   "version": "3.8.5"
  }
 },
 "nbformat": 4,
 "nbformat_minor": 2
}
