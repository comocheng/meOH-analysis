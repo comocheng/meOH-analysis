{
 "cells": [
  {
   "cell_type": "code",
   "execution_count": 17,
   "metadata": {},
   "outputs": [],
   "source": [
    "import os\n",
    "import glob\n",
    "import itertools\n",
    "from random import randint\n",
    "import pandas as pd\n",
    "import matplotlib.pyplot as plt\n",
    "# import seaborn\n",
    "plt.style.use('seaborn-white')\n",
    "\n",
    "\n",
    "import matplotlib.cm as cm\n",
    "\n",
    "import numpy as np"
   ]
  },
  {
   "cell_type": "markdown",
   "metadata": {},
   "source": [
    "## Git-python: checkout master branch"
   ]
  },
  {
   "cell_type": "code",
   "execution_count": 64,
   "metadata": {},
   "outputs": [
    {
     "name": "stdout",
     "output_type": "stream",
     "text": [
      "1054d4 :  including_David_s_vdw_fix\n"
     ]
    }
   ],
   "source": [
    "import git\n",
    "repo = git.Repo('/work/westgroup/ChrisB/meoh-synthesis_RMG/meOH-synthesis/')\n",
    "repo.git.checkout('master')\n",
    "git_sha = str(repo.head.commit)[0:6]\n",
    "git_msg = str(repo.head.commit.message)[0:25].replace(\" \", \"_\").replace(\"'\", \"_\")\n",
    "print(sha,': ', msg)"
   ]
  },
  {
   "cell_type": "code",
   "execution_count": 66,
   "metadata": {},
   "outputs": [
    {
     "name": "stdout",
     "output_type": "stream",
     "text": [
      "/1054d4_including_David_s_vdw_fix/results\n"
     ]
    }
   ],
   "source": [
    "print(f'/{git_sha}_{git_msg}/results')"
   ]
  },
  {
   "cell_type": "markdown",
   "metadata": {},
   "source": [
    "## checkout 1 commit back"
   ]
  },
  {
   "cell_type": "code",
   "execution_count": 48,
   "metadata": {},
   "outputs": [
    {
     "name": "stdout",
     "output_type": "stream",
     "text": [
      "b12515e9afe90d0790672d4b6830dcf5a24124db :  model run with RMG-Py at MeOH2 and RMG-db head at meoh\n",
      "\n"
     ]
    }
   ],
   "source": [
    "repo.git.checkout('HEAD^1')\n",
    "sha = str(repo.head.commit)\n",
    "msg = str(repo.head.commit.message)\n",
    "print(sha,': ', msg)"
   ]
  },
  {
   "cell_type": "markdown",
   "metadata": {},
   "source": [
    "## checkout 2 commits back"
   ]
  },
  {
   "cell_type": "code",
   "execution_count": 49,
   "metadata": {},
   "outputs": [
    {
     "name": "stdout",
     "output_type": "stream",
     "text": [
      "7487a06123240e11192275b3ae2505697e812c1a :  reran without any grabow training reactions\n",
      "\n"
     ]
    }
   ],
   "source": [
    "repo = git.Repo('/work/westgroup/ChrisB/meoh-synthesis_RMG/meOH-synthesis/')\n",
    "repo.git.checkout('HEAD^1')\n",
    "sha = repo.head.commit\n",
    "msg = repo.head.commit.message\n",
    "print(sha,': ', msg)"
   ]
  },
  {
   "cell_type": "code",
   "execution_count": 5,
   "metadata": {},
   "outputs": [
    {
     "name": "stdout",
     "output_type": "stream",
     "text": [
      "['Results_single.csv', 'combined_csv.csv'] []\n"
     ]
    }
   ],
   "source": [
    "csv = 'csv'\n",
    "log = 'log'\n",
    "all_filenames = [i for i in glob.glob('*.{}'.format(csv))]\n",
    "all_logs = [i for i in glob.glob('*.{}'.format(log))]\n",
    "print(all_filenames,all_logs)"
   ]
  },
  {
   "cell_type": "code",
   "execution_count": null,
   "metadata": {},
   "outputs": [],
   "source": [
    "# combine all files in the list\n",
    "# if len(all_filenames) > 1:\n",
    "combined_csv = pd.concat([pd.read_csv(f) for f in all_filenames ])\n",
    "# export to csv\n",
    "combined_csv.to_csv( \"combined_csv.csv\", index=False, encoding='utf-8-sig')"
   ]
  },
  {
   "cell_type": "code",
   "execution_count": null,
   "metadata": {},
   "outputs": [],
   "source": [
    "if len(all_filenames) > 2:\n",
    "    # Remove logs and other csv's\n",
    "    for i in all_filenames: \n",
    "        if not (i in 'combined_csv.csv'): \n",
    "            os.remove(i)\n",
    "if len(all_logs) > 0:\n",
    "    for i in all_logs: \n",
    "        os.remove(i)\n"
   ]
  },
  {
   "cell_type": "code",
   "execution_count": null,
   "metadata": {},
   "outputs": [],
   "source": [
    "df = pd.read_csv('combined_csv.csv')\n",
    "df_short_50 = df[(df['X_h2 initial'] >= 0.49) &(df['X_h2 initial'] <= 0.51)]\n",
    "df_short_75 = df[(df['X_h2 initial'] >= 0.74) &(df['X_h2 initial'] <= 0.76)]\n",
    "df_short_80 = df[(df['X_h2 initial'] >= 0.79) &(df['X_h2 initial'] <= 0.81)]\n",
    "df_short_95 = df[(df['X_h2 initial'] >= 0.94) &(df['X_h2 initial'] <= 0.96)]\n",
    "\n",
    "conditions = ['X(1)', 'H*(10)', 'CH3O*(20)', 'HCOO*(17)', 'OH*(12)']\n",
    "\n",
    "fig, ax = plt.subplots()\n",
    "for i in conditions:\n",
    "    df_short_50.plot.scatter(x='CO2/(CO2+CO)', y=i, ax=ax, label=i)\n",
    "ax.set_title(\"(CO+CO2)/H2 20/80\")\n",
    "ax.set_ylabel(\"Mole Fraction\")\n",
    "\n",
    "#Now this is actually the code that you need, an easy fix your colors just cut and paste not you need ax.\n",
    "colormap = plt.cm.gist_ncar #nipy_spectral, Set1,Paired  \n",
    "colorst = [colormap(i) for i in np.linspace(0, 0.9,len(ax.collections))]       \n",
    "for t,j1 in enumerate(ax.collections):\n",
    "    j1.set_color(colorst[t])\n",
    "\n",
    "ax.legend(fontsize='small')\n"
   ]
  },
  {
   "cell_type": "code",
   "execution_count": null,
   "metadata": {},
   "outputs": [],
   "source": [
    "fig, ax = plt.subplots()\n",
    "for i in conditions:\n",
    "    df_short_75.plot.scatter(x='CO2/(CO2+CO)', y=i, ax=ax, label=i)\n",
    "ax.set_title(\"(CO+CO2)/H2 20/80\")\n",
    "ax.set_ylabel(\"Mole Fraction\")\n",
    "\n",
    "#Now this is actually the code that you need, an easy fix your colors just cut and paste not you need ax.\n",
    "colormap = plt.cm.gist_ncar #nipy_spectral, Set1,Paired  \n",
    "colorst = [colormap(i) for i in np.linspace(0, 0.9,len(ax.collections))]       \n",
    "for t,j1 in enumerate(ax.collections):\n",
    "    j1.set_color(colorst[t])\n",
    "\n",
    "ax.legend(fontsize='small')"
   ]
  },
  {
   "cell_type": "code",
   "execution_count": null,
   "metadata": {
    "scrolled": true
   },
   "outputs": [],
   "source": [
    "fig, ax = plt.subplots()\n",
    "for i in conditions:\n",
    "    df_short_80.plot.scatter(x='CO2/(CO2+CO)', y=i, ax=ax, label=i)\n",
    "ax.set_title(\"(CO+CO2)/H2 20/80\")\n",
    "ax.set_ylabel(\"Mole Fraction\")\n",
    "\n",
    "#Now this is actually the code that you need, an easy fix your colors just cut and paste not you need ax.\n",
    "colormap = plt.cm.gist_ncar #nipy_spectral, Set1,Paired  \n",
    "colorst = [colormap(i) for i in np.linspace(0, 0.9,len(ax.collections))]       \n",
    "for t,j1 in enumerate(ax.collections):\n",
    "    j1.set_color(colorst[t])\n",
    "\n",
    "ax.legend(fontsize='small')"
   ]
  },
  {
   "cell_type": "code",
   "execution_count": null,
   "metadata": {},
   "outputs": [],
   "source": [
    "fig, ax = plt.subplots()\n",
    "for i in conditions:\n",
    "    df_short_95.plot.scatter(x='CO2/(CO2+CO)', y=i, ax=ax, label=i)\n",
    "ax.set_title(\"(CO+CO2)/H2 20/80\")\n",
    "ax.set_ylabel(\"Mole Fraction\")\n",
    "\n",
    "#Now this is actually the code that you need, an easy fix your colors just cut and paste not you need ax.\n",
    "colormap = plt.cm.gist_ncar #nipy_spectral, Set1,Paired  \n",
    "colorst = [colormap(i) for i in np.linspace(0, 0.9,len(ax.collections))]       \n",
    "for t,j1 in enumerate(ax.collections):\n",
    "    j1.set_color(colorst[t])\n",
    "\n",
    "ax.legend(fontsize='small')"
   ]
  },
  {
   "cell_type": "code",
   "execution_count": null,
   "metadata": {},
   "outputs": [],
   "source": [
    "# we are seeing a lot of adsorption at the surface by C2HO,\n",
    "df_short_50.plot.scatter('CO2/(CO2+CO)', 'H2X(50)', title='(CO2+CO)/H2 50/50')\n",
    "df_short_75.plot.scatter('CO2/(CO2+CO)', 'H2X(50)', title='(CO2+CO)/H2 25/75')\n",
    "df_short_80.plot.scatter('CO2/(CO2+CO)', 'H2X(50)', title='(CO2+CO)/H2 20/80')\n",
    "df_short_95.plot.scatter('CO2/(CO2+CO)', 'H2X(50)', title='(CO2+CO)/H2 5/95')"
   ]
  },
  {
   "cell_type": "code",
   "execution_count": null,
   "metadata": {},
   "outputs": [],
   "source": [
    "import matplotlib.pyplot as plt\n",
    "import matplotlib.ticker as mtick\n",
    "\n",
    "max_dist = 2\n",
    "imp_reactions = []\n",
    "imprxn_max = []\n",
    "imprxn_min = []\n",
    "\n",
    "df_short = df_short_95\n",
    "\n",
    "print('\\n Reactions with ROP that spikes between 1.5 and 1.8:', '\\n')\n",
    "for i in range (6, len(df_short.columns)):\n",
    "    \n",
    "    column = df_short[df_short.columns[i]]\n",
    "    dist = df_short[df_short.columns[0]]\n",
    "    max_value = column.max()\n",
    "    max_index = column.idxmax()\n",
    "    min_value = column.min()\n",
    "    min_index = column.idxmin()\n",
    "    \n",
    "\n",
    "# 1.5 <= dist[min_index] <= 1.74 and \n",
    "    if max_value >= 1e-4 and ((\"X\" in df_short.columns[i]) or (\"Pt\" in df_short.columns[i]) or (\"Pd\" in df_short.columns[i]) or (\"*\" in df_short.columns[i])):\n",
    "            \n",
    "        imp_reactions.append(df_short.columns[i])\n",
    "        imprxn_max.append(max_value)\n",
    "        imprxn_min.append(min_value)\n",
    "        print(df_short.columns[i], \"Max = \" \"{:.10f}\".format(max_value))\n",
    "        \n",
    "    elif min_value <= -1e-4 and ((\"X\" in df_short.columns[i]) or (\"Pt\" in df_short.columns[i]) or (\"Pd\" in df_short.columns[i]) or (\"*\" in df_short.columns[i])):\n",
    "        \n",
    "        imp_reactions.append(df_short.columns[i])\n",
    "        print(df_short.columns[i], \"Min = \" \"{:.10f}\".format(min_value))\n",
    "        imprxn_max.append(max_value)\n",
    "        imprxn_min.append(min_value)\n",
    "\n",
    "        "
   ]
  },
  {
   "cell_type": "code",
   "execution_count": null,
   "metadata": {},
   "outputs": [],
   "source": [
    "import math  \n",
    "import cantera as ct\n",
    "# Grabow model and RMG input files\n",
    "# cti_file_rmg = '../base/cantera/chem_annotated.cti'\n",
    "\n",
    "\n",
    "cti_file_rmg = 'chem_annotated_removed.cti'\n",
    "\n",
    "\n",
    "\n",
    "#constants\n",
    "pi = math.pi\n",
    "\n",
    "# set initial temps, pressures, concentrations\n",
    "# temp = 230+273.15 # kelvin\n",
    "temp = 528 # kelvin\n",
    "pressure = 50*ct.one_atm # Pascals\n",
    "X_co = 0.1\n",
    "X_co2= 0.1\n",
    "X_h2 = 0.8\n",
    "mw_co = 28.01e-3  # [kg/mol]\n",
    "mw_co2 = 44.01e-3 # [kg/mol]\n",
    "mw_h2 = 1.01e-3 # [kg/mol]\n",
    "\n",
    "# CO/CO2/H2/H2O: typical is \n",
    "concentrations_rmg = {'CO(3)': X_co,'CO2(4)': X_co2, 'H2(2)':X_h2}\n",
    "\n",
    "# initialize cantera gas and surface\n",
    "gas= ct.Solution(cti_file_rmg,'gas')\n",
    "\n",
    "# surf_grab = ct.Interface(cti_file,'surface1_grab', [gas_grab])\n",
    "surf = ct.Interface(cti_file_rmg,'surface1', [gas])\n",
    "\n",
    "# gas_grab.TPX = \n",
    "gas.TPX = temp, pressure, concentrations_rmg\n",
    "surf.TP = temp, pressure\n",
    "surf.coverages = 'X(1):1.0'\n",
    "\n",
    "# create gas inlet\n",
    "inlet = ct.Reservoir(gas)\n",
    "\n",
    "#create gas outlet\n",
    "exhaust = ct.Reservoir(gas)\n",
    "\n",
    "# Reactor volume\n",
    "rradius = 35e-3\n",
    "rlength = 70e-3\n",
    "rvol = (rradius**2)*pi*rlength\n",
    "\n",
    "# Catalyst Surface Area\n",
    "site_density = surf.site_density*1000                #[mol/m^2]cantera uses kmol/m^2, convert to mol/m^2\n",
    "cat_weight = 4.24e-3                                 #[kg]\n",
    "cat_site_per_wt = (300*1e-6)*1000                    #[mol/kg] 1e-6mol/micromole, 1000g/kg\n",
    "cat_area = 10*site_density/(cat_weight*cat_site_per_wt) #[m^3]\n",
    "\n",
    "# reactor initialization\n",
    "r = ct.IdealGasReactor(gas, energy='off')\n",
    "rsurf = ct.ReactorSurface(surf, r, A=cat_area)\n",
    "r.volume = rvol\n",
    "\n",
    "# flow controllers (Graaf measured flow at 293.15 and 1 atm)\n",
    "volume_flow = 0.00424                                               # [m^3/s]\n",
    "molar_flow = volume_flow*pressure/(8.3145*temp)               # [mol/s]\n",
    "mass_flow = molar_flow*(X_co*mw_co+X_co2*mw_co2) # [kg/s]\n",
    "mfc = ct.MassFlowController(inlet, r, mdot=mass_flow)\n",
    "\n",
    "# initialize reactor network\n",
    "sim = ct.ReactorNet([r])\n",
    "# set relative and absolute tolerances on the simulation\n",
    "sim.rtol = 1.0e-11\n",
    "sim.atol = 1.0e-22\n",
    "\n",
    "#for debugging\n",
    "sim.verbose = True\n",
    "sim.reinitialize()\n",
    "\n",
    "print(cat_area)"
   ]
  },
  {
   "cell_type": "code",
   "execution_count": null,
   "metadata": {},
   "outputs": [],
   "source": []
  }
 ],
 "metadata": {
  "kernelspec": {
   "display_name": "cantera_env",
   "language": "python",
   "name": "cantera_env"
  },
  "language_info": {
   "codemirror_mode": {
    "name": "ipython",
    "version": 3
   },
   "file_extension": ".py",
   "mimetype": "text/x-python",
   "name": "python",
   "nbconvert_exporter": "python",
   "pygments_lexer": "ipython3",
   "version": "3.8.5"
  }
 },
 "nbformat": 4,
 "nbformat_minor": 4
}
