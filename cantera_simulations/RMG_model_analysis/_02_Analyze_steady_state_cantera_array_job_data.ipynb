{
 "cells": [
  {
   "cell_type": "markdown",
   "metadata": {},
   "source": [
    "# Compare RMG to the Grabow model"
   ]
  },
  {
   "cell_type": "code",
   "execution_count": null,
   "metadata": {},
   "outputs": [],
   "source": [
    "import os\n",
    "import glob\n",
    "import itertools\n",
    "from random import randint\n",
    "import pandas as pd\n",
    "import numpy as np\n",
    "import csv\n",
    "import cantera as ct\n",
    "import matplotlib.pyplot as plt\n",
    "%matplotlib inline\n",
    "import seaborn\n",
    "plt.style.use('seaborn-white')\n",
    "from pathlib import Path\n",
    "import time\n",
    "\n",
    "import matplotlib.cm as cm\n",
    "from IPython.display import Image\n",
    "import git"
   ]
  },
  {
   "cell_type": "code",
   "execution_count": null,
   "metadata": {},
   "outputs": [],
   "source": [
    "from rmgpy import chemkin"
   ]
  },
  {
   "cell_type": "markdown",
   "metadata": {},
   "source": [
    "## Git-python: checkout master branch"
   ]
  },
  {
   "cell_type": "code",
   "execution_count": null,
   "metadata": {},
   "outputs": [],
   "source": [
    "# RMG model path that is being analyzed. cantera analysis have a folder name \n",
    "# based off of the commit message, hash, and date\n",
    "rmg_model_path = \"/work/westgroup/ChrisB/_01_MeOH_repos/RMG_run_comparisons/bep_parameter_study/rmg_runs/meoh_main/\"\n",
    "# rmg_model_path = \"/work/westgroup/ChrisB/_01_MeOH_repos/meOH-synthesis/\"\n",
    "repo = git.Repo(rmg_model_path)\n",
    "date = time.localtime(repo.head.commit.committed_date)\n",
    "git_date = time.strftime(\"%Y_%m_%d_%H%M\", date)\n",
    "git_sha = str(repo.head.commit)[0:6]\n",
    "git_msg = str(repo.head.commit.message)[0:50].replace(\" \", \"_\").replace(\"'\", \"_\").replace(\"\\n\", \"\")\n",
    "git_file_string = f\"{git_date}_{git_sha}_{git_msg}\"\n",
    "commit = git_file_string\n",
    "commit"
   ]
  },
  {
   "cell_type": "markdown",
   "metadata": {},
   "source": [
    "## Load a list of reactions for each species generation rate"
   ]
  },
  {
   "cell_type": "code",
   "execution_count": null,
   "metadata": {},
   "outputs": [],
   "source": [
    "cti_file = rmg_model_path + \"base/cantera/chem_annotated.cti\"\n",
    "\n",
    "gas = ct.Solution(cti_file)\n",
    "surface = ct.Interface(cti_file, \"surface1\", [gas])\n",
    "\n",
    "model_dict_file = rmg_model_path + \"base/chemkin/species_dictionary.txt\"\n",
    "grabow_dict_file = \"./species_data/species_dictionary.txt\""
   ]
  },
  {
   "cell_type": "code",
   "execution_count": null,
   "metadata": {},
   "outputs": [],
   "source": [
    "model_dict = chemkin.load_species_dictionary(model_dict_file)\n",
    "grabow_dict = chemkin.load_species_dictionary(grabow_dict_file)"
   ]
  },
  {
   "cell_type": "code",
   "execution_count": null,
   "metadata": {},
   "outputs": [],
   "source": [
    "model_dict.keys()"
   ]
  },
  {
   "cell_type": "code",
   "execution_count": null,
   "metadata": {},
   "outputs": [],
   "source": [
    "# make a dictionary to \"translate\" the names from the grabow model to ours\n",
    "# irrespective of the naming convention.\n",
    "spc_trans = {}\n",
    "for name, entry in model_dict.items(): \n",
    "    for g_name, g_entry in grabow_dict.items():\n",
    "        if entry.is_isomorphic(g_entry):\n",
    "            # remove (#) so it is neater\n",
    "            g_name_new = g_name.split(\"(\", 1)[0]\n",
    "            spc_trans.update({g_name_new :name})\n",
    "spc_trans                   "
   ]
  },
  {
   "cell_type": "code",
   "execution_count": null,
   "metadata": {},
   "outputs": [],
   "source": [
    "# read last line from each CSV file\n",
    "data_dict = {}\n",
    "\n",
    "# exclude CSP, steady state, and non - sensitivity data\n",
    "exclude = [\"/csp/\", \"/transient/\", \"Graaf_experiment_comparison\", \"analysis_scripts\"]\n",
    "\n",
    "# ensure we don't grab any files that have just printed the \n",
    "#column names\n",
    "min_file_size = 5000\n",
    "\n",
    "first_file = True\n",
    "for path in Path(f'./{commit}').rglob('*.csv'):\n",
    "    path_str = str(path)\n",
    "    if all(f not in path_str for f in exclude):\n",
    "        if os.stat(path_str).st_size >= min_file_size:\n",
    "            if first_file == True: \n",
    "                data = pd.read_csv(path_str)\n",
    "                aggdata = data.tail(1)\n",
    "                first_file = False\n",
    "            else: \n",
    "                data = pd.read_csv(path_str)\n",
    "                aggdata = aggdata.append(data.tail(1))\n",
    "\n",
    "                \n",
    "print(f\"{len(aggdata)} successful runs in commit:\\n{commit}\")\n",
    "data_dict.update({commit:aggdata})"
   ]
  },
  {
   "cell_type": "markdown",
   "metadata": {},
   "source": [
    "## get reactions for each one listed in TOF chart in grabow paper\n",
    "\n",
    "     Grabow study name      |  Cantera label or formula\n",
    "     --------------------------------------------------\n",
    "     \"Methanol Production\"  |  methanol net production rate  \n",
    "     \"Water-Gas Shift\"      |  OH* + CO* -> COOH* + * : leave as-is\n",
    "     \"CO Hydrogenation\"     |  Any reaction where CO receives an H and goes to HCO*. \n",
    "     \"CO2 Hydrogenation\"    |  Any reaction where CO2 receives an H and goes to HCO2*\n",
    "     \"H2O Production\"       |  rate of H2O*"
   ]
  },
  {
   "cell_type": "code",
   "execution_count": null,
   "metadata": {},
   "outputs": [],
   "source": [
    "co_co2_label = \"CO2/(CO2+CO)\""
   ]
  },
  {
   "cell_type": "code",
   "execution_count": null,
   "metadata": {},
   "outputs": [],
   "source": [
    "for index,rxn in enumerate(surface.reactions()):\n",
    "    if spc_trans[\"H2O\"] in rxn.equation:\n",
    "        surface.set_multiplier(0,index)\n"
   ]
  },
  {
   "cell_type": "markdown",
   "metadata": {},
   "source": [
    "functions for grabbing ROP data"
   ]
  },
  {
   "cell_type": "markdown",
   "metadata": {},
   "source": [
    "### methanol"
   ]
  },
  {
   "cell_type": "code",
   "execution_count": null,
   "metadata": {},
   "outputs": [],
   "source": [
    "rop_str = \" ROP [kmol/m^2 s]\"        \n",
    "ch3oh_dict = {}  \n",
    "        \n",
    "for rxn in surface.reactions():\n",
    "    if spc_trans[\"CH3OH\"] in rxn.equation: \n",
    "        rxn_string = rxn.equation + rop_str\n",
    "        if spc_trans[\"CH3OH\"] in rxn.product_string:\n",
    "            print(rxn.equation, \"forward\")\n",
    "            ch3oh_dict.update({rxn_string:1})\n",
    "        elif spc_trans[\"CH3OH\"] in rxn.reactant_string: \n",
    "            print(rxn.equation, \"reverse\")\n",
    "            ch3oh_dict.update({rxn_string:-1})"
   ]
  },
  {
   "cell_type": "code",
   "execution_count": null,
   "metadata": {},
   "outputs": [],
   "source": [
    "aggdata[\"Methanol TOF ($s^{-1}$)\"] = 0 #(initialize)\n",
    "for rxn, direct in ch3oh_dict.items():\n",
    "    if direct == 1:\n",
    "        aggdata[\"Methanol TOF ($s^{-1}$)\"] += aggdata[rxn]/surface.site_density\n",
    "    elif direct == -1:\n",
    "        aggdata[\"Methanol TOF ($s^{-1}$)\"] -= aggdata[rxn]/surface.site_density"
   ]
  },
  {
   "cell_type": "markdown",
   "metadata": {},
   "source": [
    "### Water-Gas Shift\n",
    "overall: $CO + H_2O <--> CO_2 + H_2$ \n",
    "\n"
   ]
  },
  {
   "cell_type": "code",
   "execution_count": null,
   "metadata": {},
   "outputs": [],
   "source": [
    "wgs_hyd_dict = {}\n",
    "for rxn in surface.reactions():\n",
    "    if spc_trans[\"CO*\"] in rxn.reactant_string and spc_trans[\"OH*\"] in rxn.reactant_string: \n",
    "        rxn_string = rxn.equation + rop_str\n",
    "        print(rxn.equation, \"forward\")\n",
    "#         wgs_hyd_dict.update({rxn_string:1})"
   ]
  },
  {
   "cell_type": "code",
   "execution_count": null,
   "metadata": {},
   "outputs": [],
   "source": [
    "# hardcode HOX(19) + OCX(17) <=> HOCXO(23) + X(1) for now just to analyze\n",
    "wgs_hyd_dict.update({\"HOX(19) + OCX(17) <=> HOCXO(23) + X(1) ROP [kmol/m^2 s]\":1})"
   ]
  },
  {
   "cell_type": "code",
   "execution_count": null,
   "metadata": {},
   "outputs": [],
   "source": [
    "aggdata[\"WGS Reaction TOF ($s^{-1}$)\"] = 0 #(initialize)\n",
    "for rxn, direct in wgs_hyd_dict.items():\n",
    "    if direct == 1:\n",
    "        aggdata[\"WGS Reaction TOF ($s^{-1}$)\"] += aggdata[rxn]/surface.site_density\n",
    "    elif direct == -1:\n",
    "        aggdata[\"WGS Reaction TOF ($s^{-1}$)\"] -= aggdata[rxn]/surface.site_density"
   ]
  },
  {
   "cell_type": "markdown",
   "metadata": {},
   "source": [
    " ### CO hydrogenation"
   ]
  },
  {
   "cell_type": "code",
   "execution_count": null,
   "metadata": {},
   "outputs": [],
   "source": [
    "co_hyd_dict = {}\n",
    "rop_str = \" ROP [kmol/m^2 s]\"\n",
    "for rxn in surface.reactions():\n",
    "    if spc_trans[\"CO*\"] in rxn.equation and spc_trans[\"HCO*\"] in rxn.equation: \n",
    "        rxn_string = rxn.equation + rop_str\n",
    "        if spc_trans[\"CO*\"] in rxn.reactant_string and not spc_trans[\"HCO*\"] in rxn.reactant_string:\n",
    "            print(rxn.equation, \"forward\")\n",
    "            co_hyd_dict.update({rxn_string:1})\n",
    "        elif spc_trans[\"CO*\"] in rxn.product_string and not spc_trans[\"HCO*\"] in rxn.product_string: \n",
    "            print(rxn.equation, \"reverse\")\n",
    "            co_hyd_dict.update({rxn_string:-1})"
   ]
  },
  {
   "cell_type": "code",
   "execution_count": null,
   "metadata": {},
   "outputs": [],
   "source": [
    "aggdata[\"CO Hydrogenation TOF ($s^{-1}$)\"] = 0 #(initialize)\n",
    "for rxn, direct in co_hyd_dict.items():\n",
    "    if direct == 1:\n",
    "        aggdata[\"CO Hydrogenation TOF ($s^{-1}$)\"] += aggdata[rxn]/surface.site_density\n",
    "    elif direct == -1:\n",
    "        aggdata[\"CO Hydrogenation TOF ($s^{-1}$)\"] -= aggdata[rxn]/surface.site_density"
   ]
  },
  {
   "cell_type": "markdown",
   "metadata": {},
   "source": [
    "### CO2 hydrogenation"
   ]
  },
  {
   "cell_type": "code",
   "execution_count": null,
   "metadata": {},
   "outputs": [],
   "source": [
    "co2_hyd_dict = {}\n",
    "rop_str = \" ROP [kmol/m^2 s]\"\n",
    "for rxn in surface.reactions():\n",
    "    if spc_trans[\"CO2*\"] in rxn.equation and spc_trans[\"HCOO*\"] in rxn.equation: \n",
    "        rxn_string = rxn.equation + rop_str\n",
    "        if spc_trans[\"CO2*\"] in rxn.reactant_string and not spc_trans[\"HCOO*\"] in rxn.reactant_string:\n",
    "            print(rxn.equation, \"forward\")\n",
    "            co2_hyd_dict.update({rxn_string:1})\n",
    "        elif spc_trans[\"CO2*\"] in rxn.product_string and not spc_trans[\"HCOO*\"] in rxn.product_string: \n",
    "            print(rxn.equation, \"reverse\")\n",
    "            co2_hyd_dict.update({rxn_string:-1})"
   ]
  },
  {
   "cell_type": "code",
   "execution_count": null,
   "metadata": {},
   "outputs": [],
   "source": [
    "aggdata[\"CO2 Hydrogenation TOF ($s^{-1}$)\"] = 0 #(initialize)\n",
    "for rxn, direct in co2_hyd_dict.items():\n",
    "    if direct == 1:\n",
    "        aggdata[\"CO2 Hydrogenation TOF ($s^{-1}$)\"] += aggdata[rxn]/surface.site_density\n",
    "    elif direct == -1:\n",
    "        aggdata[\"CO2 Hydrogenation TOF ($s^{-1}$)\"] -= aggdata[rxn]/surface.site_density"
   ]
  },
  {
   "cell_type": "markdown",
   "metadata": {},
   "source": [
    "### H2O production"
   ]
  },
  {
   "cell_type": "code",
   "execution_count": null,
   "metadata": {},
   "outputs": [],
   "source": [
    "h2o_dict = {}        \n",
    "for rxn in surface.reactions():\n",
    "    if spc_trans[\"H2O\"] in rxn.equation: \n",
    "        rxn_string = rxn.equation + rop_str\n",
    "        if spc_trans[\"H2O\"] in rxn.reactant_string:\n",
    "            print(rxn.equation, \"reverse\")\n",
    "            h2o_dict.update({rxn_string:-1})\n",
    "        elif spc_trans[\"H2O\"] in rxn.product_string: \n",
    "            print(rxn.equation, \"forward\")\n",
    "            h2o_dict.update({rxn_string:1}) "
   ]
  },
  {
   "cell_type": "code",
   "execution_count": null,
   "metadata": {
    "scrolled": false
   },
   "outputs": [],
   "source": [
    "aggdata[\"H2O TOF ($s^{-1}$)\"] = 0 #(initialize)\n",
    "for rxn, direct in h2o_dict.items():\n",
    "    if direct == 1:\n",
    "        aggdata[\"H2O TOF ($s^{-1}$)\"] += aggdata[rxn]/surface.site_density\n",
    "    elif direct == -1:\n",
    "        aggdata[\"H2O TOF ($s^{-1}$)\"] -= aggdata[rxn]/surface.site_density"
   ]
  },
  {
   "cell_type": "markdown",
   "metadata": {},
   "source": [
    "### surface site density ($\\frac{kmol}{m^2}$)"
   ]
  },
  {
   "cell_type": "code",
   "execution_count": null,
   "metadata": {},
   "outputs": [],
   "source": [
    "surface.site_density\n",
    "site_dens_mol = surface.site_density*1e-3\n",
    "site_dens_mol"
   ]
  },
  {
   "cell_type": "markdown",
   "metadata": {},
   "source": [
    "### TOF Calculation from ROP: "
   ]
  },
  {
   "cell_type": "markdown",
   "metadata": {},
   "source": [
    "$ROP\\left[\\frac{kmoles}{m^{2}*s}\\right] * \\frac{1}{\\Gamma} \\left[\\frac{m^2}{kmol}\\right] = TOF \\left[\\frac{1}{sec}\\right]$   "
   ]
  },
  {
   "cell_type": "markdown",
   "metadata": {},
   "source": [
    "## Turn over frequency comparison\n",
    "\n",
    "Compare turn over frequencies for reaction(s) in the methanol model\n",
    "\n"
   ]
  },
  {
   "cell_type": "code",
   "execution_count": null,
   "metadata": {},
   "outputs": [],
   "source": [
    "Image('../images/Grabow_plots/Grabow_TOF.png',width = 700, height = 300)"
   ]
  },
  {
   "cell_type": "markdown",
   "metadata": {},
   "source": [
    "### Load Grabow Data"
   ]
  },
  {
   "cell_type": "code",
   "execution_count": null,
   "metadata": {},
   "outputs": [],
   "source": [
    "Grabow_rates = pd.read_csv(\"../Grabow_data/Paper_plot_data/Grabow_rates.csv\")\n",
    "Grabow_cov = pd.read_csv(\"../Grabow_data/Paper_plot_data/Grabow_coverages.csv\")"
   ]
  },
  {
   "cell_type": "markdown",
   "metadata": {},
   "source": [
    "### Make TOF plot functions"
   ]
  },
  {
   "cell_type": "code",
   "execution_count": null,
   "metadata": {},
   "outputs": [],
   "source": [
    "def plot_rates_grabow(df):\n",
    "    '''\n",
    "    This function returns a 2x2 set of charts like the ones above, \n",
    "    for comparison with the grabow rates and coverages. \n",
    "    df - dataframe to load\n",
    "    labels - list of labels to use. first is the \"x\" values, then the y\n",
    "    '''\n",
    "    h2_mol = [0.5, 0.75, 0.8, 0.95]\n",
    "    grabow_labels = [\n",
    "        \"Methanol Production\",\n",
    "        \"Water-Gas Shift\",\n",
    "        \"CO Hydrogenation\",\n",
    "        \"CO2 Hydrogenation\",\n",
    "        \"H2O Production\",]\n",
    "    \n",
    "    h2_label = \"y(H2)\"\n",
    "    co_co2_label = \"CO2/(CO+CO2)\"\n",
    "    fig, ax = plt.subplots(2,2,figsize=(15,15))\n",
    "    \n",
    "    axes = [(0,0), (0,1), (1,0), (1,1)]\n",
    "    \n",
    "    color_dict = { 0:\"k\", 1:\"y\", 2:\"g\", 3:\"b\", 4:\"r\"}\n",
    "\n",
    "    for coord,h2 in enumerate(h2_mol):\n",
    "        \n",
    "        for color,label in enumerate(grabow_labels):\n",
    "            # \"slot\" where we place chart\n",
    "            slot = axes[coord]\n",
    "            df[np.isclose(df[\"y(H2)\"], h2)].plot(x=co_co2_label,\n",
    "                                                 y=label,\n",
    "                                                 ax=ax[slot], \n",
    "                                                 color=color_dict[color],\n",
    "                                                )\n",
    "            ax[slot].set_title(f'mole frac H2 = {h2}')\n",
    "            ax[slot].autoscale(enable=True, axis='y')\n",
    "            ax[slot].set_ylabel(\"Turn over frequency ($s^{-1}$)\")\n",
    "\n",
    "def plot_rates_rmg(df):\n",
    "    '''\n",
    "    This function returns a 2x2 set of charts like the ones above, \n",
    "    for comparison with the grabow rates and coverages. \n",
    "    df - dataframe to load\n",
    "    labels - list of labels to use. first is the \"x\" values, then the y\n",
    "    '''\n",
    "    \n",
    "    h2_mol = [0.5, 0.75, 0.8, 0.95]\n",
    "    # this part is tricky. \n",
    "    \n",
    "    #         \"Methanol Production\"  :  CH3O* + H* -> CH3OH* + *;\n",
    "    #         \"Water-Gas Shift\"      :  OH* + CO* -> COOH* + *\n",
    "    #         \"CO Hydrogenation\"     :  CO* + H* -> HCO* + *\n",
    "    #         \"CO2 Hydrogenation\"    :  CO2* + H* -> HCO2* + *\n",
    "    #         \"H2O Production\"       :  #1 - #2\n",
    "                                        #1:  H2O*+*->OH*+H*\n",
    "    #                                   #2:  COOH* + OH* -> CO2* + H2O*\n",
    "    rmg_labels = [\n",
    "        \"Methanol TOF ($s^{-1}$)\",\n",
    "        \"WGS Reaction TOF ($s^{-1}$)\",\n",
    "        \"CO Hydrogenation TOF ($s^{-1}$)\",\n",
    "        \"CO2 Hydrogenation TOF ($s^{-1}$)\",\n",
    "        \"H2O TOF ($s^{-1}$)\",\n",
    "    ]\n",
    "        \n",
    "    h2_label = \"X_h2 initial\"\n",
    "    co_co2_label = \"CO2/(CO2+CO)\"\n",
    "    color_dict = { 0:\"k\", 1:\"y\", 2:\"g\", 3:\"b\", 4:\"r\"}\n",
    "    fig, ax = plt.subplots(2,2,figsize=(15,15))\n",
    "    axes = [(0,0), (0,1), (1,0), (1,1)]\n",
    "\n",
    "    for coord,h2 in enumerate(h2_mol):\n",
    "        \n",
    "        for color,label in enumerate(rmg_labels):\n",
    "            # \"slot\" where we place chart\n",
    "            slot = axes[coord]\n",
    "            df[np.isclose(df[h2_label], h2)].plot(x=co_co2_label,\n",
    "                                                 y=label,\n",
    "                                                 ax =ax[slot], \n",
    "                                                 color=color_dict[color],\n",
    "                                                )\n",
    "            ax[slot].set_title(f'mole frac H2 = {h2}')\n",
    "            ax[slot].autoscale(enable=True, axis='y')\n",
    "            ax[slot].set_ylabel(\"Turn over frequency ($s^{-1}$)\")\n",
    "\n"
   ]
  },
  {
   "cell_type": "markdown",
   "metadata": {},
   "source": [
    "### Plot TOFs"
   ]
  },
  {
   "cell_type": "code",
   "execution_count": null,
   "metadata": {
    "scrolled": false
   },
   "outputs": [],
   "source": [
    "plot_rates_grabow(Grabow_rates)"
   ]
  },
  {
   "cell_type": "code",
   "execution_count": null,
   "metadata": {
    "scrolled": false
   },
   "outputs": [],
   "source": [
    "plot_rates_rmg(aggdata[aggdata[\"T (K)\"] == 528])"
   ]
  },
  {
   "cell_type": "markdown",
   "metadata": {},
   "source": [
    "## Coverage comparison\n",
    "\n",
    "Look at the surface coverage and gas phase concentrations for key species"
   ]
  },
  {
   "cell_type": "markdown",
   "metadata": {},
   "source": [
    "## Plot coverage functions"
   ]
  },
  {
   "cell_type": "code",
   "execution_count": null,
   "metadata": {},
   "outputs": [],
   "source": [
    "def plot_covs_grabow(df):\n",
    "    '''\n",
    "    This function returns a 2x2 set of charts like the ones above, \n",
    "    for comparison with the rmg rates and coverages. \n",
    "    df - dataframe to load\n",
    "    '''\n",
    "    \n",
    "    h2_mol = [0.5, 0.75, 0.8, 0.95]\n",
    "    grabow_labels = [\n",
    "        \"vacant\",\n",
    "        \"HCOO\",\n",
    "        \"CH3O\",\n",
    "        \"H\",\n",
    "        \"OH\",\n",
    "    ]\n",
    "    \n",
    "    h2_label = \"y(H2)\"\n",
    "    co_co2_label = \"CO2/(CO+CO2)\"\n",
    "    fig, ax = plt.subplots(2,2,figsize=(15,15))\n",
    "    \n",
    "    axes = [(0,0), (0,1), (1,0), (1,1)]\n",
    "    \n",
    "    color_dict = { 0:\"k\", 1:\"y\", 2:\"g\", 3:\"b\", 4:\"r\"}\n",
    "\n",
    "    for coord,h2 in enumerate(h2_mol):\n",
    "        \n",
    "        for color,label in enumerate(grabow_labels):\n",
    "            # \"slot\" where we place chart\n",
    "            slot = axes[coord]\n",
    "            df[np.isclose(df[\"y(H2)\"], h2)].plot(x=co_co2_label,\n",
    "                                                 y=label,\n",
    "                                                 ax=ax[slot], \n",
    "                                                 color=color_dict[color],\n",
    "                                                )\n",
    "            ax[slot].set_title(f'mole frac H2 = {h2}')\n",
    "            ax[slot].autoscale(enable=True, axis='y')\n",
    "            ax[slot].set_ylabel(\"site fraction\")\n",
    "\n",
    "def plot_covs_rmg(df, labels, gas=False):\n",
    "    '''\n",
    "    This function returns a 2x2 set of charts like the ones above, \n",
    "    for comparison with the grabow rates and coverages. \n",
    "    df - dataframe to load\n",
    "    labels - list of labels to use. first is the \"x\" values, then the y\n",
    "    '''\n",
    "    \n",
    "    h2_mol = [0.5, 0.75, 0.8, 0.95]\n",
    "    \n",
    "    rmg_labels = labels\n",
    "        \n",
    "    h2_label = \"X_h2 initial\"\n",
    "    co_co2_label = \"CO2/(CO2+CO)\"\n",
    "    color_dict = { 0:\"k\", 1:\"y\", 2:\"g\", 3:\"b\", 4:\"r\", 5:\"deeppink\"}\n",
    "    fig, ax = plt.subplots(2,2,figsize=(15,15))\n",
    "    axes = [(0,0), (0,1), (1,0), (1,1)]\n",
    "\n",
    "    for coord,h2 in enumerate(h2_mol):\n",
    "        \n",
    "        for color,label in enumerate(rmg_labels):\n",
    "            # \"slot\" where we place chart\n",
    "            slot = axes[coord]\n",
    "            df[np.isclose(df[h2_label], h2)].plot(x=co_co2_label,\n",
    "                                                 y=label,\n",
    "                                                 ax =ax[slot], \n",
    "                                                 color=color_dict[color],\n",
    "                                                )\n",
    "            ax[slot].set_title(f'mole frac H2 = {h2}')\n",
    "            ax[slot].autoscale(enable=True, axis='y')\n",
    "            if gas: \n",
    "                ax[slot].set_ylabel(\"mole fraction\")\n",
    "            else: \n",
    "                ax[slot].set_ylabel(\"site fraction\")"
   ]
  },
  {
   "cell_type": "code",
   "execution_count": null,
   "metadata": {
    "scrolled": false
   },
   "outputs": [],
   "source": [
    "plot_covs_grabow(Grabow_cov)"
   ]
  },
  {
   "cell_type": "code",
   "execution_count": null,
   "metadata": {},
   "outputs": [],
   "source": [
    "labels = [\n",
    "    spc_trans[\"CO\"],\n",
    "    spc_trans[\"CO2\"],\n",
    "    spc_trans[\"H2O\"],\n",
    "    spc_trans[\"CH3OH\"],\n",
    "    spc_trans[\"H2\"],\n",
    "]\n",
    "\n",
    "plot_covs_rmg(aggdata[aggdata[\"T (K)\"] == 528], labels, gas=True)"
   ]
  },
  {
   "cell_type": "code",
   "execution_count": null,
   "metadata": {},
   "outputs": [],
   "source": [
    "labels = [\n",
    "    spc_trans[\"X\"],\n",
    "    spc_trans[\"HCOO*\"],\n",
    "    spc_trans[\"CH3O*\"],\n",
    "    spc_trans[\"H*\"],\n",
    "    spc_trans[\"OH*\"],\n",
    "    spc_trans[\"H2O*\"]\n",
    "]\n",
    "\n",
    "plot_covs_rmg(aggdata[aggdata[\"T (K)\"] == 528], labels)"
   ]
  },
  {
   "cell_type": "code",
   "execution_count": null,
   "metadata": {},
   "outputs": [],
   "source": [
    "# get the maximum values\n",
    "max_dist = 2\n",
    "imp_species = []\n",
    "\n",
    "h2 = 0.5\n",
    "co_co2 = 0.5\n",
    "\n",
    "\n",
    "df_short = aggdata[(aggdata[\"T (K)\"] == 528) & \\\n",
    "                   np.isclose(aggdata[\"X_h2 initial\"],h2) & \\\n",
    "                   np.isclose(aggdata[\"CO2/(CO2+CO)\"],co_co2)]\n",
    "thresh = 1e-6\n",
    "\n",
    "print(f'Species Steady state concentrations that go above :{thresh}', '\\n')\n",
    "\n",
    "for i in range (15, len(df_short.columns)):\n",
    "\n",
    "    column = df_short[df_short.columns[i]]\n",
    "    max_value = column.max()\n",
    "    max_index = column.idxmax()\n",
    "\n",
    "    if max_value >= thresh and ((\"X\" in df_short.columns[i]) or \\\n",
    "                              (\"Pt\" in df_short.columns[i]) or \\\n",
    "                              (\"Pd\" in df_short.columns[i]) or \\\n",
    "                              (\"*\" in df_short.columns[i])) \\\n",
    "    and not \"ROP\" in df_short.columns[i] \\\n",
    "    and not \"sensitivity\" in df_short.columns[i]:\n",
    "\n",
    "        imp_species.append(df_short.columns[i])\n",
    "        print(df_short.columns[i], \"Max = \" \"{:.10f}\".format(max_value))"
   ]
  },
  {
   "cell_type": "code",
   "execution_count": null,
   "metadata": {},
   "outputs": [],
   "source": [
    "# get the maximum values\n",
    "max_dist = 2\n",
    "imp_rxns = {}\n",
    "\n",
    "h2 = 0.5\n",
    "co_co2 = 0.5\n",
    "\n",
    "df_short = aggdata[(aggdata[\"T (K)\"] == 528) & \\\n",
    "                   np.isclose(aggdata[\"X_h2 initial\"],h2) & \\\n",
    "                   np.isclose(aggdata[\"CO2/(CO2+CO)\"],co_co2)]\n",
    "\n",
    "df_short\n",
    "thresh = 1e-15\n",
    "\n",
    "print(f'Species Steady state ROPs that go above :{thresh}', '\\n')\n",
    "\n",
    "for i in range (15, len(df_short.columns)):\n",
    "\n",
    "    column = df_short[df_short.columns[i]]\n",
    "    max_value = column.max()\n",
    "    max_index = column.idxmax()\n",
    "\n",
    "    if max_value >= thresh and \"ROP\" in df_short.columns[i] \\\n",
    "    and \"<=>\" in df_short.columns[i] \\\n",
    "    and not \"sensitivity\" in df_short.columns[i]:\n",
    "\n",
    "        max_value_TOF = max_value/surface.site_density\n",
    "        tof_label = df_short.columns[i].replace(\"ROP [kmol/m^2 s]\",\"TOF [1/s]\")\n",
    "        imp_rxns.update({tof_label:max_value_TOF})\n",
    "#         print(df_short.columns[i], \"Max = \" \"{:.10f}\".format(max_value_TOF))\n",
    "        \n",
    "imp_rxns = {k: v for k, v in sorted(imp_rxns.items(), key=lambda item: item[1], reverse = True)}\n",
    "\n",
    "for key, value in imp_rxns.items(): \n",
    "    print(\"{:60s} : {:4e} \".format(key,value))"
   ]
  },
  {
   "cell_type": "code",
   "execution_count": null,
   "metadata": {},
   "outputs": [],
   "source": [
    "# get the maximum values\n",
    "max_dist = 2\n",
    "imp_rxns = {}\n",
    "h2 = 0.5\n",
    "co_co2 = 0.5\n",
    "\n",
    "df_short = aggdata[(aggdata[\"T (K)\"] == 528) & \\\n",
    "                   np.isclose(aggdata[\"X_h2 initial\"],h2) & \\\n",
    "                   np.isclose(aggdata[\"CO2/(CO2+CO)\"],co_co2)]\n",
    "df_short\n",
    "thresh = -1e-15\n",
    "\n",
    "print(f'Species Steady state ROPs that go below :{thresh}', '\\n')\n",
    "\n",
    "for i in range (15, len(df_short.columns)):\n",
    "\n",
    "    column = df_short[df_short.columns[i]]\n",
    "    max_value = column.min()\n",
    "    max_index = column.idxmin()\n",
    "\n",
    "    if max_value <= thresh and \"ROP\" in df_short.columns[i] \\\n",
    "    and \"<=>\" in df_short.columns[i] \\\n",
    "    and not \"sensitivity\" in df_short.columns[i]:\n",
    "\n",
    "        max_value_TOF = max_value/surface.site_density\n",
    "        tof_label = df_short.columns[i].replace(\"ROP [kmol/m^2 s]\",\"TOF [1/s]\")\n",
    "        imp_rxns.update({tof_label:max_value_TOF})\n",
    "#         print(df_short.columns[i], \"Max = \" \"{:.10f}\".format(max_value_TOF))\n",
    "        \n",
    "imp_rxns = {k: v for k, v in sorted(imp_rxns.items(), key=lambda item: item[1], reverse = False)}\n",
    "\n",
    "for key, value in imp_rxns.items(): \n",
    "    print(\"{:60s} : {:4e} \".format(key,value))"
   ]
  },
  {
   "cell_type": "markdown",
   "metadata": {},
   "source": [
    "## Plot potential energy surface\n",
    "\n",
    "plot the enthalpy vs reaction coordinate"
   ]
  },
  {
   "cell_type": "code",
   "execution_count": null,
   "metadata": {},
   "outputs": [],
   "source": [
    "import cantera as ct\n",
    "from IPython.display import Image\n",
    "%matplotlib inline\n",
    "\n",
    "import os\n",
    "import sys\n",
    "import git\n",
    "import time\n",
    "sys.path.append(f'/work/westgroup/ChrisB/_01_MeOH_repos/PES_plotter')\n",
    "sys.path.append(f'/work/westgroup/ChrisB/_01_MeOH_repos/PES_plotter/PyEnergyDiagram')\n",
    "import pes_plot\n",
    "import numpy as np"
   ]
  },
  {
   "cell_type": "markdown",
   "metadata": {},
   "source": [
    "### Hydrogen adsorption/desorption"
   ]
  },
  {
   "cell_type": "markdown",
   "metadata": {},
   "source": [
    "Hydrogen dissociation vs van der waals adsorption  \n",
    "the paths available are almost equivalent. H2X is higher energy. to see why it persists we need to examine the later reactions with H2X vs the ones available to H2 "
   ]
  },
  {
   "cell_type": "code",
   "execution_count": null,
   "metadata": {},
   "outputs": [],
   "source": [
    "ppt = pes_plot.pes_plot(cti_file)\n",
    "species1 = [\n",
    "    spc_trans[\"H2\"],\n",
    "    spc_trans[\"X\"],\n",
    "]\n",
    "\n",
    "h2_gr = [(spc_trans[\"H2\"],1),(spc_trans[\"X\"],2)]\n",
    "hx_gr = [(spc_trans[\"H*\"],2)]\n",
    "h2x_gr = [(spc_trans[\"H2*\"])]\n",
    "\n",
    "ppt.add_species(species1, 0)\n",
    "ppt.add_combined_specie(h2_gr, 1)\n",
    "ppt.add_combined_species([hx_gr, h2x_gr], 3)\n",
    "\n",
    "ppt.add_reaction(\"H2(2) + 2 X(1) <=> 2 HX(15)\",2)\n",
    "ppt.add_reaction(\"H2(2) + X(1) <=> H2X(32)\",2)\n",
    "ppt.plot()\n"
   ]
  },
  {
   "cell_type": "markdown",
   "metadata": {},
   "source": [
    "get a list of reactions for CO2 to COOH*(18)"
   ]
  },
  {
   "cell_type": "code",
   "execution_count": null,
   "metadata": {},
   "outputs": [],
   "source": [
    "# get reactants for CO2 to go to carbonyl\n",
    "reactant = spc_trans[\"CO*\"]\n",
    "product = spc_trans[\"COOH*\"]\n",
    "rxn_list = []\n",
    "reactant_list = []\n",
    "product_list = []\n",
    "for rxn in surface.reactions():\n",
    "    if reactant in rxn.reactants and product in rxn.products:\n",
    "        rxn_list.append(rxn.equation)\n",
    "        print(\n",
    "            rxn.equation, \n",
    "            rxn.rate.activation_energy, \n",
    "            rxn.rate.pre_exponential_factor,\n",
    "            rxn.rate.temperature_exponent,\n",
    "        )\n",
    "        reactant_list.append([(s,st) for s,st in rxn.reactants.items()])\n",
    "        product_list.append([(s,st) for s,st in rxn.products.items()])"
   ]
  },
  {
   "cell_type": "code",
   "execution_count": null,
   "metadata": {},
   "outputs": [],
   "source": [
    "ppt = pes_plot.pes_plot(cti_file)\n",
    "species = [\n",
    "#     'H*(10)',\n",
    "    spc_trans[\"CO*\"],\n",
    "    spc_trans[\"CO2*\"],\n",
    "]\n",
    "ppt.add_species(species, 0)\n",
    "ppt.add_combined_species(reactant_list,1)\n",
    "ppt.add_reactions(rxn_list, 2)\n",
    "ppt.add_combined_species(product_list, 3)\n",
    "ppt.plot()"
   ]
  },
  {
   "cell_type": "code",
   "execution_count": null,
   "metadata": {},
   "outputs": [],
   "source": [
    "reactant = spc_trans[\"CO*\"]\n",
    "product = spc_trans[\"HCO*\"]\n",
    "rxn_list = []\n",
    "reactant_list = []\n",
    "product_list = []\n",
    "for rxn in surface.reactions():\n",
    "    if reactant in rxn.reactants and product in rxn.products:\n",
    "        rxn_list.append(rxn.equation)\n",
    "        reactant_list.append([(s,int(st)) for s,st in rxn.reactants.items()])\n",
    "        product_list.append([(s,int(st)) for s,st in rxn.products.items()])"
   ]
  },
  {
   "cell_type": "code",
   "execution_count": null,
   "metadata": {},
   "outputs": [],
   "source": [
    "if \"HCOOH*\" in spc_trans.keys():\n",
    "    reactant = spc_trans[\"HCOOH*\"]\n",
    "    product = spc_trans[\"COOH*\"]\n",
    "    rxn_list = []\n",
    "    reactant_list = []\n",
    "    product_list = []\n",
    "    for rxn in surface.reactions():\n",
    "        if reactant in rxn.reactants and product in rxn.products:\n",
    "            rxn_list.append(rxn.equation)\n",
    "            print(\n",
    "                rxn.equation, \n",
    "                rxn.rate.activation_energy, \n",
    "                rxn.rate.pre_exponential_factor,\n",
    "                rxn.rate.temperature_exponent,\n",
    "            )\n",
    "            reactant_list.append([(s,int(st)) for s,st in rxn.reactants.items()])\n",
    "            product_list.append([(s,int(st)) for s,st in rxn.products.items()])\n",
    "else: \n",
    "    print(\"sorry, no formic acid\")"
   ]
  },
  {
   "cell_type": "code",
   "execution_count": null,
   "metadata": {},
   "outputs": [],
   "source": [
    "if \"HCOOH*\" in spc_trans.keys():\n",
    "    ppt = pes_plot.pes_plot(cti_file)\n",
    "    species = [\n",
    "        spc_trans[\"COOH*\"],\n",
    "        spc_trans[\"HCOOH*\"],\n",
    "    ]\n",
    "    ppt.add_species(species, 0)\n",
    "    ppt.add_combined_species(reactant_list,1)\n",
    "    ppt.add_reactions(rxn_list, 2)\n",
    "    ppt.add_combined_species(product_list, 3)\n",
    "    ppt.plot()\n",
    "else:\n",
    "    print(\"sorry, no formic acid\")"
   ]
  },
  {
   "cell_type": "code",
   "execution_count": null,
   "metadata": {},
   "outputs": [],
   "source": [
    "if \"HCOOH*\" in spc_trans.keys():\n",
    "    ppt = pes_plot.pes_plot(cti_file)\n",
    "    species = [\n",
    "        spc_trans[\"HCOOH*\"],\n",
    "        spc_trans[\"COOH*\"],\n",
    "    ]\n",
    "    ppt.add_species(species, 0)\n",
    "    ppt.add_combined_species(reactant_list,1)\n",
    "    ppt.add_reactions(rxn_list, 2)\n",
    "    ppt.add_combined_species(product_list, 3)\n",
    "    ppt.plot()\n",
    "else:\n",
    "    print(\"sorry, no formic acid\")"
   ]
  },
  {
   "cell_type": "markdown",
   "metadata": {},
   "source": [
    "### Make dot file for analyzing reaction network"
   ]
  },
  {
   "cell_type": "code",
   "execution_count": null,
   "metadata": {
    "scrolled": false
   },
   "outputs": [],
   "source": [
    "# name of output\n",
    "file_name_dot = \"reaction_network_diagrams/big_dot.dot\"\n",
    "file_name_png = file_name_dot.replace(\".dot\",\".png\")\n",
    "\n",
    "# where to find molecule pictures\n",
    "img_dir = f\"./{commit}/species_pictures/\"\n",
    "\n",
    "# beginning and end of digraph\n",
    "head_str = \"graph reaction_paths {\\ncenter=1;\\n\"\n",
    "tail_str = ' label = \"rxn path\";\\n rankdir=LR\\n fontname = \"Helvetica\";\\n}'\n",
    "\n",
    "# if we want to flag reactions we can color them red\n",
    "flag_rxn_str = [\n",
    "    f'{spc_trans[\"CO*\"]} + {spc_trans[\"OH*\"]} <=> {spc_trans[\"COOH*\"]} + {spc_trans[\"X\"]}',\n",
    "    f'{spc_trans[\"COOH*\"]} + {spc_trans[\"OH*\"]} <=> {spc_trans[\"CO2*\"]} + {spc_trans[\"H2O*\"]}'\n",
    "]\n",
    "\n",
    "spec_dot_dict = {}\n",
    "rxn_dot_list =[]\n",
    "\n",
    "# combine all species for node making \n",
    "all_spec = gas.species_names + surface.species_names\n",
    "\n",
    "# flag all reactions in which these species participate.  \n",
    "selec_spec = [\n",
    "    spc_trans[\"CO*\"],\n",
    "    spc_trans[\"COOH*\"],\n",
    "]\n",
    "\n",
    "# get all species and make them nodes\n",
    "for node, spec in enumerate(all_spec):\n",
    "    dot_str = f's{node} [ shape = \"box\" image=\"{img_dir+spec+\".png\"}\" label=\"\" width=\"0.75\" height=\"0.75\" imagescale=false fixedsize=false color=\"none\" ];\\n'\n",
    "    spec_dot_dict.update({spec:[f's{node}', dot_str]})\n",
    "    \n",
    "# combine all reactions so we can iterate over all of them\n",
    "all_reactions = gas.reactions() + surface.reactions()\n",
    "       \n",
    "# make connections for each reactant species.\n",
    "for rxn in all_reactions:\n",
    "    for reac in selec_spec:\n",
    "        if reac in rxn.reactants:\n",
    "            for prod in rxn.products.keys():\n",
    "                reac_s = spec_dot_dict[reac][0]\n",
    "                prod_s = spec_dot_dict[prod][0]\n",
    "                mod_rxn_eq = rxn.equation.replace(\" \", \"\") #.replace(\"<=>\",\"\\n<>\\n\")\n",
    "                \n",
    "                if rxn.equation in flag_rxn_str:\n",
    "                    dot_str = f'{reac_s} -- {prod_s} [fontname=\"Helvetica\", color=\"red\", width = 3.0, penwidth=1.0, arrowsize=1.0, label=\"{mod_rxn_eq}\"];\\n'\n",
    "                else: \n",
    "                    dot_str = f'{reac_s} -- {prod_s} [fontname=\"Helvetica\", width = 3.0, penwidth=1.0, arrowsize=1.0, label=\"{mod_rxn_eq}\"];\\n'\n",
    "                \n",
    "                # don't add duplicates\n",
    "                if dot_str not in rxn_dot_list:\n",
    "                    rxn_dot_list.append(dot_str)\n",
    "\n",
    "# remove species that do not participate in the set of reactions                    \n",
    "for spec in list(spec_dot_dict.keys()):\n",
    "    spec_search_str = f'{spec_dot_dict[spec][0]+\" \"}'\n",
    "    if not any(spec_search_str in i for i in rxn_dot_list):\n",
    "        del spec_dot_dict[spec]\n",
    "                  \n",
    "with open(file_name_dot, \"w\") as f:\n",
    "    # add head\n",
    "    f.write(head_str)\n",
    "    \n",
    "    # add reactions\n",
    "    for connect in rxn_dot_list:\n",
    "        f.write(connect)\n",
    "    for value in spec_dot_dict.values():\n",
    "        f.write(value[1])\n",
    "    \n",
    "    # add tail\n",
    "    f.write(tail_str)\n",
    "\n",
    "os.system(f\"dot {file_name_dot} -Tpng -o {file_name_png} -Gdpi=300\")\n",
    "\n",
    "Image(file_name_png,width = 1500, unconfined=True)"
   ]
  }
 ],
 "metadata": {
  "kernelspec": {
   "display_name": "rmg_julia_env",
   "language": "python",
   "name": "rmg_julia_env"
  },
  "language_info": {
   "codemirror_mode": {
    "name": "ipython",
    "version": 3
   },
   "file_extension": ".py",
   "mimetype": "text/x-python",
   "name": "python",
   "nbconvert_exporter": "python",
   "pygments_lexer": "ipython3",
   "version": "3.7.11"
  }
 },
 "nbformat": 4,
 "nbformat_minor": 4
}
