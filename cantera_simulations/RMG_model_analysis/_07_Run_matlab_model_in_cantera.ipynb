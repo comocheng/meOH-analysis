{
 "cells": [
  {
   "cell_type": "markdown",
   "id": "5333ca09",
   "metadata": {},
   "source": [
    "# Run matlab model in cantera\n",
    "Runs the thermodynamic (shomate) parameters and the kinetic (arrhenius) parameters from the matlab output files in \"../Grabow_matlab_data\". \n",
    "\n",
    "\n",
    "to check:  \n",
    "- do all Eas and As agree? \n",
    "- do rates agree when we convert? "
   ]
  },
  {
   "cell_type": "code",
   "execution_count": 1,
   "id": "3ad3ff98",
   "metadata": {},
   "outputs": [
    {
     "name": "stdout",
     "output_type": "stream",
     "text": [
      "Running Cantera version: 2.6.0a1\n"
     ]
    }
   ],
   "source": [
    "import pandas as pd\n",
    "import numpy as np\n",
    "import time\n",
    "import cantera as ct\n",
    "from matplotlib import pyplot as plt\n",
    "import csv\n",
    "import math\n",
    "import os\n",
    "import sys\n",
    "from IPython.display import Image\n",
    "\n",
    "import itertools\n",
    "import logging\n",
    "from collections import defaultdict\n",
    "\n",
    "import scipy.linalg as la\n",
    "import scipy.io \n",
    "\n",
    "print(\"Running Cantera version: {}\".format(ct.__version__))"
   ]
  },
  {
   "cell_type": "markdown",
   "id": "db3426e2",
   "metadata": {},
   "source": [
    "### important constants or values "
   ]
  },
  {
   "cell_type": "code",
   "execution_count": 2,
   "id": "5e19e930",
   "metadata": {},
   "outputs": [],
   "source": [
    "site_density = 2.9e-09*(1e4)/(1e3) #(mol/cm^2) to kmol/m^2\n",
    "\n",
    "mw_co = 28.01e-3  # [kg/mol]\n",
    "mw_co2 = 44.01e-3  # [kg/mol]\n",
    "mw_h2 = 2.016e-3  # [kg/mol]\n",
    "mw_h2o = 18.01528e-3  # [kg/mol]\n",
    "\n",
    "kb = 1.3806503E-23\n",
    "Na = 6.0221415E23\n",
    "mamu = 1.66053886E-27\n",
    "h = 6.626068E-34\n",
    "R = 8.314\n",
    "\n",
    "eV2kJ = 96.485"
   ]
  },
  {
   "cell_type": "markdown",
   "id": "a39db3a2",
   "metadata": {},
   "source": [
    "### define functions to convert species and reactions"
   ]
  },
  {
   "cell_type": "code",
   "execution_count": 3,
   "id": "70a27429",
   "metadata": {},
   "outputs": [],
   "source": [
    "class matlab_species:\n",
    "    def __init__(\n",
    "         self,\n",
    "         name,\n",
    "         dHf0,\n",
    "         S0,\n",
    "         A,\n",
    "         B,\n",
    "         C,\n",
    "         D,\n",
    "         E,\n",
    "         F,\n",
    "         G,\n",
    "         H,\n",
    "         AtomicMass,\n",
    "         EnergyOffset,\n",
    "         BE_Fit,\n",
    "         enthalpy,\n",
    "         entropy,\n",
    "         Pout,\n",
    "         coverage,\n",
    "    ): \n",
    "        \"\"\"\n",
    "        structure for storing species info from matlab file\n",
    "        (shomates, etc)\n",
    "        \"\"\"\n",
    "        self.dHf0 = dHf0\n",
    "        self.S0 = S0\n",
    "        self.A = A\n",
    "        self.B = B\n",
    "        self.C = C\n",
    "        self.D = D\n",
    "        self.E = E\n",
    "        self.F = F\n",
    "        self.G = G\n",
    "        self.H = H\n",
    "        self.AtomicMass = AtomicMass\n",
    "        self.EnergyOffset = EnergyOffset\n",
    "        self.BE_Fit = BE_Fit\n",
    "        self.enthalpy = enthalpy\n",
    "        self.entropy = entropy\n",
    "        self.Pout = Pout\n",
    "        self.coverage = coverage\n",
    "\n",
    "        # rename, remove g, replace \"*\"\" with \"X\"\n",
    "        if \"g\" in name:\n",
    "            self.name = name.replace(\"g\",\"\")\n",
    "        elif \"*\" in name:\n",
    "            self.name = name.replace(\"*\",\"X\")\n",
    "        else:\n",
    "            self.name = name+\"X\"\n",
    "            \n",
    "        # hardcode rename of HCOOX to HCO2X because I am lazy\n",
    "        if self.name == \"HCO2X\":\n",
    "            self.name = \"HCOOX\"\n",
    "        \n",
    "        # calculate 7th parameter for cantera\n",
    "        self.F_7param = self.dHf0 + self.F - self.H\n",
    "\n",
    "        # add binding energy correction to F\n",
    "        if abs(self.BE_Fit) > 0:\n",
    "            self.F_7param = self.F_7param + self.BE_Fit*eV2kJ\n",
    "\n",
    "        # add energy offset to F \n",
    "        if abs(self.EnergyOffset) > 0:\n",
    "            self.F_7param = self.F_7param + self.EnergyOffset\n",
    "        \n",
    "        \n",
    "        # create array of coefficients\n",
    "        self.coeffs = [\n",
    "            1000,\n",
    "            self.A,\n",
    "            self.B,\n",
    "            self.C,\n",
    "            self.D,\n",
    "            self.E,\n",
    "            self.F_7param,\n",
    "            self.G,\n",
    "            # for now, low and high are the same.\n",
    "            self.A,\n",
    "            self.B,\n",
    "            self.C,\n",
    "            self.D,\n",
    "            self.E,\n",
    "            self.F_7param,\n",
    "            self.G,\n",
    "        ]\n",
    "            \n",
    "        \n",
    "        # create ct thermo object\n",
    "        self.thermo = ct.ShomatePoly2(200, 2000, ct.one_atm, self.coeffs)\n",
    "\n",
    "        \n",
    "\n",
    "class matlab_rxn:\n",
    "    \n",
    "    def __init__(\n",
    "         self,\n",
    "         const_preexp,\n",
    "         prettyprnt,\n",
    "         rtype,\n",
    "         species,\n",
    "         stoichiometry,\n",
    "         Ea,\n",
    "         stickcoeff,\n",
    "         omega,\n",
    "         TSID,\n",
    "         preexp,\n",
    "         S_TS,\n",
    "         Ha,\n",
    "         ispecies,\n",
    "         deltaH,\n",
    "         dHDFT,\n",
    "         EaDFT,\n",
    "         deltaS,\n",
    "         kfwd,\n",
    "         Keq,\n",
    "         krev,\n",
    "         rfwd,\n",
    "         rrev,\n",
    "         rate,\n",
    "    ): \n",
    "        \"\"\"\n",
    "        structure for storing reaction info from matlab file\n",
    "        (deltaH, A-factor, etc.)\n",
    "        \"\"\"\n",
    "        self.const_preexp = const_preexp\n",
    "        self.prettyprnt = prettyprnt\n",
    "        self.rtype = rtype\n",
    "        self.species = species\n",
    "        self.stoichiometry = stoichiometry\n",
    "        self.Ea = Ea\n",
    "        self.stickcoeff = stickcoeff\n",
    "        self.omega = omega\n",
    "        self.TSID = TSID\n",
    "        self.preexp = preexp\n",
    "        self.S_TS = S_TS\n",
    "        self.Ha = Ha\n",
    "        self.ispecies = ispecies\n",
    "        self.deltaH = deltaH\n",
    "        self.dHDFT = dHDFT\n",
    "        self.EaDFT = EaDFT\n",
    "        self.deltaS = deltaS\n",
    "        self.kfwd = kfwd\n",
    "        self.Keq = Keq\n",
    "        self.krev = krev\n",
    "        self.rfwd = rfwd\n",
    "        self.rrev = rrev\n",
    "        self.rate = rate\n",
    "        \n",
    "        \n",
    "        # convert species list to new format\n",
    "        new_spec = self.species\n",
    "        for i , spec in enumerate(self.species):\n",
    "            \n",
    "            # rename, remove g, replace \"*\"\" with \"X\"\n",
    "            if \"g\" in spec:\n",
    "                new_spec[i] = spec.replace(\"g\",\"\")\n",
    "            elif \"*\" in spec:\n",
    "                new_spec[i] = spec.replace(\"*\",\"X\")\n",
    "            else:\n",
    "                new_spec[i] = spec+\"X\"\n",
    "                \n",
    "            # hardcode rename of HCOOX to HCO2X because I am lazy\n",
    "            if new_spec[i] == \"HCO2X\":\n",
    "                new_spec[i]= \"HCOOX\"\n",
    "        \n",
    "        self.species = new_spec\n",
    "        print(self.species)\n",
    "        \n",
    "        # put equation in same format as species\n",
    "        self.new_equation = self.prettyprnt.replace(\";\",\"\").replace(\"g\", \"\")\n",
    "        self.new_equation = self.new_equation.replace(\"*\", \"X\").replace(\"->\", \"<=>\")\n",
    "        self.new_equation = self.new_equation.replace(\"HCO2X\",\"HCOOX\").replace(\" \", \"\")\n",
    "        \n",
    "        # I am lazy and hardcoding these. cantera sometimes swaps \n",
    "        # reactants and products regardless of how they are in the input file\n",
    "        if self.new_equation == \"OHX+COX<=>COOHX+X\":\n",
    "            self.new_equation = \"COX+OHX<=>COOHX+X\"\n",
    "            \n",
    "        if self.new_equation == \"H2OX+X<=>OHX+HX\":\n",
    "            self.new_equation = \"H2OX+X<=>HX+OHX\"\n",
    "            \n",
    "        if self.new_equation == \"OHX+X<=>OX+HX\":\n",
    "            self.new_equation = \"OHX+X<=>HX+OX\"\n",
    "            \n",
    "        if self.new_equation == \"OX+HCOX<=>OHX+COX\":\n",
    "            self.new_equation = \"HCOX+OX<=>COX+OHX\"\n",
    "            \n",
    "        if self.new_equation == 'OHX+HCOX<=>H2OX+COX':\n",
    "            self.new_equation = 'HCOX+OHX<=>COX+H2OX'\n",
    "            \n",
    "        if self.new_equation == 'HCOOX+HCOX<=>HCOOHX+COX':\n",
    "            self.new_equation = 'HCOOX+HCOX<=>COX+HCOOHX' \n",
    "            \n",
    "        if self.new_equation == 'HCOOX+HCOX<=>H2CO2X+COX':\n",
    "            self.new_equation = 'HCOOX+HCOX<=>COX+H2CO2X'\n",
    "        \n",
    "        if self.new_equation == \"CH3OX+CH2OX<=>CH2OOCH3X+X\":\n",
    "            self.new_equation = 'CH2OX+CH3OX<=>CH2OOCH3X+X'\n",
    "        \n",
    "        # reaction rate is mol/site/sec\n",
    "        # cantera A is m, Kmol, s units.\n",
    "        if self.rtype == 0:\n",
    "            # for now, don't convert\n",
    "            A = self.stickcoeff\n",
    "            self.A_orig = self.stickcoeff\n",
    "        else:\n",
    "            # for now, don't convert\n",
    "            A = self.preexp \n",
    "            self.A_orig = self.preexp\n",
    "        \n",
    "        # no temperature exponents in model\n",
    "        b = 0.0\n",
    "        \n",
    "        # Ea in kJ/mol, convert to J/kmol for cantera\n",
    "        Ea = self.Ea*1e6\n",
    "        \n",
    "        # save Ea with no correction: \n",
    "        self.Ea_orig = self.Ea*1e6\n",
    "        \n",
    "        # make reaction object so we can update ct model\n",
    "        self.arrhenius = ct.Arrhenius(A, b, Ea)\n",
    "\n",
    "\n",
    "    def correct_rxns(self, species_dict, temp):\n",
    "        \"\"\"\n",
    "        corrects reactions based on options chosen in matlab solver\n",
    "        \n",
    "        species_dict - dictionary of matlab_species objects, with the key as the species name\n",
    "        temp - temp rxn is occurring at.\n",
    "        \"\"\"\n",
    "        \n",
    "        kB = 1.3806503E-23  # J/K\n",
    "        h = 6.626068E-34;   # J\n",
    "        R = 8.314           # kJ/mol/K?\n",
    "        \n",
    "        \n",
    "        deltaS_TS = self.S_TS\n",
    "        \n",
    "        if not self.const_preexp and self.rtype > 0:\n",
    "            for spec, spec_obj in species_dict.items():\n",
    "                if spec in self.species:\n",
    "                    \n",
    "                    index = self.species.index(spec)\n",
    "                    \n",
    "                    if self.stoichiometry[index] < 0: #reactants only\n",
    "                        deltaS_TS = deltaS_TS + self.stoichiometry[index]*spec_obj.S0\n",
    "#                         print(spec, self.species, index,self.stoichiometry[index] )\n",
    "#                         print(deltaS_TS)\n",
    "\n",
    "                        \n",
    "            self.preexp = kB*temp/h*np.exp(deltaS_TS/R)\n",
    "            print(\"A-factor: \",self.preexp)\n",
    "        \n",
    "        # adjust Ea depending on omega\n",
    "        self.Ea = self.EaDFT + self.omega*(self.deltaH - self.dHDFT)\n",
    "        \n",
    "        Ea = self.Ea*1e6\n",
    "        \n",
    "        # save corrected Ea\n",
    "        self.Ea_corr = self.Ea*1e6\n",
    "            \n",
    "        if self.rtype == 0:\n",
    "            A = self.stickcoeff*((R*temp)/1e-3)/site_density\n",
    "        else:\n",
    "            \n",
    "            A = self.preexp/site_density\n",
    "            \n",
    "        # no temperature exponents in model\n",
    "        b = 0.0\n",
    "        \n",
    "        # save corrected A\n",
    "        self.A_corr = A\n",
    "        \n",
    "        # make reaction object so we can update ct model\n",
    "        self.arrhenius = ct.Arrhenius(A, b, Ea)       "
   ]
  },
  {
   "cell_type": "code",
   "execution_count": null,
   "id": "4bf99fba",
   "metadata": {},
   "outputs": [],
   "source": [
    "#             if self.new_equation == \"H2+2X<=>2HX\":\n",
    "#                 A = self.stickcoeff*((R*temp)/1e-3)/site_density\n",
    "#                 print(\"found it\")\n",
    "#             else:\n",
    "#                 A = self.stickcoeff*(R*temp)/1e-3"
   ]
  },
  {
   "cell_type": "markdown",
   "id": "46f3eeab",
   "metadata": {},
   "source": []
  },
  {
   "cell_type": "code",
   "execution_count": null,
   "id": "f10f7979",
   "metadata": {},
   "outputs": [],
   "source": [
    "# get feed number and run number from file name\n",
    "new_run = False\n",
    "\n",
    "if new_run: \n",
    "    path_str = \"../Grabow_matlab_data/MeOH_Feed_1_Run_1.mat\"\n",
    "    file_name = path_str.split(\"/\")[-1]\n",
    "    print(file_name.split(\"_\")[2])\n",
    "    feed = int(file_name.split(\"_\")[2])\n",
    "    run = int(file_name.split(\"_\")[4].split(\".\")[0])\n",
    "else: \n",
    "    path_str = \"../Grabow_matlab_data/original_runs/Graaf1988_ExpID_1.mat\"\n",
    "\n",
    "\n",
    "# matlab workspace with all relevant values\n",
    "mat = scipy.io.loadmat(path_str)\n",
    "\n",
    "species = mat['species']\n",
    "reactions = mat['reaction']\n",
    "\n",
    "if new_run:\n",
    "    conditions = mat['condition']\n",
    "    \n",
    "else: \n",
    "    # typo in original grabow data\n",
    "    conditions = mat['ccondition']"
   ]
  },
  {
   "cell_type": "code",
   "execution_count": null,
   "id": "b86fe3fa",
   "metadata": {},
   "outputs": [],
   "source": [
    "# dictionary of matlab_species objects\n",
    "species_dict = {}\n",
    "\n",
    "for spec in species[0]:\n",
    "    new_spec = matlab_species(\n",
    "                name = str(spec[0][0]),\n",
    "                dHf0 = float(spec[1][0]),\n",
    "                S0= float(spec[2][0]),\n",
    "                A = float(spec[3][0]),\n",
    "                B = float(spec[4][0]),\n",
    "                C = float(spec[5][0]),\n",
    "                D = float(spec[6][0]),\n",
    "                E = float(spec[7][0]),\n",
    "                F = float(spec[8][0]),\n",
    "                G = float(spec[9][0]),\n",
    "                H = float(spec[10][0]),\n",
    "                AtomicMass = float(spec[11][0]),\n",
    "                EnergyOffset = 0 if spec[12][0].size==0 else float(spec[12][0]),\n",
    "                BE_Fit= 0 if spec[13][0].size==0 else float(spec[13][0]),\n",
    "                enthalpy = float(spec[14][0]),\n",
    "                entropy = float(spec[15][0]),\n",
    "                Pout = 0 if spec[16][0].size==0 else float(spec[16][0]),\n",
    "                coverage = 0 if spec[17][0].size==0 else float(spec[17][0]),\n",
    "    )\n",
    "    species_dict[new_spec.name] = new_spec"
   ]
  },
  {
   "cell_type": "code",
   "execution_count": null,
   "id": "bfa42d15",
   "metadata": {
    "scrolled": false
   },
   "outputs": [],
   "source": [
    "# dictionary of matlab_rxn objects\n",
    "rxn_dict = {}\n",
    "\n",
    "for rxn in reactions[0]:\n",
    "    new_rxn = matlab_rxn(\n",
    "        const_preexp = float(rxn[0][0]),\n",
    "        prettyprnt = str(rxn[1][0]),\n",
    "        rtype = float(rxn[2][0]),\n",
    "        species = [str(i[0]) for i in rxn[3][0]],\n",
    "        stoichiometry = list(rxn[4][0]),\n",
    "        Ea = float(rxn[5][0]),\n",
    "        stickcoeff = 0 if rxn[6][0].size ==0 else float(rxn[6][0]),\n",
    "        omega = float(rxn[7][0]),\n",
    "        TSID = 0 if rxn[8][0].size ==0 else float(rxn[8][0]),\n",
    "        preexp = 0 if rxn[9][0].size ==0 else float(rxn[9][0]),\n",
    "        S_TS = 0 if rxn[10][0].size ==0 else float(rxn[10][0]),\n",
    "        Ha = 0 if rxn[11][0].size ==0 else float(rxn[11][0]),\n",
    "        ispecies = rxn[12][0],\n",
    "        deltaH = float(rxn[13][0]),\n",
    "        dHDFT = float(rxn[14][0]),\n",
    "        EaDFT = float(rxn[15][0]),\n",
    "        deltaS = float(rxn[16][0]),\n",
    "        kfwd = float(rxn[17][0]),\n",
    "        Keq = float(rxn[18][0]),\n",
    "        krev = float(rxn[19][0]),\n",
    "        rfwd = float(rxn[20][0]),\n",
    "        rrev = float(rxn[21][0]),\n",
    "        rate = float(rxn[22][0]),\n",
    "    )\n",
    "    new_rxn.correct_rxns(species_dict, float(conditions['T']))\n",
    "    rxn_dict[new_rxn.new_equation] = new_rxn\n",
    "\n",
    "    \n"
   ]
  },
  {
   "cell_type": "markdown",
   "id": "c4f6e850",
   "metadata": {},
   "source": [
    "### now we have species_dict. make cantera species from that"
   ]
  },
  {
   "cell_type": "markdown",
   "id": "dac0ca97",
   "metadata": {},
   "source": [
    "### Thermo equation conversion (shomate 8 from matlab to shomate 7 in cantera)\n",
    "\n",
    "#### Matlab: shomate 8\n",
    "\n",
    "Source: NIST.  (2008). Water.  Retrieved  March  13,  2011,  from  NISTChemistry  Web  Book: \n",
    "http://webbook.nist.gov/cgi/cbook.cgi? ID=C7732185&Units=SI&Mask=1#Thermo-Gas\n",
    "\n",
    "accessed from https://studylib.net/doc/9453117/shomate-equation"
   ]
  },
  {
   "cell_type": "code",
   "execution_count": null,
   "id": "a28d483e",
   "metadata": {},
   "outputs": [],
   "source": [
    "Image(filename='../../External_data/images/Shomate_8.png', width = 700, height = 300)"
   ]
  },
  {
   "cell_type": "markdown",
   "id": "314a8d16",
   "metadata": {},
   "source": [
    "#### Cantera: Shomate 7\n",
    "source: cantera documentation https://cantera.org/science/science-species.html"
   ]
  },
  {
   "cell_type": "code",
   "execution_count": null,
   "id": "e33b4e21",
   "metadata": {},
   "outputs": [],
   "source": [
    "Image(filename='../../External_data/images/Shomate_7.png',width = 700, height = 300) "
   ]
  },
  {
   "cell_type": "markdown",
   "id": "f857b668",
   "metadata": {},
   "source": [
    "### load temp, pressure, and mole fractions from matlab file"
   ]
  },
  {
   "cell_type": "code",
   "execution_count": null,
   "id": "1a9a2708",
   "metadata": {},
   "outputs": [],
   "source": [
    "if new_run:\n",
    "    conditions = mat['condition']\n",
    "    \n",
    "else: \n",
    "    # typo in original grabow data\n",
    "    conditions = mat['ccondition']\n",
    "\n",
    "temp = float(conditions['T'])\n",
    "pres = float(conditions['P'])\n",
    "\n",
    "print(temp)\n",
    "\n",
    "# order is COg, CO2g, H2g, CH3OHg, H2Og, HCOOHg, CH2Og\n",
    "moles = conditions['molfrac'][0][0][0][0][1][0]\n",
    "\n",
    "feed_moles = {\"CO\":moles[0], \n",
    "              \"CO2\":moles[1], \n",
    "              \"H2\":moles[2], \n",
    "              \"CH3OH\":moles[3], \n",
    "              \"H2O\":moles[4], \n",
    "              \"HCOOH\":moles[5], \n",
    "              \"CH2O\":moles[6],}"
   ]
  },
  {
   "cell_type": "markdown",
   "id": "a748eab7",
   "metadata": {},
   "source": [
    "### load cti file that was imported directly from the supplementary data"
   ]
  },
  {
   "cell_type": "code",
   "execution_count": null,
   "id": "4818c936",
   "metadata": {},
   "outputs": [],
   "source": [
    "# import from supp data\n",
    "file = \"../../External_data/mech_grabow_new.cti\"\n",
    "\n",
    "gas_old = ct.Solution(file, \"gas\")\n",
    "surf_old = ct.Interface(file,\"surface1\", [gas_old])\n",
    "\n",
    "# initialize T and P\n",
    "gas_old.TPX = temp, pres, feed_moles\n",
    "surf_old.TP = temp, pres"
   ]
  },
  {
   "cell_type": "markdown",
   "id": "90e6f6a0",
   "metadata": {},
   "source": [
    "### load cti file to a phase that we can modify to look like the matlab file.\n",
    "this is basically a template that just happens to have all of the species and reactions we want, all the values will be overwritten"
   ]
  },
  {
   "cell_type": "code",
   "execution_count": null,
   "id": "e97cab35",
   "metadata": {},
   "outputs": [],
   "source": [
    "file = \"../../External_data/mech_grabow_new.cti\"\n",
    "\n",
    "gas = ct.Solution(file, \"gas\")\n",
    "surf = ct.Interface(file,\"surface1\", [gas])\n",
    "\n",
    "# initialize T and P\n",
    "gas.TPX = temp, pres, feed_moles\n",
    "surf.TP = temp, pres"
   ]
  },
  {
   "cell_type": "markdown",
   "id": "add03d0e",
   "metadata": {},
   "source": [
    "### modify thermo so it matches matlab file"
   ]
  },
  {
   "cell_type": "code",
   "execution_count": null,
   "id": "8a072fa1",
   "metadata": {},
   "outputs": [],
   "source": [
    "for phase in (gas, surf):\n",
    "    for S in phase.species():\n",
    "        index = phase.species_index(S.name)\n",
    "        print(f\"old thermo {S.name} :\\n{S.thermo.coeffs}\")\n",
    "        snew = species_dict[S.name].thermo\n",
    "        S.thermo = snew\n",
    "        phase.modify_species(index, S)\n",
    "        print(f\"new thermo {S.name} :\\n{S.thermo.coeffs}\")"
   ]
  },
  {
   "cell_type": "markdown",
   "id": "512b60d2",
   "metadata": {},
   "source": [
    "### modify reactions so they match matlab file"
   ]
  },
  {
   "cell_type": "code",
   "execution_count": null,
   "id": "c32d74b4",
   "metadata": {
    "scrolled": true
   },
   "outputs": [],
   "source": [
    "for rxn in surf.reactions():\n",
    "    print(f\"{rxn.equation} prior : {rxn.rate}\")\n",
    "    rxn.rate = rxn_dict[rxn.equation.replace(\" \", \"\")].arrhenius\n",
    "    print(f\"{rxn.equation} after : {rxn.rate}\")       "
   ]
  },
  {
   "cell_type": "markdown",
   "id": "8c7d5dd3",
   "metadata": {},
   "source": [
    "### compare enthalpy of reaction for each rxn"
   ]
  },
  {
   "cell_type": "code",
   "execution_count": null,
   "id": "c4e8582f",
   "metadata": {},
   "outputs": [],
   "source": [
    "print(\"{:30s}            {:7s}    {:7s}    {:7s} {:7s}  \".format(\"reaction\",\"cantera\",\"matlab\",\"diff\",\"supp data\" ))\n",
    "for index, rxn in enumerate(surf.reactions()):\n",
    "    h_cantera = surf.delta_enthalpy[index]/1e6\n",
    "    h_matlab = rxn_dict[rxn.equation.replace(\" \", \"\")].deltaH\n",
    "    h_diff = abs(h_cantera - h_matlab)\n",
    "    \n",
    "    h_supp_data = surf_old.delta_enthalpy[index]/1e6\n",
    "    \n",
    "    \n",
    "    \n",
    "    \n",
    "    print(f\"{rxn.equation:35s}:      {h_cantera:6.1f},  {h_matlab:6.1f},  {h_diff:6.1f}  {h_supp_data:6.1f}\")\n",
    "    "
   ]
  },
  {
   "cell_type": "markdown",
   "id": "d2219e8c",
   "metadata": {},
   "source": [
    "### compare species enthalpy"
   ]
  },
  {
   "cell_type": "code",
   "execution_count": null,
   "id": "4e95d783",
   "metadata": {},
   "outputs": [],
   "source": [
    "gas.species(\"CH2O\").thermo.coeffs"
   ]
  },
  {
   "cell_type": "code",
   "execution_count": null,
   "id": "c5af4ff6",
   "metadata": {},
   "outputs": [],
   "source": [
    "gas_old.species(\"CH2O\").thermo.coeffs"
   ]
  },
  {
   "cell_type": "code",
   "execution_count": null,
   "id": "52b0de53",
   "metadata": {},
   "outputs": [],
   "source": [
    "for spec in gas.species():\n",
    "    \n",
    "    h_cantera = spec.thermo.h(gas.T)/1e6\n",
    "    h_matlab = species_dict[spec.name].enthalpy\n",
    "    \n",
    "    h_diff = abs(h_cantera - h_matlab)\n",
    "    h_diff_ev = (h_cantera - h_matlab) / 96 # 96 kJ to Ev \n",
    "    \n",
    "    h_supp = gas_old.species(gas_old.species_index(spec.name)).thermo.h(gas.T)/1e6\n",
    "    print(f\"{spec.name:35s}:      {h_cantera:4.1e},  {h_matlab:4.1e},  {h_diff:4.1e} {h_diff_ev:4.2f} {h_supp:4.1e}\")"
   ]
  },
  {
   "cell_type": "code",
   "execution_count": null,
   "id": "3b25a30d",
   "metadata": {},
   "outputs": [],
   "source": [
    "for spec in surf.species():\n",
    "    \n",
    "    h_cantera = spec.thermo.h(surf.T)/1e6\n",
    "    h_matlab = species_dict[spec.name].enthalpy\n",
    "\n",
    "    h_diff = abs(h_cantera - h_matlab)\n",
    "    h_diff_ev = (h_cantera - h_matlab) / 96 # 96 kJ to Ev \n",
    "    \n",
    "    h_supp = surf_old.species(surf_old.species_index(spec.name)).thermo.h(gas.T)/1e6\n",
    "    \n",
    "    print(f\"{spec.name:35s}:      {h_cantera:4.1e},  {h_matlab:4.1e},  {h_diff:4.1e} {h_diff_ev:4.4f} {h_supp:4.1e}\")"
   ]
  },
  {
   "cell_type": "markdown",
   "id": "509b22ae",
   "metadata": {},
   "source": [
    "### compare species entropy"
   ]
  },
  {
   "cell_type": "code",
   "execution_count": null,
   "id": "dc29d4b8",
   "metadata": {},
   "outputs": [],
   "source": [
    "for spec in gas.species():\n",
    "    \n",
    "    s_cantera = spec.thermo.s(gas.T)/1e3\n",
    "    s_matlab = species_dict[spec.name].entropy\n",
    "    \n",
    "    s_diff = abs(s_cantera - s_matlab)\n",
    "    print(f\"{spec.name:35s}:      {s_cantera:4.1e},  {s_matlab:4.1e},  {s_diff:4.1e}\")"
   ]
  },
  {
   "cell_type": "code",
   "execution_count": null,
   "id": "4270fb99",
   "metadata": {},
   "outputs": [],
   "source": [
    "for spec in surf.species():\n",
    "    s_cantera = spec.thermo.s(surf.T)/1e3\n",
    "    s_matlab = species_dict[spec.name].entropy\n",
    "    \n",
    "    s_diff = abs(s_cantera - s_matlab)\n",
    "    print(f\"{spec.name:35s}:      {s_cantera:4.1e},  {s_matlab:4.1e},  {s_diff:4.1e}\")"
   ]
  },
  {
   "cell_type": "markdown",
   "id": "203efdce",
   "metadata": {},
   "source": [
    "### compare rate constants\n",
    "first, without converting"
   ]
  },
  {
   "cell_type": "code",
   "execution_count": null,
   "id": "4bd67502",
   "metadata": {},
   "outputs": [],
   "source": [
    "print(\"{:30s}            {:7s}    {:7s}    {:7s}   {:7s} \".format(\"reaction\",\"cantera\",\"matlab\",\"A/B\", \"supp data\"))\n",
    "\n",
    "for index, rxn in enumerate(surf.reactions()):\n",
    "    k_cantera = surf.forward_rate_constants[index]\n",
    "    k_matlab = rxn_dict[rxn.equation.replace(\" \", \"\")].kfwd\n",
    "    k_diff = abs(k_cantera/k_matlab)\n",
    "    k_supp_data = surf_old.forward_rate_constants[index]\n",
    "#     if k_diff <=100:\n",
    "    print(f\"{rxn.equation:35s}:      {k_cantera:4.2e}  {k_matlab:4.2e}  {k_diff:4.4f}   {k_supp_data :4.2e}\")"
   ]
  },
  {
   "cell_type": "markdown",
   "id": "b4758367",
   "metadata": {},
   "source": [
    "### forward rate constant A factors $A_{fwd}$"
   ]
  },
  {
   "cell_type": "code",
   "execution_count": null,
   "id": "b89e93ee",
   "metadata": {},
   "outputs": [],
   "source": [
    "print(\"{:30s}            {:7s}    {:7s}    {:7s}    {:7s}  \".format(\"reaction\",\"cantera\",\"matlab\",\"diff\",\"supp data\"))\n",
    "\n",
    "for index, rxn in enumerate(surf.reactions()):\n",
    "    A_cantera = surf.reactions()[index].rate.pre_exponential_factor\n",
    "    A_matlab = rxn_dict[rxn.equation.replace(\" \", \"\")].A_orig\n",
    "    A_diff = A_cantera-A_matlab\n",
    "    A_supp_data = surf_old.reactions()[index].rate.pre_exponential_factor\n",
    "    \n",
    "    if A_cantera !=0:\n",
    "        print(f\"{rxn.equation:35s}:      {A_cantera:4.2e},  {A_matlab:4.2e},  {A_diff:4.2f}   {A_supp_data:4.2e}\")"
   ]
  },
  {
   "cell_type": "markdown",
   "id": "d5ffd06e",
   "metadata": {},
   "source": [
    "### forward rate constant activation energy  $E_{a,fwd}$"
   ]
  },
  {
   "cell_type": "code",
   "execution_count": null,
   "id": "8265b49b",
   "metadata": {},
   "outputs": [],
   "source": [
    "print(\"{:30s}            {:7s}    {:7s}    {:7s}    {:7s}  \".format(\"reaction\",\"cantera\",\"matlab\",\"diff\",\"supp data\"))\n",
    "\n",
    "for index, rxn in enumerate(surf.reactions()):\n",
    "    Ea_cantera = surf.reactions()[index].rate.activation_energy\n",
    "    Ea_matlab = rxn_dict[rxn.equation.replace(\" \", \"\")].Ea_orig\n",
    "    Ea_diff = Ea_cantera-Ea_matlab\n",
    "    Ea_supp_data = surf_old.reactions()[index].rate.activation_energy\n",
    "    \n",
    "    if Ea_cantera !=0:\n",
    "        print(f\"{rxn.equation:35s}:      {Ea_cantera:4.2e},  {Ea_matlab:4.2e},  {Ea_diff:4.2f}   {Ea_supp_data:4.2e}\")"
   ]
  },
  {
   "cell_type": "markdown",
   "id": "0e168346",
   "metadata": {},
   "source": [
    "### reverse rate constant $k_{rev}$"
   ]
  },
  {
   "cell_type": "code",
   "execution_count": null,
   "id": "2495cffc",
   "metadata": {},
   "outputs": [],
   "source": [
    "print(\"{:30s}            {:7s}    {:7s}    {:7s}    \".format(\"reaction\",\"cantera\",\"matlab\",\"diff\"))\n",
    "for index, rxn in enumerate(surf.reactions()):\n",
    "    k_cantera = surf.reverse_rate_constants[index]/1e6\n",
    "    k_matlab = rxn_dict[rxn.equation.replace(\" \", \"\")].krev\n",
    "    k_diff = abs(k_cantera - k_matlab)\n",
    "    \n",
    "#     if k_cantera !=0:\n",
    "    print(f\"{rxn.equation:35s}:      {k_cantera:4.1e},  {k_matlab:4.1e},  {k_diff:4.1e}\")"
   ]
  },
  {
   "cell_type": "markdown",
   "id": "4f0879b3",
   "metadata": {},
   "source": [
    "### create a sbr model and run it "
   ]
  },
  {
   "cell_type": "code",
   "execution_count": null,
   "id": "518585d6",
   "metadata": {},
   "outputs": [],
   "source": [
    "# create gas inlet\n",
    "inlet = ct.Reservoir(gas)\n",
    "\n",
    "# create gas outlet\n",
    "exhaust = ct.Reservoir(gas)\n",
    "\n",
    "# Reactor volume (divide by 2 per Graaf paper)\n",
    "rradius = 35e-3\n",
    "rlength = 70e-3\n",
    "rvol = (rradius ** 2) * math.pi * rlength/2\n",
    "\n",
    "# Catalyst Surface Area\n",
    "site_density = (\n",
    "    surf.site_density * 1000\n",
    ")  # [mol/m^2]cantera uses kmol/m^2, convert to mol/m^2\n",
    "cat_weight = float(conditions[\"CatalystWeight\"])*1e-3 # [kg]\n",
    "cat_site_per_wt = (300 * 1e-6) * 1000  # [mol/kg] 1e-6mol/micromole, 1000g/kg\n",
    "cat_area = (cat_weight * cat_site_per_wt)/site_density # [m^3]\n",
    "\n",
    "# reactor initialization\n",
    "r = ct.IdealGasReactor(gas, energy=\"off\")\n",
    "\n",
    "# calculate the available catalyst area in a differential reactor\n",
    "rsurf = ct.ReactorSurface(surf, r, A=cat_area)\n",
    "r.volume = rvol\n",
    "surf.coverages = \"X:1.0\"\n",
    "\n",
    "# flow controllers (Graaf measured flow at 293.15 and 1 atm)\n",
    "one_atm = ct.one_atm\n",
    "FC_temp = 293.15\n",
    "volume_flow = conditions[\"Flow\"] * 60 /(100**3)  #cm^3/min to [m^3/s]\n",
    "molar_flow = volume_flow * one_atm / (8.3145 * FC_temp)  # [mol/s]\n",
    "mass_flow = molar_flow * (\n",
    "    feed_moles[\"CO\"] * mw_co + feed_moles[\"CO2\"] * mw_co2 + feed_moles[\"H2\"] * mw_h2 + feed_moles[\"H2O\"] * mw_h2o\n",
    ")  # [kg/s]\n",
    "mfc = ct.MassFlowController(inlet, r, mdot=mass_flow)\n",
    "\n",
    "# A PressureController has a baseline mass flow rate matching the 'master'\n",
    "# MassFlowController, with an additional pressure-dependent term. By explicitly\n",
    "# including the upstream mass flow rate, the pressure is kept constant without\n",
    "# needing to use a large value for 'K', which can introduce undesired stiffness.\n",
    "outlet_mfc = ct.PressureController(r, exhaust, master=mfc, K=0.01)\n",
    "\n",
    "# initialize reactor network\n",
    "sim = ct.ReactorNet([r])"
   ]
  },
  {
   "cell_type": "code",
   "execution_count": null,
   "id": "9d4528d6",
   "metadata": {
    "scrolled": true
   },
   "outputs": [],
   "source": [
    "sim.step()"
   ]
  },
  {
   "cell_type": "code",
   "execution_count": null,
   "id": "4f39ee59",
   "metadata": {},
   "outputs": [],
   "source": [
    "for index, rxn in enumerate(surf.reactions()):\n",
    "    print(surf.equilibrium_constants[index])"
   ]
  },
  {
   "cell_type": "markdown",
   "id": "87ba52f1",
   "metadata": {},
   "source": [
    "## rate calculation scratchpad"
   ]
  },
  {
   "cell_type": "code",
   "execution_count": null,
   "id": "d21cc042",
   "metadata": {},
   "outputs": [],
   "source": [
    "# rates are off consistently for the following sticking coefficient reactions:\n",
    "#                                           cantera   Matlab.   Cantera/matlab\n",
    "# CO + X <=> COX                     :      5.30e+09  2.26e+08  23.4822   \n",
    "# H2O + X <=> H2OX                   :      6.60e+09  2.81e+08  23.4823   \n",
    "# HCOOH + X <=> HCOOHX               :      4.13e+09  1.76e+08  23.4822     \n",
    "# CH3OH + X <=> CH3OHX               :      4.95e+09  2.11e+08  23.4821  \n",
    "\n",
    "# why? changing the temp caused the value to change slightly, \n",
    "# but changing the pressure and number of sites had no effect. \n",
    "# plotted below to see if it was linear in T"
   ]
  },
  {
   "cell_type": "code",
   "execution_count": null,
   "id": "e091e28a",
   "metadata": {},
   "outputs": [],
   "source": [
    "y = [516.7, 483.5, 499.3]\n",
    "x = [24.3, 22.73, 23.482]\n",
    "\n",
    "plt.scatter(x, y)\n",
    "\n",
    "slope, intercept = np.polyfit(x, y, 1)\n",
    "print(slope, intercept)"
   ]
  },
  {
   "cell_type": "markdown",
   "id": "e26f360c",
   "metadata": {},
   "source": [
    "Here we calculate the cantera rate constant divided by the matlab one, by dividing thew the equation given in grabow's matlab file and the one given in the cantera documentation. "
   ]
  },
  {
   "cell_type": "markdown",
   "id": "9af024d3",
   "metadata": {},
   "source": [
    "## scratchpad\n",
    "checking calcs above"
   ]
  },
  {
   "cell_type": "code",
   "execution_count": null,
   "id": "30b5247f",
   "metadata": {},
   "outputs": [],
   "source": [
    "kb = 1.3806503E-23\n",
    "Na = 6.0221415E23\n",
    "mamu = 1.66053886E-27\n",
    "h = 6.626068E-34\n",
    "R = 8.314\n",
    "\n",
    "dS_TS = 36.9904 + (-1)*72.6013\n",
    "\n",
    "site_density = 2.9e-09*(1e4)/(1e3)\n",
    "\n",
    "A = (kb * temp / h) * np.exp(dS_TS/R)\n",
    "print(\"{:2.10e}\".format(A))\n",
    "\n",
    "A_calc = rxn_dict[\"H2OX+X<=>HX+OHX\"].arrhenius.pre_exponential_factor\n",
    "print(\"{:2.4e}\".format(A_calc))\n",
    "\n",
    "old_index = surf_old.reaction_equations().index(\"H2OX + X <=> HX + OHX\")\n",
    "A_old = surf_old.reactions()[old_index].rate.pre_exponential_factor\n",
    "print(\"{:2.4e}\".format(A_old))\n",
    "\n",
    "print(site_density)"
   ]
  },
  {
   "cell_type": "markdown",
   "id": "2b53c6e0",
   "metadata": {},
   "source": [
    "### activation energy: "
   ]
  },
  {
   "cell_type": "code",
   "execution_count": null,
   "id": "ef25011c",
   "metadata": {},
   "outputs": [],
   "source": [
    "kb = 1.3806503E-23\n",
    "Na = 6.0221415E23\n",
    "mamu = 1.66053886E-27\n",
    "h = 6.626068E-34\n",
    "R = 8.314\n",
    "\n",
    "dS_TS = 36.9904 + (-1)*72.6013\n",
    "\n",
    "Ea  = rxn_dict[\"H2OX+X<=>HX+OHX\"].EaDFT + rxn_dict[\"H2OX+X<=>HX+OHX\"].omega*(rxn_dict[\"H2OX+X<=>HX+OHX\"].deltaH - rxn_dict[\"H2OX+X<=>HX+OHX\"].dHDFT)\n",
    "print(\"{:2.10e}\".format(Ea))\n",
    "\n",
    "Ea_calc = rxn_dict[\"H2OX+X<=>HX+OHX\"].arrhenius.activation_energy/1e6\n",
    "print(\"{:2.10e}\".format(Ea_calc))\n",
    "\n",
    "old_index = surf_old.reaction_equations().index(\"H2OX + X <=> HX + OHX\")\n",
    "Ea_old = surf_old.reactions()[old_index].rate.activation_energy/1e6\n",
    "print(\"{:2.4e}\".format(Ea_old))\n"
   ]
  },
  {
   "cell_type": "markdown",
   "id": "13e0f9a8",
   "metadata": {},
   "source": [
    "## compare rates\n",
    "get last row of concentrations to check rates"
   ]
  },
  {
   "cell_type": "code",
   "execution_count": null,
   "id": "7692fc05",
   "metadata": {},
   "outputs": [],
   "source": [
    "# load array of partial pressures. load species table to steal header line from that.\n",
    "partial_press = mat['Y']\n",
    "time = mat[\"T\"]\n",
    "pres = float(mat[\"ccondition\"][\"P\"])\n",
    "temp = float(mat[\"ccondition\"][\"T\"])"
   ]
  },
  {
   "cell_type": "code",
   "execution_count": null,
   "id": "5d8d7d80",
   "metadata": {},
   "outputs": [],
   "source": [
    "# load reactions to dataframe \n",
    "reactions_df = pd.DataFrame(data = reactions[0])"
   ]
  },
  {
   "cell_type": "code",
   "execution_count": null,
   "id": "a9351b32",
   "metadata": {},
   "outputs": [],
   "source": [
    "# Extract species names, remove unnecessary characters from column headers\n",
    "species_names = []\n",
    "translation = {39: None, 91: None, 93: None} # remove ', [, and ]\n",
    "\n",
    "for spec in range(len(species[0,:])):\n",
    "    species_string = str(species[0,spec][0])\n",
    "    species_string = species_string.translate(translation)\n",
    "    species_names.append(species_string)\n",
    "    \n",
    "# create data frame with species names as column headers\n",
    "species_df = pd.DataFrame(data=partial_press,columns=species_names)"
   ]
  },
  {
   "cell_type": "code",
   "execution_count": null,
   "id": "4a20ec85",
   "metadata": {},
   "outputs": [],
   "source": [
    "species_df.tail(2).head(1)"
   ]
  },
  {
   "cell_type": "markdown",
   "id": "cff30813",
   "metadata": {},
   "source": [
    "not ideal, but get second to last row of dataframe with tail and head "
   ]
  },
  {
   "cell_type": "code",
   "execution_count": null,
   "id": "e157e2af",
   "metadata": {},
   "outputs": [],
   "source": [
    "concentration_dict = species_df.tail(2).head(1).to_dict(orient='list')"
   ]
  },
  {
   "cell_type": "code",
   "execution_count": null,
   "id": "97c50585",
   "metadata": {},
   "outputs": [],
   "source": [
    "concentration_dict_gas = {}\n",
    "concentration_dict_surf = {}\n",
    "\n",
    "# go through each species and rename. \n",
    "# go through each activity for gas species, convert to mole fraction. \n",
    "\n",
    "for spec, activ in concentration_dict.items(): \n",
    "    \n",
    "    # rename, remove g, replace \"*\"\" with \"X\"\n",
    "    if \"g\" in spec:\n",
    "        mole_frac = float(activ[0])/pres\n",
    "        new_spec = spec.replace(\"g\",\"\")\n",
    "        concentration_dict_gas[new_spec] = mole_frac\n",
    "        \n",
    "    elif \"*\" in spec:\n",
    "        new_spec = spec.replace(\"*\",\"X\")\n",
    "        mole_frac = float(activ[0])\n",
    "        concentration_dict_surf[new_spec] = mole_frac\n",
    "        \n",
    "    else:\n",
    "        new_spec = spec+\"X\"\n",
    "        \n",
    "        # hardcode rename of HCOOX to HCO2X because I am lazy\n",
    "        if new_spec == \"HCO2X\":\n",
    "            new_spec= \"HCOOX\"\n",
    "        \n",
    "        mole_frac = float(activ[0])\n",
    "        concentration_dict_surf[new_spec] = mole_frac\n",
    "\n",
    "\n"
   ]
  },
  {
   "cell_type": "code",
   "execution_count": null,
   "id": "7caa10d6",
   "metadata": {},
   "outputs": [],
   "source": [
    "concentration_dict_surf"
   ]
  },
  {
   "cell_type": "markdown",
   "id": "69f91ecd",
   "metadata": {},
   "source": [
    "## initialize reactor with second to last row of mole fractions\n",
    "step forward and get rate constants"
   ]
  },
  {
   "cell_type": "markdown",
   "id": "877c4471",
   "metadata": {},
   "source": [
    "### first, do a single calculation from matlab data, and see if this is how the rates were calculated\n",
    "\n",
    "do it for CO+X<=>COX\n",
    "\n",
    "turns out they were pretty close. "
   ]
  },
  {
   "cell_type": "code",
   "execution_count": null,
   "id": "2f018c86",
   "metadata": {},
   "outputs": [],
   "source": [
    "k_fwd = rxn_dict['CO+X<=>COX'].kfwd\n",
    "\n",
    "CO_P = concentration_dict[\"COg\"][0] # CO partial pressure\n",
    "X_C = concentration_dict[\"*\"][0]  # X surface fraction\n",
    "\n",
    "rate_rxn1 = k_fwd*CO_P*X_C \n",
    "rate_rxn_1_matlab = rxn_dict['CO+X<=>COX'].rfwd\n",
    "print(\"our calc: {:1.4e}\".format(rate_rxn1))\n",
    "print(\"matlab value: {:1.4e}\".format(rate_rxn_1_matlab))"
   ]
  },
  {
   "cell_type": "code",
   "execution_count": null,
   "id": "3e43692c",
   "metadata": {},
   "outputs": [],
   "source": [
    "# get length of last timestep\n",
    "delta_T = float(time[-1]) - float(time[-2])"
   ]
  },
  {
   "cell_type": "code",
   "execution_count": null,
   "id": "8311d45b",
   "metadata": {},
   "outputs": [],
   "source": [
    "# initialize T and P\n",
    "gas.TPX = temp, pres, concentration_dict_gas\n",
    "surf.TP = temp, pres\n",
    "surf.coverages = concentration_dict_surf\n",
    "\n",
    "# create gas inlet\n",
    "inlet = ct.Reservoir(gas)\n",
    "\n",
    "# create gas outlet\n",
    "exhaust = ct.Reservoir(gas)\n",
    "\n",
    "# Reactor volume (divide by 2 per Graaf paper)\n",
    "rradius = 35e-3\n",
    "rlength = 70e-3\n",
    "rvol = (rradius ** 2) * math.pi * rlength/2\n",
    "\n",
    "\n",
    "site_density = (\n",
    "    surf.site_density * 1000\n",
    ")  # [mol/m^2]cantera uses kmol/m^2, convert to mol/m^2\n",
    "cat_weight = float(conditions[\"CatalystWeight\"])*1e-3 # [kg]\n",
    "cat_site_per_wt = 5*61.67*1e-6*1e3 # [mol/kg] 1e-6mol/micromole, 1000g/kg\n",
    "cat_area = (cat_weight * cat_site_per_wt)/site_density  # [m^3]\n",
    "\n",
    "\n",
    "# reactor initialization\n",
    "r = ct.IdealGasReactor(gas, energy=\"off\")\n",
    "\n",
    "# calculate the available catalyst area in a differential reactor\n",
    "rsurf = ct.ReactorSurface(surf, r, A=cat_area)\n",
    "r.volume = rvol\n",
    "surf.coverages = \"X:1.0\"\n",
    "\n",
    "# flow controllers (Graaf measured flow at 293.15 and 1 atm)\n",
    "one_atm = ct.one_atm\n",
    "FC_temp = 293.15\n",
    "volume_flow = conditions[\"Flow\"] * 60 /(100**3)  #cm^3/min to [m^3/s]\n",
    "molar_flow = volume_flow * one_atm / (8.3145 * FC_temp)  # [mol/s]\n",
    "mass_flow = molar_flow * (\n",
    "    feed_moles[\"CO\"] * mw_co + feed_moles[\"CO2\"] * mw_co2 + feed_moles[\"H2\"] * mw_h2 + feed_moles[\"H2O\"] * mw_h2o\n",
    ")  # [kg/s]\n",
    "mfc = ct.MassFlowController(inlet, r, mdot=mass_flow)\n",
    "\n",
    "# A PressureController has a baseline mass flow rate matching the 'master'\n",
    "# MassFlowController, with an additional pressure-dependent term. By explicitly\n",
    "# including the upstream mass flow rate, the pressure is kept constant without\n",
    "# needing to use a large value for 'K', which can introduce undesired stiffness.\n",
    "outlet_mfc = ct.PressureController(r, exhaust, master=mfc, K=0.01)\n",
    "\n",
    "# initialize reactor network\n",
    "sim = ct.ReactorNet([r])"
   ]
  },
  {
   "cell_type": "markdown",
   "id": "3210fac5",
   "metadata": {},
   "source": [
    "## advance sim by $\\Delta$T"
   ]
  },
  {
   "cell_type": "code",
   "execution_count": null,
   "id": "76406ea6",
   "metadata": {},
   "outputs": [],
   "source": [
    "sim.advance(delta_T)"
   ]
  },
  {
   "cell_type": "markdown",
   "id": "293915e0",
   "metadata": {},
   "source": [
    "# match rates\n",
    "\n",
    "matlab rate units: $\\frac{mol}{site*s}$  \n",
    "\n",
    "cantera rate units: $\\frac{kmol}{m^{2}*s}$  \n",
    "\n",
    "multiplication factor: $\\frac{kmol}{m^{2}*s}*\\frac{10^{3}mol}{kmol}*\\frac{m^{2}}{2.9*10^{-5}mol_{site}}*\\frac{mole}{6.02*10^{23} sites}$\n"
   ]
  },
  {
   "cell_type": "code",
   "execution_count": null,
   "id": "f9e619ea",
   "metadata": {},
   "outputs": [],
   "source": [
    "mult_factor = 1e3/(2.9e-5*6.02e23)\n",
    "mult_factor"
   ]
  },
  {
   "cell_type": "code",
   "execution_count": null,
   "id": "1448287f",
   "metadata": {},
   "outputs": [],
   "source": [
    "print(\"{:30s}            {:7s}    {:7s}    {:7s}  \".format(\"reaction\",\"cantera\",\"matlab\",\"diff\",))\n",
    "\n",
    "for index, rxn in enumerate(surf.reactions()):\n",
    "    r_cantera = surf.forward_rates_of_progress[index]\n",
    "    r_matlab = rxn_dict[rxn.equation.replace(\" \", \"\")].rfwd\n",
    "    r_diff = r_cantera/r_matlab\n",
    "    \n",
    "    if r_cantera !=0:\n",
    "        print(f\"{rxn.equation:35s}:      {r_cantera:4.4e},  {r_matlab:4.4e},  {r_diff:4.4e}\")"
   ]
  },
  {
   "cell_type": "code",
   "execution_count": null,
   "id": "b5f6ca8f",
   "metadata": {},
   "outputs": [],
   "source": []
  },
  {
   "cell_type": "code",
   "execution_count": null,
   "id": "610e0d46",
   "metadata": {},
   "outputs": [],
   "source": []
  }
 ],
 "metadata": {
  "kernelspec": {
   "display_name": "cantera",
   "language": "python",
   "name": "cantera"
  },
  "language_info": {
   "codemirror_mode": {
    "name": "ipython",
    "version": 3
   },
   "file_extension": ".py",
   "mimetype": "text/x-python",
   "name": "python",
   "nbconvert_exporter": "python",
   "pygments_lexer": "ipython3",
   "version": "3.8.5"
  }
 },
 "nbformat": 4,
 "nbformat_minor": 5
}
