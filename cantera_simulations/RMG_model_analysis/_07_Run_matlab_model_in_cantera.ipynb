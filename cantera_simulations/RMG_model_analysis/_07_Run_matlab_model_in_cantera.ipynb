{
 "cells": [
  {
   "cell_type": "markdown",
   "id": "5333ca09",
   "metadata": {},
   "source": [
    "# Run matlab model in cantera\n",
    "Runs the thermodynamic (shomate) parameters and the kinetic (arrhenius) parameters from the matlab output files in \"../Grabow_matlab_data\". \n",
    "\n",
    "\n",
    "to check:  \n",
    "- do all Eas and As agree? \n",
    "- do rates agree when we convert? \n",
    "\n",
    "- you accidentally set the reservoir and downstream to the SS mole fractions. you need the same inlet mole fractions as the experiment. that is probably why it is so low. "
   ]
  },
  {
   "cell_type": "code",
   "execution_count": 73,
   "id": "3ad3ff98",
   "metadata": {},
   "outputs": [
    {
     "name": "stdout",
     "output_type": "stream",
     "text": [
      "Running Cantera version: 2.6.0a2\n"
     ]
    }
   ],
   "source": [
    "import pandas as pd\n",
    "import numpy as np\n",
    "import time\n",
    "import cantera as ct\n",
    "from matplotlib import pyplot as plt\n",
    "import csv\n",
    "import math\n",
    "import os\n",
    "import sys\n",
    "from IPython.display import Image\n",
    "\n",
    "import itertools\n",
    "import logging\n",
    "from collections import defaultdict\n",
    "\n",
    "import scipy.linalg as la\n",
    "import scipy.io \n",
    "\n",
    "print(\"Running Cantera version: {}\".format(ct.__version__))"
   ]
  },
  {
   "cell_type": "markdown",
   "id": "db3426e2",
   "metadata": {},
   "source": [
    "### important constants or values "
   ]
  },
  {
   "cell_type": "code",
   "execution_count": 74,
   "id": "5e19e930",
   "metadata": {},
   "outputs": [],
   "source": [
    "mw_co = 28.01e-3  # [kg/mol]\n",
    "mw_co2 = 44.01e-3  # [kg/mol]\n",
    "mw_h2 = 2.016e-3  # [kg/mol]\n",
    "mw_h2o = 18.01528e-3  # [kg/mol]\n",
    "\n",
    "kb = 1.3806503E-23\n",
    "Na = 6.0221415E23\n",
    "mamu = 1.66053886E-27\n",
    "h = 6.626068E-34\n",
    "R = 8.314\n",
    "\n",
    "eV2kJ = 96.485"
   ]
  },
  {
   "cell_type": "code",
   "execution_count": 75,
   "id": "c2d15952",
   "metadata": {},
   "outputs": [
    {
     "name": "stdout",
     "output_type": "stream",
     "text": [
      "check site density is what we expect:  2.9e-08 2.8999999999999998e-08\n"
     ]
    }
   ],
   "source": [
    "# need to load in surface to get site density \n",
    "file = \"../../External_data/mech_grabow_new.cti\"\n",
    "\n",
    "gas = ct.Solution(file, \"gas\")\n",
    "surf = ct.Interface(file,\"surface1\", [gas])\n",
    "\n",
    "# kmol/m^2\n",
    "site_density = surf.site_density\n",
    "print(\"check site density is what we expect: \",2.9e-9*1e4/(1e3), site_density)"
   ]
  },
  {
   "cell_type": "markdown",
   "id": "a39db3a2",
   "metadata": {},
   "source": [
    "### define functions to convert species and reactions"
   ]
  },
  {
   "cell_type": "code",
   "execution_count": 76,
   "id": "70a27429",
   "metadata": {},
   "outputs": [],
   "source": [
    "class matlab_species:\n",
    "    def __init__(\n",
    "         self,\n",
    "         name,\n",
    "         dHf0,\n",
    "         S0,\n",
    "         A,\n",
    "         B,\n",
    "         C,\n",
    "         D,\n",
    "         E,\n",
    "         F,\n",
    "         G,\n",
    "         H,\n",
    "         AtomicMass,\n",
    "         EnergyOffset,\n",
    "         BE_Fit,\n",
    "         enthalpy,\n",
    "         entropy,\n",
    "         Pout,\n",
    "         coverage,\n",
    "    ): \n",
    "        \"\"\"\n",
    "        structure for storing species info from matlab file\n",
    "        (shomates, etc)\n",
    "        \"\"\"\n",
    "        self.dHf0 = dHf0\n",
    "        self.S0 = S0\n",
    "        self.A = A\n",
    "        self.B = B\n",
    "        self.C = C\n",
    "        self.D = D\n",
    "        self.E = E\n",
    "        self.F = F\n",
    "        self.G = G\n",
    "        self.H = H\n",
    "        self.AtomicMass = AtomicMass\n",
    "        self.EnergyOffset = EnergyOffset\n",
    "        self.BE_Fit = BE_Fit\n",
    "        self.enthalpy = enthalpy\n",
    "        self.entropy = entropy\n",
    "        self.Pout = Pout\n",
    "        self.coverage = coverage\n",
    "\n",
    "        # rename, remove g, replace \"*\"\" with \"X\"\n",
    "        if \"g\" in name:\n",
    "            self.name = name.replace(\"g\",\"\")\n",
    "        elif \"*\" in name:\n",
    "            self.name = name.replace(\"*\",\"X\")\n",
    "        else:\n",
    "            self.name = name+\"X\"\n",
    "            \n",
    "        # hardcode rename of HCOOX to HCO2X because I am lazy\n",
    "        if self.name == \"HCO2X\":\n",
    "            self.name = \"HCOOX\"\n",
    "        \n",
    "        # calculate 7th parameter for cantera\n",
    "        self.F_7param = self.dHf0 + self.F - self.H\n",
    "\n",
    "        # add binding energy correction to F\n",
    "        if abs(self.BE_Fit) > 0:\n",
    "            self.F_7param = self.F_7param + self.BE_Fit*eV2kJ\n",
    "\n",
    "        # add energy offset to F \n",
    "        if abs(self.EnergyOffset) > 0:\n",
    "            self.F_7param = self.F_7param + self.EnergyOffset\n",
    "        \n",
    "        \n",
    "        # create array of coefficients\n",
    "        self.coeffs = [\n",
    "            1000,\n",
    "            self.A,\n",
    "            self.B,\n",
    "            self.C,\n",
    "            self.D,\n",
    "            self.E,\n",
    "            self.F_7param,\n",
    "            self.G,\n",
    "            # for now, low and high are the same.\n",
    "            self.A,\n",
    "            self.B,\n",
    "            self.C,\n",
    "            self.D,\n",
    "            self.E,\n",
    "            self.F_7param,\n",
    "            self.G,\n",
    "        ]\n",
    "            \n",
    "        \n",
    "        # create ct thermo object\n",
    "        self.thermo = ct.ShomatePoly2(200, 2000, ct.one_atm, self.coeffs)\n",
    "\n",
    "        \n",
    "\n",
    "class matlab_rxn:\n",
    "    \n",
    "    def __init__(\n",
    "         self,\n",
    "         const_preexp,\n",
    "         prettyprnt,\n",
    "         rtype,\n",
    "         species,\n",
    "         stoichiometry,\n",
    "         Ea,\n",
    "         stickcoeff,\n",
    "         omega,\n",
    "         TSID,\n",
    "         preexp,\n",
    "         S_TS,\n",
    "         Ha,\n",
    "         ispecies,\n",
    "         deltaH,\n",
    "         dHDFT,\n",
    "         EaDFT,\n",
    "         deltaS,\n",
    "         kfwd,\n",
    "         Keq,\n",
    "         krev,\n",
    "         rfwd,\n",
    "         rrev,\n",
    "         rate,\n",
    "    ): \n",
    "        \"\"\"\n",
    "        structure for storing reaction info from matlab file\n",
    "        (deltaH, A-factor, etc.)\n",
    "        \"\"\"\n",
    "        self.const_preexp = const_preexp\n",
    "        self.prettyprnt = prettyprnt\n",
    "        self.rtype = rtype\n",
    "        self.species = species\n",
    "        self.stoichiometry = stoichiometry\n",
    "        self.Ea = Ea\n",
    "        self.stickcoeff = stickcoeff\n",
    "        self.omega = omega\n",
    "        self.TSID = TSID\n",
    "        self.preexp = preexp\n",
    "        self.S_TS = S_TS\n",
    "        self.Ha = Ha\n",
    "        self.ispecies = ispecies\n",
    "        self.deltaH = deltaH\n",
    "        self.dHDFT = dHDFT\n",
    "        self.EaDFT = EaDFT\n",
    "        self.deltaS = deltaS\n",
    "        self.kfwd = kfwd\n",
    "        self.Keq = Keq\n",
    "        self.krev = krev\n",
    "        self.rfwd = rfwd\n",
    "        self.rrev = rrev\n",
    "        self.rate = rate\n",
    "        \n",
    "        \n",
    "        # convert species list to new format\n",
    "        new_spec = self.species\n",
    "        for i , spec in enumerate(self.species):\n",
    "            \n",
    "            # rename, remove g, replace \"*\"\" with \"X\"\n",
    "            if \"g\" in spec:\n",
    "                new_spec[i] = spec.replace(\"g\",\"\")\n",
    "            elif \"*\" in spec:\n",
    "                new_spec[i] = spec.replace(\"*\",\"X\")\n",
    "            else:\n",
    "                new_spec[i] = spec+\"X\"\n",
    "                \n",
    "            # hardcode rename of HCOOX to HCO2X because I am lazy\n",
    "            if new_spec[i] == \"HCO2X\":\n",
    "                new_spec[i]= \"HCOOX\"\n",
    "        \n",
    "        self.species = new_spec\n",
    "        \n",
    "        # put equation in same format as species\n",
    "        self.new_equation = self.prettyprnt.replace(\";\",\"\").replace(\"g\", \"\")\n",
    "        self.new_equation = self.new_equation.replace(\"*\", \"X\").replace(\"->\", \"<=>\")\n",
    "        self.new_equation = self.new_equation.replace(\"HCO2X\",\"HCOOX\").replace(\" \", \"\")\n",
    "        \n",
    "        # I am lazy and hardcoding these. cantera sometimes swaps \n",
    "        # reactants and products regardless of how they are in the input file\n",
    "        if self.new_equation == \"OHX+COX<=>COOHX+X\":\n",
    "            self.new_equation = \"COX+OHX<=>COOHX+X\"\n",
    "            \n",
    "        if self.new_equation == \"H2OX+X<=>OHX+HX\":\n",
    "            self.new_equation = \"H2OX+X<=>HX+OHX\"\n",
    "            \n",
    "        if self.new_equation == \"OHX+X<=>OX+HX\":\n",
    "            self.new_equation = \"OHX+X<=>HX+OX\"\n",
    "            \n",
    "        if self.new_equation == \"OX+HCOX<=>OHX+COX\":\n",
    "            self.new_equation = \"HCOX+OX<=>COX+OHX\"\n",
    "            \n",
    "        if self.new_equation == 'OHX+HCOX<=>H2OX+COX':\n",
    "            self.new_equation = 'HCOX+OHX<=>COX+H2OX'\n",
    "            \n",
    "        if self.new_equation == 'HCOOX+HCOX<=>HCOOHX+COX':\n",
    "            self.new_equation = 'HCOOX+HCOX<=>COX+HCOOHX' \n",
    "            \n",
    "        if self.new_equation == 'HCOOX+HCOX<=>H2CO2X+COX':\n",
    "            self.new_equation = 'HCOOX+HCOX<=>COX+H2CO2X'\n",
    "        \n",
    "        if self.new_equation == \"CH3OX+CH2OX<=>CH2OOCH3X+X\":\n",
    "            self.new_equation = 'CH2OX+CH3OX<=>CH2OOCH3X+X'\n",
    "        \n",
    "        # reaction rate is mol/site/sec\n",
    "        # cantera A is m, Kmol, s units.\n",
    "        if self.rtype == 0:\n",
    "            # for now, don't convert\n",
    "            A = self.stickcoeff\n",
    "            self.A_orig = self.stickcoeff\n",
    "        else:\n",
    "            # for now, don't convert\n",
    "            A = self.preexp \n",
    "            self.A_orig = self.preexp\n",
    "        \n",
    "        # no temperature exponents in model\n",
    "        b = 0.0\n",
    "        \n",
    "        # save Ea with no correction: \n",
    "        self.Ea_orig = self.Ea*1e6\n",
    "        print(self.new_equation, self.Ea_orig)\n",
    "\n",
    "\n",
    "    def correct_rxns(self, species_dict, temp):\n",
    "        \"\"\"\n",
    "        corrects reactions based on options chosen in matlab solver\n",
    "        \n",
    "        species_dict - dictionary of matlab_species objects, with the key as the species name\n",
    "        temp - temp rxn is occurring at.\n",
    "        \"\"\"\n",
    "        \n",
    "        kB = 1.3806503E-23  # J/K\n",
    "        h = 6.626068E-34;   # J\n",
    "        R = 8.314           # J/mol/K\n",
    "        \n",
    "        \n",
    "        deltaS_TS = self.S_TS\n",
    "        \n",
    "        if not self.const_preexp and self.rtype > 0:\n",
    "            for spec, spec_obj in species_dict.items():\n",
    "                if spec in self.species:\n",
    "                    \n",
    "                    index = self.species.index(spec)\n",
    "                    \n",
    "                    if self.stoichiometry[index] < 0: #reactants only\n",
    "                        deltaS_TS = deltaS_TS + self.stoichiometry[index]*spec_obj.S0\n",
    "#                         print(spec, self.species, index,self.stoichiometry[index] )\n",
    "#                         print(deltaS_TS)\n",
    "\n",
    "                        \n",
    "            self.preexp = kB*temp/h*np.exp(deltaS_TS/R)\n",
    "        \n",
    "        # adjust Ea depending on omega\n",
    "        self.Ea_corr = self.EaDFT + self.omega*(self.deltaH - self.dHDFT)\n",
    "        if self.Ea_corr < self.deltaH:\n",
    "            self.Ea_corr = self.deltaH\n",
    "        \n",
    "        self.Ea_corr = self.Ea_corr*1e6\n",
    "        \n",
    "        # save corrected Ea\n",
    "            \n",
    "        if self.rtype == 0:\n",
    "            self.A_corr = self.stickcoeff#/0.573\n",
    "        else:\n",
    "            self.A_corr = self.preexp/site_density\n",
    "            \n",
    "        # no temperature exponents in model\n",
    "        b = 0.0\n",
    "        \n",
    "        print(self.new_equation, self.Ea_corr)\n",
    "        # make reaction object so we can update ct model\n",
    "        self.arrhenius = ct.Arrhenius(self.A_corr, b, self.Ea_corr)       "
   ]
  },
  {
   "cell_type": "markdown",
   "id": "765a380c",
   "metadata": {},
   "source": [
    "# For A + X <=> AX\n",
    "\n",
    "## $r_{mat} = k_{mat}P_{A}\\Theta_{X}$"
   ]
  },
  {
   "cell_type": "markdown",
   "id": "487dd6c0",
   "metadata": {},
   "source": [
    "## $R = 8.314 J/mol/K$\n",
    "\n",
    "unimolecular\n",
    "## $k_{can} = k_{mat}\\frac{RT*1e3}{1e5Pa}$\n",
    "\n",
    "bi molecular (H2 adsorption dissoc)  \n",
    "## $k_{can} = k_{mat}\\frac{RT*1e3}{\\Gamma*1e5Pa}$"
   ]
  },
  {
   "cell_type": "markdown",
   "id": "1fda8eb5",
   "metadata": {},
   "source": [
    "# for Ax + BX <=> CX + DX\n",
    "\n",
    "## $r_{can} = k_{can}C_{A}C_{X}^`$"
   ]
  },
  {
   "cell_type": "markdown",
   "id": "428915c5",
   "metadata": {},
   "source": [
    "## $k_{mat}= \\frac{r_{mat}}{\\Theta_{a}\\Theta_{b}}$\n",
    "\n",
    "\n",
    "## $k_{can} = \\frac{r_{mat}\\Gamma^{kmol}}{\\Theta_{A}\\Gamma^{kmol}\\Theta_{B}\\Gamma^{kmol}} = k_{mat}*\\frac{1}{\\Gamma}$\n",
    "\n",
    "\n",
    "## $r_{can} = \\frac{kmol}{m^{2}s}$\n",
    "\n",
    "## $r_{mat} = \\frac{mol}{site*s}$"
   ]
  },
  {
   "cell_type": "markdown",
   "id": "c843df14",
   "metadata": {},
   "source": [
    "## $A_{can} = A_{mat}*\\frac{1}{\\Gamma}$"
   ]
  },
  {
   "cell_type": "markdown",
   "id": "94ad9d68",
   "metadata": {},
   "source": [
    "## $\\Gamma = \\frac{kmol}{m^2}$"
   ]
  },
  {
   "cell_type": "code",
   "execution_count": 77,
   "id": "f10f7979",
   "metadata": {},
   "outputs": [],
   "source": [
    "# get feed number and run number from file name\n",
    "new_run = False\n",
    "\n",
    "if new_run: \n",
    "    path_str = \"../Grabow_matlab_data/MeOH_Feed_1_Run_1.mat\"\n",
    "    file_name = path_str.split(\"/\")[-1]\n",
    "    print(file_name.split(\"_\")[2])\n",
    "    feed = int(file_name.split(\"_\")[2])\n",
    "    run = int(file_name.split(\"_\")[4].split(\".\")[0])\n",
    "else: \n",
    "    path_str = \"../Grabow_matlab_data/original_runs/Graaf1988_ExpID_1.mat\"\n",
    "\n",
    "\n",
    "# matlab workspace with all relevant values\n",
    "mat = scipy.io.loadmat(path_str)\n",
    "\n",
    "species = mat['species']\n",
    "reactions = mat['reaction']\n",
    "\n",
    "if new_run:\n",
    "    conditions = mat['condition']\n",
    "    \n",
    "else: \n",
    "    # typo in original grabow data\n",
    "    conditions = mat['ccondition']"
   ]
  },
  {
   "cell_type": "code",
   "execution_count": 78,
   "id": "b86fe3fa",
   "metadata": {},
   "outputs": [],
   "source": [
    "# dictionary of matlab_species objects\n",
    "species_dict = {}\n",
    "\n",
    "for spec in species[0]:\n",
    "    new_spec = matlab_species(\n",
    "                name = str(spec[0][0]),\n",
    "                dHf0 = float(spec[1][0]),\n",
    "                S0= float(spec[2][0]),\n",
    "                A = float(spec[3][0]),\n",
    "                B = float(spec[4][0]),\n",
    "                C = float(spec[5][0]),\n",
    "                D = float(spec[6][0]),\n",
    "                E = float(spec[7][0]),\n",
    "                F = float(spec[8][0]),\n",
    "                G = float(spec[9][0]),\n",
    "                H = float(spec[10][0]),\n",
    "                AtomicMass = float(spec[11][0]),\n",
    "                EnergyOffset = 0 if spec[12][0].size==0 else float(spec[12][0]),\n",
    "                BE_Fit= 0 if spec[13][0].size==0 else float(spec[13][0]),\n",
    "                enthalpy = float(spec[14][0]),\n",
    "                entropy = float(spec[15][0]),\n",
    "                Pout = 0 if spec[16][0].size==0 else float(spec[16][0]),\n",
    "                coverage = 0 if spec[17][0].size==0 else float(spec[17][0]),\n",
    "    )\n",
    "    species_dict[new_spec.name] = new_spec"
   ]
  },
  {
   "cell_type": "code",
   "execution_count": 79,
   "id": "42c81d2a",
   "metadata": {},
   "outputs": [
    {
     "data": {
      "text/plain": [
       "483.5"
      ]
     },
     "execution_count": 79,
     "metadata": {},
     "output_type": "execute_result"
    }
   ],
   "source": [
    "float(conditions['T'])"
   ]
  },
  {
   "cell_type": "code",
   "execution_count": 80,
   "id": "bfa42d15",
   "metadata": {
    "collapsed": true
   },
   "outputs": [
    {
     "name": "stdout",
     "output_type": "stream",
     "text": [
      "CO+X<=>COX 0.0\n",
      "CO+X<=>COX 0.0\n",
      "H2O+X<=>H2OX 0.0\n",
      "H2O+X<=>H2OX 0.0\n",
      "H2+2X<=>2HX 40441858.38246715\n",
      "H2+2X<=>2HX 40441858.38246715\n",
      "CO2+X<=>CO2X 1083597.8354589315\n",
      "CO2+X<=>CO2X 1083597.8354589315\n",
      "H2OX+X<=>HX+OHX 64864275.14210324\n",
      "H2OX+X<=>HX+OHX 64864275.14210324\n",
      "OHX+X<=>HX+OX 93491823.08568242\n",
      "OHX+X<=>HX+OX 93491823.08568242\n",
      "2OHX<=>H2OX+OX 141998367.0603542\n",
      "2OHX<=>H2OX+OX 141998367.0603542\n",
      "COX+OX<=>CO2X+X 57040568.5047166\n",
      "COX+OX<=>CO2X+X 57040568.5047166\n",
      "COX+OHX<=>COOHX+X 54044897.32373322\n",
      "COX+OHX<=>COOHX+X 54044897.32373322\n",
      "COOHX+X<=>CO2X+HX 104165558.55478555\n",
      "COOHX+X<=>CO2X+HX 104165558.55478555\n",
      "COOHX+OHX<=>CO2X+H2OX 8476800.620272115\n",
      "COOHX+OHX<=>CO2X+H2OX 8476800.620272115\n",
      "COOHX+HX<=>HCOOHX+X 59387992.62757614\n",
      "COOHX+HX<=>HCOOHX+X 59387992.62757614\n",
      "COX+HX<=>HCOX+X 52001631.472153895\n",
      "COX+HX<=>HCOX+X 52001631.472153895\n",
      "CO2X+HX<=>HCOOX+X 35859082.41021774\n",
      "CO2X+HX<=>HCOOX+X 35859082.41021774\n",
      "HCOOX+HX<=>HCOOHX+X 91452169.59557743\n",
      "HCOOX+HX<=>HCOOHX+X 91452169.59557743\n",
      "HCOOX+HX<=>H2CO2X+X 169348021.40151456\n",
      "HCOOX+HX<=>H2CO2X+X 169348021.40151456\n",
      "HCOOX+X<=>HCOX+OX 218455603.54890445\n",
      "HCOOX+X<=>HCOX+OX 218455603.54890445\n",
      "HCOOHX+X<=>HCOX+OHX 113101573.07088983\n",
      "HCOOHX+X<=>HCOX+OHX 113101573.07088983\n",
      "HCOOHX+HX<=>CH3O2X+X 96149952.70798185\n",
      "HCOOHX+HX<=>CH3O2X+X 96149952.70798185\n",
      "HCOOHX+X<=>HCOHX+OX 262089111.65578377\n",
      "HCOOHX+X<=>HCOHX+OX 262089111.65578377\n",
      "HCOX+HX<=>CH2OX+X 46074689.70538766\n",
      "HCOX+HX<=>CH2OX+X 46074689.70538766\n",
      "HCOX+HX<=>HCOHX+X 111735186.9558093\n",
      "HCOX+HX<=>HCOHX+X 111735186.9558093\n",
      "CH2OX+HX<=>CH3OX+X 16158163.170395212\n",
      "CH2OX+HX<=>CH3OX+X 16158163.170395212\n",
      "CH2OX+HX<=>CH2OHX+X 100545589.46799296\n",
      "CH2OX+HX<=>CH2OHX+X 100545589.46799296\n",
      "CH3O2X+X<=>CH2OX+OHX 27917561.633927107\n",
      "CH3O2X+X<=>CH2OX+OHX 27917561.633927107\n",
      "CH3O2X+X<=>CH2OHX+OX 218530734.90353718\n",
      "CH3O2X+X<=>CH2OHX+OX 218530734.90353718\n",
      "H2CO2X+HX<=>CH3O2X+X 37960903.79565675\n",
      "H2CO2X+HX<=>CH3O2X+X 37960903.79565675\n",
      "H2CO2X+X<=>CH2OX+OX 41767858.84240235\n",
      "H2CO2X+X<=>CH2OX+OX 41767858.84240235\n",
      "HCOHX+HX<=>CH2OHX+X 50235247.983919226\n",
      "HCOHX+HX<=>CH2OHX+X 50235247.983919226\n",
      "CH2OHX+HX<=>CH3OHX+X 40796253.84448195\n",
      "CH2OHX+HX<=>CH3OHX+X 40796253.84448195\n",
      "CH3OX+HX<=>CH3OHX+X 132452536.42950888\n",
      "CH3OX+HX<=>CH3OHX+X 132452536.42950888\n",
      "CH2O+X<=>CH2OX 327668.929923675\n",
      "CH2O+X<=>CH2OX 327668.929923675\n",
      "CH3OH+X<=>CH3OHX 0.0\n",
      "CH3OH+X<=>CH3OHX 0.0\n",
      "HCOOH+X<=>HCOOHX 0.0\n",
      "HCOOH+X<=>HCOOHX 0.0\n",
      "COX+HX<=>COHX+X 208084898.3862539\n",
      "COX+HX<=>COHX+X 208084898.3862539\n",
      "CO2X+OX<=>CO3X+X 25859695.818196926\n",
      "CO2X+OX<=>CO3X+X 25859695.818196926\n",
      "CO3X+HX<=>HCO3X+X 94346046.78786051\n",
      "CO3X+HX<=>HCO3X+X 94346046.78786051\n",
      "HCOOX+HCOX<=>COX+H2CO2X 130392702.43663168\n",
      "HCOOX+HCOX<=>COX+H2CO2X 130392702.43663168\n",
      "HCOOX+HCOX<=>COX+HCOOHX 70006143.89006485\n",
      "HCOOX+HCOX<=>COX+HCOOHX 70006143.89006485\n",
      "HCOOHX+HCOX<=>CH3O2X+COX 55225458.860330395\n",
      "HCOOHX+HCOX<=>CH3O2X+COX 55225458.860330395\n",
      "CH3OX+HCOX<=>CH3OHX+COX 84587357.16537121\n",
      "CH3OX+HCOX<=>CH3OHX+COX 84587357.16537121\n",
      "HCOX+OX<=>COX+OHX 0.0\n",
      "HCOX+OX<=>COX+OHX 0.0\n",
      "HCOX+OHX<=>COX+H2OX 71410462.89822188\n",
      "HCOX+OHX<=>COX+H2OX 71410462.89822188\n",
      "CH2OX+HCOX<=>CH3OX+COX 0.0\n",
      "CH2OX+HCOX<=>CH3OX+COX 0.0\n",
      "HCOOCH3+X<=>HCOOCH3X 4217605.590893072\n",
      "HCOOCH3+X<=>HCOOCH3X 4217605.590893072\n",
      "2CH2OX<=>HCOOCH3X+X 163705776.68837184\n",
      "2CH2OX<=>HCOOCH3X+X 163705776.68837184\n",
      "CH3OX+HCOOX<=>HCOOCH3X+OX 218583237.70504647\n",
      "CH3OX+HCOOX<=>HCOOCH3X+OX 218583237.70504647\n",
      "CH2OX+CH3OX<=>CH2OOCH3X+X 65010891.23565586\n",
      "CH2OX+CH3OX<=>CH2OOCH3X+X 65010891.23565586\n",
      "HCOOCH3X+HX<=>CH2OOCH3X+X 87602627.129336\n",
      "HCOOCH3X+HX<=>CH2OOCH3X+X 87602627.129336\n"
     ]
    }
   ],
   "source": [
    "# dictionary of matlab_rxn objects\n",
    "rxn_dict = {}\n",
    "\n",
    "for rxn in reactions[0]:\n",
    "    new_rxn = matlab_rxn(\n",
    "        const_preexp = float(rxn[0][0]),\n",
    "        prettyprnt = str(rxn[1][0]),\n",
    "        rtype = float(rxn[2][0]),\n",
    "        species = [str(i[0]) for i in rxn[3][0]],\n",
    "        stoichiometry = list(rxn[4][0]),\n",
    "        Ea = float(rxn[5][0]),\n",
    "        stickcoeff = 0 if rxn[6][0].size ==0 else float(rxn[6][0]),\n",
    "        omega = float(rxn[7][0]),\n",
    "        TSID = 0 if rxn[8][0].size ==0 else float(rxn[8][0]),\n",
    "        preexp = 0 if rxn[9][0].size ==0 else float(rxn[9][0]),\n",
    "        S_TS = 0 if rxn[10][0].size ==0 else float(rxn[10][0]),\n",
    "        Ha = 0 if rxn[11][0].size ==0 else float(rxn[11][0]),\n",
    "        ispecies = rxn[12][0],\n",
    "        deltaH = float(rxn[13][0]),\n",
    "        dHDFT = float(rxn[14][0]),\n",
    "        EaDFT = float(rxn[15][0]),\n",
    "        deltaS = float(rxn[16][0]),\n",
    "        kfwd = float(rxn[17][0]),\n",
    "        Keq = float(rxn[18][0]),\n",
    "        krev = float(rxn[19][0]),\n",
    "        rfwd = float(rxn[20][0]),\n",
    "        rrev = float(rxn[21][0]),\n",
    "        rate = float(rxn[22][0]),\n",
    "    )\n",
    "    new_rxn.correct_rxns(species_dict, float(conditions['T']))\n",
    "    rxn_dict[new_rxn.new_equation] = new_rxn\n",
    "\n",
    "    \n"
   ]
  },
  {
   "cell_type": "code",
   "execution_count": 81,
   "id": "edb2c308",
   "metadata": {},
   "outputs": [
    {
     "data": {
      "text/plain": [
       "0.0"
      ]
     },
     "execution_count": 81,
     "metadata": {},
     "output_type": "execute_result"
    }
   ],
   "source": [
    "rxn_dict[\"CO+X<=>COX\"].Ea_corr"
   ]
  },
  {
   "cell_type": "markdown",
   "id": "c4f6e850",
   "metadata": {},
   "source": [
    "### now we have species_dict. make cantera species from that"
   ]
  },
  {
   "cell_type": "markdown",
   "id": "dac0ca97",
   "metadata": {},
   "source": [
    "### Thermo equation conversion (shomate 8 from matlab to shomate 7 in cantera)\n",
    "\n",
    "#### Matlab: shomate 8\n",
    "\n",
    "Source: NIST.  (2008). Water.  Retrieved  March  13,  2011,  from  NISTChemistry  Web  Book: \n",
    "http://webbook.nist.gov/cgi/cbook.cgi? ID=C7732185&Units=SI&Mask=1#Thermo-Gas\n",
    "\n",
    "accessed from https://studylib.net/doc/9453117/shomate-equation"
   ]
  },
  {
   "cell_type": "code",
   "execution_count": 82,
   "id": "a28d483e",
   "metadata": {
    "collapsed": true
   },
   "outputs": [
    {
     "data": {
      "image/png": "[encoded data removed]",
      "text/plain": [
       "<IPython.core.display.Image object>"
      ]
     },
     "execution_count": 82,
     "metadata": {
      "image/png": {
       "height": 300,
       "width": 700
      }
     },
     "output_type": "execute_result"
    }
   ],
   "source": [
    "Image(filename='../../External_data/images/Shomate_8.png', width = 700, height = 300)"
   ]
  },
  {
   "cell_type": "markdown",
   "id": "314a8d16",
   "metadata": {},
   "source": [
    "#### Cantera: Shomate 7\n",
    "source: cantera documentation https://cantera.org/science/science-species.html"
   ]
  },
  {
   "cell_type": "code",
   "execution_count": 83,
   "id": "e33b4e21",
   "metadata": {},
   "outputs": [
    {
     "data": {
      "image/png": "[encoded data removed]",
      "text/plain": [
       "<IPython.core.display.Image object>"
      ]
     },
     "execution_count": 83,
     "metadata": {
      "image/png": {
       "height": 300,
       "width": 700
      }
     },
     "output_type": "execute_result"
    }
   ],
   "source": [
    "Image(filename='../../External_data/images/Shomate_7.png',width = 700, height = 300) "
   ]
  },
  {
   "cell_type": "markdown",
   "id": "f857b668",
   "metadata": {},
   "source": [
    "### load temp, pressure, and mole fractions from matlab file"
   ]
  },
  {
   "cell_type": "code",
   "execution_count": 84,
   "id": "1a9a2708",
   "metadata": {},
   "outputs": [
    {
     "name": "stdout",
     "output_type": "stream",
     "text": [
      "483.5\n"
     ]
    }
   ],
   "source": [
    "if new_run:\n",
    "    conditions = mat['condition']\n",
    "    \n",
    "else: \n",
    "    # typo in original grabow data\n",
    "    conditions = mat['ccondition']\n",
    "\n",
    "temp = float(conditions['T'])\n",
    "pres = float(conditions['P'])\n",
    "\n",
    "print(temp)\n",
    "\n",
    "# order is COg, CO2g, H2g, CH3OHg, H2Og, HCOOHg, CH2Og\n",
    "moles = conditions['molfrac'][0][0][0][0][1][0]\n",
    "\n",
    "feed_moles = {\"CO\":moles[0], \n",
    "              \"CO2\":moles[1], \n",
    "              \"H2\":moles[2], \n",
    "              \"CH3OH\":moles[3], \n",
    "              \"H2O\":moles[4], \n",
    "              \"HCOOH\":moles[5], \n",
    "              \"CH2O\":moles[6],}"
   ]
  },
  {
   "cell_type": "markdown",
   "id": "a748eab7",
   "metadata": {},
   "source": [
    "### load cti file that was imported directly from the supplementary data"
   ]
  },
  {
   "cell_type": "code",
   "execution_count": 85,
   "id": "4818c936",
   "metadata": {},
   "outputs": [],
   "source": [
    "# import from supp data\n",
    "file = \"../../External_data/mech_grabow_new.cti\"\n",
    "\n",
    "gas_old = ct.Solution(file, \"gas\")\n",
    "surf_old = ct.Interface(file,\"surface1\", [gas_old])\n",
    "\n",
    "# initialize T and P\n",
    "gas_old.TPX = temp, pres, feed_moles\n",
    "surf_old.TP = temp, pres"
   ]
  },
  {
   "cell_type": "markdown",
   "id": "90e6f6a0",
   "metadata": {},
   "source": [
    "### load cti file to a phase that we can modify to look like the matlab file.\n",
    "this is basically a template that just happens to have all of the species and reactions we want, all the values will be overwritten"
   ]
  },
  {
   "cell_type": "code",
   "execution_count": 86,
   "id": "e97cab35",
   "metadata": {},
   "outputs": [],
   "source": [
    "file = \"../../External_data/mech_grabow_new.cti\"\n",
    "\n",
    "gas = ct.Solution(file, \"gas\")\n",
    "surf = ct.Interface(file,\"surface1\", [gas])\n",
    "\n",
    "# initialize T and P\n",
    "gas.TPX = temp, pres, feed_moles\n",
    "surf.TP = temp, pres"
   ]
  },
  {
   "cell_type": "markdown",
   "id": "add03d0e",
   "metadata": {},
   "source": [
    "### modify thermo so it matches matlab file"
   ]
  },
  {
   "cell_type": "code",
   "execution_count": 87,
   "id": "8a072fa1",
   "metadata": {},
   "outputs": [
    {
     "name": "stdout",
     "output_type": "stream",
     "text": [
      "old thermo CH2O :\n",
      "[ 1.0000000e+03  3.0475800e+00  1.0192105e+02 -5.6264150e+01\n",
      "  1.2545320e+01  6.2240000e-01 -6.0100850e+04  1.9806000e+02\n",
      "  3.0475800e+00  1.0192105e+02 -5.6264150e+01  1.2545320e+01\n",
      "  6.2240000e-01 -6.0100850e+04  1.9806000e+02]\n",
      "new thermo CH2O :\n",
      "[ 1.00000000e+03  3.04757695e+00  1.01921051e+02 -5.62641543e+01\n",
      "  1.25453208e+01  6.22400992e-01 -6.01008549e+04  1.98060842e+02\n",
      "  3.04757695e+00  1.01921051e+02 -5.62641543e+01  1.25453208e+01\n",
      "  6.22400992e-01 -6.01008549e+04  1.98060842e+02]\n",
      "old thermo CH3OH :\n",
      "[ 1.0000000e+03  1.0494520e+01  1.5359317e+02 -9.2857840e+01\n",
      "  2.4063040e+01  1.9502000e-01 -6.3243140e+04  2.1377000e+02\n",
      "  1.0494520e+01  1.5359317e+02 -9.2857840e+01  2.4063040e+01\n",
      "  1.9502000e-01 -6.3243140e+04  2.1377000e+02]\n",
      "new thermo CH3OH :\n",
      "[ 1.00000000e+03  1.04945242e+01  1.53593175e+02 -9.28578404e+01\n",
      "  2.40630373e+01  1.95020308e-01 -6.32431449e+04  2.13767883e+02\n",
      "  1.04945242e+01  1.53593175e+02 -9.28578404e+01  2.40630373e+01\n",
      "  1.95020308e-01 -6.32431449e+04  2.13767883e+02]\n",
      "old thermo CO :\n",
      "[ 1.000000e+03  2.701916e+01  3.988200e-01  1.080028e+01 -5.397470e+00\n",
      "  1.131800e-01 -5.702280e+04  2.348300e+02  2.701916e+01  3.988200e-01\n",
      "  1.080028e+01 -5.397470e+00  1.131800e-01 -5.702280e+04  2.348300e+02]\n",
      "new thermo CO :\n",
      "[ 1.00000000e+03  2.70191598e+01  3.98815957e-01  1.08002848e+01\n",
      " -5.39746715e+00  1.13179064e-01 -5.70806884e+04  2.34832215e+02\n",
      "  2.70191598e+01  3.98815957e-01  1.08002848e+01 -5.39746715e+00\n",
      "  1.13179064e-01 -5.70806884e+04  2.34832215e+02]\n",
      "old thermo CO2 :\n",
      "[ 1.000000e+03  2.772336e+01  4.860556e+01 -2.893575e+01  6.743970e+00\n",
      " -1.828000e-01 -9.932119e+04  2.378200e+02  2.772336e+01  4.860556e+01\n",
      " -2.893575e+01  6.743970e+00 -1.828000e-01 -9.932119e+04  2.378200e+02]\n",
      "new thermo CO2 :\n",
      "[ 1.00000000e+03  2.77233634e+01  4.86055560e+01 -2.89357483e+01\n",
      "  6.74397276e+00 -1.82800811e-01 -9.93211929e+04  2.37824458e+02\n",
      "  2.77233634e+01  4.86055560e+01 -2.89357483e+01  6.74397276e+00\n",
      " -1.82800811e-01 -9.93211929e+04  2.37824458e+02]\n",
      "old thermo H2 :\n",
      "[ 1.000000e+03  2.991936e+01 -2.350280e+00  1.547430e+00  5.793400e-01\n",
      " -2.578000e-02 -3.041820e+03  1.713500e+02  2.991936e+01 -2.350280e+00\n",
      "  1.547430e+00  5.793400e-01 -2.578000e-02 -3.041820e+03  1.713500e+02]\n",
      "new thermo H2 :\n",
      "[ 1.00000000e+03  2.99193603e+01 -2.35028130e+00  1.54743250e+00\n",
      "  5.79336448e-01 -2.57837329e-02 -3.04181714e+03  1.71345682e+02\n",
      "  2.99193603e+01 -2.35028130e+00  1.54743250e+00  5.79336448e-01\n",
      " -2.57837329e-02 -3.04181714e+03  1.71345682e+02]\n",
      "old thermo H2O :\n",
      "[ 1.000000e+03  2.805552e+01  1.446211e+01 -2.994130e+00  1.073860e+00\n",
      "  1.220300e-01 -4.523798e+04  2.195600e+02  2.805552e+01  1.446211e+01\n",
      " -2.994130e+00  1.073860e+00  1.220300e-01 -4.523798e+04  2.195600e+02]\n",
      "new thermo H2O :\n",
      "[ 1.00000000e+03  2.80555241e+01  1.44621065e+01 -2.99412948e+00\n",
      "  1.07385634e+00  1.22030108e-01 -4.52379799e+04  2.19562055e+02\n",
      "  2.80555241e+01  1.44621065e+01 -2.99412948e+00  1.07385634e+00\n",
      "  1.22030108e-01 -4.52379799e+04  2.19562055e+02]\n",
      "old thermo HCOOCH3 :\n",
      "[ 1.0000000e+03  1.1567000e-01  2.6694426e+02 -1.7686514e+02\n",
      "  4.7096850e+01  3.8750000e-01 -1.2036501e+05  2.2088000e+02\n",
      "  1.1567000e-01  2.6694426e+02 -1.7686514e+02  4.7096850e+01\n",
      "  3.8750000e-01 -1.2036501e+05  2.2088000e+02]\n",
      "new thermo HCOOCH3 :\n",
      "[ 1.00000000e+03  1.15666227e-01  2.66944257e+02 -1.76865141e+02\n",
      "  4.70968484e+01  3.87504309e-01 -1.20365008e+05  2.20879548e+02\n",
      "  1.15666227e-01  2.66944257e+02 -1.76865141e+02  4.70968484e+01\n",
      "  3.87504309e-01 -1.20365008e+05  2.20879548e+02]\n",
      "old thermo HCOOH :\n",
      "[ 1.0000000e+03  1.5844890e+01  1.4398941e+02 -1.0596425e+02\n",
      "  3.1144240e+01 -1.4154000e-01 -1.0235533e+05  2.3137000e+02\n",
      "  1.5844890e+01  1.4398941e+02 -1.0596425e+02  3.1144240e+01\n",
      " -1.4154000e-01 -1.0235533e+05  2.3137000e+02]\n",
      "new thermo HCOOH :\n",
      "[ 1.00000000e+03  1.58448933e+01  1.43989410e+02 -1.05964250e+02\n",
      "  3.11442372e+01 -1.41539878e-01 -1.02336038e+05  2.31366001e+02\n",
      "  1.58448933e+01  1.43989410e+02 -1.05964250e+02  3.11442372e+01\n",
      " -1.41539878e-01 -1.02336038e+05  2.31366001e+02]\n",
      "old thermo CH2OHX :\n",
      "[ 1.00000000e+03  4.01213600e+01  9.47566000e+01 -4.73362400e+01\n",
      "  9.31632000e+00 -7.90880000e-01 -6.16499455e+04  8.82100000e+01\n",
      "  4.01213600e+01  9.47566000e+01 -4.73362400e+01  9.31632000e+00\n",
      " -7.90880000e-01 -6.16499455e+04  8.82100000e+01]\n",
      "new thermo CH2OHX :\n",
      "[ 1.00000000e+03  4.01213561e+01  9.47565990e+01 -4.73362360e+01\n",
      "  9.31632130e+00 -7.90880046e-01 -6.16383053e+04  8.82101040e+01\n",
      "  4.01213561e+01  9.47565990e+01 -4.73362360e+01  9.31632130e+00\n",
      " -7.90880046e-01 -6.16383053e+04  8.82101040e+01]\n",
      "old thermo CH2OX :\n",
      "[ 1.00000000e+03  3.39465400e+01  7.85254900e+01 -3.96964600e+01\n",
      "  7.53698000e+00 -5.02650000e-01 -6.01223097e+04  7.70100000e+01\n",
      "  3.39465400e+01  7.85254900e+01 -3.96964600e+01  7.53698000e+00\n",
      " -5.02650000e-01 -6.01223097e+04  7.70100000e+01]\n",
      "new thermo CH2OX :\n",
      "[ 1.00000000e+03  3.39465410e+01  7.85254940e+01 -3.96964640e+01\n",
      "  7.53697701e+00 -5.02645079e-01 -6.01557207e+04  7.70146439e+01\n",
      "  3.39465410e+01  7.85254940e+01 -3.96964640e+01  7.53697701e+00\n",
      " -5.02645079e-01 -6.01557207e+04  7.70146439e+01]\n",
      "old thermo CH3O2X :\n",
      "[ 1.00000000e+03  2.01294200e+01  1.98831740e+02 -1.42563480e+02\n",
      "  4.08555200e+01 -2.62630000e-01 -1.03892522e+05  4.51300000e+01\n",
      "  2.01294200e+01  1.98831740e+02 -1.42563480e+02  4.08555200e+01\n",
      " -2.62630000e-01 -1.03892522e+05  4.51300000e+01]\n",
      "new thermo CH3O2X :\n",
      "[ 1.00000000e+03  2.01294181e+01  1.98831737e+02 -1.42563484e+02\n",
      "  4.08555205e+01 -2.62632550e-01 -1.03932690e+05  4.51342726e+01\n",
      "  2.01294181e+01  1.98831737e+02 -1.42563484e+02  4.08555205e+01\n",
      " -2.62632550e-01 -1.03932690e+05  4.51342726e+01]\n",
      "old thermo CH3OHX :\n",
      "[ 1.0000000e+03  1.2805210e+01  1.8134809e+02 -1.1533416e+02\n",
      "  3.0763610e+01  3.0468000e-01 -6.3257838e+04  6.0760000e+01\n",
      "  1.2805210e+01  1.8134809e+02 -1.1533416e+02  3.0763610e+01\n",
      "  3.0468000e-01 -6.3257838e+04  6.0760000e+01]\n",
      "new thermo CH3OHX :\n",
      "[ 1.00000000e+03  1.28052086e+01  1.81348090e+02 -1.15334156e+02\n",
      "  3.07636096e+01  3.04679632e-01 -6.32803367e+04  6.07616320e+01\n",
      "  1.28052086e+01  1.81348090e+02 -1.15334156e+02  3.07636096e+01\n",
      "  3.04679632e-01 -6.32803367e+04  6.07616320e+01]\n",
      "old thermo CH3OX :\n",
      "[ 1.00000000e+03  9.97873000e+00  1.56888070e+02 -9.81656400e+01\n",
      "  2.51601600e+01  2.99320000e-01 -6.17293778e+04  3.98000000e+01\n",
      "  9.97873000e+00  1.56888070e+02 -9.81656400e+01  2.51601600e+01\n",
      "  2.99320000e-01 -6.17293778e+04  3.98000000e+01]\n",
      "new thermo CH3OX :\n",
      "[ 1.00000000e+03  9.97873376e+00  1.56888068e+02 -9.81656394e+01\n",
      "  2.51601625e+01  2.99324305e-01 -6.17809949e+04  3.98040961e+01\n",
      "  9.97873376e+00  1.56888068e+02 -9.81656394e+01  2.51601625e+01\n",
      "  2.99324305e-01 -6.17809949e+04  3.98040961e+01]\n",
      "old thermo CO2X :\n",
      "[ 1.00000000e+03  3.48926900e+01  6.54294000e+01 -4.78376600e+01\n",
      "  1.39489200e+01 -1.20100000e-01 -9.93256915e+04  9.18800000e+01\n",
      "  3.48926900e+01  6.54294000e+01 -4.78376600e+01  1.39489200e+01\n",
      " -1.20100000e-01 -9.93256915e+04  9.18800000e+01]\n",
      "new thermo CO2X :\n",
      "[ 1.00000000e+03  3.48926869e+01  6.54293984e+01 -4.78376613e+01\n",
      "  1.39489201e+01 -1.20099242e-01 -9.93256915e+04  9.18783542e+01\n",
      "  3.48926869e+01  6.54293984e+01 -4.78376613e+01  1.39489201e+01\n",
      " -1.20099242e-01 -9.93256915e+04  9.18783542e+01]\n",
      "old thermo CO3X :\n",
      "[ 1.00000000e+03  5.04576800e+01  9.33398200e+01 -6.94510800e+01\n",
      "  1.87334200e+01 -9.43810000e-01 -1.41446421e+05  1.02790000e+02\n",
      "  5.04576800e+01  9.33398200e+01 -6.94510800e+01  1.87334200e+01\n",
      " -9.43810000e-01 -1.41446421e+05  1.02790000e+02]\n",
      "new thermo CO3X :\n",
      "[ 1.00000000e+03  5.04576817e+01  9.33398151e+01 -6.94510789e+01\n",
      "  1.87334164e+01 -9.43807545e-01 -1.41446420e+05  1.02788940e+02\n",
      "  5.04576817e+01  9.33398151e+01 -6.94510789e+01  1.87334164e+01\n",
      " -9.43807545e-01 -1.41446420e+05  1.02788940e+02]\n",
      "old thermo COHX :\n",
      "[ 1.00000000e+03  3.39206500e+01  6.60074400e+01 -5.24630500e+01\n",
      "  1.64518000e+01 -2.99050000e-01 -5.85199358e+04  8.48800000e+01\n",
      "  3.39206500e+01  6.60074400e+01 -5.24630500e+01  1.64518000e+01\n",
      " -2.99050000e-01 -5.85199358e+04  8.48800000e+01]\n",
      "new thermo COHX :\n",
      "[ 1.00000000e+03  3.39206525e+01  6.60074428e+01 -5.24630506e+01\n",
      "  1.64518001e+01 -2.99053759e-01 -5.85199358e+04  8.48773917e+01\n",
      "  3.39206525e+01  6.60074428e+01 -5.24630506e+01  1.64518001e+01\n",
      " -2.99053759e-01 -5.85199358e+04  8.48773917e+01]\n",
      "old thermo COOHX :\n",
      "[ 1.00000000e+03  4.20327600e+01  8.69041700e+01 -5.79798100e+01\n",
      "  1.46808000e+01 -6.52000000e-01 -1.00799402e+05  8.85700000e+01\n",
      "  4.20327600e+01  8.69041700e+01 -5.79798100e+01  1.46808000e+01\n",
      " -6.52000000e-01 -1.00799402e+05  8.85700000e+01]\n",
      "new thermo COOHX :\n",
      "[ 1.00000000e+03  4.20327554e+01  8.69041743e+01 -5.79798131e+01\n",
      "  1.46808017e+01 -6.52003867e-01 -1.00828755e+05  8.85695064e+01\n",
      "  4.20327554e+01  8.69041743e+01 -5.79798131e+01  1.46808017e+01\n",
      " -6.52003867e-01 -1.00828755e+05  8.85695064e+01]\n",
      "old thermo COX :\n",
      "[ 1.00000000e+03  2.60121200e+01  4.42236800e+01 -3.62617100e+01\n",
      "  1.16581300e+01  2.83610000e-01 -5.71113986e+04  7.42400000e+01\n",
      "  2.60121200e+01  4.42236800e+01 -3.62617100e+01  1.16581300e+01\n",
      "  2.83610000e-01 -5.71113986e+04  7.42400000e+01]\n",
      "new thermo COX :\n",
      "[ 1.00000000e+03  2.60121210e+01  4.42236846e+01 -3.62617063e+01\n",
      "  1.16581338e+01  2.83613826e-01 -5.70932104e+04  7.42354013e+01\n",
      "  2.60121210e+01  4.42236846e+01 -3.62617063e+01  1.16581338e+01\n",
      "  2.83613826e-01 -5.70932104e+04  7.42354013e+01]\n",
      "old thermo H2CO2X :\n",
      "[ 1.00000000e+03  1.96052600e+01  1.71609680e+02 -1.24551100e+02\n",
      "  3.53353500e+01 -3.67670000e-01 -1.02322125e+05  4.58300000e+01\n",
      "  1.96052600e+01  1.71609680e+02 -1.24551100e+02  3.53353500e+01\n",
      " -3.67670000e-01 -1.02322125e+05  4.58300000e+01]\n",
      "new thermo H2CO2X :\n",
      "[ 1.00000000e+03  1.96052617e+01  1.71609679e+02 -1.24551103e+02\n",
      "  3.53353451e+01 -3.67671475e-01 -1.02314031e+05  4.58260455e+01\n",
      "  1.96052617e+01  1.71609679e+02 -1.24551103e+02  3.53353451e+01\n",
      " -3.67671475e-01 -1.02314031e+05  4.58260455e+01]\n",
      "old thermo CH2OOCH3X :\n",
      "[ 1.00000000e+03  4.93070000e-01  3.32640600e+02 -2.22492640e+02\n",
      "  5.94904100e+01  4.07460000e-01 -1.21887095e+05  4.04900000e+01\n",
      "  4.93070000e-01  3.32640600e+02 -2.22492640e+02  5.94904100e+01\n",
      "  4.07460000e-01 -1.21887095e+05  4.04900000e+01]\n",
      "new thermo CH2OOCH3X :\n",
      "[ 1.00000000e+03  4.93074268e-01  3.32640600e+02 -2.22492638e+02\n",
      "  5.94904080e+01  4.07459009e-01 -1.21887096e+05  4.04879802e+01\n",
      "  4.93074268e-01  3.32640600e+02 -2.22492638e+02  5.94904080e+01\n",
      "  4.07459009e-01 -1.21887096e+05  4.04879802e+01]\n",
      "old thermo H2OX :\n",
      "[ 1.00000000e+03  3.15021800e+01  5.59891500e+01 -4.91756500e+01\n",
      "  1.86434000e+01  2.10650000e-01 -4.52532251e+04  9.72100000e+01\n",
      "  3.15021800e+01  5.59891500e+01 -4.91756500e+01  1.86434000e+01\n",
      "  2.10650000e-01 -4.52532251e+04  9.72100000e+01]\n",
      "new thermo H2OX :\n",
      "[ 1.00000000e+03  3.15021754e+01  5.59891454e+01 -4.91756468e+01\n",
      "  1.86434040e+01  2.10652599e-01 -4.52532251e+04  9.72110974e+01\n",
      "  3.15021754e+01  5.59891454e+01 -4.91756468e+01  1.86434040e+01\n",
      "  2.10652599e-01 -4.52532251e+04  9.72110974e+01]\n",
      "old thermo HCO3X :\n",
      "[ 1.00000000e+03  3.22133100e+01  1.68527820e+02 -1.33556000e+02\n",
      "  3.99027900e+01 -4.51210000e-01 -1.43070666e+05  7.10900000e+01\n",
      "  3.22133100e+01  1.68527820e+02 -1.33556000e+02  3.99027900e+01\n",
      " -4.51210000e-01 -1.43070666e+05  7.10900000e+01]\n",
      "new thermo HCO3X :\n",
      "[ 1.00000000e+03  3.22133100e+01  1.68527818e+02 -1.33556003e+02\n",
      "  3.99027922e+01 -4.51206078e-01 -1.43070667e+05  7.10926878e+01\n",
      "  3.22133100e+01  1.68527818e+02 -1.33556003e+02  3.99027922e+01\n",
      " -4.51206078e-01 -1.43070667e+05  7.10926878e+01]\n",
      "old thermo HCOHX :\n",
      "[ 1.00000000e+03  3.59243500e+01  8.01418300e+01 -4.25704300e+01\n",
      "  8.66872000e+00 -4.65080000e-01 -6.00816238e+04  8.46700000e+01\n",
      "  3.59243500e+01  8.01418300e+01 -4.25704300e+01  8.66872000e+00\n",
      " -4.65080000e-01 -6.00816238e+04  8.46700000e+01]\n",
      "new thermo HCOHX :\n",
      "[ 1.00000000e+03  3.59243515e+01  8.01418266e+01 -4.25704332e+01\n",
      "  8.66872335e+00 -4.65079061e-01 -6.00717415e+04  8.46698194e+01\n",
      "  3.59243515e+01  8.01418266e+01 -4.25704332e+01  8.66872335e+00\n",
      " -4.65079061e-01 -6.00717415e+04  8.46698194e+01]\n",
      "old thermo HCOOCH3X :\n",
      "[ 1.00000000e+03  9.96557000e+00  2.78662960e+02 -1.84885790e+02\n",
      "  4.91171000e+01  3.79950000e-01 -1.20366663e+05  6.82400000e+01\n",
      "  9.96557000e+00  2.78662960e+02 -1.84885790e+02  4.91171000e+01\n",
      "  3.79950000e-01 -1.20366663e+05  6.82400000e+01]\n",
      "new thermo HCOOCH3X :\n",
      "[ 1.00000000e+03  9.96557389e+00  2.78662962e+02 -1.84885794e+02\n",
      "  4.91171026e+01  3.79953559e-01 -1.20366663e+05  6.82422837e+01\n",
      "  9.96557389e+00  2.78662962e+02 -1.84885794e+02  4.91171026e+01\n",
      "  3.79953559e-01 -1.20366663e+05  6.82422837e+01]\n",
      "old thermo HCOOHX :\n",
      "[ 1.00000000e+03  2.28962900e+01  1.54921620e+02 -1.06809110e+02\n",
      "  2.93056200e+01 -5.58900000e-02 -1.02383957e+05  6.73200000e+01\n",
      "  2.28962900e+01  1.54921620e+02 -1.06809110e+02  2.93056200e+01\n",
      " -5.58900000e-02 -1.02383957e+05  6.73200000e+01]\n",
      "new thermo HCOOHX :\n",
      "[ 1.00000000e+03  2.28962933e+01  1.54921618e+02 -1.06809108e+02\n",
      "  2.93056156e+01 -5.58937021e-02 -1.02417902e+05  6.73209113e+01\n",
      "  2.28962933e+01  1.54921618e+02 -1.06809108e+02  2.93056156e+01\n",
      " -5.58937021e-02 -1.02417902e+05  6.73209113e+01]\n",
      "old thermo HCOOX :\n",
      "[ 1.00000000e+03  2.02110900e+01  1.33719690e+02 -9.62054400e+01\n",
      "  2.65296800e+01  7.99000000e-03 -1.00882593e+05  5.09900000e+01\n",
      "  2.02110900e+01  1.33719690e+02 -9.62054400e+01  2.65296800e+01\n",
      "  7.99000000e-03 -1.00882593e+05  5.09900000e+01]\n",
      "new thermo HCOOX :\n",
      "[ 1.00000000e+03  2.02110880e+01  1.33719695e+02 -9.62054383e+01\n",
      "  2.65296804e+01  7.98758791e-03 -1.00930947e+05  5.09922142e+01\n",
      "  2.02110880e+01  1.33719695e+02 -9.62054383e+01  2.65296804e+01\n",
      "  7.98758791e-03 -1.00930947e+05  5.09922142e+01]\n",
      "old thermo HCOX :\n",
      "[ 1.00000000e+03  3.04659000e+01  6.33043000e+01 -3.97079700e+01\n",
      "  9.89931000e+00 -1.57300000e-01 -5.85629736e+04  7.62100000e+01\n",
      "  3.04659000e+01  6.33043000e+01 -3.97079700e+01  9.89931000e+00\n",
      " -1.57300000e-01 -5.85629736e+04  7.62100000e+01]\n",
      "new thermo HCOX :\n",
      "[ 1.00000000e+03  3.04659036e+01  6.33043039e+01 -3.97079730e+01\n",
      "  9.89930717e+00 -1.57296523e-01 -5.86060008e+04  7.62112555e+01\n",
      "  3.04659036e+01  6.33043039e+01 -3.97079730e+01  9.89930717e+00\n",
      " -1.57296523e-01 -5.86060008e+04  7.62112555e+01]\n",
      "old thermo HX :\n",
      "[ 1.00000000e+03  1.13356900e+01  1.26347200e+01  5.60683000e+00\n",
      " -6.93690000e+00 -9.18380000e-01 -1.53885281e+03  6.38000000e+00\n",
      "  1.13356900e+01  1.26347200e+01  5.60683000e+00 -6.93690000e+00\n",
      " -9.18380000e-01 -1.53885281e+03  6.38000000e+00]\n",
      "new thermo HX :\n",
      "[ 1.00000000e+03  1.13356941e+01  1.26347153e+01  5.60683126e+00\n",
      " -6.93689910e+00 -9.18380848e-01 -1.54537641e+03  6.38187228e+00\n",
      "  1.13356941e+01  1.26347153e+01  5.60683126e+00 -6.93689910e+00\n",
      " -9.18380848e-01 -1.54537641e+03  6.38187228e+00]\n",
      "old thermo OHX :\n",
      "[ 1.00000000e+03  3.11630000e+01  3.04840300e+01 -3.33933800e+01\n",
      "  1.38130300e+01 -2.88340000e-01 -4.37249468e+04  5.91400000e+01\n",
      "  3.11630000e+01  3.04840300e+01 -3.33933800e+01  1.38130300e+01\n",
      " -2.88340000e-01 -4.37249468e+04  5.91400000e+01]\n",
      "new thermo OHX :\n",
      "[ 1.00000000e+03  3.11630008e+01  3.04840254e+01 -3.33933784e+01\n",
      "  1.38130337e+01 -2.88338277e-01 -4.37637442e+04  5.91383967e+01\n",
      "  3.11630008e+01  3.04840254e+01 -3.33933784e+01  1.38130337e+01\n",
      " -2.88338277e-01 -4.37637442e+04  5.91383967e+01]\n",
      "old thermo OX :\n",
      "[ 1.00000000e+03  1.86642700e+01  1.80899100e+01 -1.91514400e+01\n",
      "  7.00167000e+00 -2.96270000e-01 -4.21289123e+04  3.01600000e+01\n",
      "  1.86642700e+01  1.80899100e+01 -1.91514400e+01  7.00167000e+00\n",
      " -2.96270000e-01 -4.21289123e+04  3.01600000e+01]\n",
      "new thermo OX :\n",
      "[ 1.00000000e+03  1.86642706e+01  1.80899084e+01 -1.91514412e+01\n",
      "  7.00167117e+00 -2.96266337e-01 -4.21268176e+04  3.01596819e+01\n",
      "  1.86642706e+01  1.80899084e+01 -1.91514412e+01  7.00167117e+00\n",
      " -2.96266337e-01 -4.21268176e+04  3.01596819e+01]\n",
      "old thermo X :\n",
      "[1000.    0.    0.    0.    0.    0.    0.    0.    0.    0.    0.    0.\n",
      "    0.    0.    0.]\n",
      "new thermo X :\n",
      "[1.00000000e+03 0.00000000e+00 0.00000000e+00 0.00000000e+00\n",
      " 0.00000000e+00 0.00000000e+00 5.07952791e-09 0.00000000e+00\n",
      " 0.00000000e+00 0.00000000e+00 0.00000000e+00 0.00000000e+00\n",
      " 0.00000000e+00 5.07952791e-09 0.00000000e+00]\n"
     ]
    }
   ],
   "source": [
    "for phase in (gas, surf):\n",
    "    for S in phase.species():\n",
    "        index = phase.species_index(S.name)\n",
    "        print(f\"old thermo {S.name} :\\n{S.thermo.coeffs}\")\n",
    "        snew = species_dict[S.name].thermo\n",
    "        S.thermo = snew\n",
    "        phase.modify_species(index, S)\n",
    "        print(f\"new thermo {S.name} :\\n{S.thermo.coeffs}\")"
   ]
  },
  {
   "cell_type": "markdown",
   "id": "512b60d2",
   "metadata": {},
   "source": [
    "### modify reactions so they match matlab file"
   ]
  },
  {
   "cell_type": "code",
   "execution_count": 88,
   "id": "c32d74b4",
   "metadata": {
    "scrolled": true
   },
   "outputs": [
    {
     "name": "stdout",
     "output_type": "stream",
     "text": [
      "CO2 + X <=> CO2X prior : Arrhenius(A=1, b=0, E=0)\n",
      "CO2 + X <=> CO2X after : Arrhenius(A=1, b=0, E=1.0836e+06)\n",
      "H2 + 2 X <=> 2 HX prior : Arrhenius(A=1, b=0, E=0)\n",
      "H2 + 2 X <=> 2 HX after : Arrhenius(A=1, b=0, E=4.04419e+07)\n",
      "CO + X <=> COX prior : Arrhenius(A=1, b=0, E=0)\n",
      "CO + X <=> COX after : Arrhenius(A=1, b=0, E=0)\n",
      "H2O + X <=> H2OX prior : Arrhenius(A=1, b=0, E=0)\n",
      "H2O + X <=> H2OX after : Arrhenius(A=1, b=0, E=0)\n",
      "HCOOH + X <=> HCOOHX prior : Arrhenius(A=1, b=0, E=0)\n",
      "HCOOH + X <=> HCOOHX after : Arrhenius(A=1, b=0, E=0)\n",
      "CH2O + X <=> CH2OX prior : Arrhenius(A=1, b=0, E=0)\n",
      "CH2O + X <=> CH2OX after : Arrhenius(A=1, b=0, E=327669)\n",
      "CH3OH + X <=> CH3OHX prior : Arrhenius(A=1, b=0, E=0)\n",
      "CH3OH + X <=> CH3OHX after : Arrhenius(A=1, b=0, E=0)\n",
      "HCOOCH3 + X <=> HCOOCH3X prior : Arrhenius(A=1, b=0, E=0)\n",
      "HCOOCH3 + X <=> HCOOCH3X after : Arrhenius(A=1, b=0, E=4.21761e+06)\n",
      "COX + OX <=> CO2X + X prior : Arrhenius(A=4.12069e+15, b=0, E=6.27154e+07)\n",
      "COX + OX <=> CO2X + X after : Arrhenius(A=3.98893e+19, b=0, E=5.70406e+07)\n",
      "COX + OHX <=> COOHX + X prior : Arrhenius(A=1.60931e+15, b=0, E=5.40317e+07)\n",
      "COX + OHX <=> COOHX + X after : Arrhenius(A=1.55837e+19, b=0, E=5.40449e+07)\n",
      "COOHX + X <=> CO2X + HX prior : Arrhenius(A=8.02069e+16, b=0, E=1.18677e+08)\n",
      "COOHX + X <=> CO2X + HX after : Arrhenius(A=7.76604e+20, b=0, E=1.04166e+08)\n",
      "COOHX + OHX <=> CO2X + H2OX prior : Arrhenius(A=3.44828e+16, b=0, E=0)\n",
      "COOHX + OHX <=> CO2X + H2OX after : Arrhenius(A=3.44828e+20, b=0, E=8.4768e+06)\n",
      "COOHX + HX <=> HCOOHX + X prior : Arrhenius(A=2.34241e+17, b=0, E=7.04342e+07)\n",
      "COOHX + HX <=> HCOOHX + X after : Arrhenius(A=2.2682e+21, b=0, E=5.9388e+07)\n",
      "H2OX + X <=> HX + OHX prior : Arrhenius(A=4.95172e+14, b=0, E=1.34114e+08)\n",
      "H2OX + X <=> HX + OHX after : Arrhenius(A=4.79332e+18, b=0, E=6.48643e+07)\n",
      "OHX + X <=> HX + OX prior : Arrhenius(A=7.56207e+16, b=0, E=1.62095e+08)\n",
      "OHX + X <=> HX + OX after : Arrhenius(A=7.32095e+20, b=0, E=9.34918e+07)\n",
      "2 OHX <=> H2OX + OX prior : Arrhenius(A=5.77586e+15, b=0, E=5.8856e+07)\n",
      "2 OHX <=> H2OX + OX after : Arrhenius(A=5.59342e+19, b=0, E=1.41998e+08)\n",
      "CO2X + HX <=> HCOOX + X prior : Arrhenius(A=1.26138e+17, b=0, E=8.39421e+07)\n",
      "CO2X + HX <=> HCOOX + X after : Arrhenius(A=1.2214e+21, b=0, E=3.58591e+07)\n",
      "HCOOX + HX <=> H2CO2X + X prior : Arrhenius(A=1.28862e+17, b=0, E=1.53411e+08)\n",
      "HCOOX + HX <=> H2CO2X + X after : Arrhenius(A=1.24775e+21, b=0, E=1.69348e+08)\n",
      "HCOOX + HX <=> HCOOHX + X prior : Arrhenius(A=4.48966e+17, b=0, E=8.78015e+07)\n",
      "HCOOX + HX <=> HCOOHX + X after : Arrhenius(A=4.3463e+21, b=0, E=9.14522e+07)\n",
      "HCOOHX + HX <=> CH3O2X + X prior : Arrhenius(A=2.1531e+18, b=0, E=1.00345e+08)\n",
      "HCOOHX + HX <=> CH3O2X + X after : Arrhenius(A=2.0848e+22, b=0, E=9.615e+07)\n",
      "H2CO2X + HX <=> CH3O2X + X prior : Arrhenius(A=7.28966e+15, b=0, E=7.13991e+07)\n",
      "H2CO2X + HX <=> CH3O2X + X after : Arrhenius(A=7.0588e+19, b=0, E=3.79609e+07)\n",
      "H2CO2X + X <=> CH2OX + OX prior : Arrhenius(A=3.44828e+16, b=0, E=8.78015e+07)\n",
      "H2CO2X + X <=> CH2OX + OX after : Arrhenius(A=3.44828e+20, b=0, E=4.17679e+07)\n",
      "CH3O2X + X <=> CH2OX + OHX prior : Arrhenius(A=3.44828e+16, b=0, E=7.13991e+07)\n",
      "CH3O2X + X <=> CH2OX + OHX after : Arrhenius(A=3.44828e+20, b=0, E=2.79176e+07)\n",
      "CH2OX + HX <=> CH3OX + X prior : Arrhenius(A=6.25862e+16, b=0, E=2.31565e+07)\n",
      "CH2OX + HX <=> CH3OX + X after : Arrhenius(A=6.06192e+20, b=0, E=1.61582e+07)\n",
      "CH3OX + HX <=> CH3OHX + X prior : Arrhenius(A=4.41379e+16, b=0, E=1.12888e+08)\n",
      "CH3OX + HX <=> CH3OHX + X after : Arrhenius(A=4.27305e+20, b=0, E=1.32453e+08)\n",
      "COX + HX <=> HCOX + X prior : Arrhenius(A=3.18621e+16, b=0, E=9.55204e+07)\n",
      "COX + HX <=> HCOX + X after : Arrhenius(A=3.08545e+20, b=0, E=5.20016e+07)\n",
      "COX + HX <=> COHX + X prior : Arrhenius(A=3.85517e+16, b=0, E=2.18057e+08)\n",
      "COX + HX <=> COHX + X after : Arrhenius(A=3.73289e+20, b=0, E=2.08085e+08)\n",
      "HCOOX + X <=> HCOX + OX prior : Arrhenius(A=8.86207e+15, b=0, E=2.27705e+08)\n",
      "HCOOX + X <=> HCOX + OX after : Arrhenius(A=8.583e+19, b=0, E=2.18456e+08)\n",
      "HCOX + HX <=> HCOHX + X prior : Arrhenius(A=3.09345e+16, b=0, E=8.78015e+07)\n",
      "HCOX + HX <=> HCOHX + X after : Arrhenius(A=2.99545e+20, b=0, E=1.11735e+08)\n",
      "HCOX + HX <=> CH2OX + X prior : Arrhenius(A=1.96034e+16, b=0, E=4.53481e+07)\n",
      "HCOX + HX <=> CH2OX + X after : Arrhenius(A=1.89824e+20, b=0, E=4.60747e+07)\n",
      "CH2OX + HX <=> CH2OHX + X prior : Arrhenius(A=3.28207e+18, b=0, E=7.91179e+07)\n",
      "CH2OX + HX <=> CH2OHX + X after : Arrhenius(A=3.17822e+22, b=0, E=1.00546e+08)\n",
      "HCOHX + HX <=> CH2OHX + X prior : Arrhenius(A=1.27517e+16, b=0, E=4.53481e+07)\n",
      "HCOHX + HX <=> CH2OHX + X after : Arrhenius(A=1.23472e+20, b=0, E=5.02352e+07)\n",
      "CH2OHX + HX <=> CH3OHX + X prior : Arrhenius(A=2.82379e+16, b=0, E=4.92075e+07)\n",
      "CH2OHX + HX <=> CH3OHX + X after : Arrhenius(A=2.7345e+20, b=0, E=4.07963e+07)\n",
      "HCOOHX + X <=> HCOX + OHX prior : Arrhenius(A=1.80759e+16, b=0, E=1.57271e+08)\n",
      "HCOOHX + X <=> HCOX + OHX after : Arrhenius(A=1.75035e+20, b=0, E=1.13102e+08)\n",
      "HCOOHX + X <=> HCOHX + OX prior : Arrhenius(A=1.66483e+15, b=0, E=2.41213e+08)\n",
      "HCOOHX + X <=> HCOHX + OX after : Arrhenius(A=1.61207e+19, b=0, E=2.62089e+08)\n",
      "CH3O2X + X <=> CH2OHX + OX prior : Arrhenius(A=1.89138e+17, b=0, E=1.93935e+08)\n",
      "CH3O2X + X <=> CH2OHX + OX after : Arrhenius(A=1.8314e+21, b=0, E=2.18531e+08)\n",
      "CO2X + OX <=> CO3X + X prior : Arrhenius(A=3.06966e+15, b=0, E=3.2805e+07)\n",
      "CO2X + OX <=> CO3X + X after : Arrhenius(A=2.97254e+19, b=0, E=2.58597e+07)\n",
      "CO3X + HX <=> HCO3X + X prior : Arrhenius(A=5.92069e+16, b=0, E=9.64852e+07)\n",
      "CO3X + HX <=> HCO3X + X after : Arrhenius(A=5.73212e+20, b=0, E=9.4346e+07)\n",
      "HCOX + OX <=> COX + OHX prior : Arrhenius(A=3.44828e+16, b=0, E=0)\n",
      "HCOX + OX <=> COX + OHX after : Arrhenius(A=3.44828e+20, b=0, E=0)\n",
      "HCOX + OHX <=> COX + H2OX prior : Arrhenius(A=3.30931e+16, b=0, E=2.89456e+07)\n",
      "HCOX + OHX <=> COX + H2OX after : Arrhenius(A=3.2045e+20, b=0, E=7.14105e+07)\n",
      "HCOOX + HCOX <=> COX + HCOOHX prior : Arrhenius(A=7.58621e+17, b=0, E=5.78911e+07)\n",
      "HCOOX + HCOX <=> COX + HCOOHX after : Arrhenius(A=7.34724e+21, b=0, E=7.00061e+07)\n",
      "HCOOX + HCOX <=> COX + H2CO2X prior : Arrhenius(A=1.18655e+16, b=0, E=7.71882e+07)\n",
      "HCOOX + HCOX <=> COX + H2CO2X after : Arrhenius(A=1.14911e+20, b=0, E=1.30393e+08)\n",
      "HCOOHX + HCOX <=> CH3O2X + COX prior : Arrhenius(A=1.84138e+15, b=0, E=4.05238e+07)\n",
      "HCOOHX + HCOX <=> CH3O2X + COX after : Arrhenius(A=1.78305e+19, b=0, E=5.52255e+07)\n",
      "CH2OX + HCOX <=> CH3OX + COX prior : Arrhenius(A=3.44828e+16, b=0, E=0)\n",
      "CH2OX + HCOX <=> CH3OX + COX after : Arrhenius(A=3.44828e+20, b=0, E=0)\n",
      "CH3OX + HCOX <=> CH3OHX + COX prior : Arrhenius(A=6.66897e+15, b=0, E=3.66644e+07)\n",
      "CH3OX + HCOX <=> CH3OHX + COX after : Arrhenius(A=6.45671e+19, b=0, E=8.45874e+07)\n",
      "CH3OX + HCOOX <=> HCOOCH3X + OX prior : Arrhenius(A=2.39103e+15, b=0, E=1.19642e+08)\n",
      "CH3OX + HCOOX <=> HCOOCH3X + OX after : Arrhenius(A=2.31524e+19, b=0, E=2.18583e+08)\n",
      "CH2OX + CH3OX <=> CH2OOCH3X + X prior : Arrhenius(A=2.20862e+17, b=0, E=1.25431e+07)\n",
      "CH2OX + CH3OX <=> CH2OOCH3X + X after : Arrhenius(A=2.13858e+21, b=0, E=6.50109e+07)\n",
      "HCOOCH3X + HX <=> CH2OOCH3X + X prior : Arrhenius(A=5.29655e+15, b=0, E=9.06961e+07)\n",
      "HCOOCH3X + HX <=> CH2OOCH3X + X after : Arrhenius(A=5.13017e+19, b=0, E=8.76026e+07)\n",
      "2 CH2OX <=> HCOOCH3X + X prior : Arrhenius(A=8.71379e+17, b=0, E=1.07099e+08)\n",
      "2 CH2OX <=> HCOOCH3X + X after : Arrhenius(A=8.43929e+21, b=0, E=1.63706e+08)\n"
     ]
    }
   ],
   "source": [
    "copy_surf_rxn = surf.reactions()\n",
    "for irxn, rxn in enumerate(copy_surf_rxn):\n",
    "    print(f\"{rxn.equation} prior : {rxn.rate}\")\n",
    "    \n",
    "    rxn.rate = rxn_dict[rxn.equation.replace(\" \", \"\")].arrhenius\n",
    "    surf.modify_reaction(irxn, rxn)\n",
    "    \n",
    "    print(f\"{rxn.equation} after : {rxn.rate}\")    "
   ]
  },
  {
   "cell_type": "markdown",
   "id": "dcd80e23",
   "metadata": {},
   "source": [
    "## make yaml files\n",
    "surf contains thermo and kinetics."
   ]
  },
  {
   "cell_type": "code",
   "execution_count": 146,
   "id": "0f4165ca",
   "metadata": {},
   "outputs": [],
   "source": [
    "surf.write_yaml('meohsurf.yaml')"
   ]
  },
  {
   "cell_type": "markdown",
   "id": "8c7d5dd3",
   "metadata": {},
   "source": [
    "### compare enthalpy of reaction for each rxn"
   ]
  },
  {
   "cell_type": "code",
   "execution_count": 89,
   "id": "c4e8582f",
   "metadata": {},
   "outputs": [
    {
     "name": "stdout",
     "output_type": "stream",
     "text": [
      "reaction                                  cantera    matlab     diff    supp data  \n",
      "CO2 + X <=> CO2X                   :         0.2,     0.2,     0.0     0.2\n",
      "H2 + 2 X <=> 2 HX                  :       -45.3,   -45.3,     0.0   -32.2\n",
      "CO + X <=> COX                     :        -9.8,    -9.8,     0.0   -85.9\n",
      "H2O + X <=> H2OX                   :       -10.4,   -10.4,     0.0   -10.4\n",
      "HCOOH + X <=> HCOOHX               :       -77.4,   -77.4,     0.0   -24.2\n",
      "CH2O + X <=> CH2OX                 :       -39.8,   -39.8,     0.0    -6.4\n",
      "CH3OH + X <=> CH3OHX               :       -33.8,   -33.8,     0.0   -11.3\n",
      "HCOOCH3 + X <=> HCOOCH3X           :         4.2,     4.2,     0.0     4.2\n",
      "COX + OX <=> CO2X + X              :      -109.6,  -109.6,     0.0   -89.3\n",
      "COX + OHX <=> COOHX + X            :        23.9,    23.9,     0.0    32.7\n",
      "COOHX + X <=> CO2X + HX            :       -40.0,   -40.0,     0.0   -62.9\n",
      "COOHX + OHX <=> CO2X + H2OX        :         8.5,     8.5,     0.0   -59.7\n",
      "COOHX + HX <=> HCOOHX + X          :       -56.9,   -56.9,     0.0   -58.9\n",
      "H2OX + X <=> HX + OHX              :       -48.5,   -48.5,     0.0    -3.2\n",
      "OHX + X <=> HX + OX                :        93.5,    93.5,     0.0    59.1\n",
      "2 OHX <=> H2OX + OX                :       142.0,   142.0,     0.0    62.3\n",
      "CO2X + HX <=> HCOOX + X            :       -69.9,   -69.9,     0.0   -28.1\n",
      "HCOOX + HX <=> H2CO2X + X          :       157.3,   157.3,     0.0    94.3\n",
      "HCOOX + HX <=> HCOOHX + X          :        53.0,    53.0,     0.0    32.1\n",
      "HCOOHX + HX <=> CH3O2X + X         :        24.6,    24.6,     0.0    24.3\n",
      "H2CO2X + HX <=> CH3O2X + X         :       -79.6,   -79.6,     0.0   -37.9\n",
      "H2CO2X + X <=> CH2OX + OX          :        41.8,    41.8,     0.0    81.2\n",
      "CH3O2X + X <=> CH2OX + OHX         :        27.9,    27.9,     0.0    60.0\n",
      "CH2OX + HX <=> CH3OX + X           :       -94.9,   -94.9,     0.0   -83.2\n",
      "CH3OX + HX <=> CH3OHX + X          :        40.7,    40.7,     0.0     5.1\n",
      "COX + HX <=> HCOX + X              :        28.8,    28.8,     0.0    83.4\n",
      "COX + HX <=> COHX + X              :       116.7,   116.7,     0.0   128.4\n",
      "HCOOX + X <=> HCOX + OX            :       208.2,   208.2,     0.0   200.8\n",
      "HCOX + HX <=> HCOHX + X            :        75.8,    75.8,     0.0    16.3\n",
      "HCOX + HX <=> CH2OX + X            :        -9.2,    -9.2,     0.0   -25.3\n",
      "CH2OX + HX <=> CH2OHX + X          :        59.0,    59.0,     0.0     7.5\n",
      "HCOHX + HX <=> CH2OHX + X          :       -25.9,   -25.9,     0.0   -34.2\n",
      "CH2OHX + HX <=> CH3OHX + X         :      -113.2,  -113.2,     0.0   -85.6\n",
      "HCOOHX + X <=> HCOX + OHX          :        61.7,    61.7,     0.0   109.6\n",
      "HCOOHX + X <=> HCOHX + OX          :       231.0,   231.0,     0.0   185.1\n",
      "CH3O2X + X <=> CH2OHX + OX         :       180.4,   180.4,     0.0   126.5\n",
      "CO2X + OX <=> CO3X + X             :         6.7,     6.7,     0.0     8.8\n",
      "CO3X + HX <=> HCO3X + X            :       -91.0,   -91.0,     0.0   -97.5\n",
      "HCOX + OX <=> COX + OHX            :      -122.2,  -122.2,     0.0  -142.6\n",
      "HCOX + OHX <=> COX + H2OX          :        19.8,    19.8,     0.0   -80.3\n",
      "HCOOX + HCOX <=> COX + HCOOHX      :        24.2,    24.2,     0.0   -51.4\n",
      "HCOOX + HCOX <=> COX + H2CO2X      :       128.5,   128.5,     0.0    10.9\n",
      "HCOOHX + HCOX <=> CH3O2X + COX     :        -4.1,    -4.1,     0.0   -59.1\n",
      "CH2OX + HCOX <=> CH3OX + COX       :      -123.7,  -123.7,     0.0  -166.7\n",
      "CH3OX + HCOX <=> CH3OHX + COX      :        12.0,    12.0,     0.0   -78.4\n",
      "CH3OX + HCOOX <=> HCOOCH3X + OX    :       218.6,   218.6,     0.0   116.5\n",
      "CH2OX + CH3OX <=> CH2OOCH3X + X    :        35.9,    35.9,     0.0   -49.1\n",
      "HCOOCH3X + HX <=> CH2OOCH3X + X    :        16.4,    16.4,     0.0     9.8\n",
      "2 CH2OX <=> HCOOCH3X + X           :       -75.4,   -75.4,     0.0  -142.2\n"
     ]
    }
   ],
   "source": [
    "print(\"{:30s}            {:7s}    {:7s}    {:7s} {:7s}  \".format(\"reaction\",\"cantera\",\"matlab\",\"diff\",\"supp data\" ))\n",
    "for index, rxn in enumerate(surf.reactions()):\n",
    "    h_cantera = surf.delta_enthalpy[index]/1e6\n",
    "    h_matlab = rxn_dict[rxn.equation.replace(\" \", \"\")].deltaH\n",
    "    h_diff = abs(h_cantera - h_matlab)\n",
    "    \n",
    "    h_supp_data = surf_old.delta_enthalpy[index]/1e6\n",
    "    \n",
    "    \n",
    "    \n",
    "    \n",
    "    print(f\"{rxn.equation:35s}:      {h_cantera:6.1f},  {h_matlab:6.1f},  {h_diff:6.1f}  {h_supp_data:6.1f}\")\n",
    "    "
   ]
  },
  {
   "cell_type": "markdown",
   "id": "d2219e8c",
   "metadata": {},
   "source": [
    "### compare species enthalpy"
   ]
  },
  {
   "cell_type": "code",
   "execution_count": 90,
   "id": "4e95d783",
   "metadata": {},
   "outputs": [
    {
     "data": {
      "text/plain": [
       "array([ 1.00000000e+03,  3.04757695e+00,  1.01921051e+02, -5.62641543e+01,\n",
       "        1.25453208e+01,  6.22400992e-01, -6.01008549e+04,  1.98060842e+02,\n",
       "        3.04757695e+00,  1.01921051e+02, -5.62641543e+01,  1.25453208e+01,\n",
       "        6.22400992e-01, -6.01008549e+04,  1.98060842e+02])"
      ]
     },
     "execution_count": 90,
     "metadata": {},
     "output_type": "execute_result"
    }
   ],
   "source": [
    "gas.species(\"CH2O\").thermo.coeffs"
   ]
  },
  {
   "cell_type": "code",
   "execution_count": 91,
   "id": "c5af4ff6",
   "metadata": {},
   "outputs": [
    {
     "data": {
      "text/plain": [
       "array([ 1.0000000e+03,  3.0475800e+00,  1.0192105e+02, -5.6264150e+01,\n",
       "        1.2545320e+01,  6.2240000e-01, -6.0100850e+04,  1.9806000e+02,\n",
       "        3.0475800e+00,  1.0192105e+02, -5.6264150e+01,  1.2545320e+01,\n",
       "        6.2240000e-01, -6.0100850e+04,  1.9806000e+02])"
      ]
     },
     "execution_count": 91,
     "metadata": {},
     "output_type": "execute_result"
    }
   ],
   "source": [
    "gas_old.species(\"CH2O\").thermo.coeffs"
   ]
  },
  {
   "cell_type": "code",
   "execution_count": 92,
   "id": "52b0de53",
   "metadata": {},
   "outputs": [
    {
     "name": "stdout",
     "output_type": "stream",
     "text": [
      "CH2O                               :      -6.0e+04,  -6.0e+04,  7.3e-12 -0.00 -6.0e+04\n",
      "CH3OH                              :      -6.3e+04,  -6.3e+04,  1.5e-11 -0.00 -6.3e+04\n",
      "CO                                 :      -5.7e+04,  -5.7e+04,  0.0e+00 0.00 -5.7e+04\n",
      "CO2                                :      -9.9e+04,  -9.9e+04,  0.0e+00 0.00 -9.9e+04\n",
      "H2                                 :      -3.0e+03,  -3.0e+03,  1.4e-12 0.00 -3.0e+03\n",
      "H2O                                :      -4.5e+04,  -4.5e+04,  1.5e-11 0.00 -4.5e+04\n",
      "HCOOCH3                            :      -1.2e+05,  -1.2e+05,  4.4e-11 -0.00 -1.2e+05\n",
      "HCOOH                              :      -1.0e+05,  -1.0e+05,  1.5e-11 -0.00 -1.0e+05\n"
     ]
    }
   ],
   "source": [
    "for spec in gas.species():\n",
    "    \n",
    "    h_cantera = spec.thermo.h(gas.T)/1e6\n",
    "    h_matlab = species_dict[spec.name].enthalpy\n",
    "    \n",
    "    h_diff = abs(h_cantera - h_matlab)\n",
    "    h_diff_ev = (h_cantera - h_matlab) / 96 # 96 kJ to Ev \n",
    "    \n",
    "    h_supp = gas_old.species(gas_old.species_index(spec.name)).thermo.h(gas.T)/1e6\n",
    "    print(f\"{spec.name:35s}:      {h_cantera:4.1e},  {h_matlab:4.1e},  {h_diff:4.1e} {h_diff_ev:4.2f} {h_supp:4.1e}\")"
   ]
  },
  {
   "cell_type": "code",
   "execution_count": 93,
   "id": "3b25a30d",
   "metadata": {},
   "outputs": [
    {
     "name": "stdout",
     "output_type": "stream",
     "text": [
      "CH2OHX                             :      -6.2e+04,  -6.2e+04,  1.5e-11 -0.0000 -6.2e+04\n",
      "CH2OX                              :      -6.0e+04,  -6.0e+04,  7.3e-12 0.0000 -6.0e+04\n",
      "CH3O2X                             :      -1.0e+05,  -1.0e+05,  2.9e-11 0.0000 -1.0e+05\n",
      "CH3OHX                             :      -6.3e+04,  -6.3e+04,  7.3e-12 -0.0000 -6.3e+04\n",
      "CH3OX                              :      -6.2e+04,  -6.2e+04,  1.5e-11 0.0000 -6.2e+04\n",
      "CO2X                               :      -9.9e+04,  -9.9e+04,  1.5e-11 0.0000 -9.9e+04\n",
      "CO3X                               :      -1.4e+05,  -1.4e+05,  8.7e-11 -0.0000 -1.4e+05\n",
      "COHX                               :      -5.8e+04,  -5.8e+04,  0.0e+00 0.0000 -5.8e+04\n",
      "COOHX                              :      -1.0e+05,  -1.0e+05,  4.4e-11 0.0000 -1.0e+05\n",
      "COX                                :      -5.7e+04,  -5.7e+04,  1.5e-11 0.0000 -5.7e+04\n",
      "H2CO2X                             :      -1.0e+05,  -1.0e+05,  2.9e-11 0.0000 -1.0e+05\n",
      "CH2OOCH3X                          :      -1.2e+05,  -1.2e+05,  4.4e-11 -0.0000 -1.2e+05\n",
      "H2OX                               :      -4.5e+04,  -4.5e+04,  1.5e-11 -0.0000 -4.5e+04\n",
      "HCO3X                              :      -1.4e+05,  -1.4e+05,  8.7e-11 -0.0000 -1.4e+05\n",
      "HCOHX                              :      -6.0e+04,  -6.0e+04,  0.0e+00 0.0000 -6.0e+04\n",
      "HCOOCH3X                           :      -1.2e+05,  -1.2e+05,  1.5e-11 -0.0000 -1.2e+05\n",
      "HCOOHX                             :      -1.0e+05,  -1.0e+05,  1.5e-11 0.0000 -1.0e+05\n",
      "HCOOX                              :      -1.0e+05,  -1.0e+05,  2.9e-11 0.0000 -1.0e+05\n",
      "HCOX                               :      -5.9e+04,  -5.9e+04,  7.3e-12 -0.0000 -5.9e+04\n",
      "HX                                 :      -1.5e+03,  -1.5e+03,  0.0e+00 0.0000 -1.5e+03\n",
      "OHX                                :      -4.4e+04,  -4.4e+04,  7.3e-12 -0.0000 -4.4e+04\n",
      "OX                                 :      -4.2e+04,  -4.2e+04,  2.2e-11 0.0000 -4.2e+04\n",
      "X                                  :      5.1e-09,  5.1e-09,  0.0e+00 0.0000 0.0e+00\n"
     ]
    }
   ],
   "source": [
    "for spec in surf.species():\n",
    "    \n",
    "    h_cantera = spec.thermo.h(surf.T)/1e6\n",
    "    h_matlab = species_dict[spec.name].enthalpy\n",
    "\n",
    "    h_diff = abs(h_cantera - h_matlab)\n",
    "    h_diff_ev = (h_cantera - h_matlab) / 96 # 96 kJ to Ev \n",
    "    \n",
    "    h_supp = surf_old.species(surf_old.species_index(spec.name)).thermo.h(gas.T)/1e6\n",
    "    \n",
    "    print(f\"{spec.name:35s}:      {h_cantera:4.1e},  {h_matlab:4.1e},  {h_diff:4.1e} {h_diff_ev:4.4f} {h_supp:4.1e}\")"
   ]
  },
  {
   "cell_type": "markdown",
   "id": "509b22ae",
   "metadata": {},
   "source": [
    "### compare species entropy"
   ]
  },
  {
   "cell_type": "code",
   "execution_count": 94,
   "id": "dc29d4b8",
   "metadata": {},
   "outputs": [
    {
     "name": "stdout",
     "output_type": "stream",
     "text": [
      "CH2O                               :      2.4e+02,  2.4e+02,  0.0e+00\n",
      "CH3OH                              :      2.7e+02,  2.7e+02,  0.0e+00\n",
      "CO                                 :      2.2e+02,  2.2e+02,  2.8e-14\n",
      "CO2                                :      2.4e+02,  2.4e+02,  0.0e+00\n",
      "H2                                 :      1.5e+02,  1.5e+02,  5.7e-14\n",
      "H2O                                :      2.1e+02,  2.1e+02,  2.8e-14\n",
      "HCOOCH3                            :      3.3e+02,  3.3e+02,  5.7e-14\n",
      "HCOOH                              :      2.8e+02,  2.8e+02,  0.0e+00\n"
     ]
    }
   ],
   "source": [
    "for spec in gas.species():\n",
    "    \n",
    "    s_cantera = spec.thermo.s(gas.T)/1e3\n",
    "    s_matlab = species_dict[spec.name].entropy\n",
    "    \n",
    "    s_diff = abs(s_cantera - s_matlab)\n",
    "    print(f\"{spec.name:35s}:      {s_cantera:4.1e},  {s_matlab:4.1e},  {s_diff:4.1e}\")"
   ]
  },
  {
   "cell_type": "code",
   "execution_count": 95,
   "id": "4270fb99",
   "metadata": {},
   "outputs": [
    {
     "name": "stdout",
     "output_type": "stream",
     "text": [
      "CH2OHX                             :      1.0e+02,  1.0e+02,  0.0e+00\n",
      "CH2OX                              :      8.7e+01,  8.7e+01,  0.0e+00\n",
      "CH3O2X                             :      1.1e+02,  1.1e+02,  1.4e-14\n",
      "CH3OHX                             :      1.3e+02,  1.3e+02,  1.4e-14\n",
      "CH3OX                              :      9.7e+01,  9.7e+01,  1.4e-14\n",
      "CO2X                               :      9.3e+01,  9.3e+01,  2.8e-14\n",
      "CO3X                               :      1.1e+02,  1.1e+02,  1.4e-14\n",
      "COHX                               :      8.7e+01,  8.7e+01,  1.4e-14\n",
      "COOHX                              :      9.5e+01,  9.5e+01,  1.4e-14\n",
      "COX                                :      7.2e+01,  7.2e+01,  1.4e-14\n",
      "H2CO2X                             :      1.0e+02,  1.0e+02,  0.0e+00\n",
      "CH2OOCH3X                          :      1.8e+02,  1.8e+02,  2.8e-14\n",
      "H2OX                               :      9.6e+01,  9.6e+01,  0.0e+00\n",
      "HCO3X                              :      1.2e+02,  1.2e+02,  2.8e-14\n",
      "HCOHX                              :      9.4e+01,  9.4e+01,  0.0e+00\n",
      "HCOOCH3X                           :      1.8e+02,  1.8e+02,  2.8e-14\n",
      "HCOOHX                             :      1.1e+02,  1.1e+02,  0.0e+00\n",
      "HCOOX                              :      9.1e+01,  9.1e+01,  1.4e-14\n",
      "HCOX                               :      8.1e+01,  8.1e+01,  1.4e-14\n",
      "HX                                 :      6.6e+00,  6.6e+00,  8.9e-16\n",
      "OHX                                :      4.8e+01,  4.8e+01,  7.1e-15\n",
      "OX                                 :      2.4e+01,  2.4e+01,  3.6e-15\n",
      "X                                  :      0.0e+00,  0.0e+00,  0.0e+00\n"
     ]
    }
   ],
   "source": [
    "for spec in surf.species():\n",
    "    s_cantera = spec.thermo.s(surf.T)/1e3\n",
    "    s_matlab = species_dict[spec.name].entropy\n",
    "    \n",
    "    s_diff = abs(s_cantera - s_matlab)\n",
    "    print(f\"{spec.name:35s}:      {s_cantera:4.1e},  {s_matlab:4.1e},  {s_diff:4.1e}\")"
   ]
  },
  {
   "cell_type": "markdown",
   "id": "203efdce",
   "metadata": {},
   "source": [
    "### compare rate constants\n",
    "first, without converting"
   ]
  },
  {
   "cell_type": "code",
   "execution_count": 99,
   "id": "4bd67502",
   "metadata": {},
   "outputs": [
    {
     "name": "stdout",
     "output_type": "stream",
     "text": [
      "reaction                                  cantera    matlab     A/B       supp data \n",
      "CO2 + X <=> CO2X                   :      3.18e+09  5.54e+09  0.573153   4.16e+09\n",
      "H2 + 2 X <=> 2 HX                  :      2.86e+13  4.99e+13  0.573445   6.70e+17\n",
      "CO + X <=> COX                     :      5.21e+09  9.09e+09  0.573142   5.21e+09\n",
      "H2O + X <=> H2OX                   :      6.50e+09  1.13e+10  0.573145   6.50e+09\n",
      "HCOOH + X <=> HCOOHX               :      4.07e+09  7.09e+09  0.573143   4.07e+09\n",
      "CH2O + X <=> CH2OX                 :      4.64e+09  8.09e+09  0.573143   5.03e+09\n",
      "CH3OH + X <=> CH3OHX               :      4.87e+09  8.50e+09  0.573140   4.87e+09\n",
      "HCOOCH3 + X <=> HCOOCH3X           :      1.25e+09  2.17e+09  0.573165   3.56e+09\n",
      "COX + OX <=> CO2X + X              :      2.75e+13  2.74e+13  1.000790   6.91e+08\n",
      "COX + OHX <=> COOHX + X            :      2.26e+13  2.26e+13  1.000748   2.34e+09\n",
      "COOHX + X <=> CO2X + HX            :      4.33e+09  4.33e+09  1.001443   1.21e+04\n",
      "COOHX + OHX <=> CO2X + H2OX        :      4.19e+19  4.19e+19  1.000117   3.45e+16\n",
      "COOHX + HX <=> HCOOHX + X          :      8.71e+14  8.70e+14  1.000822   5.76e+09\n",
      "H2OX + X <=> HX + OHX              :      4.71e+11  4.71e+11  1.000898   1.61e+00\n",
      "OHX + X <=> HX + OX                :      5.81e+10  5.81e+10  1.001295   2.33e-01\n",
      "2 OHX <=> H2OX + OX                :      2.55e+04  2.55e+04  1.001967   2.53e+09\n",
      "CO2X + HX <=> HCOOX + X            :      1.63e+17  1.63e+17  1.000496   1.08e+08\n",
      "HCOOX + HX <=> H2CO2X + X          :      6.33e+02  6.31e+02  1.002347   3.44e+00\n",
      "HCOOX + HX <=> HCOOHX + X          :      5.73e+11  5.73e+11  1.001267   1.47e+08\n",
      "HCOOHX + HX <=> CH3O2X + X         :      8.55e+11  8.53e+11  1.001332   3.11e+07\n",
      "H2CO2X + HX <=> CH3O2X + X         :      5.59e+15  5.59e+15  1.000526   1.41e+08\n",
      "H2CO2X + X <=> CH2OX + OX          :      1.06e+16  1.06e+16  1.000578   1.13e+07\n",
      "CH3O2X + X <=> CH2OX + OHX         :      3.32e+17  3.32e+17  1.000386   6.67e+08\n",
      "CH2OX + HX <=> CH3OX + X           :      1.09e+19  1.09e+19  1.000224   1.97e+14\n",
      "CH3OX + HX <=> CH3OHX + X          :      2.10e+06  2.09e+06  1.001835   2.81e+04\n",
      "COX + HX <=> HCOX + X              :      7.44e+14  7.43e+14  1.000720   1.53e+06\n",
      "COX + HX <=> COHX + X              :      1.24e-02  1.23e-02  1.002884   1.07e-07\n",
      "HCOOX + X <=> HCOX + OX            :      2.15e-04  2.15e-04  1.003028   2.23e-09\n",
      "HCOX + HX <=> HCOHX + X            :      2.54e+08  2.54e+08  1.001548   1.01e+07\n",
      "HCOX + HX <=> CH2OX + X            :      2.00e+15  2.00e+15  1.000638   2.47e+11\n",
      "CH2OX + HX <=> CH2OHX + X          :      4.37e+11  4.36e+11  1.001393   9.31e+09\n",
      "HCOHX + HX <=> CH2OHX + X          :      4.62e+14  4.62e+14  1.000696   1.61e+11\n",
      "CH2OHX + HX <=> CH3OHX + X         :      1.07e+16  1.07e+16  1.000565   1.36e+11\n",
      "HCOOHX + X <=> HCOX + OHX          :      1.06e+08  1.06e+08  1.001567   1.85e-01\n",
      "HCOOHX + X <=> HCOHX + OX          :      7.82e-10  7.79e-10  1.003634   1.45e-11\n",
      "CH3O2X + X <=> CH2OHX + OX         :      4.51e-03  4.50e-03  1.003029   2.12e-04\n",
      "CO2X + OX <=> CO3X + X             :      4.78e+16  4.78e+16  1.000358   8.77e+11\n",
      "CO3X + HX <=> HCO3X + X            :      3.68e+10  3.68e+10  1.001307   2.23e+06\n",
      "HCOX + OX <=> COX + OHX            :      3.45e+20  3.45e+20  1.000000   3.45e+16\n",
      "HCOX + OHX <=> COX + H2OX          :      6.18e+12  6.18e+12  1.000989   2.47e+13\n",
      "HCOOX + HCOX <=> COX + HCOOHX      :      2.01e+14  2.01e+14  1.000969   4.23e+11\n",
      "HCOOX + HCOX <=> COX + H2CO2X      :      9.41e+05  9.40e+05  1.001806   5.44e+07\n",
      "HCOOHX + HCOX <=> CH3O2X + COX     :      1.93e+13  1.93e+13  1.000765   7.71e+10\n",
      "CH2OX + HCOX <=> CH3OX + COX       :      3.45e+20  3.45e+20  1.000000   3.45e+16\n",
      "CH3OX + HCOX <=> CH3OHX + COX      :      4.70e+10  4.69e+10  1.001171   7.30e+11\n",
      "CH3OX + HCOOX <=> HCOOCH3X + OX    :      5.63e-05  5.61e-05  1.003030   2.84e+02\n",
      "CH2OX + CH3OX <=> CH2OOCH3X + X    :      2.03e+14  2.03e+14  1.000900   9.75e+15\n",
      "HCOOCH3X + HX <=> CH2OOCH3X + X    :      1.76e+10  1.76e+10  1.001213   8.43e+05\n",
      "2 CH2OX <=> HCOOCH3X + X           :      1.74e+04  1.74e+04  1.002268   2.34e+06\n"
     ]
    }
   ],
   "source": [
    "print(\"{:30s}            {:7s}    {:7s}    {:7s}   {:7s} \".format(\"reaction\",\"cantera\",\"matlab\",\"A/B\", \"supp data\"))\n",
    "\n",
    "for index, rxn in enumerate(surf.reactions()):\n",
    "    k_cantera = surf.forward_rate_constants[index]\n",
    "    \n",
    "    rxn_type = rxn_dict[rxn.equation.replace(\" \", \"\")].rtype \n",
    "    \n",
    "    # sticking coeff rxns\n",
    "    if rxn_type == 0: \n",
    "        if rxn.equation.replace(\" \", \"\") == \"H2+2X<=>2HX\":\n",
    "            k_matlab = rxn_dict[rxn.equation.replace(\" \", \"\")].kfwd*((R*temp*1e3)/1.0132e5)/site_density\n",
    "        else:\n",
    "            k_matlab = rxn_dict[rxn.equation.replace(\" \", \"\")].kfwd*((R*temp*1e3)/1.0132e5)\n",
    "    # surface rxns\n",
    "    else: \n",
    "        k_matlab = rxn_dict[rxn.equation.replace(\" \", \"\")].kfwd/site_density\n",
    "    \n",
    "    k_diff = (k_cantera/k_matlab)\n",
    "    k_supp_data = surf_old.forward_rate_constants[index]\n",
    "\n",
    "    print(f\"{rxn.equation:35s}:      {k_cantera:4.2e}  {k_matlab:4.2e}  {k_diff:4.6f}   {k_supp_data :4.2e}\")"
   ]
  },
  {
   "cell_type": "markdown",
   "id": "231e1cce",
   "metadata": {},
   "source": [
    "### reverse rates $k_{rev}$"
   ]
  },
  {
   "cell_type": "code",
   "execution_count": 100,
   "id": "2e925b62",
   "metadata": {},
   "outputs": [
    {
     "name": "stdout",
     "output_type": "stream",
     "text": [
      "reaction                                  cantera    matlab     A/B       supp data \n",
      "CO2 + X <=> CO2X                   :      3.18e+15  5.56e+15  0.572591   4.16e+09\n",
      "H2 + 2 X <=> 2 HX                  :      1.10e+14  1.92e+14  0.573281   6.70e+17\n",
      "CO + X <=> COX                     :      3.79e+14  6.61e+14  0.572664   5.21e+09\n",
      "H2O + X <=> H2OX                   :      6.61e+12  1.15e+13  0.572804   6.50e+09\n",
      "HCOOH + X <=> HCOOHX               :      1.68e+08  2.94e+08  0.573124   4.07e+09\n",
      "CH2O + X <=> CH2OX                 :      4.37e+11  7.62e+11  0.572877   5.03e+09\n",
      "CH3OH + X <=> CH3OHX               :      8.94e+11  1.56e+12  0.572852   4.87e+09\n",
      "HCOOCH3 + X <=> HCOOCH3X           :      1.12e+16  1.95e+16  0.572534   3.56e+09\n",
      "COX + OX <=> CO2X + X              :      5.68e+01  5.67e+01  1.002289   6.91e+08\n",
      "COX + OHX <=> COOHX + X            :      1.88e+17  1.88e+17  1.000246   2.34e+09\n",
      "COOHX + X <=> CO2X + HX            :      1.16e+05  1.16e+05  1.002030   1.21e+04\n",
      "COOHX + OHX <=> CO2X + H2OX        :      1.44e+18  1.44e+18  1.000305   3.45e+16\n",
      "COOHX + HX <=> HCOOHX + X          :      1.37e+08  1.37e+08  1.001695   5.76e+09\n",
      "H2OX + X <=> HX + OHX              :      3.67e+08  3.67e+08  1.001297   1.61e+00\n",
      "OHX + X <=> HX + OX                :      6.27e+21  6.27e+21  0.999881   2.33e-01\n",
      "2 OHX <=> H2OX + OX                :      3.53e+18  3.53e+18  1.000154   2.53e+09\n",
      "CO2X + HX <=> HCOOX + X            :      1.40e+10  1.40e+10  1.001403   1.08e+08\n",
      "HCOOX + HX <=> H2CO2X + X          :      3.48e+19  3.48e+19  1.000199   3.44e+00\n",
      "HCOOX + HX <=> HCOOHX + X          :      3.93e+16  3.93e+16  1.000646   1.47e+08\n",
      "HCOOHX + HX <=> CH3O2X + X         :      1.14e+15  1.14e+15  1.000931   3.11e+07\n",
      "H2CO2X + HX <=> CH3O2X + X         :      9.30e+06  9.29e+06  1.001652   1.41e+08\n",
      "H2CO2X + X <=> CH2OX + OX          :      1.18e+20  1.18e+20  1.000060   1.13e+07\n",
      "CH3O2X + X <=> CH2OX + OHX         :      2.06e+19  2.06e+19  1.000157   6.67e+08\n",
      "CH2OX + HX <=> CH3OX + X           :      3.93e+08  3.92e+08  1.001563   1.97e+14\n",
      "CH3OX + HX <=> CH3OHX + X          :      3.58e+09  3.57e+09  1.001420   2.81e+04\n",
      "COX + HX <=> HCOX + X              :      7.63e+17  7.63e+17  1.000334   1.53e+06\n",
      "COX + HX <=> COHX + X              :      1.84e+10  1.84e+10  1.001322   1.07e-07\n",
      "HCOOX + X <=> HCOX + OX            :      1.24e+18  1.24e+18  1.000236   2.23e-09\n",
      "HCOX + HX <=> HCOHX + X            :      1.83e+16  1.83e+16  1.000540   1.01e+07\n",
      "HCOX + HX <=> CH2OX + X            :      2.12e+14  2.12e+14  1.000763   2.47e+11\n",
      "CH2OX + HX <=> CH2OHX + X          :      4.11e+17  4.10e+17  1.000627   9.31e+09\n",
      "HCOHX + HX <=> CH2OHX + X          :      6.40e+11  6.40e+11  1.001062   1.61e+11\n",
      "CH2OHX + HX <=> CH3OHX + X         :      7.01e+02  6.99e+02  1.002256   1.36e+11\n",
      "HCOOHX + X <=> HCOX + OHX          :      8.25e+13  8.25e+13  1.000811   1.85e-01\n",
      "HCOOHX + X <=> HCOHX + OX          :      4.74e+15  4.74e+15  1.000453   1.45e-11\n",
      "CH3O2X + X <=> CH2OHX + OX         :      2.84e+16  2.84e+16  1.000616   2.12e-04\n",
      "CO2X + OX <=> CO3X + X             :      1.01e+18  1.01e+18  1.000188   8.77e+11\n",
      "CO3X + HX <=> HCO3X + X            :      3.52e+00  3.51e+00  1.002593   2.23e+06\n",
      "HCOX + OX <=> COX + OHX            :      3.12e+06  3.11e+06  1.001801   3.45e+16\n",
      "HCOX + OHX <=> COX + H2OX          :      7.74e+12  7.73e+12  1.000976   2.47e+13\n",
      "HCOOX + HCOX <=> COX + HCOOHX      :      1.34e+16  1.34e+16  1.000735   4.23e+11\n",
      "HCOOX + HCOX <=> COX + H2CO2X      :      5.05e+19  5.05e+19  1.000046   5.44e+07\n",
      "HCOOHX + HCOX <=> CH3O2X + COX     :      2.51e+13  2.51e+13  1.000750   7.71e+10\n",
      "CH2OX + HCOX <=> CH3OX + COX       :      1.21e+07  1.21e+07  1.001725   3.45e+16\n",
      "CH3OX + HCOX <=> CH3OHX + COX      :      7.82e+10  7.81e+10  1.001143   7.30e+11\n",
      "CH3OX + HCOOX <=> HCOOCH3X + OX    :      6.00e+18  6.00e+18  1.000075   2.84e+02\n",
      "CH2OX + CH3OX <=> CH2OOCH3X + X    :      3.98e+18  3.98e+18  1.000350   9.75e+15\n",
      "HCOOCH3X + HX <=> CH2OOCH3X + X    :      1.99e+12  1.99e+12  1.000950   8.43e+05\n",
      "2 CH2OX <=> HCOOCH3X + X           :      1.09e-04  1.09e-04  1.003322   2.34e+06\n"
     ]
    }
   ],
   "source": [
    "print(\"{:30s}            {:7s}    {:7s}    {:7s}   {:7s} \".format(\"reaction\",\"cantera\",\"matlab\",\"A/B\", \"supp data\"))\n",
    "\n",
    "for index, rxn in enumerate(surf.reactions()):\n",
    "    k_cantera = surf.reverse_rate_constants[index]\n",
    "    \n",
    "    rxn_type = rxn_dict[rxn.equation.replace(\" \", \"\")].rtype \n",
    "    \n",
    "    # sticking coeff rxns\n",
    "    if rxn_type == 0: \n",
    "        if rxn.equation.replace(\" \", \"\") == \"H2+2X<=>2HX\":\n",
    "            k_matlab = rxn_dict[rxn.equation.replace(\" \", \"\")].krev/site_density\n",
    "        else:\n",
    "            k_matlab = rxn_dict[rxn.equation.replace(\" \", \"\")].krev\n",
    "    # surface rxns\n",
    "    else: \n",
    "        k_matlab = rxn_dict[rxn.equation.replace(\" \", \"\")].krev/site_density\n",
    "    \n",
    "    k_diff = (k_cantera/k_matlab)\n",
    "    k_supp_data = surf_old.forward_rate_constants[index]\n",
    "\n",
    "    print(f\"{rxn.equation:35s}:      {k_cantera:4.2e}  {k_matlab:4.2e}  {k_diff:4.6f}   {k_supp_data :4.2e}\")"
   ]
  },
  {
   "cell_type": "markdown",
   "id": "17a19b1d",
   "metadata": {},
   "source": [
    "## Equilibrium constant\n",
    "cantera kinetic eq"
   ]
  },
  {
   "cell_type": "code",
   "execution_count": 125,
   "id": "af9fbe53",
   "metadata": {},
   "outputs": [
    {
     "name": "stdout",
     "output_type": "stream",
     "text": [
      "9.9797775173135e-07 9.9797775173135e-07\n"
     ]
    }
   ],
   "source": [
    "kfwd = surf.forward_rate_constants[0]\n",
    "krev = surf.reverse_rate_constants[0]\n",
    "keq =kfwd/krev\n",
    "print(keq, surf.equilibrium_constants[0])"
   ]
  },
  {
   "cell_type": "markdown",
   "id": "2003dcc1",
   "metadata": {},
   "source": [
    "cantera thermodynamic keq (from van't hoff)"
   ]
  },
  {
   "cell_type": "code",
   "execution_count": 139,
   "id": "3c00ff12",
   "metadata": {},
   "outputs": [
    {
     "data": {
      "text/plain": [
       "3.74308101376586e-12"
      ]
     },
     "execution_count": 139,
     "metadata": {},
     "output_type": "execute_result"
    }
   ],
   "source": [
    "dH = surf.delta_standard_enthalpy[0] * 1e-3 # J/kmol to J/mol\n",
    "dS = surf.delta_standard_entropy[0] * 1e-3 # J/kmol/K yo J/mol/K\n",
    "\n",
    "keq = np.exp(-(dH/(R*temp))+(dS/R))\n",
    "keq"
   ]
  },
  {
   "cell_type": "code",
   "execution_count": 111,
   "id": "6159f108",
   "metadata": {},
   "outputs": [
    {
     "name": "stdout",
     "output_type": "stream",
     "text": [
      "39793858.07037128 139640498.8378423 3.509096770433836\n"
     ]
    }
   ],
   "source": [
    "kfwd = rxn_dict[\"CO2+X<=>CO2X\"].kfwd\n",
    "krev = rxn_dict[\"CO2+X<=>CO2X\"].krev\n",
    "keq = krev/kfwd\n",
    "print(keq, rxn_dict[\"CO2+X<=>CO2X\"].kfwd,1/keq*rxn_dict[\"CO2+X<=>CO2X\"].kfwd) "
   ]
  },
  {
   "cell_type": "code",
   "execution_count": 102,
   "id": "c212bfcd",
   "metadata": {},
   "outputs": [
    {
     "data": {
      "text/plain": [
       "9.9797775173135e-07"
      ]
     },
     "execution_count": 102,
     "metadata": {},
     "output_type": "execute_result"
    }
   ],
   "source": [
    "surf.forward_rate_constants[0]\n",
    "surf.reverse_rate_constants[0]\n",
    "surf.equilibrium_constants[0]"
   ]
  },
  {
   "cell_type": "code",
   "execution_count": 142,
   "id": "256b1872",
   "metadata": {},
   "outputs": [
    {
     "data": {
      "text/plain": [
       "4019.819"
      ]
     },
     "execution_count": 142,
     "metadata": {},
     "output_type": "execute_result"
    }
   ],
   "source": [
    "R*temp"
   ]
  },
  {
   "cell_type": "code",
   "execution_count": 140,
   "id": "203deb16",
   "metadata": {},
   "outputs": [
    {
     "name": "stdout",
     "output_type": "stream",
     "text": [
      "reaction                                  cantera    matlab     diff       supp data  \n",
      "CO2 + X <=> CO2X                   :      9.98e-07,  2.5130e-08,  39.71   9.99e-07\n",
      "H2 + 2 X <=> 2 HX                  :      2.60e-01,  6.5452e-03,  39.69   1.01e-02\n",
      "CO + X <=> COX                     :      1.38e-05,  3.4653e-07,  39.71   2.28e+03\n",
      "H2O + X <=> H2OX                   :      9.83e-04,  2.4772e-05,  39.70   9.83e-04\n",
      "HCOOH + X <=> HCOOHX               :      2.41e+01,  6.0851e-01,  39.68   4.28e-05\n",
      "CH2O + X <=> CH2OX                 :      1.06e-02,  2.6773e-04,  39.69   2.61e-06\n",
      "CH3OH + X <=> CH3OHX               :      5.45e-03,  1.3725e-04,  39.69   2.02e-05\n",
      "HCOOCH3 + X <=> HCOOCH3X           :      1.12e-07,  2.8120e-09,  39.72   1.12e-07\n",
      "COX + OX <=> CO2X + X              :      4.83e+11,  4.8392e+11,  1.00   3.11e+09\n",
      "COX + OHX <=> COOHX + X            :      1.20e-04,  1.1992e-04,  1.00   1.36e-05\n",
      "COOHX + X <=> CO2X + HX            :      3.74e+04,  3.7382e+04,  1.00   1.09e+07\n",
      "COOHX + OHX <=> CO2X + H2OX        :      2.91e+01,  2.9122e+01,  1.00   6.71e+08\n",
      "COOHX + HX <=> HCOOHX + X          :      6.34e+06,  6.3455e+06,  1.00   1.03e+07\n",
      "H2OX + X <=> HX + OHX              :      1.28e+03,  1.2837e+03,  1.00   1.63e-02\n",
      "OHX + X <=> HX + OX                :      9.28e-12,  9.2634e-12,  1.00   4.79e-08\n",
      "2 OHX <=> H2OX + OX                :      7.23e-15,  7.2165e-15,  1.00   2.94e-06\n",
      "CO2X + HX <=> HCOOX + X            :      1.16e+07,  1.1648e+07,  1.00   3.52e+02\n",
      "HCOOX + HX <=> H2CO2X + X          :      1.82e-17,  1.8125e-17,  1.00   1.16e-10\n",
      "HCOOX + HX <=> HCOOHX + X          :      1.46e-05,  1.4573e-05,  1.00   2.66e-03\n",
      "HCOOHX + HX <=> CH3O2X + X         :      7.49e-04,  7.4878e-04,  1.00   8.07e-04\n",
      "H2CO2X + HX <=> CH3O2X + X         :      6.01e+08,  6.0205e+08,  1.00   1.86e+04\n",
      "H2CO2X + X <=> CH2OX + OX          :      8.99e-05,  8.9850e-05,  1.00   4.96e-09\n",
      "CH3O2X + X <=> CH2OX + OHX         :      1.61e-02,  1.6111e-02,  1.00   5.57e-06\n",
      "CH2OX + HX <=> CH3OX + X           :      2.77e+10,  2.7738e+10,  1.00   1.52e+09\n",
      "CH3OX + HX <=> CH3OHX + X          :      5.86e-04,  5.8579e-04,  1.00   4.16e+00\n",
      "COX + HX <=> HCOX + X              :      9.75e-04,  9.7476e-04,  1.00   1.20e-09\n",
      "COX + HX <=> COHX + X              :      6.73e-13,  6.7177e-13,  1.00   3.70e-14\n",
      "HCOOX + X <=> HCOX + OX            :      1.73e-22,  1.7293e-22,  1.00   1.10e-21\n",
      "HCOX + HX <=> HCOHX + X            :      1.39e-08,  1.3860e-08,  1.00   3.66e-02\n",
      "HCOX + HX <=> CH2OX + X            :      9.42e+00,  9.4171e+00,  1.00   5.22e+02\n",
      "CH2OX + HX <=> CH2OHX + X          :      1.06e-06,  1.0621e-06,  1.00   3.97e-01\n",
      "HCOHX + HX <=> CH2OHX + X          :      7.21e+02,  7.2166e+02,  1.00   5.66e+03\n",
      "CH2OHX + HX <=> CH3OHX + X         :      1.53e+13,  1.5299e+13,  1.00   1.59e+10\n",
      "HCOOHX + X <=> HCOX + OHX          :      1.28e-06,  1.2810e-06,  1.00   8.62e-12\n",
      "HCOOHX + X <=> HCOHX + OX          :      1.65e-25,  1.6446e-25,  1.00   1.51e-20\n",
      "CH3O2X + X <=> CH2OHX + OX         :      1.59e-19,  1.5851e-19,  1.00   1.06e-13\n",
      "CO2X + OX <=> CO3X + X             :      4.73e-02,  4.7339e-02,  1.00   2.81e-02\n",
      "CO3X + HX <=> HCO3X + X            :      1.04e+10,  1.0458e+10,  1.00   5.29e+10\n",
      "HCOX + OX <=> COX + OHX            :      1.11e+14,  1.1075e+14,  1.00   1.74e+16\n",
      "HCOX + OHX <=> COX + H2OX          :      7.99e-01,  7.9920e-01,  1.00   5.10e+10\n",
      "HCOOX + HCOX <=> COX + HCOOHX      :      1.50e-02,  1.4950e-02,  1.00   2.21e+06\n",
      "HCOOX + HCOX <=> COX + H2CO2X      :      1.86e-14,  1.8594e-14,  1.00   9.60e-02\n",
      "HCOOHX + HCOX <=> CH3O2X + COX     :      7.68e-01,  7.6817e-01,  1.00   6.71e+05\n",
      "CH2OX + HCOX <=> CH3OX + COX       :      2.84e+13,  2.8456e+13,  1.00   1.26e+18\n",
      "CH3OX + HCOX <=> CH3OHX + COX      :      6.01e-01,  6.0096e-01,  1.00   3.45e+09\n",
      "CH3OX + HCOOX <=> HCOOCH3X + OX    :      9.38e-24,  9.3547e-24,  1.00   9.98e-13\n",
      "CH2OX + CH3OX <=> CH2OOCH3X + X    :      5.09e-05,  5.0853e-05,  1.00   7.81e+04\n",
      "HCOOCH3X + HX <=> CH2OOCH3X + X    :      8.85e-03,  8.8526e-03,  1.00   4.49e-02\n",
      "2 CH2OX <=> HCOOCH3X + X           :      1.59e+08,  1.5934e+08,  1.00   2.64e+15\n"
     ]
    }
   ],
   "source": [
    "print(\"{:30s}            {:7s}    {:7s}    {:7s}    {:7s}  \".format(\"reaction\",\"cantera\",\"matlab\",\"diff\",\"supp data\"))\n",
    "\n",
    "for index, rxn in enumerate(surf.reactions()):\n",
    "    K_cantera = surf.equilibrium_constants[index]\n",
    "    K_matlab = rxn_dict[rxn.equation.replace(\" \", \"\")].Keq\n",
    "    K_diff = K_cantera/K_matlab\n",
    "    K_supp_data = surf_old.equilibrium_constants[index]\n",
    "    \n",
    "    if K_cantera !=0:\n",
    "        print(f\"{rxn.equation:35s}:      {K_cantera:4.2e},  {K_matlab:4.4e},  {K_diff:4.2f}   {K_supp_data:4.2e}\")"
   ]
  },
  {
   "cell_type": "markdown",
   "id": "0d44c682",
   "metadata": {},
   "source": [
    "### forward rate constant A factors $A_{fwd}$"
   ]
  },
  {
   "cell_type": "code",
   "execution_count": 32,
   "id": "615de57e",
   "metadata": {},
   "outputs": [
    {
     "name": "stdout",
     "output_type": "stream",
     "text": [
      "reaction                                  cantera    matlab     diff       supp data  \n",
      "CO2 + X <=> CO2X                   :      1.00e+00,  3.4483e+07,  2.90e-08   1.00e+00\n",
      "H2 + 2 X <=> 2 HX                  :      1.00e+00,  3.4483e+07,  2.90e-08   1.00e+00\n",
      "CO + X <=> COX                     :      1.00e+00,  3.4483e+07,  2.90e-08   1.00e+00\n",
      "H2O + X <=> H2OX                   :      1.00e+00,  3.4483e+07,  2.90e-08   1.00e+00\n",
      "HCOOH + X <=> HCOOHX               :      1.00e+00,  3.4483e+07,  2.90e-08   1.00e+00\n",
      "CH2O + X <=> CH2OX                 :      1.00e+00,  3.4483e+07,  2.90e-08   1.00e+00\n",
      "CH3OH + X <=> CH3OHX               :      1.00e+00,  3.4483e+07,  2.90e-08   1.00e+00\n",
      "HCOOCH3 + X <=> HCOOCH3X           :      1.00e+00,  3.4483e+07,  2.90e-08   1.00e+00\n",
      "COX + OX <=> CO2X + X              :      3.99e+19,  3.9889e+19,  1.00e+00   4.12e+15\n",
      "COX + OHX <=> COOHX + X            :      1.56e+19,  1.5584e+19,  1.00e+00   1.61e+15\n",
      "COOHX + X <=> CO2X + HX            :      7.77e+20,  7.7660e+20,  1.00e+00   8.02e+16\n",
      "COOHX + OHX <=> CO2X + H2OX        :      3.45e+20,  3.4483e+20,  1.00e+00   3.45e+16\n",
      "COOHX + HX <=> HCOOHX + X          :      2.27e+21,  2.2682e+21,  1.00e+00   2.34e+17\n",
      "H2OX + X <=> HX + OHX              :      4.79e+18,  4.7933e+18,  1.00e+00   4.95e+14\n",
      "OHX + X <=> HX + OX                :      7.32e+20,  7.3209e+20,  1.00e+00   7.56e+16\n",
      "2 OHX <=> H2OX + OX                :      5.59e+19,  5.5934e+19,  1.00e+00   5.78e+15\n",
      "CO2X + HX <=> HCOOX + X            :      1.22e+21,  1.2214e+21,  1.00e+00   1.26e+17\n",
      "HCOOX + HX <=> H2CO2X + X          :      1.25e+21,  1.2478e+21,  1.00e+00   1.29e+17\n",
      "HCOOX + HX <=> HCOOHX + X          :      4.35e+21,  4.3463e+21,  1.00e+00   4.49e+17\n",
      "HCOOHX + HX <=> CH3O2X + X         :      2.08e+22,  2.0848e+22,  1.00e+00   2.15e+18\n",
      "H2CO2X + HX <=> CH3O2X + X         :      7.06e+19,  7.0588e+19,  1.00e+00   7.29e+15\n",
      "H2CO2X + X <=> CH2OX + OX          :      3.45e+20,  3.4483e+20,  1.00e+00   3.45e+16\n",
      "CH3O2X + X <=> CH2OX + OHX         :      3.45e+20,  3.4483e+20,  1.00e+00   3.45e+16\n",
      "CH2OX + HX <=> CH3OX + X           :      6.06e+20,  6.0619e+20,  1.00e+00   6.26e+16\n",
      "CH3OX + HX <=> CH3OHX + X          :      4.27e+20,  4.2730e+20,  1.00e+00   4.41e+16\n",
      "COX + HX <=> HCOX + X              :      3.09e+20,  3.0854e+20,  1.00e+00   3.19e+16\n",
      "COX + HX <=> COHX + X              :      3.73e+20,  3.7329e+20,  1.00e+00   3.86e+16\n",
      "HCOOX + X <=> HCOX + OX            :      8.58e+19,  8.5830e+19,  1.00e+00   8.86e+15\n",
      "HCOX + HX <=> HCOHX + X            :      3.00e+20,  2.9955e+20,  1.00e+00   3.09e+16\n",
      "HCOX + HX <=> CH2OX + X            :      1.90e+20,  1.8982e+20,  1.00e+00   1.96e+16\n",
      "CH2OX + HX <=> CH2OHX + X          :      3.18e+22,  3.1782e+22,  1.00e+00   3.28e+18\n",
      "HCOHX + HX <=> CH2OHX + X          :      1.23e+20,  1.2347e+20,  1.00e+00   1.28e+16\n",
      "CH2OHX + HX <=> CH3OHX + X         :      2.73e+20,  2.7345e+20,  1.00e+00   2.82e+16\n",
      "HCOOHX + X <=> HCOX + OHX          :      1.75e+20,  1.7504e+20,  1.00e+00   1.81e+16\n",
      "HCOOHX + X <=> HCOHX + OX          :      1.61e+19,  1.6121e+19,  1.00e+00   1.66e+15\n",
      "CH3O2X + X <=> CH2OHX + OX         :      1.83e+21,  1.8314e+21,  1.00e+00   1.89e+17\n",
      "CO2X + OX <=> CO3X + X             :      2.97e+19,  2.9725e+19,  1.00e+00   3.07e+15\n",
      "CO3X + HX <=> HCO3X + X            :      5.73e+20,  5.7321e+20,  1.00e+00   5.92e+16\n",
      "HCOX + OX <=> COX + OHX            :      3.45e+20,  3.4483e+20,  1.00e+00   3.45e+16\n",
      "HCOX + OHX <=> COX + H2OX          :      3.20e+20,  3.2045e+20,  1.00e+00   3.31e+16\n",
      "HCOOX + HCOX <=> COX + HCOOHX      :      7.35e+21,  7.3472e+21,  1.00e+00   7.59e+17\n",
      "HCOOX + HCOX <=> COX + H2CO2X      :      1.15e+20,  1.1491e+20,  1.00e+00   1.19e+16\n",
      "HCOOHX + HCOX <=> CH3O2X + COX     :      1.78e+19,  1.7831e+19,  1.00e+00   1.84e+15\n",
      "CH2OX + HCOX <=> CH3OX + COX       :      3.45e+20,  3.4483e+20,  1.00e+00   3.45e+16\n",
      "CH3OX + HCOX <=> CH3OHX + COX      :      6.46e+19,  6.4567e+19,  1.00e+00   6.67e+15\n",
      "CH3OX + HCOOX <=> HCOOCH3X + OX    :      2.32e+19,  2.3152e+19,  1.00e+00   2.39e+15\n",
      "CH2OX + CH3OX <=> CH2OOCH3X + X    :      2.14e+21,  2.1386e+21,  1.00e+00   2.21e+17\n",
      "HCOOCH3X + HX <=> CH2OOCH3X + X    :      5.13e+19,  5.1302e+19,  1.00e+00   5.30e+15\n",
      "2 CH2OX <=> HCOOCH3X + X           :      8.44e+21,  8.4393e+21,  1.00e+00   8.71e+17\n"
     ]
    }
   ],
   "source": [
    "print(\"{:30s}            {:7s}    {:7s}    {:7s}    {:7s}  \".format(\"reaction\",\"cantera\",\"matlab\",\"diff\",\"supp data\"))\n",
    "\n",
    "for index, rxn in enumerate(surf.reactions()):\n",
    "    A_cantera = surf.reactions()[index].rate.pre_exponential_factor\n",
    "    A_matlab = rxn_dict[rxn.equation.replace(\" \", \"\")].A_orig/(site_density)\n",
    "    A_diff = A_cantera/A_matlab\n",
    "    A_supp_data = surf_old.reactions()[index].rate.pre_exponential_factor\n",
    "    \n",
    "    if A_cantera !=0:\n",
    "        print(f\"{rxn.equation:35s}:      {A_cantera:4.2e},  {A_matlab:4.4e},  {A_diff:4.2e}   {A_supp_data:4.2e}\")"
   ]
  },
  {
   "cell_type": "markdown",
   "id": "c824dfbe",
   "metadata": {},
   "source": [
    "### forward rate constant activation energy  $E_{a,fwd}$"
   ]
  },
  {
   "cell_type": "code",
   "execution_count": 136,
   "id": "b3f38f7b",
   "metadata": {},
   "outputs": [
    {
     "name": "stdout",
     "output_type": "stream",
     "text": [
      "reaction                                  cantera    matlab     diff       supp data  \n",
      "CO2 + X <=> CO2X                   :      1.0836e+06,  1.0836e+06,  0.00   0.00e+00\n",
      "H2 + 2 X <=> 2 HX                  :      4.0442e+07,  4.0442e+07,  0.00   0.00e+00\n",
      "CO + X <=> COX                     :      0.0000e+00,  0.0000e+00,  0.00   0.00e+00\n",
      "H2O + X <=> H2OX                   :      0.0000e+00,  0.0000e+00,  0.00   0.00e+00\n",
      "HCOOH + X <=> HCOOHX               :      0.0000e+00,  0.0000e+00,  0.00   0.00e+00\n",
      "CH2O + X <=> CH2OX                 :      3.2767e+05,  3.2767e+05,  0.00   0.00e+00\n",
      "CH3OH + X <=> CH3OHX               :      0.0000e+00,  0.0000e+00,  0.00   0.00e+00\n",
      "HCOOCH3 + X <=> HCOOCH3X           :      4.2176e+06,  4.2176e+06,  0.00   0.00e+00\n",
      "COX + OX <=> CO2X + X              :      5.7041e+07,  5.7041e+07,  0.00   6.27e+07\n",
      "COX + OHX <=> COOHX + X            :      5.4045e+07,  5.4045e+07,  0.00   5.40e+07\n",
      "COOHX + X <=> CO2X + HX            :      1.0417e+08,  1.0417e+08,  0.00   1.19e+08\n",
      "COOHX + OHX <=> CO2X + H2OX        :      8.4768e+06,  8.4768e+06,  0.00   0.00e+00\n",
      "COOHX + HX <=> HCOOHX + X          :      5.9388e+07,  5.9388e+07,  0.00   7.04e+07\n",
      "H2OX + X <=> HX + OHX              :      6.4864e+07,  6.4864e+07,  0.00   1.34e+08\n",
      "OHX + X <=> HX + OX                :      9.3492e+07,  9.3492e+07,  0.00   1.62e+08\n",
      "2 OHX <=> H2OX + OX                :      1.4200e+08,  1.4200e+08,  0.00   5.89e+07\n",
      "CO2X + HX <=> HCOOX + X            :      3.5859e+07,  3.5859e+07,  0.00   8.39e+07\n",
      "HCOOX + HX <=> H2CO2X + X          :      1.6935e+08,  1.6935e+08,  0.00   1.53e+08\n",
      "HCOOX + HX <=> HCOOHX + X          :      9.1452e+07,  9.1452e+07,  0.00   8.78e+07\n",
      "HCOOHX + HX <=> CH3O2X + X         :      9.6150e+07,  9.6150e+07,  0.00   1.00e+08\n",
      "H2CO2X + HX <=> CH3O2X + X         :      3.7961e+07,  3.7961e+07,  0.00   7.14e+07\n",
      "H2CO2X + X <=> CH2OX + OX          :      4.1768e+07,  4.1768e+07,  0.00   8.78e+07\n",
      "CH3O2X + X <=> CH2OX + OHX         :      2.7918e+07,  2.7918e+07,  0.00   7.14e+07\n",
      "CH2OX + HX <=> CH3OX + X           :      1.6158e+07,  1.6158e+07,  0.00   2.32e+07\n",
      "CH3OX + HX <=> CH3OHX + X          :      1.3245e+08,  1.3245e+08,  0.00   1.13e+08\n",
      "COX + HX <=> HCOX + X              :      5.2002e+07,  5.2002e+07,  0.00   9.55e+07\n",
      "COX + HX <=> COHX + X              :      2.0808e+08,  2.0808e+08,  0.00   2.18e+08\n",
      "HCOOX + X <=> HCOX + OX            :      2.1846e+08,  2.1846e+08,  0.00   2.28e+08\n",
      "HCOX + HX <=> HCOHX + X            :      1.1174e+08,  1.1174e+08,  0.00   8.78e+07\n",
      "HCOX + HX <=> CH2OX + X            :      4.6075e+07,  4.6075e+07,  0.00   4.53e+07\n",
      "CH2OX + HX <=> CH2OHX + X          :      1.0055e+08,  1.0055e+08,  0.00   7.91e+07\n",
      "HCOHX + HX <=> CH2OHX + X          :      5.0235e+07,  5.0235e+07,  0.00   4.53e+07\n",
      "CH2OHX + HX <=> CH3OHX + X         :      4.0796e+07,  4.0796e+07,  0.00   4.92e+07\n",
      "HCOOHX + X <=> HCOX + OHX          :      1.1310e+08,  1.1310e+08,  0.00   1.57e+08\n",
      "HCOOHX + X <=> HCOHX + OX          :      2.6209e+08,  2.6209e+08,  0.00   2.41e+08\n",
      "CH3O2X + X <=> CH2OHX + OX         :      2.1853e+08,  2.1853e+08,  0.00   1.94e+08\n",
      "CO2X + OX <=> CO3X + X             :      2.5860e+07,  2.5860e+07,  0.00   3.28e+07\n",
      "CO3X + HX <=> HCO3X + X            :      9.4346e+07,  9.4346e+07,  0.00   9.65e+07\n",
      "HCOX + OX <=> COX + OHX            :      0.0000e+00,  0.0000e+00,  0.00   0.00e+00\n",
      "HCOX + OHX <=> COX + H2OX          :      7.1410e+07,  7.1410e+07,  0.00   2.89e+07\n",
      "HCOOX + HCOX <=> COX + HCOOHX      :      7.0006e+07,  7.0006e+07,  0.00   5.79e+07\n",
      "HCOOX + HCOX <=> COX + H2CO2X      :      1.3039e+08,  1.3039e+08,  0.00   7.72e+07\n",
      "HCOOHX + HCOX <=> CH3O2X + COX     :      5.5225e+07,  5.5225e+07,  0.00   4.05e+07\n",
      "CH2OX + HCOX <=> CH3OX + COX       :      0.0000e+00,  0.0000e+00,  0.00   0.00e+00\n",
      "CH3OX + HCOX <=> CH3OHX + COX      :      8.4587e+07,  8.4587e+07,  0.00   3.67e+07\n",
      "CH3OX + HCOOX <=> HCOOCH3X + OX    :      2.1858e+08,  2.1858e+08,  0.00   1.20e+08\n",
      "CH2OX + CH3OX <=> CH2OOCH3X + X    :      6.5011e+07,  6.5011e+07,  0.00   1.25e+07\n",
      "HCOOCH3X + HX <=> CH2OOCH3X + X    :      8.7603e+07,  8.7603e+07,  0.00   9.07e+07\n",
      "2 CH2OX <=> HCOOCH3X + X           :      1.6371e+08,  1.6371e+08,  0.00   1.07e+08\n"
     ]
    }
   ],
   "source": [
    "print(\"{:30s}            {:7s}    {:7s}    {:7s}    {:7s}  \".format(\"reaction\",\"cantera\",\"matlab\",\"diff\",\"supp data\"))\n",
    "\n",
    "for index, rxn in enumerate(surf.reactions()):\n",
    "    Ea_cantera = surf.reactions()[index].rate.activation_energy\n",
    "    Ea_matlab = rxn_dict[rxn.equation.replace(\" \", \"\")].Ea_corr\n",
    "    Ea_diff = Ea_cantera-Ea_matlab\n",
    "    Ea_supp_data = surf_old.reactions()[index].rate.activation_energy\n",
    "    \n",
    "\n",
    "    print(f\"{rxn.equation:35s}:      {Ea_cantera:4.4e},  {Ea_matlab:4.4e},  {Ea_diff:4.2f}   {Ea_supp_data:4.2e}\")"
   ]
  },
  {
   "cell_type": "markdown",
   "id": "4f0879b3",
   "metadata": {},
   "source": [
    "### create a sbr model and run it "
   ]
  },
  {
   "cell_type": "code",
   "execution_count": 35,
   "id": "c11d26ea",
   "metadata": {},
   "outputs": [
    {
     "data": {
      "text/plain": [
       "2.8999999999999998e-08"
      ]
     },
     "execution_count": 35,
     "metadata": {},
     "output_type": "execute_result"
    }
   ],
   "source": [
    "site_density"
   ]
  },
  {
   "cell_type": "code",
   "execution_count": 36,
   "id": "518585d6",
   "metadata": {},
   "outputs": [],
   "source": [
    "# create gas inlet\n",
    "inlet = ct.Reservoir(gas)\n",
    "\n",
    "# create gas outlet\n",
    "exhaust = ct.Reservoir(gas)\n",
    "\n",
    "# Reactor volume (divide by 2 per Graaf paper)\n",
    "rradius = 35e-3\n",
    "rlength = 70e-3\n",
    "rvol = (rradius ** 2) * math.pi * rlength/2\n",
    "\n",
    "# cat area calcs\n",
    "cat_weight = float(conditions[\"CatalystWeight\"])*1e-3 # [kg]\n",
    "cat_site_per_wt = 5*61.67*1e-6 # [kmol/kg] 1e-6mol/micromole, 1000g/kg, 1kmol/1000 mol\n",
    "cat_area = (cat_weight * cat_site_per_wt)/site_density  # [m^3]\n",
    "\n",
    "# reactor initialization\n",
    "r = ct.IdealGasReactor(gas, energy=\"off\")\n",
    "\n",
    "# calculate the available catalyst area in a differential reactor\n",
    "rsurf = ct.ReactorSurface(surf, r, A=cat_area)\n",
    "r.volume = rvol\n",
    "surf.coverages = \"X:1.0\"\n",
    "\n",
    "# flow controllers (Graaf measured flow at 293.15 and 1 atm)\n",
    "one_atm = ct.one_atm\n",
    "FC_temp = 293.15\n",
    "volume_flow = conditions[\"Flow\"] * 60 /(100**3)  #cm^3/min to [m^3/s]\n",
    "molar_flow = volume_flow * one_atm / (8.3145 * FC_temp)  # [mol/s]\n",
    "mass_flow = molar_flow * (\n",
    "    feed_moles[\"CO\"] * mw_co + feed_moles[\"CO2\"] * mw_co2 + feed_moles[\"H2\"] * mw_h2 + feed_moles[\"H2O\"] * mw_h2o\n",
    ")  # [kg/s]\n",
    "mfc = ct.MassFlowController(inlet, r, mdot=mass_flow)\n",
    "\n",
    "# A PressureController has a baseline mass flow rate matching the 'master'\n",
    "# MassFlowController, with an additional pressure-dependent term. By explicitly\n",
    "# including the upstream mass flow rate, the pressure is kept constant without\n",
    "# needing to use a large value for 'K', which can introduce undesired stiffness.\n",
    "outlet_mfc = ct.PressureController(r, exhaust, master=mfc, K=0.01)\n",
    "\n",
    "# initialize reactor network\n",
    "sim = ct.ReactorNet([r])"
   ]
  },
  {
   "cell_type": "code",
   "execution_count": 37,
   "id": "9d4528d6",
   "metadata": {
    "scrolled": true
   },
   "outputs": [
    {
     "data": {
      "text/plain": [
       "3.4322590648825023e-05"
      ]
     },
     "execution_count": 37,
     "metadata": {},
     "output_type": "execute_result"
    }
   ],
   "source": [
    "sim.step()"
   ]
  },
  {
   "cell_type": "code",
   "execution_count": 38,
   "id": "4f39ee59",
   "metadata": {},
   "outputs": [
    {
     "name": "stdout",
     "output_type": "stream",
     "text": [
      "9.9797775173135e-07\n",
      "0.25975046782687883\n",
      "1.3760066609580062e-05\n",
      "0.000983395789910983\n",
      "24.14313498630099\n",
      "0.010627048525670183\n",
      "0.00544791295410084\n",
      "1.1168594336945026e-07\n",
      "483196675871.04584\n",
      "0.00011997721007765995\n",
      "37360.341856386\n",
      "29.11634041561075\n",
      "6339947.355509078\n",
      "1283.140028008301\n",
      "9.276532325865087e-12\n",
      "7.22955571750543e-15\n",
      "11637438.845445897\n",
      "1.8163565084156e-17\n",
      "1.4582010224635443e-05\n",
      "0.0007490757130565206\n",
      "601370361.8319033\n",
      "8.989678554699858e-05\n",
      "0.016114486843942358\n",
      "27700968302.79264\n",
      "0.0005860332678789356\n",
      "0.0009751328640632994\n",
      "6.728178968353269e-13\n",
      "1.7341331630644503e-22\n",
      "1.3873536876338798e-08\n",
      "9.415921164075783\n",
      "1.0629121784424656e-06\n",
      "721.3947939706264\n",
      "15272841263032.975\n",
      "1.2819744890433963e-06\n",
      "1.6498795444242344e-25\n",
      "1.5889108314221684e-19\n",
      "0.04734657640928938\n",
      "10444182015.483343\n",
      "110547912053832.55\n",
      "0.7992122896470697\n",
      "0.014953870146457875\n",
      "1.8626759238263097e-14\n",
      "0.7681781023512864\n",
      "28407378444115.15\n",
      "0.6009778661719825\n",
      "9.382352569689868e-24\n",
      "5.088057315062785e-05\n",
      "0.008854937563649459\n",
      "159170082.67305103\n"
     ]
    }
   ],
   "source": [
    "for index, rxn in enumerate(surf.reactions()):\n",
    "    print(surf.equilibrium_constants[index])"
   ]
  },
  {
   "cell_type": "markdown",
   "id": "87ba52f1",
   "metadata": {},
   "source": [
    "## rate calculation scratchpad"
   ]
  },
  {
   "cell_type": "code",
   "execution_count": 39,
   "id": "d21cc042",
   "metadata": {},
   "outputs": [],
   "source": [
    "# rates are off consistently for the following sticking coefficient reactions:\n",
    "#                                           cantera   Matlab    Cantera/matlab\n",
    "# CO + X <=> COX                     :      5.30e+09  2.26e+08  23.4822   \n",
    "# H2O + X <=> H2OX                   :      6.60e+09  2.81e+08  23.4823   \n",
    "# HCOOH + X <=> HCOOHX               :      4.13e+09  1.76e+08  23.4822     \n",
    "# CH3OH + X <=> CH3OHX               :      4.95e+09  2.11e+08  23.4821  \n",
    "\n",
    "# why? changing the temp caused the value to change slightly, \n",
    "# but changing the pressure and number of sites had no effect. \n",
    "# plotted below to see if it was linear in T"
   ]
  },
  {
   "cell_type": "code",
   "execution_count": 40,
   "id": "e091e28a",
   "metadata": {},
   "outputs": [
    {
     "name": "stdout",
     "output_type": "stream",
     "text": [
      "21.14831946129361 2.7632327150886287\n"
     ]
    },
    {
     "data": {
      "image/png": "[encoded data removed]",
      "text/plain": [
       "<Figure size 432x288 with 1 Axes>"
      ]
     },
     "metadata": {
      "needs_background": "light"
     },
     "output_type": "display_data"
    }
   ],
   "source": [
    "y = [516.7, 483.5, 499.3]\n",
    "x = [24.3, 22.73, 23.482]\n",
    "\n",
    "plt.scatter(x, y)\n",
    "\n",
    "slope, intercept = np.polyfit(x, y, 1)\n",
    "print(slope, intercept)"
   ]
  },
  {
   "cell_type": "markdown",
   "id": "e26f360c",
   "metadata": {},
   "source": [
    "Here we calculate the cantera rate constant divided by the matlab one, by dividing thew the equation given in grabow's matlab file and the one given in the cantera documentation. "
   ]
  },
  {
   "cell_type": "markdown",
   "id": "9af024d3",
   "metadata": {},
   "source": [
    "## scratchpad\n",
    "checking calcs above"
   ]
  },
  {
   "cell_type": "code",
   "execution_count": 41,
   "id": "30b5247f",
   "metadata": {},
   "outputs": [
    {
     "name": "stdout",
     "output_type": "stream",
     "text": [
      "1.3900632363e+11\n",
      "4.7933e+18\n",
      "4.9517e+14\n",
      "2.8999999999999998e-08\n"
     ]
    }
   ],
   "source": [
    "kb = 1.3806503E-23\n",
    "Na = 6.0221415E23\n",
    "mamu = 1.66053886E-27\n",
    "h = 6.626068E-34\n",
    "R = 8.314\n",
    "\n",
    "dS_TS = 36.9904 + (-1)*72.6013\n",
    "\n",
    "A = (kb * temp / h) * np.exp(dS_TS/R)\n",
    "print(\"{:2.10e}\".format(A))\n",
    "\n",
    "A_calc = rxn_dict[\"H2OX+X<=>HX+OHX\"].arrhenius.pre_exponential_factor\n",
    "print(\"{:2.4e}\".format(A_calc))\n",
    "\n",
    "old_index = surf_old.reaction_equations().index(\"H2OX + X <=> HX + OHX\")\n",
    "A_old = surf_old.reactions()[old_index].rate.pre_exponential_factor\n",
    "print(\"{:2.4e}\".format(A_old))\n",
    "\n",
    "print(site_density)"
   ]
  },
  {
   "cell_type": "markdown",
   "id": "2b53c6e0",
   "metadata": {},
   "source": [
    "### activation energy: "
   ]
  },
  {
   "cell_type": "code",
   "execution_count": 42,
   "id": "ef25011c",
   "metadata": {},
   "outputs": [
    {
     "name": "stdout",
     "output_type": "stream",
     "text": [
      "6.4864275142e+01\n",
      "6.4864275142e+01\n",
      "1.3411e+02\n"
     ]
    }
   ],
   "source": [
    "kb = 1.3806503E-23\n",
    "Na = 6.0221415E23\n",
    "mamu = 1.66053886E-27\n",
    "h = 6.626068E-34\n",
    "R = 8.314\n",
    "\n",
    "dS_TS = 36.9904 + (-1)*72.6013\n",
    "\n",
    "Ea  = rxn_dict[\"H2OX+X<=>HX+OHX\"].EaDFT + rxn_dict[\"H2OX+X<=>HX+OHX\"].omega*(rxn_dict[\"H2OX+X<=>HX+OHX\"].deltaH - rxn_dict[\"H2OX+X<=>HX+OHX\"].dHDFT)\n",
    "print(\"{:2.10e}\".format(Ea))\n",
    "\n",
    "Ea_calc = rxn_dict[\"H2OX+X<=>HX+OHX\"].arrhenius.activation_energy/1e6\n",
    "print(\"{:2.10e}\".format(Ea_calc))\n",
    "\n",
    "old_index = surf_old.reaction_equations().index(\"H2OX + X <=> HX + OHX\")\n",
    "Ea_old = surf_old.reactions()[old_index].rate.activation_energy/1e6\n",
    "print(\"{:2.4e}\".format(Ea_old))\n"
   ]
  },
  {
   "cell_type": "markdown",
   "id": "13e0f9a8",
   "metadata": {},
   "source": [
    "## compare rates\n",
    "get last row of concentrations to check rates"
   ]
  },
  {
   "cell_type": "code",
   "execution_count": 43,
   "id": "7692fc05",
   "metadata": {},
   "outputs": [],
   "source": [
    "# load array of partial pressures. load species table to steal header line from that.\n",
    "partial_press = mat['Y']\n",
    "time = mat[\"T\"]\n",
    "pres = float(mat[\"ccondition\"][\"P\"])*ct.one_atm\n",
    "temp = float(mat[\"ccondition\"][\"T\"])"
   ]
  },
  {
   "cell_type": "code",
   "execution_count": 44,
   "id": "5d8d7d80",
   "metadata": {},
   "outputs": [],
   "source": [
    "# load reactions to dataframe \n",
    "reactions_df = pd.DataFrame(data = reactions[0])"
   ]
  },
  {
   "cell_type": "code",
   "execution_count": 45,
   "id": "a9351b32",
   "metadata": {},
   "outputs": [],
   "source": [
    "# Extract species names, remove unnecessary characters from column headers\n",
    "species_names = []\n",
    "translation = {39: None, 91: None, 93: None} # remove ', [, and ]\n",
    "\n",
    "for spec in range(len(species[0,:])):\n",
    "    species_string = str(species[0,spec][0])\n",
    "    species_string = species_string.translate(translation)\n",
    "    species_names.append(species_string)\n",
    "    \n",
    "# create data frame with species names as column headers\n",
    "species_df = pd.DataFrame(data=partial_press,columns=species_names)"
   ]
  },
  {
   "cell_type": "markdown",
   "id": "cff30813",
   "metadata": {},
   "source": [
    "not ideal, but get second to last row of dataframe with tail and head "
   ]
  },
  {
   "cell_type": "code",
   "execution_count": 46,
   "id": "e157e2af",
   "metadata": {},
   "outputs": [
    {
     "data": {
      "text/plain": [
       "{'COg': [0.9805628769086625],\n",
       " '*': [0.4901985375617578],\n",
       " 'CO': [1.665691211301099e-07],\n",
       " 'H2Og': [0.09810682419987207],\n",
       " 'H2O': [1.1913222067089352e-06],\n",
       " 'H2g': [10.005282850946571],\n",
       " 'H': [0.12544318412967226],\n",
       " 'CO2g': [3.902401456960474],\n",
       " 'CO2': [4.807152611791522e-08],\n",
       " 'OH': [0.0068832565444355625],\n",
       " 'O': [2.4916708446484075e-13],\n",
       " 'COOH': [2.844427861013008e-13],\n",
       " 'HCOOH': [5.343392358146183e-07],\n",
       " 'HCO': [4.153083924984366e-11],\n",
       " 'HCO2': [0.1432832562915144],\n",
       " 'H2CO2': [6.64404006099148e-19],\n",
       " 'CH3O2': [2.8983135606258465e-11],\n",
       " 'HCOH': [1.4666335303380674e-19],\n",
       " 'CH2O': [3.296477168401151e-11],\n",
       " 'CH3O': [0.23374262702649287],\n",
       " 'CH2OH': [8.913223147424606e-18],\n",
       " 'CH3OH': [7.64071796128115e-06],\n",
       " 'CH2Og': [2.5117604199221814e-07],\n",
       " 'CH3OHg': [0.11356930231018296],\n",
       " 'HCOOHg': [1.7913376118418204e-06],\n",
       " 'COH': [2.863451229914745e-20],\n",
       " 'CO3': [1.156701862233297e-21],\n",
       " 'HCO3': [3.062685914038287e-16],\n",
       " 'HCOOCH3g': [1.8390575641841663e-09],\n",
       " 'HCOOCH3': [2.5349886174369586e-18],\n",
       " 'CH2OOCH3': [7.99335053953343e-16]}"
      ]
     },
     "execution_count": 46,
     "metadata": {},
     "output_type": "execute_result"
    }
   ],
   "source": [
    "concentration_dict = species_df.tail(1).to_dict(orient='list')\n",
    "concentration_dict"
   ]
  },
  {
   "cell_type": "code",
   "execution_count": 47,
   "id": "6f2a0ccd",
   "metadata": {},
   "outputs": [
    {
     "data": {
      "text/plain": [
       "15.099925355678472"
      ]
     },
     "execution_count": 47,
     "metadata": {},
     "output_type": "execute_result"
    }
   ],
   "source": [
    "sum(list(v[0] for s,v in concentration_dict.items() if 'g' in s))\n"
   ]
  },
  {
   "cell_type": "code",
   "execution_count": 48,
   "id": "f1c0709b",
   "metadata": {},
   "outputs": [
    {
     "data": {
      "text/plain": [
       "15.099925980754998"
      ]
     },
     "execution_count": 48,
     "metadata": {},
     "output_type": "execute_result"
    }
   ],
   "source": [
    "pres/ct.one_atm"
   ]
  },
  {
   "cell_type": "code",
   "execution_count": 49,
   "id": "97c50585",
   "metadata": {},
   "outputs": [],
   "source": [
    "concentration_dict_gas = {}\n",
    "concentration_dict_surf = {}\n",
    "\n",
    "# go through each species and rename. \n",
    "# go through each activity for gas species, convert to mole fraction. \n",
    "\n",
    "for spec, activ in concentration_dict.items(): \n",
    "    \n",
    "    # rename, remove g, replace \"*\"\" with \"X\"\n",
    "    if \"g\" in spec:\n",
    "        mole_frac = float(activ[0]) / (pres/ct.one_atm)\n",
    "        new_spec = spec.replace(\"g\",\"\")\n",
    "        concentration_dict_gas[new_spec] = mole_frac\n",
    "        \n",
    "    elif \"*\" in spec:\n",
    "        new_spec = spec.replace(\"*\",\"X\")\n",
    "        mole_frac = float(activ[0])\n",
    "        concentration_dict_surf[new_spec] = mole_frac\n",
    "        \n",
    "    else:\n",
    "        new_spec = spec+\"X\"\n",
    "        \n",
    "        # hardcode rename of HCOOX to HCO2X because I am lazy\n",
    "        if new_spec == \"HCO2X\":\n",
    "            new_spec= \"HCOOX\"\n",
    "        \n",
    "        mole_frac = float(activ[0])\n",
    "        concentration_dict_surf[new_spec] = mole_frac\n",
    "\n",
    "\n"
   ]
  },
  {
   "cell_type": "code",
   "execution_count": 50,
   "id": "7caa10d6",
   "metadata": {},
   "outputs": [
    {
     "data": {
      "text/plain": [
       "({'CO': 0.06493825719135309,\n",
       "  'H2O': 0.006497172524217018,\n",
       "  'H2': 0.6626047613543538,\n",
       "  'CO2': 0.25843844942909805,\n",
       "  'CH2O': 1.6634256506445424e-08,\n",
       "  'CH3OH': 0.007521182716718488,\n",
       "  'HCOOH': 1.1863221145089701e-07,\n",
       "  'HCOOCH3': 1.2179248868690238e-10},\n",
       " 'mole fractions')"
      ]
     },
     "execution_count": 50,
     "metadata": {},
     "output_type": "execute_result"
    }
   ],
   "source": [
    "concentration_dict_gas, \"mole fractions\""
   ]
  },
  {
   "cell_type": "markdown",
   "id": "69f91ecd",
   "metadata": {},
   "source": [
    "## initialize reactor with second to last row of mole fractions\n",
    "step forward and get rate constants"
   ]
  },
  {
   "cell_type": "markdown",
   "id": "877c4471",
   "metadata": {},
   "source": [
    "### first, do a single calculation from matlab data, and see if this is how the rates were calculated\n",
    "\n",
    "do it for CO+X<=>COX\n",
    "\n",
    "turns out they were pretty close. "
   ]
  },
  {
   "cell_type": "code",
   "execution_count": 51,
   "id": "2f018c86",
   "metadata": {},
   "outputs": [
    {
     "name": "stdout",
     "output_type": "stream",
     "text": [
      "our calc: 1.1017e+08\n",
      "matlab value: 1.1017e+08\n"
     ]
    }
   ],
   "source": [
    "k_fwd = rxn_dict['CO+X<=>COX'].kfwd\n",
    "\n",
    "CO_P = concentration_dict[\"COg\"][0] # CO partial pressure\n",
    "X_C = concentration_dict[\"*\"][0]  # X surface fraction\n",
    "\n",
    "rate_rxn1 = k_fwd*CO_P*X_C \n",
    "rate_rxn_1_matlab = rxn_dict['CO+X<=>COX'].rfwd\n",
    "print(\"our calc: {:1.4e}\".format(rate_rxn1))\n",
    "print(\"matlab value: {:1.4e}\".format(rate_rxn_1_matlab))"
   ]
  },
  {
   "cell_type": "code",
   "execution_count": 52,
   "id": "3e43692c",
   "metadata": {},
   "outputs": [],
   "source": [
    "# get length of last timestep\n",
    "delta_T = float(time[-1]) - float(time[-2])"
   ]
  },
  {
   "cell_type": "code",
   "execution_count": 53,
   "id": "8311d45b",
   "metadata": {},
   "outputs": [],
   "source": [
    "# order is COg, CO2g, H2g, CH3OHg, H2Og, HCOOHg, CH2Og\n",
    "moles = conditions['molfrac'][0][0][0][0][1][0]\n",
    "\n",
    "feed_moles = {\"CO\":moles[0], \n",
    "              \"CO2\":moles[1], \n",
    "              \"H2\":moles[2], \n",
    "              \"CH3OH\":moles[3], \n",
    "              \"H2O\":moles[4], \n",
    "              \"HCOOH\":moles[5], \n",
    "              \"CH2O\":moles[6],}\n",
    "\n",
    "# initialize T and P\n",
    "gas.TPX = temp, pres, feed_moles\n",
    "surf.TP = temp, pres\n",
    "surf.coverages = {\"X\":1.0}\n",
    "\n",
    "\n",
    "\n",
    "# # initialize T and P\n",
    "# gas.TPX = temp, pres, concentration_dict_gas\n",
    "# surf.TP = temp, pres\n",
    "# surf.coverages = concentration_dict_surf\n",
    "\n",
    "# create gas inlet\n",
    "inlet = ct.Reservoir(gas)\n",
    "\n",
    "# create gas outlet\n",
    "exhaust = ct.Reservoir(gas)\n",
    "\n",
    "# Reactor volume (divide by 2 per Graaf paper)\n",
    "rradius = 35e-3\n",
    "rlength = 70e-3\n",
    "rvol = (rradius ** 2) * math.pi * rlength/2\n",
    "\n",
    "# cat area calcs\n",
    "cat_weight = float(conditions[\"CatalystWeight\"])*1e-3 # [kg]\n",
    "cat_site_per_wt = 5*61.67*1e-6 # [kmol/kg] 1e-6mol/micromole, 1000g/kg, 1kmol/1000 mol\n",
    "cat_area = (cat_weight * cat_site_per_wt)/site_density  # [m^2]\n",
    "\n",
    "\n",
    "# reactor initialization\n",
    "r = ct.IdealGasReactor(gas, energy=\"off\")\n",
    "\n",
    "# calculate the available catalyst area in a differential reactor\n",
    "rsurf = ct.ReactorSurface(surf, r, A=cat_area)\n",
    "r.volume = rvol\n",
    "\n",
    "\n",
    "# flow controllers (Graaf measured flow at 293.15 and 1 atm)\n",
    "one_atm = ct.one_atm\n",
    "FC_temp = 293.15\n",
    "volume_flow = conditions[\"Flow\"] * 60 /(100**3)  #cm^3/min to [m^3/s]\n",
    "molar_flow = volume_flow * one_atm / (8.3145 * FC_temp)  # [mol/s]\n",
    "mass_flow = molar_flow * (\n",
    "    feed_moles[\"CO\"] * mw_co + feed_moles[\"CO2\"] * mw_co2 + feed_moles[\"H2\"] * mw_h2 + feed_moles[\"H2O\"] * mw_h2o\n",
    ")  # [kg/s]\n",
    "mfc = ct.MassFlowController(inlet, r, mdot=mass_flow)\n",
    "\n",
    "# A PressureController has a baseline mass flow rate matching the 'master'\n",
    "# MassFlowController, with an additional pressure-dependent term. By explicitly\n",
    "# including the upstream mass flow rate, the pressure is kept constant without\n",
    "# needing to use a large value for 'K', which can introduce undesired stiffness.\n",
    "outlet_mfc = ct.PressureController(r, exhaust, master=mfc, K=0.01)\n",
    "\n",
    "\n",
    "sim.atol = 1e-6\n",
    "sim.rtol = 1e-3\n",
    "\n",
    "# initialize reactor network\n",
    "sim = ct.ReactorNet([r])\n",
    "sim.initialize()"
   ]
  },
  {
   "cell_type": "code",
   "execution_count": 54,
   "id": "95d4626d",
   "metadata": {
    "scrolled": true
   },
   "outputs": [
    {
     "data": {
      "text/plain": [
       "array([7.51830652e-04, 1.34695785e-04, 4.83500000e+02, 0.00000000e+00,\n",
       "       0.00000000e+00, 1.24142707e-01, 7.83207347e-01, 9.26499458e-02,\n",
       "       0.00000000e+00, 0.00000000e+00, 0.00000000e+00, 0.00000000e+00,\n",
       "       0.00000000e+00, 0.00000000e+00, 0.00000000e+00, 0.00000000e+00,\n",
       "       0.00000000e+00, 0.00000000e+00, 0.00000000e+00, 0.00000000e+00,\n",
       "       0.00000000e+00, 0.00000000e+00, 0.00000000e+00, 0.00000000e+00,\n",
       "       0.00000000e+00, 0.00000000e+00, 0.00000000e+00, 0.00000000e+00,\n",
       "       0.00000000e+00, 0.00000000e+00, 0.00000000e+00, 0.00000000e+00,\n",
       "       0.00000000e+00, 1.00000000e+00])"
      ]
     },
     "execution_count": 54,
     "metadata": {},
     "output_type": "execute_result"
    }
   ],
   "source": [
    "sim.get_state()"
   ]
  },
  {
   "cell_type": "markdown",
   "id": "3210fac5",
   "metadata": {},
   "source": [
    "## advance sim by $\\Delta$T"
   ]
  },
  {
   "cell_type": "code",
   "execution_count": 55,
   "id": "76406ea6",
   "metadata": {},
   "outputs": [],
   "source": [
    "sim.advance_to_steady_state()"
   ]
  },
  {
   "cell_type": "markdown",
   "id": "63208a95",
   "metadata": {},
   "source": [
    "# match rates\n",
    "\n",
    "matlab rate units: $\\frac{mol}{site*s}$  \n",
    "\n",
    "cantera rate units: $\\frac{kmol}{m^{2}*s}$  \n",
    "\n",
    "multiplication factor: $\\frac{kmol}{m^{2}*s}*\\frac{10^{3}mol}{kmol}*\\frac{m^{2}}{2.9*10^{-5}mol_{site}}*\\frac{mole}{6.02*10^{23} sites}$\n"
   ]
  },
  {
   "cell_type": "markdown",
   "id": "e95cd139",
   "metadata": {},
   "source": [
    "### unconverted rates"
   ]
  },
  {
   "cell_type": "code",
   "execution_count": 56,
   "id": "03fe1fef",
   "metadata": {},
   "outputs": [
    {
     "name": "stdout",
     "output_type": "stream",
     "text": [
      "\n",
      "  surface1:\n",
      "\n",
      "       temperature   483.5 K\n",
      "          pressure   1.53e+06 Pa\n",
      "           density   2.2513e-06 kg/m^3\n",
      "  mean mol. weight   77.63 kg/kmol\n",
      "   phase of matter   unspecified\n",
      "\n",
      "                          1 kg             1 kmol     \n",
      "                     ---------------   ---------------\n",
      "          enthalpy       -3.8168e+08        -2.963e+10  J\n",
      "   internal energy       -3.8168e+08        -2.963e+10  J\n",
      "           entropy            612.45             47545  J/K\n",
      "    Gibbs function       -3.8197e+08       -2.9653e+10  J\n",
      " heat capacity c_p            351.41             27280  J/K\n",
      " heat capacity c_v            351.41             27280  J/K\n",
      "\n",
      "                      mass frac. Y      mole frac. X     chem. pot. / RT\n",
      "                     ---------------   ---------------   ---------------\n",
      "             CH2OX        4.0144e-11        3.3305e-11            -14992\n",
      "            CH3O2X        7.4294e-12        5.2157e-12            -25886\n",
      "            CH3OHX        3.3197e-09         2.696e-09            -15770\n",
      "             CH3OX           0.28974           0.23782            -15377\n",
      "              CO2X         6.718e-08        4.8489e-08            -24730\n",
      "             COOHX        4.3827e-14        3.1339e-14            -25117\n",
      "               COX        1.9637e-07         1.665e-07            -14222\n",
      "              H2OX        4.4519e-10        4.2373e-10            -11285\n",
      "            HCOOHX         7.738e-07        5.4823e-07            -25499\n",
      "             HCOOX           0.20369           0.14565            -25114\n",
      "              HCOX        4.9949e-11        4.1891e-11            -14607\n",
      "                HX           0.10499           0.12626           -385.05\n",
      "               OHX         0.0011959         0.0011525            -10894\n",
      "                OX        4.2439e-14        4.1417e-14            -10510\n",
      "                 X           0.40039           0.48912          -0.71514\n",
      "     [   +8 minor]         1.442e-15        9.0074e-16  \n",
      "\n"
     ]
    }
   ],
   "source": [
    "surf()"
   ]
  },
  {
   "cell_type": "code",
   "execution_count": 57,
   "id": "1448287f",
   "metadata": {},
   "outputs": [
    {
     "name": "stdout",
     "output_type": "stream",
     "text": [
      "reaction                                  cantera    matlab     diff     \n",
      "CO2 + X <=> CO2X                   :      4.4741e+00,  2.6713e+08,  1.6749e-08\n",
      "H2 + 2 X <=> 2 HX                  :      1.4781e-03,  8.7766e+04,  1.6842e-08\n",
      "CO + X <=> COX                     :      1.8288e+00,  1.1017e+08,  1.6600e-08\n",
      "H2O + X <=> H2OX                   :      8.1203e-05,  1.3744e+07,  5.9084e-12\n",
      "HCOOH + X <=> HCOOHX               :      2.6773e-06,  1.5700e+02,  1.7053e-08\n",
      "CH2O + X <=> CH2OX                 :      4.2167e-07,  2.5122e+01,  1.6785e-08\n",
      "CH3OH + X <=> CH3OHX               :      6.9929e-05,  1.1930e+07,  5.8618e-12\n",
      "HCOOCH3 + X <=> HCOOCH3X           :      2.2853e-13,  4.9420e-02,  4.6243e-12\n",
      "COX + OX <=> CO2X + X              :      1.5923e-22,  3.3020e-14,  4.8222e-09\n",
      "COX + OHX <=> COOHX + X            :      3.6468e-12,  7.5082e-04,  4.8571e-09\n",
      "COOHX + X <=> CO2X + HX            :      5.5880e-20,  1.7502e-11,  3.1927e-09\n",
      "COOHX + OHX <=> CO2X + H2OX        :      1.2716e-12,  2.3767e-03,  5.3503e-10\n",
      "COOHX + HX <=> HCOOHX + X          :      2.8973e-15,  9.0021e-07,  3.2185e-09\n",
      "H2OX + X <=> HX + OHX              :      8.2131e-14,  7.9728e-03,  1.0301e-11\n",
      "OHX + X <=> HX + OX                :      2.7560e-08,  5.6811e+00,  4.8511e-09\n",
      "2 OHX <=> H2OX + OX                :      2.8531e-17,  3.5027e-08,  8.1456e-10\n",
      "CO2X + HX <=> HCOOX + X            :      8.4064e-07,  2.8539e+01,  2.9456e-08\n",
      "HCOOX + HX <=> H2CO2X + X          :      9.7821e-15,  3.2892e-07,  2.9740e-08\n",
      "HCOOX + HX <=> HCOOHX + X          :      8.8653e-06,  2.9842e+02,  2.9708e-08\n",
      "HCOOHX + HX <=> CH3O2X + X         :      4.9748e-11,  1.6590e-03,  2.9987e-08\n",
      "H2CO2X + HX <=> CH3O2X + X         :      4.0549e-19,  1.3514e-11,  3.0006e-08\n",
      "H2CO2X + X <=> CH2OX + OX          :      2.9768e-18,  1.0006e-10,  2.9749e-08\n",
      "CH3O2X + X <=> CH2OX + OHX         :      7.1306e-10,  1.3688e-01,  5.2093e-09\n",
      "CH2OX + HX <=> CH3OX + X           :      3.8509e-08,  1.3056e+00,  2.9496e-08\n",
      "CH3OX + HX <=> CH3OHX + X          :      5.2951e-11,  1.7798e-03,  2.9751e-08\n",
      "COX + HX <=> HCOX + X              :      1.3150e-08,  4.5039e-01,  2.9197e-08\n",
      "COX + HX <=> COHX + X              :      2.1858e-25,  7.4704e-18,  2.9260e-08\n",
      "HCOOX + X <=> HCOX + OX            :      1.2909e-20,  4.3755e-13,  2.9503e-08\n",
      "HCOX + HX <=> HCOHX + X            :      1.1314e-18,  3.8370e-11,  2.9487e-08\n",
      "HCOX + HX <=> CH2OX + X            :      8.8913e-12,  3.0181e-04,  2.9460e-08\n",
      "CH2OX + HX <=> CH2OHX + X          :      1.5437e-15,  5.2276e-08,  2.9530e-08\n",
      "HCOHX + HX <=> CH2OHX + X          :      7.3255e-21,  2.4627e-13,  2.9746e-08\n",
      "CH2OHX + HX <=> CH3OHX + X         :      1.0317e-17,  3.4690e-10,  2.9740e-08\n",
      "HCOOHX + X <=> HCOX + OHX          :      2.3860e-14,  8.0243e-07,  2.9735e-08\n",
      "HCOOHX + X <=> HCOHX + OX          :      1.7639e-31,  5.9198e-24,  2.9796e-08\n",
      "CH3O2X + X <=> CH2OHX + OX         :      9.6811e-30,  1.8536e-21,  5.2230e-09\n",
      "CO2X + OX <=> CO3X + X             :      8.0734e-20,  1.6598e-11,  4.8640e-09\n",
      "CO3X + HX <=> HCO3X + X            :      7.5968e-28,  1.5467e-19,  4.9118e-09\n",
      "HCOX + OX <=> COX + OHX            :      5.0315e-19,  1.0348e-10,  4.8622e-09\n",
      "HCOX + OHX <=> COX + H2OX          :      2.5100e-16,  5.1198e-08,  4.9024e-09\n",
      "HCOOX + HCOX <=> COX + HCOOHX      :      1.0314e-12,  3.4653e-05,  2.9763e-08\n",
      "HCOOX + HCOX <=> COX + H2CO2X      :      4.8301e-21,  1.6215e-13,  2.9788e-08\n",
      "HCOOHX + HCOX <=> CH3O2X + COX     :      3.7231e-19,  1.2396e-11,  3.0035e-08\n",
      "CH2OX + HCOX <=> CH3OX + COX       :      4.0460e-16,  1.3691e-08,  2.9553e-08\n",
      "CH3OX + HCOX <=> CH3OHX + COX      :      3.9355e-16,  1.3208e-08,  2.9796e-08\n",
      "CH3OX + HCOOX <=> HCOOCH3X + OX    :      1.6402e-21,  5.4521e-14,  3.0083e-08\n",
      "CH2OX + CH3OX <=> CH2OOCH3X + X    :      1.3502e-12,  4.5253e-05,  2.9837e-08\n",
      "HCOOCH3X + HX <=> CH2OOCH3X + X    :      1.3216e-27,  1.6237e-16,  8.1392e-12\n",
      "2 CH2OX <=> HCOOCH3X + X           :      1.6241e-32,  5.4740e-25,  2.9668e-08\n"
     ]
    }
   ],
   "source": [
    "print(\"{:30s}            {:7s}    {:7s}    {:7s}  \".format(\"reaction\",\"cantera\",\"matlab\",\"diff\",))\n",
    "\n",
    "for index, rxn in enumerate(surf.reactions()):\n",
    "    r_cantera = surf.forward_rates_of_progress[index]\n",
    "    r_matlab = rxn_dict[rxn.equation.replace(\" \", \"\")].rfwd\n",
    "    r_diff = r_cantera/r_matlab\n",
    "    \n",
    "    if r_cantera !=0:\n",
    "        print(f\"{rxn.equation:35s}:      {r_cantera:4.4e},  {r_matlab:4.4e},  {r_diff:4.4e}\")"
   ]
  },
  {
   "cell_type": "markdown",
   "id": "2d12c54f",
   "metadata": {},
   "source": [
    "using units of mol/site/s for rate in matlab"
   ]
  },
  {
   "cell_type": "markdown",
   "id": "5c75eac6",
   "metadata": {},
   "source": [
    "### converted rates"
   ]
  },
  {
   "cell_type": "code",
   "execution_count": 58,
   "id": "b5f6ca8f",
   "metadata": {},
   "outputs": [
    {
     "name": "stdout",
     "output_type": "stream",
     "text": [
      "reaction                                  cantera    matlab     diff     \n",
      "CO2 + X <=> CO2X                   :      4.4741e+00,  7.7466e+00,  0.57755921\n",
      "H2 + 2 X <=> 2 HX                  :      1.4781e-03,  2.5452e-03,  0.58074558\n",
      "CO + X <=> COX                     :      1.8288e+00,  3.1948e+00,  0.57242593\n",
      "H2O + X <=> H2OX                   :      8.1203e-05,  3.9857e-01,  0.00020374\n",
      "HCOOH + X <=> HCOOHX               :      2.6773e-06,  4.5531e-06,  0.58801933\n",
      "CH2O + X <=> CH2OX                 :      4.2167e-07,  7.2854e-07,  0.57878551\n",
      "CH3OH + X <=> CH3OHX               :      6.9929e-05,  3.4596e-01,  0.00020213\n",
      "HCOOCH3 + X <=> HCOOCH3X           :      2.2853e-13,  1.4332e-09,  0.00015946\n",
      "COX + OX <=> CO2X + X              :      1.5923e-22,  9.5757e-22,  0.16628358\n",
      "COX + OHX <=> COOHX + X            :      3.6468e-12,  2.1774e-11,  0.16748641\n",
      "COOHX + X <=> CO2X + HX            :      5.5880e-20,  5.0756e-19,  0.11009392\n",
      "COOHX + OHX <=> CO2X + H2OX        :      1.2716e-12,  6.8924e-11,  0.01844915\n",
      "COOHX + HX <=> HCOOHX + X          :      2.8973e-15,  2.6106e-14,  0.11098295\n",
      "H2OX + X <=> HX + OHX              :      8.2131e-14,  2.3121e-10,  0.00035522\n",
      "OHX + X <=> HX + OX                :      2.7560e-08,  1.6475e-07,  0.16728021\n",
      "2 OHX <=> H2OX + OX                :      2.8531e-17,  1.0158e-15,  0.02808823\n",
      "CO2X + HX <=> HCOOX + X            :      8.4064e-07,  8.2762e-07,  1.01572603\n",
      "HCOOX + HX <=> H2CO2X + X          :      9.7821e-15,  9.5388e-15,  1.02551104\n",
      "HCOOX + HX <=> HCOOHX + X          :      8.8653e-06,  8.6540e-06,  1.02440594\n",
      "HCOOHX + HX <=> CH3O2X + X         :      4.9748e-11,  4.8111e-11,  1.03402449\n",
      "H2CO2X + HX <=> CH3O2X + X         :      4.0549e-19,  3.9190e-19,  1.03468646\n",
      "H2CO2X + X <=> CH2OX + OX          :      2.9768e-18,  2.9018e-18,  1.02581619\n",
      "CH3O2X + X <=> CH2OX + OHX         :      7.1306e-10,  3.9696e-09,  0.17962971\n",
      "CH2OX + HX <=> CH3OX + X           :      3.8509e-08,  3.7862e-08,  1.01709777\n",
      "CH3OX + HX <=> CH3OHX + X          :      5.2951e-11,  5.1614e-11,  1.02590820\n",
      "COX + HX <=> HCOX + X              :      1.3150e-08,  1.3061e-08,  1.00679536\n",
      "COX + HX <=> COHX + X              :      2.1858e-25,  2.1664e-25,  1.00897281\n",
      "HCOOX + X <=> HCOX + OX            :      1.2909e-20,  1.2689e-20,  1.01735714\n",
      "HCOX + HX <=> HCOHX + X            :      1.1314e-18,  1.1127e-18,  1.01678248\n",
      "HCOX + HX <=> CH2OX + X            :      8.8913e-12,  8.7525e-12,  1.01585881\n",
      "CH2OX + HX <=> CH2OHX + X          :      1.5437e-15,  1.5160e-15,  1.01828648\n",
      "HCOHX + HX <=> CH2OHX + X          :      7.3255e-21,  7.1417e-21,  1.02573089\n",
      "CH2OHX + HX <=> CH3OHX + X         :      1.0317e-17,  1.0060e-17,  1.02553409\n",
      "HCOOHX + X <=> HCOX + OHX          :      2.3860e-14,  2.3271e-14,  1.02534643\n",
      "HCOOHX + X <=> HCOHX + OX          :      1.7639e-31,  1.7167e-31,  1.02746309\n",
      "CH3O2X + X <=> CH2OHX + OX         :      9.6811e-30,  5.3753e-29,  0.18010426\n",
      "CO2X + OX <=> CO3X + X             :      8.0734e-20,  4.8135e-19,  0.16772367\n",
      "CO3X + HX <=> HCO3X + X            :      7.5968e-28,  4.4853e-27,  0.16937209\n",
      "HCOX + OX <=> COX + OHX            :      5.0315e-19,  3.0010e-18,  0.16766185\n",
      "HCOX + OHX <=> COX + H2OX          :      2.5100e-16,  1.4848e-15,  0.16904866\n",
      "HCOOX + HCOX <=> COX + HCOOHX      :      1.0314e-12,  1.0049e-12,  1.02631572\n",
      "HCOOX + HCOX <=> COX + H2CO2X      :      4.8301e-21,  4.7023e-21,  1.02717391\n",
      "HCOOHX + HCOX <=> CH3O2X + COX     :      3.7231e-19,  3.5949e-19,  1.03567293\n",
      "CH2OX + HCOX <=> CH3OX + COX       :      4.0460e-16,  3.9703e-16,  1.01906851\n",
      "CH3OX + HCOX <=> CH3OHX + COX      :      3.9355e-16,  3.8304e-16,  1.02744500\n",
      "CH3OX + HCOOX <=> HCOOCH3X + OX    :      1.6402e-21,  1.5811e-21,  1.03736126\n",
      "CH2OX + CH3OX <=> CH2OOCH3X + X    :      1.3502e-12,  1.3123e-12,  1.02884532\n",
      "HCOOCH3X + HX <=> CH2OOCH3X + X    :      1.3216e-27,  4.7088e-24,  0.00028066\n",
      "2 CH2OX <=> HCOOCH3X + X           :      1.6241e-32,  1.5875e-32,  1.02304950\n"
     ]
    }
   ],
   "source": [
    "print(\"{:30s}            {:7s}    {:7s}    {:7s}  \".format(\"reaction\",\"cantera\",\"matlab\",\"diff\",))\n",
    "\n",
    "for index, rxn in enumerate(surf.reactions()):\n",
    "    r_cantera = surf.forward_rates_of_progress[index]\n",
    "    r_matlab = rxn_dict[rxn.equation.replace(\" \", \"\")].rfwd * site_density\n",
    "    r_diff = r_cantera/r_matlab\n",
    "    \n",
    "    if r_cantera !=0:\n",
    "        print(f\"{rxn.equation:35s}:      {r_cantera:4.4e},  {r_matlab:4.4e},  {r_diff:4.8f}\")"
   ]
  },
  {
   "cell_type": "markdown",
   "id": "9ccec0c5",
   "metadata": {},
   "source": [
    "### converted reverse rates"
   ]
  },
  {
   "cell_type": "code",
   "execution_count": 59,
   "id": "6f3dfead",
   "metadata": {},
   "outputs": [
    {
     "name": "stdout",
     "output_type": "stream",
     "text": [
      "reaction                                  cantera    matlab     diff     \n",
      "CO2 + X <=> CO2X                   :      4.4741e+00,  7.7466e+00,  0.57755921\n",
      "H2 + 2 X <=> 2 HX                  :      1.4781e-03,  2.5452e-03,  0.58074554\n",
      "CO + X <=> COX                     :      1.8288e+00,  3.1948e+00,  0.57242593\n",
      "H2O + X <=> H2OX                   :      8.1203e-05,  3.9857e-01,  0.00020374\n",
      "HCOOH + X <=> HCOOHX               :      2.6773e-06,  4.5531e-06,  0.58801986\n",
      "CH2O + X <=> CH2OX                 :      4.2167e-07,  7.2854e-07,  0.57878597\n",
      "CH3OH + X <=> CH3OHX               :      6.9929e-05,  3.4596e-01,  0.00020213\n",
      "HCOOCH3 + X <=> HCOOCH3X           :      2.2853e-13,  1.4332e-09,  0.00015946\n",
      "COX + OX <=> CO2X + X              :      1.1333e-21,  1.1235e-21,  1.00876952\n",
      "COX + OHX <=> COOHX + X            :      2.4282e-12,  2.2082e-11,  0.10996231\n",
      "COOHX + X <=> CO2X + HX            :      5.9736e-19,  5.8721e-19,  1.01728259\n",
      "COOHX + OHX <=> CO2X + H2OX        :      2.4844e-14,  6.9227e-11,  0.00035888\n",
      "COOHX + HX <=> HCOOHX + X          :      3.0971e-14,  3.0201e-14,  1.02547771\n",
      "H2OX + X <=> HX + OHX              :      4.4937e-11,  2.6632e-10,  0.16873591\n",
      "OHX + X <=> HX + OX                :      2.7560e-08,  1.6475e-07,  0.16728021\n",
      "2 OHX <=> H2OX + OX                :      5.2146e-20,  8.8187e-16,  0.00005913\n",
      "CO2X + HX <=> HCOOX + X            :      8.4059e-07,  8.2759e-07,  1.01570822\n",
      "HCOOX + HX <=> H2CO2X + X          :      9.7789e-15,  9.5364e-15,  1.02542749\n",
      "HCOOX + HX <=> HCOOHX + X          :      8.8652e-06,  8.6540e-06,  1.02440427\n",
      "HCOOHX + HX <=> CH3O2X + X         :      2.4477e-12,  1.3619e-11,  0.17972745\n",
      "H2CO2X + HX <=> CH3O2X + X         :      1.9958e-20,  1.1096e-19,  0.17985687\n",
      "H2CO2X + X <=> CH2OX + OX          :      1.3679e-19,  8.1450e-19,  0.16794589\n",
      "CH3O2X + X <=> CH2OX + OHX         :      6.6576e-10,  3.9351e-09,  0.16918417\n",
      "CH2OX + HX <=> CH3OX + X           :      3.8456e-08,  3.7822e-08,  1.01678323\n",
      "CH3OX + HX <=> CH3OHX + X          :      3.9683e-15,  1.1255e-11,  0.00035257\n",
      "COX + HX <=> HCOX + X              :      1.3144e-08,  1.3055e-08,  1.00679104\n",
      "COX + HX <=> COHX + X              :      2.1858e-25,  2.1664e-25,  1.00897282\n",
      "HCOOX + X <=> HCOX + OX            :      1.8130e-21,  1.0811e-20,  0.16770137\n",
      "HCOX + HX <=> HCOHX + X            :      1.1265e-18,  1.1080e-18,  1.01672567\n",
      "HCOX + HX <=> CH2OX + X            :      2.9084e-12,  2.8828e-12,  1.00886865\n",
      "CH2OX + HX <=> CH2OHX + X          :      1.5334e-15,  1.5082e-15,  1.01675141\n",
      "HCOHX + HX <=> CH2OHX + X          :      2.3906e-21,  2.3502e-21,  1.01719397\n",
      "CH2OHX + HX <=> CH3OHX + X         :      7.7729e-22,  2.2028e-18,  0.00035287\n",
      "HCOOHX + X <=> HCOX + OHX          :      3.3509e-15,  1.9826e-14,  0.16901860\n",
      "HCOOHX + X <=> HCOHX + OX          :      2.4664e-32,  1.4563e-31,  0.16935805\n",
      "CH3O2X + X <=> CH2OHX + OX         :      8.9786e-30,  5.3010e-29,  0.16937541\n",
      "CO2X + OX <=> CO3X + X             :      8.0734e-20,  4.8135e-19,  0.16772367\n",
      "CO3X + HX <=> HCO3X + X            :      9.6959e-32,  4.4378e-31,  0.21848444\n",
      "HCOX + OX <=> COX + OHX            :      5.0337e-19,  3.0023e-18,  0.16766257\n",
      "HCOX + OHX <=> COX + H2OX          :      4.5895e-19,  1.2896e-15,  0.00035588\n",
      "HCOOX + HCOX <=> COX + HCOOHX      :      1.0318e-12,  1.0054e-12,  1.02631846\n",
      "HCOOX + HCOX <=> COX + H2CO2X      :      4.8307e-21,  4.7033e-21,  1.02709463\n",
      "HCOOHX + HCOX <=> CH3O2X + COX     :      1.8327e-20,  1.0181e-19,  0.18001474\n",
      "CH2OX + HCOX <=> CH3OX + COX       :      4.0422e-16,  3.9678e-16,  1.01875774\n",
      "CH3OX + HCOX <=> CH3OHX + COX      :      2.9506e-20,  8.3563e-17,  0.00035310\n",
      "CH3OX + HCOOX <=> HCOOCH3X + OX    :      1.4758e-31,  3.1876e-27,  0.00004630\n",
      "CH2OX + CH3OX <=> CH2OOCH3X + X    :      1.3502e-12,  1.3123e-12,  1.02884532\n",
      "HCOOCH3X + HX <=> CH2OOCH3X + X    :      6.7473e-19,  6.5542e-19,  1.02946259\n",
      "2 CH2OX <=> HCOOCH3X + X           :      3.1767e-41,  1.1393e-37,  0.00027883\n"
     ]
    }
   ],
   "source": [
    "print(\"{:30s}            {:7s}    {:7s}    {:7s}  \".format(\"reaction\",\"cantera\",\"matlab\",\"diff\",))\n",
    "\n",
    "for index, rxn in enumerate(surf.reactions()):\n",
    "    r_cantera = surf.reverse_rates_of_progress[index]\n",
    "    r_matlab = rxn_dict[rxn.equation.replace(\" \", \"\")].rrev * site_density\n",
    "    r_diff = r_cantera/r_matlab\n",
    "    \n",
    "    if r_cantera !=0:\n",
    "        print(f\"{rxn.equation:35s}:      {r_cantera:4.4e},  {r_matlab:4.4e},  {r_diff:4.8f}\")"
   ]
  },
  {
   "cell_type": "code",
   "execution_count": 60,
   "id": "874d5b4d",
   "metadata": {},
   "outputs": [],
   "source": [
    "species_dict[rxn_dict[rxn.equation.replace(\" \", \"\")].species[0]].AtomicMass\n",
    "m = sum(rxn_dict[rxn.equation.replace(\" \", \"\")].stoichiometry)"
   ]
  },
  {
   "cell_type": "code",
   "execution_count": 61,
   "id": "610e0d46",
   "metadata": {},
   "outputs": [
    {
     "name": "stdout",
     "output_type": "stream",
     "text": [
      "reaction                                  cantera    cant_obj    A/B    \n",
      "CO2 + X <=> CO2X                   :      3.18e+09  3.18e+09  1.0000e+00\n",
      "H2 + 2 X <=> 2 HX                  :      2.86e+13  2.86e+13  1.0006e+00\n",
      "CO + X <=> COX                     :      5.21e+09  5.21e+09  1.0000e+00\n",
      "H2O + X <=> H2OX                   :      6.50e+09  6.50e+09  1.0000e+00\n",
      "HCOOH + X <=> HCOOHX               :      4.07e+09  4.07e+09  1.0000e+00\n",
      "CH2O + X <=> CH2OX                 :      4.64e+09  4.64e+09  1.0000e+00\n",
      "CH3OH + X <=> CH3OHX               :      4.87e+09  4.87e+09  1.0000e+00\n",
      "HCOOCH3 + X <=> HCOOCH3X           :      1.25e+09  1.25e+09  1.0001e+00\n",
      "COX + OX <=> CO2X + X              :      2.75e+13  2.74e+13  1.0008e+00\n",
      "COX + OHX <=> COOHX + X            :      2.26e+13  2.26e+13  1.0007e+00\n",
      "COOHX + X <=> CO2X + HX            :      4.33e+09  4.33e+09  1.0014e+00\n",
      "COOHX + OHX <=> CO2X + H2OX        :      4.19e+19  4.19e+19  1.0001e+00\n",
      "COOHX + HX <=> HCOOHX + X          :      8.71e+14  8.70e+14  1.0008e+00\n",
      "H2OX + X <=> HX + OHX              :      4.71e+11  4.71e+11  1.0009e+00\n",
      "OHX + X <=> HX + OX                :      5.81e+10  5.81e+10  1.0013e+00\n",
      "2 OHX <=> H2OX + OX                :      2.55e+04  2.55e+04  1.0020e+00\n",
      "CO2X + HX <=> HCOOX + X            :      1.63e+17  1.63e+17  1.0005e+00\n",
      "HCOOX + HX <=> H2CO2X + X          :      6.33e+02  6.31e+02  1.0023e+00\n",
      "HCOOX + HX <=> HCOOHX + X          :      5.73e+11  5.73e+11  1.0013e+00\n",
      "HCOOHX + HX <=> CH3O2X + X         :      8.55e+11  8.53e+11  1.0013e+00\n",
      "H2CO2X + HX <=> CH3O2X + X         :      5.59e+15  5.59e+15  1.0005e+00\n",
      "H2CO2X + X <=> CH2OX + OX          :      1.06e+16  1.06e+16  1.0006e+00\n",
      "CH3O2X + X <=> CH2OX + OHX         :      3.32e+17  3.32e+17  1.0004e+00\n",
      "CH2OX + HX <=> CH3OX + X           :      1.09e+19  1.09e+19  1.0002e+00\n",
      "CH3OX + HX <=> CH3OHX + X          :      2.10e+06  2.09e+06  1.0018e+00\n",
      "COX + HX <=> HCOX + X              :      7.44e+14  7.43e+14  1.0007e+00\n",
      "COX + HX <=> COHX + X              :      1.24e-02  1.23e-02  1.0029e+00\n",
      "HCOOX + X <=> HCOX + OX            :      2.15e-04  2.15e-04  1.0030e+00\n",
      "HCOX + HX <=> HCOHX + X            :      2.54e+08  2.54e+08  1.0015e+00\n",
      "HCOX + HX <=> CH2OX + X            :      2.00e+15  2.00e+15  1.0006e+00\n",
      "CH2OX + HX <=> CH2OHX + X          :      4.37e+11  4.36e+11  1.0014e+00\n",
      "HCOHX + HX <=> CH2OHX + X          :      4.62e+14  4.62e+14  1.0007e+00\n",
      "CH2OHX + HX <=> CH3OHX + X         :      1.07e+16  1.07e+16  1.0006e+00\n",
      "HCOOHX + X <=> HCOX + OHX          :      1.06e+08  1.06e+08  1.0016e+00\n",
      "HCOOHX + X <=> HCOHX + OX          :      7.82e-10  7.79e-10  1.0036e+00\n",
      "CH3O2X + X <=> CH2OHX + OX         :      4.51e-03  4.50e-03  1.0030e+00\n",
      "CO2X + OX <=> CO3X + X             :      4.78e+16  4.78e+16  1.0004e+00\n",
      "CO3X + HX <=> HCO3X + X            :      3.68e+10  3.68e+10  1.0013e+00\n",
      "HCOX + OX <=> COX + OHX            :      3.45e+20  3.45e+20  1.0000e+00\n",
      "HCOX + OHX <=> COX + H2OX          :      6.18e+12  6.18e+12  1.0010e+00\n",
      "HCOOX + HCOX <=> COX + HCOOHX      :      2.01e+14  2.01e+14  1.0010e+00\n",
      "HCOOX + HCOX <=> COX + H2CO2X      :      9.41e+05  9.40e+05  1.0018e+00\n",
      "HCOOHX + HCOX <=> CH3O2X + COX     :      1.93e+13  1.93e+13  1.0008e+00\n",
      "CH2OX + HCOX <=> CH3OX + COX       :      3.45e+20  3.45e+20  1.0000e+00\n",
      "CH3OX + HCOX <=> CH3OHX + COX      :      4.70e+10  4.69e+10  1.0012e+00\n",
      "CH3OX + HCOOX <=> HCOOCH3X + OX    :      5.63e-05  5.61e-05  1.0030e+00\n",
      "CH2OX + CH3OX <=> CH2OOCH3X + X    :      2.03e+14  2.03e+14  1.0009e+00\n",
      "HCOOCH3X + HX <=> CH2OOCH3X + X    :      1.76e+10  1.76e+10  1.0012e+00\n",
      "2 CH2OX <=> HCOOCH3X + X           :      1.74e+04  1.74e+04  1.0023e+00\n"
     ]
    }
   ],
   "source": [
    "print(\"{:30s}            {:7s}    {:7s}    {:7s}\".format(\"reaction\",\"cantera\",\"cant_obj\",\"A/B\"))\n",
    "\n",
    "for index, rxn in enumerate(surf.reactions()):\n",
    "    k_cantera = surf.forward_rate_constants[index]\n",
    "    \n",
    "    rxn_type = rxn_dict[rxn.equation.replace(\" \", \"\")].rtype \n",
    "    \n",
    "    # sticking coeff rxns\n",
    "    if rxn_type == 0: \n",
    "        \n",
    "        # get W and m for cantera sticking coeff equation\n",
    "        # https://cantera.org/science/reactions.html\n",
    "        W = species_dict[rxn_dict[rxn.equation.replace(\" \", \"\")].species[0]].AtomicMass\n",
    "        m = rxn_dict[rxn.equation.replace(\" \", \"\")].stoichiometry[1]\n",
    "#         print(\"M\", m)\n",
    "        # calculate Kfwd\n",
    "        A_cantera = surf.reactions()[index].rate.pre_exponential_factor\n",
    "        Ea_cantera = surf.reactions()[index].rate.activation_energy\n",
    "        stick = A_cantera*np.exp(-Ea_cantera/(R*1e3*temp))\n",
    "        k_cantera_calc = (stick/site_density**-m)*np.sqrt(R*1e3*temp/(2*np.pi*W))\n",
    "        \n",
    "    # surface rxns\n",
    "    else: \n",
    "        k_cantera_calc = rxn_dict[rxn.equation.replace(\" \", \"\")].kfwd/site_density\n",
    "\n",
    "    k_diff = abs(k_cantera/k_cantera_calc)\n",
    "    k_supp_data = surf_old.forward_rate_constants[index]\n",
    "\n",
    "    print(f\"{rxn.equation:35s}:      {k_cantera:4.2e}  {k_cantera_calc:4.2e}  {k_diff:4.4e}\")"
   ]
  },
  {
   "cell_type": "markdown",
   "id": "77bfbef6",
   "metadata": {},
   "source": [
    "### calculate matlab rate to confirm we are doing it right"
   ]
  },
  {
   "cell_type": "code",
   "execution_count": 62,
   "id": "7c90d371",
   "metadata": {},
   "outputs": [
    {
     "name": "stdout",
     "output_type": "stream",
     "text": [
      "reaction                                  matlab     matlab_calc    A/B    \n",
      "CO2 + X <=> CO2X                   :      1.40e+08  1.40e+08  1.0000e+00\n",
      "H2 + 2 X <=> 2 HX                  :      3.65e+04  3.65e+04  1.0000e+00\n",
      "CO + X <=> COX                     :      2.29e+08  2.29e+08  1.0000e+00\n",
      "H2O + X <=> H2OX                   :      2.86e+08  2.86e+08  1.0000e+00\n",
      "HCOOH + X <=> HCOOHX               :      1.79e+08  1.79e+08  1.0000e+00\n",
      "CH2O + X <=> CH2OX                 :      2.04e+08  2.04e+08  1.0000e+00\n",
      "CH3OH + X <=> CH3OHX               :      2.14e+08  2.14e+08  1.0000e+00\n",
      "HCOOCH3 + X <=> HCOOCH3X           :      5.48e+07  5.48e+07  1.0000e+00\n",
      "COX + OX <=> CO2X + X              :      7.96e+05  7.96e+05  1.0000e+00\n",
      "COX + OHX <=> COOHX + X            :      6.55e+05  6.55e+05  1.0000e+00\n",
      "COOHX + X <=> CO2X + HX            :      1.26e+02  1.26e+02  1.0000e+00\n",
      "COOHX + OHX <=> CO2X + H2OX        :      1.21e+12  1.21e+12  1.0000e+00\n",
      "COOHX + HX <=> HCOOHX + X          :      2.52e+07  2.52e+07  1.0000e+00\n",
      "H2OX + X <=> HX + OHX              :      1.37e+04  1.37e+04  1.0000e+00\n",
      "OHX + X <=> HX + OX                :      1.68e+03  1.68e+03  1.0000e+00\n",
      "2 OHX <=> H2OX + OX                :      7.39e-04  7.39e-04  1.0000e+00\n",
      "CO2X + HX <=> HCOOX + X            :      4.73e+09  4.73e+09  1.0000e+00\n",
      "HCOOX + HX <=> H2CO2X + X          :      1.83e-05  1.83e-05  1.0000e+00\n",
      "HCOOX + HX <=> HCOOHX + X          :      1.66e+04  1.66e+04  1.0000e+00\n",
      "HCOOHX + HX <=> CH3O2X + X         :      2.48e+04  2.48e+04  1.0000e+00\n",
      "H2CO2X + HX <=> CH3O2X + X         :      1.62e+08  1.62e+08  1.0000e+00\n",
      "H2CO2X + X <=> CH2OX + OX          :      3.07e+08  3.07e+08  1.0000e+00\n",
      "CH3O2X + X <=> CH2OX + OHX         :      9.63e+09  9.63e+09  1.0000e+00\n",
      "CH2OX + HX <=> CH3OX + X           :      3.16e+11  3.16e+11  1.0000e+00\n",
      "CH3OX + HX <=> CH3OHX + X          :      6.07e-02  6.07e-02  1.0000e+00\n",
      "COX + HX <=> HCOX + X              :      2.16e+07  2.16e+07  1.0000e+00\n",
      "COX + HX <=> COHX + X              :      3.58e-10  3.58e-10  1.0000e+00\n",
      "HCOOX + X <=> HCOX + OX            :      6.23e-12  6.23e-12  1.0000e+00\n",
      "HCOX + HX <=> HCOHX + X            :      7.37e+00  7.37e+00  1.0000e+00\n",
      "HCOX + HX <=> CH2OX + X            :      5.79e+07  5.79e+07  1.0000e+00\n",
      "CH2OX + HX <=> CH2OHX + X          :      1.26e+04  1.26e+04  1.0000e+00\n",
      "HCOHX + HX <=> CH2OHX + X          :      1.34e+07  1.34e+07  1.0000e+00\n",
      "CH2OHX + HX <=> CH3OHX + X         :      3.10e+08  3.10e+08  1.0000e+00\n",
      "HCOOHX + X <=> HCOX + OHX          :      3.06e+00  3.06e+00  1.0000e+00\n",
      "HCOOHX + X <=> HCOHX + OX          :      2.26e-17  2.26e-17  1.0000e+00\n",
      "CH3O2X + X <=> CH2OHX + OX         :      1.30e-10  1.30e-10  1.0000e+00\n",
      "CO2X + OX <=> CO3X + X             :      1.39e+09  1.39e+09  1.0000e+00\n",
      "CO3X + HX <=> HCO3X + X            :      1.07e+03  1.07e+03  1.0000e+00\n",
      "HCOX + OX <=> COX + OHX            :      1.00e+13  1.00e+13  1.0000e+00\n",
      "HCOX + OHX <=> COX + H2OX          :      1.79e+05  1.79e+05  1.0000e+00\n",
      "HCOOX + HCOX <=> COX + HCOOHX      :      5.82e+06  5.82e+06  1.0000e+00\n",
      "HCOOX + HCOX <=> COX + H2CO2X      :      2.72e-02  2.72e-02  1.0000e+00\n",
      "HCOOHX + HCOX <=> CH3O2X + COX     :      5.59e+05  5.59e+05  1.0000e+00\n",
      "CH2OX + HCOX <=> CH3OX + COX       :      1.00e+13  1.00e+13  1.0000e+00\n",
      "CH3OX + HCOX <=> CH3OHX + COX      :      1.36e+03  1.36e+03  1.0000e+00\n",
      "CH3OX + HCOOX <=> HCOOCH3X + OX    :      1.63e-12  1.63e-12  1.0000e+00\n",
      "CH2OX + CH3OX <=> CH2OOCH3X + X    :      5.87e+06  5.87e+06  1.0000e+00\n",
      "HCOOCH3X + HX <=> CH2OOCH3X + X    :      5.11e+02  5.11e+02  1.0000e+00\n",
      "2 CH2OX <=> HCOOCH3X + X           :      5.04e-04  5.04e-04  1.0000e+00\n"
     ]
    }
   ],
   "source": [
    "print(\"{:30s}            {:7s}    {:7s}    {:7s}\".format(\"reaction\",\"matlab\",\"matlab_calc\",\"A/B\"))\n",
    "\n",
    "for index, rxn in enumerate(surf.reactions()):\n",
    "    k_matlab = rxn_dict[rxn.equation.replace(\" \", \"\")].kfwd\n",
    "    \n",
    "    rxn_type = rxn_dict[rxn.equation.replace(\" \", \"\")].rtype \n",
    "    \n",
    "    # sticking coeff rxns\n",
    "    if rxn_type == 0: \n",
    "        \n",
    "        # get W and m for cantera sticking coeff equation\n",
    "        # https://cantera.org/science/reactions.html\n",
    "        W = species_dict[rxn_dict[rxn.equation.replace(\" \", \"\")].species[0]].AtomicMass\n",
    "        m = sum(rxn_dict[rxn.equation.replace(\" \", \"\")].stoichiometry)\n",
    "        \n",
    "        # calculate Kfwd\n",
    "        stick = rxn_dict[rxn.equation.replace(\" \", \"\")].stickcoeff\n",
    "        Ea = rxn_dict[rxn.equation.replace(\" \", \"\")].Ea\n",
    "        k_matlab_calc = rxn_dict[rxn.equation.replace(\" \", \"\")].stickcoeff * 1.0123e6 *((2*np.pi*W*mamu*1e3*kb*10**7*temp)**(-0.5))*1e-15\n",
    "        k_matlab_calc = k_matlab_calc * np.exp(-Ea/(R*1e-3*temp))\n",
    "        \n",
    "    # surface rxns\n",
    "    else: \n",
    "        k_matlab_calc = rxn_dict[rxn.equation.replace(\" \", \"\")].kfwd\n",
    "\n",
    "    k_diff = abs(k_matlab/k_matlab_calc)\n",
    "    k_supp_data = surf_old.forward_rate_constants[index]\n",
    "\n",
    "    print(f\"{rxn.equation:35s}:      {k_matlab:4.2e}  {k_matlab_calc:4.2e}  {k_diff:4.4e}\")"
   ]
  },
  {
   "cell_type": "markdown",
   "id": "1560aee1",
   "metadata": {},
   "source": [
    "### compare mole fractions and site fractions"
   ]
  },
  {
   "cell_type": "code",
   "execution_count": 63,
   "id": "88c43053",
   "metadata": {},
   "outputs": [
    {
     "name": "stdout",
     "output_type": "stream",
     "text": [
      "species                                   cantera    matlab     A/B    \n",
      "CH2O                               :      1.68e-08  1.66e-08  1.0121\n",
      "CH3OH                              :      2.66e-06  7.52e-03  0.0004\n",
      "CO                                 :      6.50e-02  6.49e-02  1.0010\n",
      "CO2                                :      2.61e-01  2.58e-01  1.0099\n",
      "H2                                 :      6.74e-01  6.63e-01  1.0172\n",
      "H2O                                :      2.31e-06  6.50e-03  0.0004\n",
      "HCOOCH3                            :      3.40e-14  1.22e-10  0.0003\n",
      "HCOOH                              :      1.22e-07  1.19e-07  1.0282\n",
      "0.9999999999999999 0.9999999586040008\n"
     ]
    }
   ],
   "source": [
    "print(\"{:30s}            {:7s}    {:7s}    {:7s}\".format(\"species\",\"cantera\",\"matlab\",\"A/B\"))\n",
    "\n",
    "cant_total = 0 \n",
    "mat_total = 0 \n",
    "for spec in gas.species_names:\n",
    "    \n",
    "    index = gas.species_index(spec)\n",
    "    conc_cantera = gas.X[index]\n",
    "    conc_matlab = concentration_dict_gas[spec]\n",
    "    conc_diff = abs(conc_cantera/conc_matlab)\n",
    "    cant_total += conc_cantera\n",
    "    mat_total += conc_matlab\n",
    "\n",
    "    print(f\"{spec:35s}:      {conc_cantera:4.2e}  {conc_matlab:4.2e}  {conc_diff:4.4f}\")\n",
    "\n",
    "print(cant_total, mat_total)"
   ]
  },
  {
   "cell_type": "code",
   "execution_count": 64,
   "id": "9c75fb70",
   "metadata": {},
   "outputs": [
    {
     "name": "stdout",
     "output_type": "stream",
     "text": [
      "species                                   cantera    matlab     A/B    \n",
      "CH2OHX                             :      9.08e-18  8.91e-18  1.0183\n",
      "CH2OX                              :      3.33e-11  3.30e-11  1.0103\n",
      "CH3O2X                             :      5.22e-12  2.90e-11  0.1800\n",
      "CH3OHX                             :      2.70e-09  7.64e-06  0.0004\n",
      "CH3OX                              :      2.38e-01  2.34e-01  1.0174\n",
      "CO2X                               :      4.85e-08  4.81e-08  1.0087\n",
      "CO3X                               :      1.94e-22  1.16e-21  0.1681\n",
      "COHX                               :      2.89e-20  2.86e-20  1.0099\n",
      "COOHX                              :      3.13e-14  2.84e-13  0.1102\n",
      "COX                                :      1.66e-07  1.67e-07  0.9996\n",
      "H2CO2X                             :      6.83e-19  6.64e-19  1.0275\n",
      "CH2OOCH3X                          :      8.24e-16  7.99e-16  1.0307\n",
      "H2OX                               :      4.24e-10  1.19e-06  0.0004\n",
      "HCO3X                              :      6.69e-17  3.06e-16  0.2184\n",
      "HCOHX                              :      1.49e-19  1.47e-19  1.0184\n",
      "HCOOCH3X                           :      7.06e-22  2.53e-18  0.0003\n",
      "HCOOHX                             :      5.48e-07  5.34e-07  1.0260\n",
      "HCOOX                              :      1.46e-01  1.43e-01  1.0165\n",
      "HCOX                               :      4.19e-11  4.15e-11  1.0087\n",
      "HX                                 :      1.26e-01  1.25e-01  1.0065\n",
      "OHX                                :      1.15e-03  6.88e-03  0.1674\n",
      "OX                                 :      4.14e-14  2.49e-13  0.1662\n",
      "X                                  :      4.89e-01  4.90e-01  0.9978\n"
     ]
    }
   ],
   "source": [
    "print(\"{:30s}            {:7s}    {:7s}    {:7s}\".format(\"species\",\"cantera\",\"matlab\",\"A/B\"))\n",
    "\n",
    "for spec in surf.species_names:\n",
    "    index = surf.species_index(spec)\n",
    "    conc_cantera = surf.X[index]\n",
    "    conc_matlab = concentration_dict_surf[spec]\n",
    "    conc_diff = abs(conc_cantera/conc_matlab)\n",
    "\n",
    "    print(f\"{spec:35s}:      {conc_cantera:4.2e}  {conc_matlab:4.2e}  {conc_diff:4.4f}\")"
   ]
  },
  {
   "cell_type": "code",
   "execution_count": 65,
   "id": "e90adae7",
   "metadata": {},
   "outputs": [
    {
     "data": {
      "text/plain": [
       "2.8999999999999998e-08"
      ]
     },
     "execution_count": 65,
     "metadata": {},
     "output_type": "execute_result"
    }
   ],
   "source": [
    "site_density"
   ]
  },
  {
   "cell_type": "code",
   "execution_count": 66,
   "id": "78f905d9",
   "metadata": {},
   "outputs": [
    {
     "data": {
      "text/plain": [
       "1.1542548628832425e-05"
      ]
     },
     "execution_count": 66,
     "metadata": {},
     "output_type": "execute_result"
    }
   ],
   "source": [
    "# get meoh rate of production and tof\n",
    "surf.creation_rates[surf.n_species+gas.species_index(\"CH3OH\")]\n",
    "# gas.species_names[1]\n",
    "# gas.species_index(\"CH3OH\")\n",
    "# len(surf.creation_rates)"
   ]
  },
  {
   "cell_type": "code",
   "execution_count": 67,
   "id": "f41089be",
   "metadata": {},
   "outputs": [
    {
     "data": {
      "text/plain": [
       "['CH2O', 'CH3OH', 'CO', 'CO2', 'H2', 'H2O', 'HCOOCH3', 'HCOOH']"
      ]
     },
     "execution_count": 67,
     "metadata": {},
     "output_type": "execute_result"
    }
   ],
   "source": [
    "gas.species_names"
   ]
  },
  {
   "cell_type": "code",
   "execution_count": 68,
   "id": "a5716685",
   "metadata": {},
   "outputs": [
    {
     "data": {
      "text/plain": [
       "5.725996079748317e-20"
      ]
     },
     "execution_count": 68,
     "metadata": {},
     "output_type": "execute_result"
    }
   ],
   "source": [
    "1/(site_density*Na*10**3)"
   ]
  },
  {
   "cell_type": "code",
   "execution_count": 69,
   "id": "03772475",
   "metadata": {},
   "outputs": [
    {
     "data": {
      "text/plain": [
       "7.873371885666001e+20"
      ]
     },
     "execution_count": 69,
     "metadata": {},
     "output_type": "execute_result"
    }
   ],
   "source": [
    "sites_moles = float(conditions[\"Sites\"])\n",
    "total_sites = sites_moles*Na\n",
    "total_sites"
   ]
  },
  {
   "cell_type": "markdown",
   "id": "5781735b",
   "metadata": {},
   "source": [
    "# run supplementary data file "
   ]
  },
  {
   "cell_type": "code",
   "execution_count": 155,
   "id": "533612e7",
   "metadata": {},
   "outputs": [],
   "source": [
    "# order is COg, CO2g, H2g, CH3OHg, H2Og, HCOOHg, CH2Og\n",
    "\n",
    "# need to load in surface to get site density \n",
    "file = \"meohsurf.yaml\"\n",
    "\n",
    "gas = ct.Solution(file, \"gas\")\n",
    "surf = ct.Interface(file,\"surface1\", [gas])\n",
    "\n",
    "feed_moles = {\"CO\":moles[0], \n",
    "              \"CO2\":moles[1], \n",
    "              \"H2\":moles[2], \n",
    "              \"CH3OH\":moles[3], \n",
    "              \"H2O\":moles[4], \n",
    "              \"HCOOH\":moles[5], \n",
    "              \"CH2O\":moles[6],}\n",
    "\n",
    "# initialize T and P\n",
    "gas.TPX = temp, pres, feed_moles\n",
    "surf.TP = temp, pres\n",
    "surf.coverages = {\"X\":1.0}\n",
    "\n",
    "\n",
    "\n",
    "# # initialize T and P\n",
    "# gas.TPX = temp, pres, concentration_dict_gas\n",
    "# surf.TP = temp, pres\n",
    "# surf.coverages = concentration_dict_surf\n",
    "\n",
    "# create gas inlet\n",
    "inlet = ct.Reservoir(gas)\n",
    "\n",
    "# create gas outlet\n",
    "exhaust = ct.Reservoir(gas)\n",
    "\n",
    "# Reactor volume (divide by 2 per Graaf paper)\n",
    "rradius = 35e-3\n",
    "rlength = 70e-3\n",
    "rvol = (rradius ** 2) * math.pi * rlength/2\n",
    "\n",
    "# cat area calcs\n",
    "cat_weight = float(conditions[\"CatalystWeight\"])*1e-3 # [kg]\n",
    "cat_site_per_wt = 5*61.67*1e-6 # [kmol/kg] 1e-6mol/micromole, 1000g/kg, 1kmol/1000 mol\n",
    "cat_area = (cat_weight * cat_site_per_wt)/site_density  # [m^2]\n",
    "\n",
    "\n",
    "# reactor initialization\n",
    "r = ct.IdealGasReactor(gas, energy=\"off\")\n",
    "\n",
    "# calculate the available catalyst area in a differential reactor\n",
    "rsurf = ct.ReactorSurface(surf, r, A=cat_area)\n",
    "r.volume = rvol\n",
    "\n",
    "\n",
    "# flow controllers (Graaf measured flow at 293.15 and 1 atm)\n",
    "one_atm = ct.one_atm\n",
    "FC_temp = 293.15\n",
    "volume_flow = conditions[\"Flow\"] * 60 /(100**3)  #cm^3/min to [m^3/s]\n",
    "molar_flow = volume_flow * one_atm / (8.3145 * FC_temp)  # [mol/s]\n",
    "mass_flow = molar_flow * (\n",
    "    feed_moles[\"CO\"] * mw_co + feed_moles[\"CO2\"] * mw_co2 + feed_moles[\"H2\"] * mw_h2 + feed_moles[\"H2O\"] * mw_h2o\n",
    ")  # [kg/s]\n",
    "mfc = ct.MassFlowController(inlet, r, mdot=mass_flow)\n",
    "\n",
    "# A PressureController has a baseline mass flow rate matching the 'master'\n",
    "# MassFlowController, with an additional pressure-dependent term. By explicitly\n",
    "# including the upstream mass flow rate, the pressure is kept constant without\n",
    "# needing to use a large value for 'K', which can introduce undesired stiffness.\n",
    "outlet_mfc = ct.PressureController(r, exhaust, master=mfc, K=0.01)\n",
    "\n",
    "\n",
    "sim.atol = 1e-20\n",
    "sim.rtol = 1e-10\n",
    "\n",
    "# initialize reactor network\n",
    "sim = ct.ReactorNet([r])\n",
    "sim.initialize()"
   ]
  },
  {
   "cell_type": "code",
   "execution_count": 156,
   "id": "5d9b4dc8",
   "metadata": {},
   "outputs": [],
   "source": [
    "sim.advance_to_steady_state()"
   ]
  },
  {
   "cell_type": "code",
   "execution_count": 162,
   "id": "9e644663",
   "metadata": {},
   "outputs": [
    {
     "name": "stdout",
     "output_type": "stream",
     "text": [
      "\n",
      "  gas:\n",
      "\n",
      "       temperature   483.5 K\n",
      "          pressure   15.1 Pa\n",
      "           density   5.5087e-05 kg/m^3\n",
      "  mean mol. weight   14.666 kg/kmol\n",
      "   phase of matter   gas\n",
      "\n",
      "                      mass frac. Y      mole frac. X  \n",
      "                     ---------------   ---------------\n",
      "                CO           0.12414             0.065  \n",
      "               CO2           0.78321             0.261  \n",
      "                H2           0.09265             0.674  \n",
      "             HCOOH        3.5919e-12        1.1445e-12  \n",
      "     [   +4 minor]        3.8323e-16         1.889e-16  \n",
      "\n"
     ]
    }
   ],
   "source": [
    "gas([])"
   ]
  },
  {
   "cell_type": "code",
   "execution_count": 160,
   "id": "7de2446e",
   "metadata": {},
   "outputs": [
    {
     "name": "stdout",
     "output_type": "stream",
     "text": [
      "reaction                                  cantera    matlab     diff     \n",
      "CO2 + X <=> CO2X                   :      9.0204e-05,  7.7466e+00,  1.16442187e-05\n",
      "H2 + 2 X <=> 2 HX                  :      6.0877e-08,  2.5452e-03,  2.39182538e-05\n",
      "CO + X <=> COX                     :      3.6870e-05,  3.1948e+00,  1.15406826e-05\n",
      "H2O + X <=> H2OX                   :      3.0244e-21,  3.9857e-01,  7.58811914e-21\n",
      "HCOOH + X <=> HCOOHX               :      5.0647e-16,  4.5531e-06,  1.11237562e-10\n",
      "CH2O + X <=> CH2OX                 :      9.3228e-20,  7.2854e-07,  1.27965718e-13\n",
      "CH3OH + X <=> CH3OHX               :      6.5416e-27,  3.4596e-01,  1.89084418e-26\n",
      "HCOOCH3 + X <=> HCOOCH3X           :      5.1229e-43,  1.4332e-09,  3.57453418e-34\n",
      "COX + OX <=> CO2X + X              :      3.0178e-34,  9.5757e-22,  3.15149945e-13\n",
      "COX + OHX <=> COOHX + X            :      2.1713e-26,  2.1774e-11,  9.97218835e-16\n",
      "COOHX + X <=> CO2X + HX            :      2.9011e-31,  5.0756e-19,  5.71569610e-13\n",
      "COOHX + OHX <=> CO2X + H2OX        :      9.5438e-34,  6.8924e-11,  1.38468837e-23\n",
      "COOHX + HX <=> HCOOHX + X          :      4.7255e-29,  2.6106e-14,  1.81011054e-15\n",
      "H2OX + X <=> HX + OHX              :      6.4248e-30,  2.3121e-10,  2.77878643e-20\n",
      "OHX + X <=> HX + OX                :      1.6627e-17,  1.6475e-07,  1.00918790e-10\n",
      "2 OHX <=> H2OX + OX                :      2.4884e-36,  1.0158e-15,  2.44974988e-21\n",
      "CO2X + HX <=> HCOOX + X            :      1.0877e-13,  8.2762e-07,  1.31420230e-07\n",
      "HCOOX + HX <=> H2CO2X + X          :      3.9755e-24,  9.5388e-15,  4.16776956e-10\n",
      "HCOOX + HX <=> HCOOHX + X          :      3.6029e-15,  8.6540e-06,  4.16327833e-10\n",
      "HCOOHX + HX <=> CH3O2X + X         :      6.3114e-23,  4.8111e-11,  1.31184642e-12\n",
      "H2CO2X + HX <=> CH3O2X + X         :      5.1773e-31,  3.9190e-19,  1.32107096e-12\n",
      "H2CO2X + X <=> CH2OX + OX          :      1.2098e-27,  2.9018e-18,  4.16911519e-10\n",
      "CH3O2X + X <=> CH2OX + OHX         :      6.2898e-23,  3.9696e-09,  1.58449539e-14\n",
      "CH2OX + HX <=> CH3OX + X           :      5.6795e-23,  3.7862e-08,  1.50006762e-15\n",
      "CH3OX + HX <=> CH3OHX + X          :      2.4568e-28,  5.1614e-11,  4.75987262e-18\n",
      "COX + HX <=> HCOX + X              :      1.7014e-15,  1.3061e-08,  1.30264237e-07\n",
      "COX + HX <=> COHX + X              :      2.8282e-32,  2.1664e-25,  1.30545967e-07\n",
      "HCOOX + X <=> HCOX + OX            :      1.6700e-27,  1.2689e-20,  1.31611476e-07\n",
      "HCOX + HX <=> HCOHX + X            :      4.6009e-28,  1.1127e-18,  4.13476785e-10\n",
      "HCOX + HX <=> CH2OX + X            :      3.6157e-21,  8.7525e-12,  4.13101173e-10\n",
      "CH2OX + HX <=> CH2OHX + X          :      2.2768e-30,  1.5160e-15,  1.50182079e-15\n",
      "HCOHX + HX <=> CH2OHX + X          :      9.3992e-33,  7.1417e-21,  1.31610050e-12\n",
      "CH2OHX + HX <=> CH3OHX + X         :      4.7960e-35,  1.0060e-17,  4.76741009e-18\n",
      "HCOOHX + X <=> HCOX + OHX          :      9.6358e-24,  2.3271e-14,  4.14075714e-10\n",
      "HCOOHX + X <=> HCOHX + OX          :      7.1233e-41,  1.7167e-31,  4.14930504e-10\n",
      "CH3O2X + X <=> CH2OHX + OX         :      8.5396e-43,  5.3753e-29,  1.58868139e-14\n",
      "CO2X + OX <=> CO3X + X             :      1.5301e-31,  4.8135e-19,  3.17880478e-13\n",
      "CO3X + HX <=> HCO3X + X            :      4.5232e-42,  4.4853e-27,  1.00845007e-15\n",
      "HCOX + OX <=> COX + OHX            :      2.9971e-33,  3.0010e-18,  9.98714152e-16\n",
      "HCOX + OHX <=> COX + H2OX          :      4.6970e-33,  1.4848e-15,  3.16345541e-18\n",
      "HCOOX + HCOX <=> COX + HCOOHX      :      4.1387e-27,  1.0049e-12,  4.11835529e-15\n",
      "HCOOX + HCOX <=> COX + H2CO2X      :      1.9382e-35,  4.7023e-21,  4.12179901e-15\n",
      "HCOOHX + HCOX <=> CH3O2X + COX     :      4.6638e-36,  3.5949e-19,  1.29734138e-17\n",
      "CH2OX + HCOX <=> CH3OX + COX       :      5.8918e-36,  3.9703e-16,  1.48399005e-20\n",
      "CH3OX + HCOX <=> CH3OHX + COX      :      1.8029e-38,  3.8304e-16,  4.70679066e-23\n",
      "CH3OX + HCOOX <=> HCOOCH3X + OX    :      7.5092e-44,  1.5811e-21,  4.74937662e-23\n",
      "CH2OX + CH3OX <=> CH2OOCH3X + X    :      2.2433e-40,  1.3123e-12,  1.70939114e-28\n",
      "HCOOCH3X + HX <=> CH2OOCH3X + X    :      2.1803e-59,  4.7088e-24,  4.63034762e-36\n",
      "2 CH2OX <=> HCOOCH3X + X           :      8.5774e-58,  1.5875e-32,  5.40317846e-26\n"
     ]
    }
   ],
   "source": [
    "print(\"{:30s}            {:7s}    {:7s}    {:7s}  \".format(\"reaction\",\"cantera\",\"matlab\",\"diff\",))\n",
    "\n",
    "for index, rxn in enumerate(surf.reactions()):\n",
    "    r_cantera = surf.forward_rates_of_progress[index]\n",
    "    r_matlab = rxn_dict[rxn.equation.replace(\" \", \"\")].rfwd * site_density\n",
    "    r_diff = r_cantera/r_matlab\n",
    "    \n",
    "    if r_cantera !=0:\n",
    "        print(f\"{rxn.equation:35s}:      {r_cantera:4.4e},  {r_matlab:4.4e},  {r_diff:4.8e}\")"
   ]
  },
  {
   "cell_type": "code",
   "execution_count": null,
   "id": "0c471bec",
   "metadata": {},
   "outputs": [],
   "source": []
  }
 ],
 "metadata": {
  "kernelspec": {
   "display_name": "cantera",
   "language": "python",
   "name": "cantera"
  },
  "language_info": {
   "codemirror_mode": {
    "name": "ipython",
    "version": 3
   },
   "file_extension": ".py",
   "mimetype": "text/x-python",
   "name": "python",
   "nbconvert_exporter": "python",
   "pygments_lexer": "ipython3",
   "version": "3.9.7"
  }
 },
 "nbformat": 4,
 "nbformat_minor": 5
}
