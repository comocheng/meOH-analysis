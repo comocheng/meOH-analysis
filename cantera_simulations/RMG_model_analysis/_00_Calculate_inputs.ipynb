{
 "cells": [
  {
   "cell_type": "markdown",
   "metadata": {},
   "source": [
    "# Cantera Input parameter Calculations\n",
    "below are the formulas/derivations/miscellaneous notes for the input parameters used in the sbr.py cantera model. "
   ]
  },
  {
   "cell_type": "markdown",
   "metadata": {},
   "source": [
    "## Reactor Specifications"
   ]
  },
  {
   "cell_type": "markdown",
   "metadata": {},
   "source": [
    "### Reactor Volume\n",
    "\n"
   ]
  },
  {
   "cell_type": "code",
   "execution_count": null,
   "metadata": {},
   "outputs": [],
   "source": []
  },
  {
   "cell_type": "code",
   "execution_count": null,
   "metadata": {},
   "outputs": [],
   "source": []
  },
  {
   "cell_type": "code",
   "execution_count": null,
   "metadata": {},
   "outputs": [],
   "source": []
  },
  {
   "cell_type": "markdown",
   "metadata": {},
   "source": [
    "## Inlet Conditions"
   ]
  },
  {
   "cell_type": "markdown",
   "metadata": {},
   "source": [
    "### volume flowrate\n",
    "\n",
    "It does not look like Graaf had a flowrate measurement on the inlet of their apparatus:\n",
    "<img src=\"../images/input_calcs/flow_debacle.png\" width=400 height=400 />\n",
    "\n",
    "\n",
    "Further, in the Grabow matlab model, they use the volume (in cm^3/min) that grabow specifies as the outlet flowrate\n",
    "<img src=\"../images/input_calcs/matlab_flow_1.png\" width=600/>\n",
    "<img src=\"../images/input_calcs/matlab_flow_2.png\" width=600/>\n",
    "\n",
    "for ours, we'll copy grabow, although realistically the outlet volume flow could change depending on the stoichiometry: \n",
    "<img src=\"../images/input_calcs/fogler_flow.jpg\" width=300/>"
   ]
  },
  {
   "cell_type": "code",
   "execution_count": null,
   "metadata": {},
   "outputs": [],
   "source": []
  },
  {
   "cell_type": "code",
   "execution_count": null,
   "metadata": {},
   "outputs": [],
   "source": []
  },
  {
   "cell_type": "code",
   "execution_count": null,
   "metadata": {},
   "outputs": [],
   "source": []
  },
  {
   "cell_type": "code",
   "execution_count": null,
   "metadata": {},
   "outputs": [],
   "source": []
  },
  {
   "cell_type": "code",
   "execution_count": null,
   "metadata": {},
   "outputs": [],
   "source": []
  }
 ],
 "metadata": {
  "kernelspec": {
   "display_name": "rmg_env",
   "language": "python",
   "name": "rmg_env"
  },
  "language_info": {
   "codemirror_mode": {
    "name": "ipython",
    "version": 3
   },
   "file_extension": ".py",
   "mimetype": "text/x-python",
   "name": "python",
   "nbconvert_exporter": "python",
   "pygments_lexer": "ipython3",
   "version": "3.7.10"
  }
 },
 "nbformat": 4,
 "nbformat_minor": 2
}
