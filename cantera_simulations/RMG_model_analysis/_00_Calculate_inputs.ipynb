{
 "cells": [
  {
   "cell_type": "markdown",
   "metadata": {},
   "source": [
    "# Sample Calculations\n",
    "below are the formulas/derivations/miscellaneous notes for the input parameters used in the sbr.py cantera model, along with demonstrations of the calculations for Turn over frequency, residence time, etc. "
   ]
  },
  {
   "cell_type": "markdown",
   "metadata": {},
   "source": [
    "## Reactor Specifications"
   ]
  },
  {
   "cell_type": "markdown",
   "metadata": {},
   "source": [
    "### Reactor Volume\n",
    "\n",
    "<img src=\"../images/spinning_basket_reactor_Graff.png\" width=700 />\n",
    "\n",
    "spinning basket reactor radius and volume specified in Graaf paper: \n",
    "\n",
    "$r = 35mm$  \n",
    "\n",
    "$h = 70mm$\n",
    "\n",
    "pp63 graaf, 1988 \"The inner diameter and height of the reactor chamber were 70 mm\"\n",
    "\n",
    "\n",
    "\n",
    "Volume from grabow is 134.7E-6 m^3. this is pi\\*r^2\\*h/2, which I believe is because the baffles and machinery take up half of the reactor chamber but currently there is no justification for that to be found. "
   ]
  },
  {
   "cell_type": "code",
   "execution_count": 1,
   "metadata": {},
   "outputs": [
    {
     "data": {
      "text/plain": [
       "0.0001346957850226624"
      ]
     },
     "execution_count": 1,
     "metadata": {},
     "output_type": "execute_result"
    }
   ],
   "source": [
    "import numpy as np\n",
    "volume = ((35e-3)**2)*np.pi*(70e-3)/2\n",
    "volume"
   ]
  },
  {
   "cell_type": "markdown",
   "metadata": {},
   "source": [
    "### surface sites"
   ]
  },
  {
   "cell_type": "markdown",
   "metadata": {},
   "source": [
    "Grabow took the average of the sites from this paper:  \n",
    "Muhler, Cat. Lett. 14 (1992), 241\n",
    "\n",
    "<img src=\"../images/input_calcs/sites_paper.png\" width=700 />\n",
    "\n",
    "the following (same paper) is a justification for the factor of 5: \n",
    "\n",
    "<img src=\"../images/input_calcs/sites_paper_2.png\" width=700 />"
   ]
  },
  {
   "cell_type": "code",
   "execution_count": 2,
   "metadata": {},
   "outputs": [
    {
     "data": {
      "text/plain": [
       "0.0007648745146871203"
      ]
     },
     "execution_count": 2,
     "metadata": {},
     "output_type": "execute_result"
    }
   ],
   "source": [
    "1/(5*61.67*4.24)"
   ]
  },
  {
   "cell_type": "code",
   "execution_count": 3,
   "metadata": {},
   "outputs": [
    {
     "data": {
      "text/plain": [
       "0.30835"
      ]
     },
     "execution_count": 3,
     "metadata": {},
     "output_type": "execute_result"
    }
   ],
   "source": [
    "site_density = 5*61.67*1e-6*1e3 # [moles/kg]\n",
    "site_density"
   ]
  },
  {
   "cell_type": "code",
   "execution_count": 4,
   "metadata": {},
   "outputs": [
    {
     "data": {
      "text/plain": [
       "0.001307404"
      ]
     },
     "execution_count": 4,
     "metadata": {},
     "output_type": "execute_result"
    }
   ],
   "source": [
    "total_sites = site_density*4.24e-3 #moles sites (4.24 g cat)\n",
    "total_sites"
   ]
  },
  {
   "cell_type": "markdown",
   "metadata": {},
   "source": []
  },
  {
   "cell_type": "code",
   "execution_count": 5,
   "metadata": {},
   "outputs": [
    {
     "data": {
      "text/plain": [
       "44.4241930003398"
      ]
     },
     "execution_count": 5,
     "metadata": {},
     "output_type": "execute_result"
    }
   ],
   "source": [
    "rmg_site_density_cu = 2.943e-9*1e4 #mol/m^2 see chemkin surface file\n",
    "cat_area = (total_sites)/(rmg_site_density_cu) #mol/mol/m^2()\n",
    "cat_area"
   ]
  },
  {
   "cell_type": "code",
   "execution_count": 19,
   "metadata": {},
   "outputs": [
    {
     "data": {
      "text/plain": [
       "21"
      ]
     },
     "execution_count": 19,
     "metadata": {},
     "output_type": "execute_result"
    }
   ],
   "source": [
    "step = 0.05\n",
    "ran = np.arange(0,1.0+step, step)\n",
    "len(ran)"
   ]
  },
  {
   "cell_type": "markdown",
   "metadata": {},
   "source": [
    "Reactor volume to cat surface area"
   ]
  },
  {
   "cell_type": "code",
   "execution_count": 9,
   "metadata": {},
   "outputs": [
    {
     "data": {
      "text/plain": [
       "3.0320367332645103e-06"
      ]
     },
     "execution_count": 9,
     "metadata": {},
     "output_type": "execute_result"
    }
   ],
   "source": [
    "vol_2_sa= volume / cat_area\n",
    "vol_2_sa"
   ]
  },
  {
   "cell_type": "markdown",
   "metadata": {},
   "source": [
    "## Inlet Conditions"
   ]
  },
  {
   "cell_type": "markdown",
   "metadata": {},
   "source": [
    "### volume flowrate\n",
    "\n",
    "It does not look like Graaf had a flowrate measurement on the inlet of their apparatus:\n",
    "<img src=\"../images/input_calcs/flow_debacle.png\" width=400 height=400 />\n",
    "\n",
    "\n",
    "Further, in the Grabow matlab model, they use the volume (in cm^3/min) that grabow specifies as the outlet flowrate\n",
    "<img src=\"../images/input_calcs/matlab_flow_1.png\" width=600/>\n",
    "<img src=\"../images/input_calcs/matlab_flow_2.png\" width=600/>\n",
    "\n",
    "for ours, we'll copy grabow, although realistically the outlet volume flow could change depending on the stoichiometry: \n",
    "<img src=\"../images/input_calcs/fogler_flow.jpg\" width=300/>"
   ]
  },
  {
   "cell_type": "markdown",
   "metadata": {},
   "source": [
    "for CO2/(CO+CO2) ratio experiments, conditions were 75 atm, 528K, and inlet flow was 470.4 cm^3/min\n",
    "\n",
    "$V_{in}\\left[\\frac{m^3}{s}\\right] =  V_{in}\\left[\\frac{cm^3}{min}\\right]*\\left[\\frac{min}{60s}\\right]*\\left[\\frac{m^3}{10^6 cm^3}\\right]$"
   ]
  },
  {
   "cell_type": "code",
   "execution_count": 1,
   "metadata": {},
   "outputs": [
    {
     "data": {
      "text/plain": [
       "7.84e-06"
      ]
     },
     "execution_count": 1,
     "metadata": {},
     "output_type": "execute_result"
    }
   ],
   "source": [
    "Vin_cm3_min = 470.4\n",
    "Vin_m3_sec = Vin_cm3_min/(60*10**6)\n",
    "Vin_m3_sec"
   ]
  },
  {
   "cell_type": "markdown",
   "metadata": {},
   "source": [
    "### Turn over Frequency\n",
    "For the Graaf data, Grabow just multiplied the total molar flowrate in by the mole fraction, and then divided by the number of sites\n",
    "\n",
    "for cantera, our ROP is in terms of kmoles/m^2 s. so, to convert to 1/s, we need to do the following:\n",
    "\n",
    "$ROP\\left[\\frac{kmoles}{m^{2}*s}\\right]*\\frac{10^{3} moles}{kmol} * \\frac{1}{\\Gamma} \\left[\\frac{cm^2}{mol}\\right] * \\frac{m^2}{10^{4}cm^{2}}= ROP \\left[\\frac{mol}{sec}\\right]$   \n",
    "\n",
    "$TOF = ROP \\left[\\frac{mol}{sec}\\right]* \\frac{1}{N_{sites}} \\left[\\frac{1}{moles}\\right]$\n",
    "\n",
    "\n",
    "\n"
   ]
  },
  {
   "cell_type": "markdown",
   "metadata": {},
   "source": [
    "# Other Miscellaneous notes on inputs\n",
    "\n",
    "#### Pressure conversion \n",
    "Grabow data is in bar.  "
   ]
  },
  {
   "cell_type": "raw",
   "metadata": {},
   "source": [
    "# Notes on analysis\n",
    "## reaction pathway comparison\n",
    "Grabow considered the following when comparing the rates of respective reactions within their model: \n",
    "\n",
    "         \"Methanol Production\"  :  CH3O* + H* -> CH3OH* + *;\n",
    "         \"Water-Gas Shift\"      :  OH* + CO* -> COOH* + *\n",
    "         \"CO Hydrogenation\"     :  CO* + H* -> HCO* + *\n",
    "         \"CO2 Hydrogenation\"    :  CO2* + H* -> HCO2* + *\n",
    "         \"H2O Production\"       :  1 - 2\n",
    "                                   1:   H2O* + * -> OH* + H*\n",
    "                                   2:   COOH* + OH* -> CO2* + H2O*\n",
    "                                  \n",
    "\n",
    "So, the \"key\" for analyzing each of them is: \n",
    "\n",
    "     Grabow study name      |  Cantera label or formula\n",
    "     --------------------------------------------------\n",
    "     \"Methanol Production\"  |  methanol creation rate : surf.creation_rates()[surf.species_index(\"CH3OH(6)\")] \n",
    "     \"Water-Gas Shift\"      |  OH* + CO* -> COOH* + * : leave as-is, creation rate\n",
    "     \"CO Hydrogenation\"     |  Any reaction where CO receives an H and goes to HCO*. creation rate\n",
    "     \"CO2 Hydrogenation\"    |  Any reaction where CO2 receives an H and goes to HCO2*. creation rate\n",
    "     \"H2O Production\"       |  Creation rate of H2O*\n",
    "                                   \n",
    "                                   "
   ]
  },
  {
   "cell_type": "code",
   "execution_count": null,
   "metadata": {},
   "outputs": [],
   "source": []
  },
  {
   "cell_type": "code",
   "execution_count": null,
   "metadata": {},
   "outputs": [],
   "source": []
  },
  {
   "cell_type": "code",
   "execution_count": null,
   "metadata": {},
   "outputs": [],
   "source": []
  },
  {
   "cell_type": "code",
   "execution_count": null,
   "metadata": {},
   "outputs": [],
   "source": []
  },
  {
   "cell_type": "code",
   "execution_count": null,
   "metadata": {},
   "outputs": [],
   "source": []
  },
  {
   "cell_type": "code",
   "execution_count": null,
   "metadata": {},
   "outputs": [],
   "source": []
  },
  {
   "cell_type": "code",
   "execution_count": null,
   "metadata": {},
   "outputs": [],
   "source": []
  }
 ],
 "metadata": {
  "kernelspec": {
   "display_name": "rmg_env",
   "language": "python",
   "name": "rmg_env"
  },
  "language_info": {
   "codemirror_mode": {
    "name": "ipython",
    "version": 3
   },
   "file_extension": ".py",
   "mimetype": "text/x-python",
   "name": "python",
   "nbconvert_exporter": "python",
   "pygments_lexer": "ipython3",
   "version": "3.7.4"
  }
 },
 "nbformat": 4,
 "nbformat_minor": 2
}
