{
 "cells": [
  {
   "cell_type": "code",
   "execution_count": 1,
   "id": "03c8a063",
   "metadata": {},
   "outputs": [],
   "source": [
    "import matplotlib.pyplot as plt\n",
    "import pandas as pd\n",
    "import numpy as np\n",
    "import seaborn\n",
    "import git\n",
    "import time\n",
    "from pathlib import Path\n",
    "import os\n",
    "import csv\n",
    "\n",
    "import scipy.io"
   ]
  },
  {
   "cell_type": "markdown",
   "id": "3095ac73",
   "metadata": {},
   "source": [
    "common features: \n",
    "flow\n",
    "mole fraction\n",
    "temp\n",
    "pressure\n",
    "cat weight\n",
    "\n"
   ]
  },
  {
   "cell_type": "code",
   "execution_count": 2,
   "id": "ff4d5584",
   "metadata": {},
   "outputs": [],
   "source": [
    "rmg_csv = \"2021_09_22_0110_268b46_ran_with_sandia_reaction_added_in_Surface_Methane__Graaf_ss_runs_all.csv\"\n",
    "df_rmg = pd.read_csv(rmg_csv)"
   ]
  },
  {
   "cell_type": "code",
   "execution_count": 3,
   "id": "52d8cb61",
   "metadata": {},
   "outputs": [],
   "source": [
    "grabow_csv = \"Grabow_results.csv\"\n",
    "df_grabow = pd.read_csv(rmg_csv)"
   ]
  },
  {
   "cell_type": "code",
   "execution_count": 6,
   "id": "b5b61e9e",
   "metadata": {},
   "outputs": [],
   "source": [
    "graaf_csv = \"Graaf_ss_runs_all.csv\"\n",
    "df_graaf = pd.read_csv(graaf_csv)"
   ]
  },
  {
   "cell_type": "code",
   "execution_count": null,
   "id": "72d7c862",
   "metadata": {},
   "outputs": [],
   "source": []
  }
 ],
 "metadata": {
  "kernelspec": {
   "display_name": "rmg_julia_env",
   "language": "python",
   "name": "rmg_julia_env"
  },
  "language_info": {
   "codemirror_mode": {
    "name": "ipython",
    "version": 3
   },
   "file_extension": ".py",
   "mimetype": "text/x-python",
   "name": "python",
   "nbconvert_exporter": "python",
   "pygments_lexer": "ipython3",
   "version": "3.7.11"
  }
 },
 "nbformat": 4,
 "nbformat_minor": 5
}
