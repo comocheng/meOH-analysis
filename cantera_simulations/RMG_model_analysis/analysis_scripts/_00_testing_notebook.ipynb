{
 "cells": [
  {
   "cell_type": "code",
   "execution_count": 1,
   "metadata": {},
   "outputs": [],
   "source": [
    "import matplotlib.pyplot as plt\n",
    "import pandas as pd\n",
    "import numpy as np\n",
    "import seaborn\n",
    "import git\n",
    "import time\n",
    "from pathlib import Path\n",
    "import os\n",
    "import csv\n",
    "\n",
    "import scipy.io\n",
    "\n",
    "%matplotlib inline\n",
    "\n",
    "# get git info for RMG model\n",
    "rmg_model_path = \"../../../../meOH-synthesis\"\n",
    "repo = git.Repo(rmg_model_path)\n",
    "date = time.localtime(repo.head.commit.committed_date)\n",
    "git_date = time.strftime(\"%Y_%m_%d_%H%M\", date)\n",
    "git_sha = str(repo.head.commit)[0:6]\n",
    "git_msg = str(repo.head.commit.message)[0:50].replace(\" \", \"_\").replace(\"'\", \"_\").replace(\"\\n\", \"\")\n",
    "git_file_string = f\"{git_date}_{git_sha}_{git_msg}\"\n",
    "current_commit = git_file_string\n",
    "current_commit\n",
    "\n",
    "# load in experimental data\n",
    "# exclude feed 8 because it is a monolith reactor\n",
    "path_str = \"../../Graaf_data/combined_experimental_runs.xlsx\"\n",
    "df_graaf = pd.read_excel(path_str , engine='openpyxl') "
   ]
  },
  {
   "cell_type": "markdown",
   "metadata": {},
   "source": [
    "## load matlab data"
   ]
  },
  {
   "cell_type": "code",
   "execution_count": 2,
   "metadata": {
    "scrolled": true
   },
   "outputs": [],
   "source": [
    "# load in initial conditions from experiment from matlab\n",
    "ml_results_file = \"matlab_grabow_results.csv\"\n",
    "translation = {39: None, 91: None, 93: None} # remove ', [, and ]\n",
    "count = 0\n",
    "first_row=True\n",
    "\n",
    "    \n",
    "for path in Path(\"../../Grabow_matlab_data/new_runs\").rglob('*.mat'):\n",
    "    # get feed number and run number from file name\n",
    "    path_str = str(path)\n",
    "    file_name = path_str.split(\"/\")[-1]\n",
    "    feed = int(file_name.split(\"_\")[2])\n",
    "    run = int(file_name.split(\"_\")[4].split(\".\")[0])\n",
    "    \n",
    "    mat = scipy.io.loadmat(path_str)\n",
    "    conditions = mat['condition']\n",
    "    reactions = mat['reaction']\n",
    "    \n",
    "    # get relevant TOFs, catalyst weights, # sites\n",
    "#     meoh_TOF = float(conditions[\"MeOH_TOF\"])\n",
    "#     h2o_TOF = float(conditions[\"H2O_TOF\"])\n",
    "    cat_weight = float(conditions[\"CatalystWeight\"])\n",
    "    num_sites = float(conditions[\"Sites\"])\n",
    "    \n",
    "    #read in species names to use as columns in dataframe\n",
    "    species_names = []\n",
    "\n",
    "    for spec in range(len(mat['species'][0,:])):\n",
    "        species_string = str(mat['species'][0,spec][0])\n",
    "        species_string = species_string.translate(translation)\n",
    "        species_names.append(species_string)\n",
    "\n",
    "    # read in results (surface coverages, partial pressures)\n",
    "    results = mat['Y']\n",
    "\n",
    "    if first_row:\n",
    "        # create data frame with species names as column headers\n",
    "        df_grabow = pd.DataFrame(data=results,columns=species_names)\n",
    "        df_grabow = df_grabow.tail(1)\n",
    "        df_grabow[\"feed\"] = feed\n",
    "        df_grabow[\"run\"] = run\n",
    "#         df_grabow[\"MeOH TOF (1/s)\"] = meoh_TOF\n",
    "#         df_grabow[\"H2O TOF (1/s)\"] = h2o_TOF\n",
    "        df_grabow[\"Catalyst Weight (g)\"] = cat_weight\n",
    "        df_grabow[\"Number of Sites (mol)\"] = num_sites \n",
    "        \n",
    "        # get total pressure by adding each species partial pressure\n",
    "        total_pressure = 0\n",
    "        for column in df_grabow:\n",
    "            if \"g\" in column[-1].strip():\n",
    "                total_pressure += float(df_grabow[column])\n",
    "        df_grabow[\"total pressure (bar)\"] = total_pressure\n",
    "        \n",
    "        first_row = False\n",
    "    else: \n",
    "        # add tail from new dataframe\n",
    "        new_df = pd.DataFrame(data=results,columns=species_names)\n",
    "        new_df = new_df.tail(1)\n",
    "        new_df[\"feed\"] = feed\n",
    "        new_df[\"run\"] = run\n",
    "#         new_df[\"MeOH TOF (1/s)\"] = meoh_TOF\n",
    "#         new_df[\"H2O TOF (1/s)\"] = h2o_TOF\n",
    "        new_df[\"Catalyst Weight (g)\"] = cat_weight\n",
    "        new_df[\"Number of Sites (mol)\"] = num_sites \n",
    "        \n",
    "        # get total pressure by adding each species partial pressure\n",
    "        total_pressure = 0\n",
    "        for column in new_df:\n",
    "            if \"g\" in column[-1].strip():\n",
    "                total_pressure += float(new_df[column])\n",
    "                \n",
    "        new_df[\"total pressure (bar)\"] = total_pressure\n",
    "        \n",
    "        df_grabow = df_grabow.append(new_df, ignore_index=True)\n",
    "\n",
    "\n",
    "# convert all partial pressures to mole fractions \n",
    "# any value with a \"g\" (gas) after the species name\n",
    "for column in df_grabow:\n",
    "    if \"g\" in column[-1].strip():\n",
    "        df_grabow[column] = df_grabow[column]/df_grabow[\"total pressure (bar)\"]\n",
    "\n",
    "# truncate dataframe so we only have packed bed reactors\n",
    "# feed 8 (feed 10 in matlab) is the monolith reactor \n",
    "# (1,2,3,4,5,6a,6b,7a,7b,8)\n",
    "# (1,2,3,4,5,6, 7, 8, 9,10)\n",
    "df_grabow_trunc = df_grabow[(df_grabow[\"feed\"] < 10)]\n",
    "\n",
    "# append graaf data to this df for easy plotting\n",
    "for column in df_graaf:\n",
    "    column_data = []\n",
    "    for index_grabow, row_grabow in df_grabow_trunc.iterrows():\n",
    "        for index_graaf, row_graaf in df_graaf.iterrows():\n",
    "            if (row_grabow[\"feed\"] == row_graaf[\"Feed number\"]) and (row_grabow[\"run\"] == row_graaf[\"run\"]):\n",
    "                column_data.append(row_graaf[column])\n",
    "    column_name = f\"graaf {str(column)}\"\n",
    "    df_grabow_trunc = df_grabow_trunc.assign(**{column_name:column_data})\n",
    "\n",
    "    \n",
    "df_grabow_trunc.to_csv(\"check_data.csv\")"
   ]
  },
  {
   "cell_type": "code",
   "execution_count": 3,
   "metadata": {},
   "outputs": [
    {
     "name": "stderr",
     "output_type": "stream",
     "text": [
      "/home/blais.ch/.conda/envs/rmg_julia_env/lib/python3.7/site-packages/ipykernel_launcher.py:5: UserWarning: Attempted to set non-positive left xlim on a log-scaled axis.\n",
      "Invalid limit will be ignored.\n",
      "  \"\"\"\n",
      "/home/blais.ch/.conda/envs/rmg_julia_env/lib/python3.7/site-packages/ipykernel_launcher.py:6: UserWarning: Attempted to set non-positive bottom ylim on a log-scaled axis.\n",
      "Invalid limit will be ignored.\n",
      "  \n"
     ]
    },
    {
     "data": {
      "text/plain": [
       "[<matplotlib.lines.Line2D at 0x2b842c3e7a90>]"
      ]
     },
     "execution_count": 3,
     "metadata": {},
     "output_type": "execute_result"
    },
    {
     "data": {
      "image/png": "[encoded data removed]",
      "text/plain": [
       "<Figure size 432x288 with 1 Axes>"
      ]
     },
     "metadata": {
      "needs_background": "light"
     },
     "output_type": "display_data"
    }
   ],
   "source": [
    "df_grabow_trunc[df_grabow_trunc[\"feed\"]<6].plot.scatter(x='graaf Ych3oh',\n",
    "                              y='CH3OHg', \n",
    "                              label=f\"Methanol outlet mole fraction\", \n",
    "                              color=\"b\", logy=True, logx=True)\n",
    "plt.gca().set_xlim(left=0)\n",
    "plt.gca().set_ylim(bottom=0)\n",
    "xpoints = ypoints = plt.xlim()\n",
    "plt.plot(xpoints, ypoints, linestyle='--', color='k', lw=3, scalex=False, scaley=False)\n"
   ]
  },
  {
   "cell_type": "markdown",
   "metadata": {},
   "source": [
    "# compare Mean absolute error in mole fraction MeOH\n",
    "master"
   ]
  },
  {
   "cell_type": "code",
   "execution_count": 4,
   "metadata": {},
   "outputs": [
    {
     "ename": "EmptyDataError",
     "evalue": "No columns to parse from file",
     "output_type": "error",
     "traceback": [
      "\u001b[0;31m---------------------------------------------------------------------------\u001b[0m",
      "\u001b[0;31mEmptyDataError\u001b[0m                            Traceback (most recent call last)",
      "\u001b[0;32m<ipython-input-4-b03bc5918c6f>\u001b[0m in \u001b[0;36m<module>\u001b[0;34m\u001b[0m\n\u001b[1;32m     57\u001b[0m \u001b[0;34m\u001b[0m\u001b[0m\n\u001b[1;32m     58\u001b[0m \u001b[0;31m# load in the data to a pandas dataframe\u001b[0m\u001b[0;34m\u001b[0m\u001b[0;34m\u001b[0m\u001b[0;34m\u001b[0m\u001b[0m\n\u001b[0;32m---> 59\u001b[0;31m \u001b[0mdf_rmg_master\u001b[0m \u001b[0;34m=\u001b[0m \u001b[0mpd\u001b[0m\u001b[0;34m.\u001b[0m\u001b[0mread_csv\u001b[0m\u001b[0;34m(\u001b[0m\u001b[0mfile_name\u001b[0m\u001b[0;34m)\u001b[0m\u001b[0;34m\u001b[0m\u001b[0;34m\u001b[0m\u001b[0m\n\u001b[0m\u001b[1;32m     60\u001b[0m \u001b[0mprint\u001b[0m\u001b[0;34m(\u001b[0m\u001b[0;34m\"complete\"\u001b[0m\u001b[0;34m)\u001b[0m\u001b[0;34m\u001b[0m\u001b[0;34m\u001b[0m\u001b[0m\n",
      "\u001b[0;32m~/.conda/envs/rmg_julia_env/lib/python3.7/site-packages/pandas/io/parsers.py\u001b[0m in \u001b[0;36mread_csv\u001b[0;34m(filepath_or_buffer, sep, delimiter, header, names, index_col, usecols, squeeze, prefix, mangle_dupe_cols, dtype, engine, converters, true_values, false_values, skipinitialspace, skiprows, skipfooter, nrows, na_values, keep_default_na, na_filter, verbose, skip_blank_lines, parse_dates, infer_datetime_format, keep_date_col, date_parser, dayfirst, cache_dates, iterator, chunksize, compression, thousands, decimal, lineterminator, quotechar, quoting, doublequote, escapechar, comment, encoding, dialect, error_bad_lines, warn_bad_lines, delim_whitespace, low_memory, memory_map, float_precision)\u001b[0m\n\u001b[1;32m    686\u001b[0m     )\n\u001b[1;32m    687\u001b[0m \u001b[0;34m\u001b[0m\u001b[0m\n\u001b[0;32m--> 688\u001b[0;31m     \u001b[0;32mreturn\u001b[0m \u001b[0m_read\u001b[0m\u001b[0;34m(\u001b[0m\u001b[0mfilepath_or_buffer\u001b[0m\u001b[0;34m,\u001b[0m \u001b[0mkwds\u001b[0m\u001b[0;34m)\u001b[0m\u001b[0;34m\u001b[0m\u001b[0;34m\u001b[0m\u001b[0m\n\u001b[0m\u001b[1;32m    689\u001b[0m \u001b[0;34m\u001b[0m\u001b[0m\n\u001b[1;32m    690\u001b[0m \u001b[0;34m\u001b[0m\u001b[0m\n",
      "\u001b[0;32m~/.conda/envs/rmg_julia_env/lib/python3.7/site-packages/pandas/io/parsers.py\u001b[0m in \u001b[0;36m_read\u001b[0;34m(filepath_or_buffer, kwds)\u001b[0m\n\u001b[1;32m    452\u001b[0m \u001b[0;34m\u001b[0m\u001b[0m\n\u001b[1;32m    453\u001b[0m     \u001b[0;31m# Create the parser.\u001b[0m\u001b[0;34m\u001b[0m\u001b[0;34m\u001b[0m\u001b[0;34m\u001b[0m\u001b[0m\n\u001b[0;32m--> 454\u001b[0;31m     \u001b[0mparser\u001b[0m \u001b[0;34m=\u001b[0m \u001b[0mTextFileReader\u001b[0m\u001b[0;34m(\u001b[0m\u001b[0mfp_or_buf\u001b[0m\u001b[0;34m,\u001b[0m \u001b[0;34m**\u001b[0m\u001b[0mkwds\u001b[0m\u001b[0;34m)\u001b[0m\u001b[0;34m\u001b[0m\u001b[0;34m\u001b[0m\u001b[0m\n\u001b[0m\u001b[1;32m    455\u001b[0m \u001b[0;34m\u001b[0m\u001b[0m\n\u001b[1;32m    456\u001b[0m     \u001b[0;32mif\u001b[0m \u001b[0mchunksize\u001b[0m \u001b[0;32mor\u001b[0m \u001b[0miterator\u001b[0m\u001b[0;34m:\u001b[0m\u001b[0;34m\u001b[0m\u001b[0;34m\u001b[0m\u001b[0m\n",
      "\u001b[0;32m~/.conda/envs/rmg_julia_env/lib/python3.7/site-packages/pandas/io/parsers.py\u001b[0m in \u001b[0;36m__init__\u001b[0;34m(self, f, engine, **kwds)\u001b[0m\n\u001b[1;32m    946\u001b[0m             \u001b[0mself\u001b[0m\u001b[0;34m.\u001b[0m\u001b[0moptions\u001b[0m\u001b[0;34m[\u001b[0m\u001b[0;34m\"has_index_names\"\u001b[0m\u001b[0;34m]\u001b[0m \u001b[0;34m=\u001b[0m \u001b[0mkwds\u001b[0m\u001b[0;34m[\u001b[0m\u001b[0;34m\"has_index_names\"\u001b[0m\u001b[0;34m]\u001b[0m\u001b[0;34m\u001b[0m\u001b[0;34m\u001b[0m\u001b[0m\n\u001b[1;32m    947\u001b[0m \u001b[0;34m\u001b[0m\u001b[0m\n\u001b[0;32m--> 948\u001b[0;31m         \u001b[0mself\u001b[0m\u001b[0;34m.\u001b[0m\u001b[0m_make_engine\u001b[0m\u001b[0;34m(\u001b[0m\u001b[0mself\u001b[0m\u001b[0;34m.\u001b[0m\u001b[0mengine\u001b[0m\u001b[0;34m)\u001b[0m\u001b[0;34m\u001b[0m\u001b[0;34m\u001b[0m\u001b[0m\n\u001b[0m\u001b[1;32m    949\u001b[0m \u001b[0;34m\u001b[0m\u001b[0m\n\u001b[1;32m    950\u001b[0m     \u001b[0;32mdef\u001b[0m \u001b[0mclose\u001b[0m\u001b[0;34m(\u001b[0m\u001b[0mself\u001b[0m\u001b[0;34m)\u001b[0m\u001b[0;34m:\u001b[0m\u001b[0;34m\u001b[0m\u001b[0;34m\u001b[0m\u001b[0m\n",
      "\u001b[0;32m~/.conda/envs/rmg_julia_env/lib/python3.7/site-packages/pandas/io/parsers.py\u001b[0m in \u001b[0;36m_make_engine\u001b[0;34m(self, engine)\u001b[0m\n\u001b[1;32m   1178\u001b[0m     \u001b[0;32mdef\u001b[0m \u001b[0m_make_engine\u001b[0m\u001b[0;34m(\u001b[0m\u001b[0mself\u001b[0m\u001b[0;34m,\u001b[0m \u001b[0mengine\u001b[0m\u001b[0;34m=\u001b[0m\u001b[0;34m\"c\"\u001b[0m\u001b[0;34m)\u001b[0m\u001b[0;34m:\u001b[0m\u001b[0;34m\u001b[0m\u001b[0;34m\u001b[0m\u001b[0m\n\u001b[1;32m   1179\u001b[0m         \u001b[0;32mif\u001b[0m \u001b[0mengine\u001b[0m \u001b[0;34m==\u001b[0m \u001b[0;34m\"c\"\u001b[0m\u001b[0;34m:\u001b[0m\u001b[0;34m\u001b[0m\u001b[0;34m\u001b[0m\u001b[0m\n\u001b[0;32m-> 1180\u001b[0;31m             \u001b[0mself\u001b[0m\u001b[0;34m.\u001b[0m\u001b[0m_engine\u001b[0m \u001b[0;34m=\u001b[0m \u001b[0mCParserWrapper\u001b[0m\u001b[0;34m(\u001b[0m\u001b[0mself\u001b[0m\u001b[0;34m.\u001b[0m\u001b[0mf\u001b[0m\u001b[0;34m,\u001b[0m \u001b[0;34m**\u001b[0m\u001b[0mself\u001b[0m\u001b[0;34m.\u001b[0m\u001b[0moptions\u001b[0m\u001b[0;34m)\u001b[0m\u001b[0;34m\u001b[0m\u001b[0;34m\u001b[0m\u001b[0m\n\u001b[0m\u001b[1;32m   1181\u001b[0m         \u001b[0;32melse\u001b[0m\u001b[0;34m:\u001b[0m\u001b[0;34m\u001b[0m\u001b[0;34m\u001b[0m\u001b[0m\n\u001b[1;32m   1182\u001b[0m             \u001b[0;32mif\u001b[0m \u001b[0mengine\u001b[0m \u001b[0;34m==\u001b[0m \u001b[0;34m\"python\"\u001b[0m\u001b[0;34m:\u001b[0m\u001b[0;34m\u001b[0m\u001b[0;34m\u001b[0m\u001b[0m\n",
      "\u001b[0;32m~/.conda/envs/rmg_julia_env/lib/python3.7/site-packages/pandas/io/parsers.py\u001b[0m in \u001b[0;36m__init__\u001b[0;34m(self, src, **kwds)\u001b[0m\n\u001b[1;32m   2008\u001b[0m         \u001b[0mkwds\u001b[0m\u001b[0;34m[\u001b[0m\u001b[0;34m\"usecols\"\u001b[0m\u001b[0;34m]\u001b[0m \u001b[0;34m=\u001b[0m \u001b[0mself\u001b[0m\u001b[0;34m.\u001b[0m\u001b[0musecols\u001b[0m\u001b[0;34m\u001b[0m\u001b[0;34m\u001b[0m\u001b[0m\n\u001b[1;32m   2009\u001b[0m \u001b[0;34m\u001b[0m\u001b[0m\n\u001b[0;32m-> 2010\u001b[0;31m         \u001b[0mself\u001b[0m\u001b[0;34m.\u001b[0m\u001b[0m_reader\u001b[0m \u001b[0;34m=\u001b[0m \u001b[0mparsers\u001b[0m\u001b[0;34m.\u001b[0m\u001b[0mTextReader\u001b[0m\u001b[0;34m(\u001b[0m\u001b[0msrc\u001b[0m\u001b[0;34m,\u001b[0m \u001b[0;34m**\u001b[0m\u001b[0mkwds\u001b[0m\u001b[0;34m)\u001b[0m\u001b[0;34m\u001b[0m\u001b[0;34m\u001b[0m\u001b[0m\n\u001b[0m\u001b[1;32m   2011\u001b[0m         \u001b[0mself\u001b[0m\u001b[0;34m.\u001b[0m\u001b[0munnamed_cols\u001b[0m \u001b[0;34m=\u001b[0m \u001b[0mself\u001b[0m\u001b[0;34m.\u001b[0m\u001b[0m_reader\u001b[0m\u001b[0;34m.\u001b[0m\u001b[0munnamed_cols\u001b[0m\u001b[0;34m\u001b[0m\u001b[0;34m\u001b[0m\u001b[0m\n\u001b[1;32m   2012\u001b[0m \u001b[0;34m\u001b[0m\u001b[0m\n",
      "\u001b[0;32mpandas/_libs/parsers.pyx\u001b[0m in \u001b[0;36mpandas._libs.parsers.TextReader.__cinit__\u001b[0;34m()\u001b[0m\n",
      "\u001b[0;31mEmptyDataError\u001b[0m: No columns to parse from file"
     ]
    }
   ],
   "source": [
    "# get git info for RMG model\n",
    "rmg_model_path = \"../../../../meOH-synthesis\"\n",
    "repo = git.Repo(rmg_model_path)\n",
    "repo.git.checkout('master')\n",
    "date = time.localtime(repo.head.commit.committed_date)\n",
    "git_date = time.strftime(\"%Y_%m_%d_%H%M\", date)\n",
    "git_sha = str(repo.head.commit)[0:6]\n",
    "git_msg = str(repo.head.commit.message)[0:50].replace(\" \", \"_\").replace(\"'\", \"_\").replace(\"\\n\", \"\")\n",
    "git_file_string = f\"{git_date}_{git_sha}_{git_msg}\"\n",
    "current_commit = git_file_string\n",
    "current_commit\n",
    "\n",
    "# load in cantera runs of RMG model\n",
    "# exclude CSP, transient, non-graaf, non-sensitivity data\n",
    "\n",
    "exclude = [\"/csp/\", \"/transient/\", \"thermo_sensitivity\", \"no_experiment_comparison\"]\n",
    "    \n",
    "first_file = True\n",
    "first_line = True\n",
    "\n",
    "file_name = f'{current_commit.replace(\"/\",\"_\",2)}_Graaf_ss_runs_all.csv'\n",
    "\n",
    "with open(file_name, mode='w') as file:\n",
    "    writer = csv.writer(file)\n",
    "\n",
    "# iterate over all csv files in current directory\n",
    "    for path in Path(\"../\" + current_commit).rglob('*.csv'):\n",
    "        path_str = str(path)\n",
    "        print(path)\n",
    "\n",
    "        # make sure forbidden strings are not included in filepath\n",
    "        if all(f not in path_str for f in exclude):\n",
    "            # make sure file size is not 0\n",
    "            if os.stat(path_str).st_size != 0:\n",
    "\n",
    "                if first_file == True: \n",
    "                    with open(path_str, \"r\") as f:\n",
    "                        reader = csv.reader(f)\n",
    "                        for line in reader: \n",
    "                            if first_line: \n",
    "                                writer.writerow(line)\n",
    "                                first_line=False\n",
    "                            else:\n",
    "                                pass\n",
    "                        writer.writerow(line)\n",
    "                        \n",
    "                    first_file = False \n",
    "                    f.close()\n",
    "                else: \n",
    "                    with open(path_str, \"r\") as f:\n",
    "                        reader = csv.reader(f)\n",
    "                        for line in reader: \n",
    "                            pass\n",
    "                        writer.writerow(line)\n",
    "                    f.close()\n",
    "file.close()\n",
    "\n",
    "# load in the data to a pandas dataframe\n",
    "df_rmg_master = pd.read_csv(file_name)\n",
    "print(\"complete\")"
   ]
  },
  {
   "cell_type": "code",
   "execution_count": null,
   "metadata": {},
   "outputs": [],
   "source": [
    "file_name = \"2021_09_22_0110_268b46_ran_with_sandia_reaction_added_in_Surface_Methane__Graaf_ss_runs_all.csv\"\n",
    "\n",
    "df_rmg_master = pd.read_csv(file_name)"
   ]
  },
  {
   "cell_type": "code",
   "execution_count": null,
   "metadata": {},
   "outputs": [],
   "source": [
    "# volume flow at T and P \n",
    "df_rmg_master['Volume flow at T and P (m^3/s)']=(101325*df_rmg_master[\"V (M^3/s)\"]*df_rmg_master[\"T (K)\"])/(df_rmg_master['P (Pa)']*298)\n",
    "\n",
    "# residence time\n",
    "df_rmg_master[\"residence time (s)\"] =(((3.5e-2)**2)*np.pi*(7e-2))/2/(df_rmg_master['Volume flow at T and P (m^3/s)'])\n",
    "\n",
    "# residence time/ catalyst weight\n",
    "df_rmg_master[\"Residence Time / Cat Weight (s/kg)\"] = df_rmg_master[\"residence time (s)\"]/df_rmg_master[\"catalyst weight (kg)\"]\n",
    "\n",
    "# pressure in bar\n",
    "df_rmg_master[\"P (bar)\"] = df_rmg_master[\"P (Pa)\"]*1e-5\n",
    "\n",
    "# get rounded pressures for easier grouping of data\n",
    "rounded_P = []\n",
    "for i in df_rmg_master[\"P (bar)\"].iteritems():\n",
    "    if i[1]>13 and i[1] < 17:\n",
    "        rounded_P.append(15)\n",
    "    elif i[1]>18 and i[1] < 22:\n",
    "        rounded_P.append(20)\n",
    "    elif i[1]>28 and i[1] < 32:\n",
    "        rounded_P.append(30)\n",
    "    elif i[1]>48 and i[1] < 52:\n",
    "        rounded_P.append(50)\n",
    "    else:\n",
    "        print(i[1])\n",
    "df_rmg_master[\"P (bar) rounded\"] = rounded_P\n",
    "\n",
    "# match grabow values by run and feed number to the corresponding cantera run values\n",
    "site_density = 2.943e-9*100**2 #[mol/m^2], converted from mol/cm^2\n",
    "\n",
    "graaf_ch3oh = []\n",
    "graaf_h2o = []\n",
    "graaf_meoh_TOF = []\n",
    "graaf_h2o_TOF = []\n",
    "\n",
    "for index_rmg, row_rmg in df_rmg_master.iterrows():\n",
    "    for index_graaf, row_graaf in df_graaf.iterrows():\n",
    "        if (row_rmg[\"feed\"] == row_graaf[\"Feed number\"]) and (row_rmg[\"run\"] == row_graaf[\"run\"]):\n",
    "            graaf_ch3oh.append(row_graaf[\"Ych3oh\"])\n",
    "            graaf_h2o.append(row_graaf[\"Yh2o\"])\n",
    "            graaf_meoh_TOF.append(row_graaf['MeOH TOF (mol/site/s)'])\n",
    "            graaf_h2o_TOF.append(row_graaf['H2O TOF (mol/site/s)'])\n",
    "            \n",
    "\n",
    "                        \n",
    "df_rmg_master[\"sites (moles)\"] = df_rmg_master[\"catalyst weight (kg)\"]*5*61.67*1e-6*1e3\n",
    "df_rmg_master[\"graaf H2O\"] = graaf_h2o\n",
    "df_rmg_master[\"graaf ch3oh\"] = graaf_ch3oh\n",
    "df_rmg_master[\"graaf MeOH TOF (mol/site/s)\"] = graaf_meoh_TOF\n",
    "df_rmg_master[\"graaf H2O TOF (mol/site/s)\"] = graaf_h2o_TOF\n",
    "df_rmg_master[\"RMG MeOH TOF (mol/site/s)\"] = df_rmg_master[\"CH3OH(8) surface ROP [kmol/m^2 s]\"]*1e3*df_rmg_master[\"sites (moles)\"]/((site_density)*10**4)\n",
    "df_rmg_master[\"RMG H2O TOF (mol/site/s)\"] = df_rmg_master[\"H2O(5) surface ROP [kmol/m^2 s]\"]*1e3*df_rmg_master[\"sites (moles)\"]/((site_density)*10**4)"
   ]
  },
  {
   "cell_type": "code",
   "execution_count": null,
   "metadata": {},
   "outputs": [],
   "source": [
    "df_rmg_master[\"CH3OH(8)\"].max()"
   ]
  },
  {
   "cell_type": "code",
   "execution_count": null,
   "metadata": {},
   "outputs": [],
   "source": [
    "df_rmg_master[\"ch3oh diff\"] = abs(df_rmg_master[\"graaf ch3oh\"]- df_rmg_master[\"CH3OH(8)\"])"
   ]
  },
  {
   "cell_type": "code",
   "execution_count": null,
   "metadata": {},
   "outputs": [],
   "source": [
    "df_rmg_master[\"ch3oh diff\"].max()"
   ]
  },
  {
   "cell_type": "code",
   "execution_count": null,
   "metadata": {},
   "outputs": [],
   "source": [
    "df_rmg_master[\"ch3oh diff\"].mean()"
   ]
  },
  {
   "cell_type": "code",
   "execution_count": null,
   "metadata": {},
   "outputs": [],
   "source": [
    "df_rmg_master[\"P (bar) rounded\"].unique()"
   ]
  },
  {
   "cell_type": "code",
   "execution_count": null,
   "metadata": {},
   "outputs": [],
   "source": [
    "for i in df_rmg_master[\"P (bar) rounded\"].unique():\n",
    "    df_rmg_master[\n",
    "        (df_rmg_master[\"T (K)\"] > 484) &\\\n",
    "        (df_rmg_master[\"T (K)\"] < 500) &\\\n",
    "        (df_rmg_master[\"P (bar) rounded\"] == i)].plot.scatter(x='graaf MeOH TOF (mol/site/s)',\n",
    "                                                       y='RMG MeOH TOF (mol/site/s)', \n",
    "                                                       label=f\"{i} bar\", \n",
    "                                                       color=\"b\")\n",
    "    plt.gca().set_xlim(left=0)\n",
    "    xpoints = ypoints = plt.xlim()\n",
    "    plt.plot(xpoints, ypoints, linestyle='--', color='k', lw=3, scalex=False, scaley=False)"
   ]
  },
  {
   "cell_type": "code",
   "execution_count": null,
   "metadata": {},
   "outputs": [],
   "source": [
    "for i in df_rmg_master[\"P (bar) rounded\"].unique():\n",
    "    df_rmg_master[\n",
    "        (df_rmg_master[\"T (K)\"] > 484) &\\\n",
    "        (df_rmg_master[\"T (K)\"] < 500) &\\\n",
    "        (df_rmg_master[\"P (bar) rounded\"] == i)].plot.scatter(x='graaf H2O TOF (mol/site/s)',\n",
    "                                                       y='RMG H2O TOF (mol/site/s)', \n",
    "                                                       label=f\"{i} bar\", \n",
    "                                                       color=\"b\")\n",
    "    plt.gca().set_xlim(left=0)\n",
    "    xpoints = ypoints = plt.xlim()\n",
    "    plt.plot(xpoints, ypoints, linestyle='--', color='k', lw=3, scalex=False, scaley=False)"
   ]
  },
  {
   "cell_type": "markdown",
   "metadata": {},
   "source": [
    "## sandia_rates branch"
   ]
  },
  {
   "cell_type": "code",
   "execution_count": null,
   "metadata": {},
   "outputs": [],
   "source": [
    "# get git info for RMG model\n",
    "rmg_model_path = \"../../../../meOH-synthesis\"\n",
    "repo = git.Repo(rmg_model_path)\n",
    "repo.git.checkout('sandia_rates')\n",
    "date = time.localtime(repo.head.commit.committed_date)\n",
    "git_date = time.strftime(\"%Y_%m_%d_%H%M\", date)\n",
    "git_sha = str(repo.head.commit)[0:6]\n",
    "git_msg = str(repo.head.commit.message)[0:50].replace(\" \", \"_\").replace(\"'\", \"_\").replace(\"\\n\", \"\")\n",
    "git_file_string = f\"{git_date}_{git_sha}_{git_msg}\"\n",
    "current_commit = git_file_string\n",
    "current_commit\n",
    "\n",
    "# load in cantera runs of RMG model\n",
    "# exclude CSP, transient, non-graaf, non-sensitivity data\n",
    "\n",
    "exclude = [\"/csp/\", \"/transient/\", \"thermo_sensitivity\", \"no_experiment_comparison\"]\n",
    "    \n",
    "first_file = True\n",
    "first_line = True\n",
    "\n",
    "file_name = f'{current_commit.replace(\"/\",\"_\",2)}_Graaf_ss_runs_all.csv'\n",
    "\n",
    "with open(file_name, mode='w') as file:\n",
    "    writer = csv.writer(file)\n",
    "\n",
    "# iterate over all csv files in current directory\n",
    "    for path in Path(\"../\" + current_commit).rglob('*.csv'):\n",
    "        path_str = str(path)\n",
    "\n",
    "        # make sure forbidden strings are not included in filepath\n",
    "        if all(f not in path_str for f in exclude):\n",
    "            # make sure file size is not 0\n",
    "            if os.stat(path_str).st_size != 0:\n",
    "\n",
    "                if first_file == True: \n",
    "                    with open(path_str, \"r\") as f:\n",
    "                        reader = csv.reader(f)\n",
    "                        for line in reader: \n",
    "                            if first_line: \n",
    "                                writer.writerow(line)\n",
    "                                first_line=False\n",
    "                            else:\n",
    "                                pass\n",
    "                        writer.writerow(line)\n",
    "                        \n",
    "                    first_file = False \n",
    "                    f.close()\n",
    "                else: \n",
    "                    with open(path_str, \"r\") as f:\n",
    "                        reader = csv.reader(f)\n",
    "                        for line in reader: \n",
    "                            pass\n",
    "                        writer.writerow(line)\n",
    "                    f.close()\n",
    "file.close()\n",
    "\n",
    "# load in the data to a pandas dataframe\n",
    "df_rmg_sandia = pd.read_csv(file_name)\n",
    "print(\"complete\")"
   ]
  },
  {
   "cell_type": "code",
   "execution_count": null,
   "metadata": {},
   "outputs": [],
   "source": [
    "# volume flow at T and P \n",
    "df_rmg_sandia['Volume flow at T and P (m^3/s)']=(101325*df_rmg_sandia[\"V (M^3/s)\"]*df_rmg_sandia[\"T (K)\"])/(df_rmg_sandia['P (Pa)']*298)\n",
    "\n",
    "# residence time\n",
    "df_rmg_sandia[\"residence time (s)\"] =(((3.5e-2)**2)*np.pi*(7e-2))/2/(df_rmg_sandia['Volume flow at T and P (m^3/s)'])\n",
    "\n",
    "# residence time/ catalyst weight\n",
    "df_rmg_sandia[\"Residence Time / Cat Weight (s/kg)\"] = df_rmg_sandia[\"residence time (s)\"]/df_rmg_sandia[\"catalyst weight (kg)\"]\n",
    "\n",
    "# pressure in bar\n",
    "df_rmg_sandia[\"P (bar)\"] = df_rmg_sandia[\"P (Pa)\"]*1e-5\n",
    "\n",
    "# get rounded pressures for easier grouping of data\n",
    "rounded_P = []\n",
    "for i in df_rmg_sandia[\"P (bar)\"].iteritems():\n",
    "    if i[1]>13 and i[1] < 17:\n",
    "        rounded_P.append(15)\n",
    "    elif i[1]>18 and i[1] < 22:\n",
    "        rounded_P.append(20)\n",
    "    elif i[1]>28 and i[1] < 32:\n",
    "        rounded_P.append(30)\n",
    "    elif i[1]>48 and i[1] < 52:\n",
    "        rounded_P.append(50)\n",
    "    else:\n",
    "        print(i[1])\n",
    "df_rmg_sandia[\"P (bar) rounded\"] = rounded_P\n",
    "\n",
    "# match grabow values by run and feed number to the corresponding cantera run values\n",
    "site_density = 2.943e-9*100**2 #[mol/m^2], converted from mol/cm^2\n",
    "\n",
    "graaf_ch3oh = []\n",
    "graaf_h2o = []\n",
    "graaf_meoh_TOF = []\n",
    "graaf_h2o_TOF = []\n",
    "\n",
    "for index_rmg, row_rmg in df_rmg_sandia.iterrows():\n",
    "    for index_graaf, row_graaf in df_graaf.iterrows():\n",
    "        if (row_rmg[\"feed\"] == row_graaf[\"Feed number\"]) and (row_rmg[\"run\"] == row_graaf[\"run\"]):\n",
    "            graaf_ch3oh.append(row_graaf[\"Ych3oh\"])\n",
    "            graaf_h2o.append(row_graaf[\"Yh2o\"])\n",
    "            graaf_meoh_TOF.append(row_graaf['MeOH TOF (mol/site/s)'])\n",
    "            graaf_h2o_TOF.append(row_graaf['H2O TOF (mol/site/s)'])\n",
    "            \n",
    "df_rmg_sandia[\"sites (moles)\"] = df_rmg_sandia[\"catalyst weight (kg)\"]*5*61.67*1e-6*1e3\n",
    "df_rmg_sandia[\"graaf ch3oh\"] = graaf_ch3oh\n",
    "df_rmg_sandia[\"graaf H2O\"] = graaf_h2o\n",
    "df_rmg_sandia[\"graaf MeOH TOF (mol/site/s)\"] = graaf_meoh_TOF\n",
    "df_rmg_sandia[\"graaf H2O TOF (mol/site/s)\"] = graaf_h2o_TOF\n",
    "df_rmg_sandia[\"RMG MeOH TOF (mol/site/s)\"] = df_rmg_sandia[\"CH3OH(8) surface ROP [kmol/m^2 s]\"]*1e3*df_rmg_sandia[\"sites (moles)\"]/((site_density)*10**4)\n",
    "df_rmg_sandia[\"RMG H2O TOF (mol/site/s)\"] = df_rmg_sandia[\"H2O(5) surface ROP [kmol/m^2 s]\"]*1e3*df_rmg_sandia[\"sites (moles)\"]/((site_density))"
   ]
  },
  {
   "cell_type": "code",
   "execution_count": null,
   "metadata": {},
   "outputs": [],
   "source": [
    "df_rmg_sandia[\"graaf MeOH TOF (mol/site/s)\"]"
   ]
  },
  {
   "cell_type": "code",
   "execution_count": null,
   "metadata": {},
   "outputs": [],
   "source": [
    "df_rmg_sandia[\"ch3oh diff\"] = abs(df_rmg_sandia[\"graaf ch3oh\"]- df_rmg_sandia[\"CH3OH(8)\"])"
   ]
  },
  {
   "cell_type": "code",
   "execution_count": null,
   "metadata": {},
   "outputs": [],
   "source": [
    "df_rmg_sandia[\"ch3oh diff\"].max()"
   ]
  },
  {
   "cell_type": "markdown",
   "metadata": {},
   "source": [
    "Very small improvement in mean absolute error in mole fraction CH3OH"
   ]
  },
  {
   "cell_type": "code",
   "execution_count": null,
   "metadata": {},
   "outputs": [],
   "source": [
    "df_rmg_master[\"ch3oh diff\"].mean()"
   ]
  },
  {
   "cell_type": "code",
   "execution_count": null,
   "metadata": {},
   "outputs": [],
   "source": [
    "df_rmg_sandia[\"ch3oh diff\"].mean()"
   ]
  },
  {
   "cell_type": "code",
   "execution_count": null,
   "metadata": {},
   "outputs": [],
   "source": [
    "df_rmg_master[\"MeOH TOF diff\"] = abs(df_rmg_master[\"graaf MeOH TOF (mol/site/s)\"]- df_rmg_master[\"RMG MeOH TOF (mol/site/s)\"])\n"
   ]
  },
  {
   "cell_type": "code",
   "execution_count": null,
   "metadata": {},
   "outputs": [],
   "source": [
    "df_rmg_master[\"MeOH TOF diff\"].mean()"
   ]
  },
  {
   "cell_type": "code",
   "execution_count": null,
   "metadata": {},
   "outputs": [],
   "source": [
    "df_rmg_sandia[\"MeOH TOF diff\"] = abs(df_rmg_sandia[\"graaf MeOH TOF (mol/site/s)\"]- df_rmg_sandia[\"RMG MeOH TOF (mol/site/s)\"])"
   ]
  },
  {
   "cell_type": "code",
   "execution_count": null,
   "metadata": {},
   "outputs": [],
   "source": [
    "df_rmg_sandia[\"MeOH TOF diff\"].mean()"
   ]
  },
  {
   "cell_type": "code",
   "execution_count": null,
   "metadata": {},
   "outputs": [],
   "source": [
    "df_rmg_master[\n",
    "    (df_rmg_master[\"feed\"] < 7)].plot.scatter(x='graaf ch3oh',\n",
    "                                               y='CH3OH(8)', \n",
    "                                               label=f\"Methanol outlet mole fraction\", \n",
    "                                               color=\"b\")\n",
    "plt.gca().set_xlim(left=0)\n",
    "plt.gca().set_ylim(bottom=0)\n",
    "xpoints = ypoints = plt.xlim()\n",
    "plt.plot(xpoints, ypoints, linestyle='--', color='k', lw=3, scalex=False, scaley=False)"
   ]
  },
  {
   "cell_type": "code",
   "execution_count": null,
   "metadata": {},
   "outputs": [],
   "source": [
    "df_rmg_sandia[\n",
    "    (df_rmg_sandia[\"feed\"] <= 12)].plot.scatter(x='graaf ch3oh',\n",
    "                                               y='CH3OH(8)', \n",
    "                                               label=f\"Methanol outlet mole fraction\", \n",
    "                                               color=\"b\",\n",
    "                                               logy=True, \n",
    "                                              logx=True)\n",
    "plt.gca().set_xlim(left=0)\n",
    "plt.gca().set_ylim(bottom=0)\n",
    "xpoints = ypoints = plt.xlim()\n",
    "plt.plot(xpoints, ypoints, linestyle='--', color='k', lw=3, scalex=False, scaley=False)"
   ]
  },
  {
   "cell_type": "code",
   "execution_count": null,
   "metadata": {},
   "outputs": [],
   "source": [
    "df_rmg_sandia[\n",
    "    (df_rmg_sandia[\"feed\"] < 10)].plot.scatter(x='graaf MeOH TOF (mol/site/s)',\n",
    "                                                   y='RMG MeOH TOF (mol/site/s)', \n",
    "                                                   label=f\"Methanol TOF\", \n",
    "                                                   color=\"b\", logx = True, logy = True)\n",
    "plt.gca().set_xlim(left=0)\n",
    "plt.gca().set_ylim(bottom=0)\n",
    "xpoints = ypoints = plt.xlim()\n",
    "plt.plot(xpoints, ypoints, linestyle='--', color='k', lw=3, scalex=False, scaley=False)"
   ]
  },
  {
   "cell_type": "code",
   "execution_count": null,
   "metadata": {},
   "outputs": [],
   "source": []
  },
  {
   "cell_type": "code",
   "execution_count": null,
   "metadata": {},
   "outputs": [],
   "source": [
    "df_rmg_master[\"H2O TOF diff\"] = abs(df_rmg_master[\"graaf H2O TOF (mol/site/s)\"]- df_rmg_master[\"RMG H2O TOF (mol/site/s)\"])\n"
   ]
  },
  {
   "cell_type": "code",
   "execution_count": null,
   "metadata": {},
   "outputs": [],
   "source": [
    "df_rmg_master[\"H2O TOF diff\"].mean()"
   ]
  },
  {
   "cell_type": "code",
   "execution_count": null,
   "metadata": {},
   "outputs": [],
   "source": [
    "df_rmg_sandia[\"H2O TOF diff\"] = abs(df_rmg_sandia[\"graaf H2O TOF (mol/site/s)\"]- df_rmg_sandia[\"RMG H2O TOF (mol/site/s)\"])"
   ]
  },
  {
   "cell_type": "code",
   "execution_count": null,
   "metadata": {},
   "outputs": [],
   "source": [
    "df_rmg_sandia[\"H2O TOF diff\"].mean()"
   ]
  },
  {
   "cell_type": "code",
   "execution_count": null,
   "metadata": {},
   "outputs": [],
   "source": [
    "df_rmg_sandia.columns[:50]"
   ]
  },
  {
   "cell_type": "code",
   "execution_count": null,
   "metadata": {},
   "outputs": [],
   "source": []
  },
  {
   "cell_type": "markdown",
   "metadata": {},
   "source": []
  },
  {
   "cell_type": "code",
   "execution_count": null,
   "metadata": {},
   "outputs": [],
   "source": [
    "df_rmg_master.columns"
   ]
  },
  {
   "cell_type": "code",
   "execution_count": null,
   "metadata": {},
   "outputs": [],
   "source": [
    "df_rmg_master[\n",
    "    (df_rmg_master[\"feed\"] < 7)].plot.scatter(x='graaf H2O',\n",
    "                                               y='H2O(5)', \n",
    "                                               label=f\"Methanol outlet mole fraction\", \n",
    "                                               color=\"b\")\n",
    "plt.gca().set_xlim(left=0)\n",
    "plt.gca().set_ylim(bottom=0)\n",
    "xpoints = ypoints = plt.xlim()\n",
    "plt.plot(xpoints, ypoints, linestyle='--', color='k', lw=3, scalex=False, scaley=False)"
   ]
  },
  {
   "cell_type": "code",
   "execution_count": null,
   "metadata": {},
   "outputs": [],
   "source": [
    "df_rmg_sandia[\n",
    "    (df_rmg_sandia[\"feed\"] <= 7)].plot.scatter(x='graaf ch3oh',\n",
    "                                               y='CH3OH(8)', \n",
    "                                               label=f\"Methanol outlet mole fraction\", \n",
    "                                               color=\"b\")\n",
    "plt.gca().set_xlim(left=0)\n",
    "plt.gca().set_ylim(bottom=0)\n",
    "xpoints = ypoints = plt.xlim()\n",
    "plt.plot(xpoints, ypoints, linestyle='--', color='k', lw=3, scalex=False, scaley=False)"
   ]
  },
  {
   "cell_type": "code",
   "execution_count": null,
   "metadata": {},
   "outputs": [],
   "source": [
    "df_rmg_sandia[\n",
    "    (df_rmg_sandia[\"feed\"] < 6)].plot.scatter(x='graaf MeOH TOF (mol/site/s)',\n",
    "                                                   y='RMG MeOH TOF (mol/site/s)', \n",
    "                                                   label=f\"Methanol TOF\", \n",
    "                                                   color=\"b\")\n",
    "plt.gca().set_xlim(left=0)\n",
    "plt.gca().set_ylim(bottom=0)\n",
    "xpoints = ypoints = plt.xlim()\n",
    "plt.plot(xpoints, ypoints, linestyle='--', color='k', lw=3, scalex=False, scaley=False)"
   ]
  },
  {
   "cell_type": "code",
   "execution_count": null,
   "metadata": {},
   "outputs": [],
   "source": []
  },
  {
   "cell_type": "code",
   "execution_count": null,
   "metadata": {},
   "outputs": [],
   "source": []
  },
  {
   "cell_type": "code",
   "execution_count": null,
   "metadata": {},
   "outputs": [],
   "source": []
  },
  {
   "cell_type": "code",
   "execution_count": null,
   "metadata": {},
   "outputs": [],
   "source": []
  },
  {
   "cell_type": "code",
   "execution_count": null,
   "metadata": {},
   "outputs": [],
   "source": []
  },
  {
   "cell_type": "code",
   "execution_count": null,
   "metadata": {},
   "outputs": [],
   "source": []
  },
  {
   "cell_type": "code",
   "execution_count": null,
   "metadata": {},
   "outputs": [],
   "source": []
  },
  {
   "cell_type": "code",
   "execution_count": null,
   "metadata": {},
   "outputs": [],
   "source": []
  },
  {
   "cell_type": "code",
   "execution_count": null,
   "metadata": {},
   "outputs": [],
   "source": []
  },
  {
   "cell_type": "code",
   "execution_count": null,
   "metadata": {},
   "outputs": [],
   "source": []
  },
  {
   "cell_type": "code",
   "execution_count": null,
   "metadata": {},
   "outputs": [],
   "source": []
  },
  {
   "cell_type": "code",
   "execution_count": null,
   "metadata": {},
   "outputs": [],
   "source": []
  },
  {
   "cell_type": "code",
   "execution_count": null,
   "metadata": {},
   "outputs": [],
   "source": []
  },
  {
   "cell_type": "code",
   "execution_count": null,
   "metadata": {},
   "outputs": [],
   "source": []
  },
  {
   "cell_type": "code",
   "execution_count": null,
   "metadata": {},
   "outputs": [],
   "source": []
  }
 ],
 "metadata": {
  "kernelspec": {
   "display_name": "rmg_julia_env",
   "language": "python",
   "name": "rmg_julia_env"
  },
  "language_info": {
   "codemirror_mode": {
    "name": "ipython",
    "version": 3
   },
   "file_extension": ".py",
   "mimetype": "text/x-python",
   "name": "python",
   "nbconvert_exporter": "python",
   "pygments_lexer": "ipython3",
   "version": "3.7.11"
  }
 },
 "nbformat": 4,
 "nbformat_minor": 2
}
