{
 "metadata": {
  "language_info": {
   "codemirror_mode": {
    "name": "ipython",
    "version": 3
   },
   "file_extension": ".py",
   "mimetype": "text/x-python",
   "name": "python",
   "nbconvert_exporter": "python",
   "pygments_lexer": "ipython3",
   "version": "3.7.7-final"
  },
  "orig_nbformat": 2,
  "kernelspec": {
   "name": "python3",
   "display_name": "Python 3.7.7 64-bit ('rmg_env': conda)",
   "metadata": {
    "interpreter": {
     "hash": "1ac46a5807933d1c023f5a0cfe8301e974d75d115309da3207e1b9715b74d305"
    }
   }
  }
 },
 "nbformat": 4,
 "nbformat_minor": 2,
 "cells": [
  {
   "source": [
    "# MeOH synthesis model comparison (Grabow vs RMG)\n",
    "\n",
    "Source for grabow model:  \n",
    "Grabow, L. C., & Mavrikakis, M. (2011). Mechanism of methanol synthesis on cu through CO2 and CO hydrogenation. ACS Catalysis, 1(4), 365–384. https://doi.org/10.1021/cs200055d"
   ],
   "cell_type": "markdown",
   "metadata": {}
  },
  {
   "cell_type": "code",
   "execution_count": 5,
   "metadata": {},
   "outputs": [
    {
     "output_type": "error",
     "ename": "ModuleNotFoundError",
     "evalue": "No module named 'cantera'",
     "traceback": [
      "\u001b[0;31m---------------------------------------------------------------------------\u001b[0m",
      "\u001b[0;31mModuleNotFoundError\u001b[0m                       Traceback (most recent call last)",
      "\u001b[0;32m<ipython-input-5-81df039de8b2>\u001b[0m in \u001b[0;36m<module>\u001b[0;34m\u001b[0m\n\u001b[1;32m      2\u001b[0m \u001b[0;32mimport\u001b[0m \u001b[0mnumpy\u001b[0m \u001b[0;32mas\u001b[0m \u001b[0mnp\u001b[0m\u001b[0;34m\u001b[0m\u001b[0;34m\u001b[0m\u001b[0m\n\u001b[1;32m      3\u001b[0m \u001b[0;32mimport\u001b[0m \u001b[0mtime\u001b[0m\u001b[0;34m\u001b[0m\u001b[0;34m\u001b[0m\u001b[0m\n\u001b[0;32m----> 4\u001b[0;31m \u001b[0;32mimport\u001b[0m \u001b[0mcantera\u001b[0m \u001b[0;32mas\u001b[0m \u001b[0mct\u001b[0m\u001b[0;34m\u001b[0m\u001b[0;34m\u001b[0m\u001b[0m\n\u001b[0m\u001b[1;32m      5\u001b[0m \u001b[0;32mfrom\u001b[0m \u001b[0mmatplotlib\u001b[0m \u001b[0;32mimport\u001b[0m \u001b[0mpyplot\u001b[0m \u001b[0;32mas\u001b[0m \u001b[0mplt\u001b[0m\u001b[0;34m\u001b[0m\u001b[0;34m\u001b[0m\u001b[0m\n\u001b[1;32m      6\u001b[0m \u001b[0;32mimport\u001b[0m \u001b[0mcsv\u001b[0m\u001b[0;34m\u001b[0m\u001b[0;34m\u001b[0m\u001b[0m\n",
      "\u001b[0;31mModuleNotFoundError\u001b[0m: No module named 'cantera'"
     ]
    }
   ],
   "source": [
    "import pandas as pd\n",
    "import numpy as np\n",
    "import time\n",
    "import cantera as ct\n",
    "from matplotlib import pyplot as plt\n",
    "import csv\n",
    "import math\n",
    "import os\n",
    "import sys\n",
    "from IPython.display import Image\n",
    "\n",
    "import itertools\n",
    "import logging\n",
    "from collections import defaultdict\n",
    "\n",
    "print(\"Running Cantera version: {}\".format(ct.__version__))"
   ]
  },
  {
   "source": [
    "## Experimental Conditions for Graaf spinning basket reactor study.\n",
    "\n",
    "Graaf, G. H., Stamhuis, E. J., & Beenackers, A. A. C. M. (1988). Kinetics of low-pressure methanol synthesis. Chemical Engineering Science, 43(12), 3185–3195. https://doi.org/10.1016/0009-2509(88)85127-3\n"
   ],
   "cell_type": "markdown",
   "metadata": {}
  },
  {
   "cell_type": "code",
   "execution_count": null,
   "metadata": {},
   "outputs": [],
   "source": [
    "\n",
    "Image(filename='images/Graaf_Experimental_Conditions.png',width = 100, height = 50) "
   ]
  },
  {
   "source": [
    "## Experimental Conditions for Graaf spinning basket reactor study (PhD thesis).\n",
    "\n",
    "Graaf, Geert. (2016). The Synthesis of methanol in Gas-Solid and Gas-Slurry Reactors - PhD Thesis, 1988. 10.13140/RG.2.1.1002.8402. \n"
   ],
   "cell_type": "markdown",
   "metadata": {}
  },
  {
   "cell_type": "code",
   "execution_count": null,
   "metadata": {},
   "outputs": [],
   "source": [
    "\n",
    "Image(filename='images/Graaf_PhD_Experimental_Conditions.png',width = 600, height = 300) "
   ]
  },
  {
   "source": [
    "Image(filename='images/spinning_basket_reactor_Graff.png')"
   ],
   "cell_type": "code",
   "metadata": {},
   "execution_count": null,
   "outputs": []
  },
  {
   "source": [
    "## Graaf reactor specifications\n",
    "pp 260-269: 2 Phase reactor Conditions\n",
    "catalyst weights used: 4.24, 1.36, 7.97, 1.53 g catalyst used for their experiments\n",
    "\n",
    "$\\frac{10^{3}\\phi_v}{W}$ volume flow rate at T=298.15K, P = 1.013 bar. per kg catalyst\n",
    "\n",
    "pp 63 ID of reactor and height are 70mm each \n",
    "\n",
    "## Industrial conditions\n",
    "temp =  230-280C.  \n",
    "pressure = 50-120 atm.   \n",
    "CO/CO2/H2 = 10/10/80.    "
   ],
   "cell_type": "markdown",
   "metadata": {}
  },
  {
   "cell_type": "code",
   "execution_count": 6,
   "metadata": {},
   "outputs": [
    {
     "output_type": "error",
     "ename": "NameError",
     "evalue": "name 'math' is not defined",
     "traceback": [
      "\u001b[0;31m---------------------------------------------------------------------------\u001b[0m",
      "\u001b[0;31mNameError\u001b[0m                                 Traceback (most recent call last)",
      "\u001b[0;32m<ipython-input-6-12a33256e262>\u001b[0m in \u001b[0;36m<module>\u001b[0;34m\u001b[0m\n\u001b[1;32m      3\u001b[0m \u001b[0;34m\u001b[0m\u001b[0m\n\u001b[1;32m      4\u001b[0m \u001b[0;31m#constants\u001b[0m\u001b[0;34m\u001b[0m\u001b[0;34m\u001b[0m\u001b[0;34m\u001b[0m\u001b[0m\n\u001b[0;32m----> 5\u001b[0;31m \u001b[0mpi\u001b[0m \u001b[0;34m=\u001b[0m \u001b[0mmath\u001b[0m\u001b[0;34m.\u001b[0m\u001b[0mpi\u001b[0m\u001b[0;34m\u001b[0m\u001b[0;34m\u001b[0m\u001b[0m\n\u001b[0m\u001b[1;32m      6\u001b[0m \u001b[0;34m\u001b[0m\u001b[0m\n\u001b[1;32m      7\u001b[0m \u001b[0;31m# set initial temps, pressures, concentrations\u001b[0m\u001b[0;34m\u001b[0m\u001b[0;34m\u001b[0m\u001b[0;34m\u001b[0m\u001b[0m\n",
      "\u001b[0;31mNameError\u001b[0m: name 'math' is not defined"
     ]
    }
   ],
   "source": [
    "# Grabow model and RMG input files\n",
    "cti_file_rmg = '../base/cantera/chem_annotated.cti'\n",
    "\n",
    "#constants\n",
    "pi = math.pi\n",
    "\n",
    "# set initial temps, pressures, concentrations\n",
    "# temp = 230+273.15 # kelvin\n",
    "temp = 230+273.15 # kelvin\n",
    "pressure = 50*ct.one_atm # Pascals\n",
    "X_co = 0.1\n",
    "X_co2= 0.1\n",
    "X_h2o = 0.8\n",
    "mw_co = 28.01e-3  # [kg/mol]\n",
    "mw_co2 = 44.01e-3 # [kg/mol]\n",
    "mw_h2o = 18.01e-3 # [kg/mol]\n",
    "\n",
    "# CO/CO2/H2/H2O: typical is \n",
    "concentrations_rmg = {'CO(3)': X_co,'CO2(4)': X_co2, 'H2O(5)':X_h2o}\n",
    "\n",
    "# initialize cantera gas and surface\n",
    "gas= ct.Solution(cti_file_rmg,'gas')\n",
    "\n",
    "# surf_grab = ct.Interface(cti_file,'surface1_grab', [gas_grab])\n",
    "surf = ct.Interface(cti_file_rmg,'surface1', [gas])\n",
    "\n",
    "# gas_grab.TPX = \n",
    "gas.TPX = temp, pressure, concentrations_rmg\n",
    "surf.TP = temp, pressure\n",
    "surf.coverages = 'O*(11):1.0'\n",
    "\n",
    "# create gas inlet\n",
    "inlet = ct.Reservoir(gas)\n",
    "\n",
    "#create gas outlet\n",
    "exhaust = ct.Reservoir(gas)\n",
    "\n",
    "# Reactor volume\n",
    "rradius = 35e-3\n",
    "rlength = 70e-3\n",
    "rvol = (rradius**2)*pi*rlength\n",
    "\n",
    "# Catalyst Surface Area\n",
    "site_density = surf.site_density*1000                #[mol/m^2]cantera uses kmol/m^2, convert to mol/m^2\n",
    "cat_weight = 4.24e-3                                 #[kg]\n",
    "cat_site_per_wt = (300*1e-6)*1000                    #[mol/kg] 1e-6mol/micromole, 1000g/kg\n",
    "cat_area = site_density/(cat_weight*cat_site_per_wt) #[m^3]\n",
    "\n",
    "# reactor initialization\n",
    "r = ct.IdealGasReactor(gas, energy='on')\n",
    "rsurf = ct.ReactorSurface(surf, r, A=cat_area)\n",
    "r.volume = rvol\n",
    "\n",
    "# flow controllers (Graaf measured flow at 293.15 and 1 atm)\n",
    "volume_flow = 7                                               # [m^3/s]\n",
    "molar_flow = volume_flow*pressure/(8.3145*temp)               # [mol/s]\n",
    "mass_flow = molar_flow*(X_co*mw_co+X_co2*mw_co2+X_h2o*mw_h2o) # [kg/s]\n",
    "mfc = ct.MassFlowController(inlet, r, mdot=mass_flow)\n",
    "\n",
    "# initialize reactor network\n",
    "sim = ct.ReactorNet([r])\n",
    "# set relative and absolute tolerances on the simulation\n",
    "sim.rtol = 1.0e-9\n",
    "sim.atol = 1.0e-21\n",
    "\n",
    "#for debugging\n",
    "sim.verbose = True\n",
    "sim.reinitialize()"
   ]
  },
  {
   "source": [
    "## Grabow Values Given\n",
    "\n",
    "300 $\\mu$mol(sites)/g(catalyst)."
   ],
   "cell_type": "markdown",
   "metadata": {}
  },
  {
   "cell_type": "code",
   "execution_count": 217,
   "metadata": {},
   "outputs": [
    {
     "output_type": "stream",
     "name": "stdout",
     "text": [
      "\nHighest net rates of progress, gas\n  2 : CO(3) + H2O(5) <=> HCOOH(7)                          2e-18\n  6 : CO2(4) + H2(2) <=> HCOOH(7)                              0\n  5 : CO2(4) + H2(2) <=> HCOOH(7)                              0\n  4 : CH3OH(8) + CO(3) <=> HCOOCH3(9)                          0\n  3 : CO2(4) + H2(2) <=> HCOOH(7)                              0\n  1 : CO(3) + H2(2) <=> CH2O(6)                                0\n\nHighest net rates of progress, surface\n 64 : CH2O*(19) + H2X(48) <=> CH3O*(20) + H*(10)               0\n 63 : CO2*(15) + H2X(48) <=> COOH*(18) + H*(10)                0\n 30 : 2 OH*(12) <=> H2O*(13) + O*(11)                          0\n 29 : CH2O*(19) + H*(10) <=> CH3O*(20) + X(1)                  0\n 28 : COOH*(18) + X(1) <=> CO2*(15) + H*(10)                   0\n 27 : CO2*(15) + H*(10) <=> HCOO*(17) + X(1)                   0\n 26 : CH3O*(20) + H*(10) <=> CH3OH*(22) + X(1)                 0\n\nHighest forward rates of progress, gas\n  2 : CO(3) + H2O(5) <=> HCOOH(7)                          2e-18\n  6 : CO2(4) + H2(2) <=> HCOOH(7)                              0\n  5 : CO2(4) + H2(2) <=> HCOOH(7)                              0\n  4 : CH3OH(8) + CO(3) <=> HCOOCH3(9)                          0\n  3 : CO2(4) + H2(2) <=> HCOOH(7)                              0\n  1 : CO(3) + H2(2) <=> CH2O(6)                                0\n\nHighest forward rates of progress, surface\n 64 : CH2O*(19) + H2X(48) <=> CH3O*(20) + H*(10)               0\n 63 : CO2*(15) + H2X(48) <=> COOH*(18) + H*(10)                0\n 30 : 2 OH*(12) <=> H2O*(13) + O*(11)                          0\n 29 : CH2O*(19) + H*(10) <=> CH3O*(20) + X(1)                  0\n 28 : COOH*(18) + X(1) <=> CO2*(15) + H*(10)                   0\n 27 : CO2*(15) + H*(10) <=> HCOO*(17) + X(1)                   0\n 26 : CH3O*(20) + H*(10) <=> CH3OH*(22) + X(1)                 0\n\nHighest reverse rates of progress, gas\n  6 : CO2(4) + H2(2) <=> HCOOH(7)                              0\n  5 : CO2(4) + H2(2) <=> HCOOH(7)                              0\n  4 : CH3OH(8) + CO(3) <=> HCOOCH3(9)                          0\n  3 : CO2(4) + H2(2) <=> HCOOH(7)                              0\n  2 : CO(3) + H2O(5) <=> HCOOH(7)                              0\n  1 : CO(3) + H2(2) <=> CH2O(6)                                0\n\nHighest reverse rates of progress, surface\n 64 : CH2O*(19) + H2X(48) <=> CH3O*(20) + H*(10)               0\n 63 : CO2*(15) + H2X(48) <=> COOH*(18) + H*(10)                0\n 30 : 2 OH*(12) <=> H2O*(13) + O*(11)                          0\n 29 : CH2O*(19) + H*(10) <=> CH3O*(20) + X(1)                  0\n 28 : COOH*(18) + X(1) <=> CO2*(15) + H*(10)                   0\n 27 : CO2*(15) + H*(10) <=> HCOO*(17) + X(1)                   0\n 26 : CH3O*(20) + H*(10) <=> CH3OH*(22) + X(1)                 0\n"
     ]
    }
   ],
   "source": [
    "# Report the highest rates in reaction\n",
    "def report_rates(n=8):\n",
    "    print(\"\\nHighest net rates of progress, gas\")\n",
    "    for i in np.argsort(abs(gas.net_rates_of_progress))[-1:-n:-1]: # top n in descending order\n",
    "        print(f\"{i+1:3d} : {gas.reaction_equation(i):48s}  {gas.net_rates_of_progress[i]:8.1g}\")\n",
    "    print(\"\\nHighest net rates of progress, surface\")\n",
    "    for i in np.argsort(abs(surf.net_rates_of_progress))[-1:-n:-1]: # top n in descending order\n",
    "        print(f\"{i+1:3d} : {surf.reaction_equation(i):48s}  {surf.net_rates_of_progress[i]:8.1g}\")\n",
    "    print(\"\\nHighest forward rates of progress, gas\")\n",
    "    for i in np.argsort(abs(gas.forward_rates_of_progress))[-1:-n:-1]: # top n in descending order\n",
    "        print(f\"{i+1:3d} : {gas.reaction_equation(i):48s}  {gas.forward_rates_of_progress[i]:8.1g}\")\n",
    "    print(\"\\nHighest forward rates of progress, surface\")\n",
    "    for i in np.argsort(abs(surf.forward_rates_of_progress))[-1:-n:-1]: # top n in descending order\n",
    "        print(f\"{i+1:3d} : {surf.reaction_equation(i):48s}  {surf.forward_rates_of_progress[i]:8.1g}\")\n",
    "    print(\"\\nHighest reverse rates of progress, gas\")\n",
    "    for i in np.argsort(abs(gas.reverse_rates_of_progress))[-1:-n:-1]: # top n in descending order\n",
    "        print(f\"{i+1:3d} : {gas.reaction_equation(i):48s}  {gas.reverse_rates_of_progress[i]:8.1g}\")\n",
    "    print(\"\\nHighest reverse rates of progress, surface\")\n",
    "    for i in np.argsort(abs(surf.reverse_rates_of_progress))[-1:-n:-1]: # top n in descending order\n",
    "        print(f\"{i+1:3d} : {surf.reaction_equation(i):48s}  {surf.reverse_rates_of_progress[i]:8.1g}\")\n",
    "\n",
    "report_rates()"
   ]
  },
  {
   "cell_type": "code",
   "execution_count": 218,
   "metadata": {},
   "outputs": [
    {
     "output_type": "stream",
     "name": "stdout",
     "text": [
      "\nHighest forward rate constants, gas\n  2 : CO(3) + H2O(5) <=> HCOOH(7)                        1.7e-17\n  4 : CH3OH(8) + CO(3) <=> HCOOCH3(9)                    8.4e-18\n  6 : CO2(4) + H2(2) <=> HCOOH(7)                        2.5e-23\n  5 : CO2(4) + H2(2) <=> HCOOH(7)                        2.5e-23\n  3 : CO2(4) + H2(2) <=> HCOOH(7)                        2.5e-23\n  1 : CO(3) + H2(2) <=> CH2O(6)                          8.6e-27\n\nHighest forward rate constants, surface\n 26 : CH3O*(20) + H*(10) <=> CH3OH*(22) + X(1)           8.5e+20\nFalse\n 44 : COOH*(18) + OH*(12) <=> CO2*(15) + H2O*(13)        3.4e+20\nFalse\n 55 : CH2O*(19) + HCO*(16) <=> CH3O*(20) + CO*(14)       3.4e+20\nFalse\n 31 : HCO*(16) + O*(11) <=> CO*(14) + OH*(12)            3.3e+20\nFalse\n 29 : CH2O*(19) + H*(10) <=> CH3O*(20) + X(1)            2.4e+18\nFalse\n 41 : HCO*(16) + OH*(12) <=> CO*(14) + H2O*(13)          3.2e+17\nFalse\n 24 : CO*(14) + OH*(12) <=> COOH*(18) + X(1)             2.6e+16\nFalse\n\nHighest reverse rate constants, gas\n  2 : CO(3) + H2O(5) <=> HCOOH(7)                        1.2e-14\n  4 : CH3OH(8) + CO(3) <=> HCOOCH3(9)                    2.1e-16\n  6 : CO2(4) + H2(2) <=> HCOOH(7)                        2.4e-18\n  5 : CO2(4) + H2(2) <=> HCOOH(7)                        2.4e-18\n  3 : CO2(4) + H2(2) <=> HCOOH(7)                        2.4e-18\n  1 : CO(3) + H2(2) <=> CH2O(6)                          1.5e-22\n\nHighest reverse rate constants, surface\n 55 : CH2O*(19) + HCO*(16) <=> CH3O*(20) + CO*(14)       2.3e+23\n 16 : CH3OH(8) + 2 X(1) <=> CH3O*(20) + H*(10)           1.7e+22\n 56 : CH2O*(19) + COOH*(18) <=> CH3O2*(21) + CO*(14)     6.3e+21\n 46 : CH2O*(19) + H2O*(13) <=> CH3O2*(21) + H*(10)       6.1e+21\n 27 : CO2*(15) + H*(10) <=> HCOO*(17) + X(1)             4.8e+21\n 29 : CH2O*(19) + H*(10) <=> CH3O*(20) + X(1)            4.7e+21\n 62 : CO2*(15) + H2X(48) <=> H*(10) + HCOO*(17)          4.3e+21\nUnits are a combination of kmol, m^3 and s, that depend on the rate expression for the reaction.\n"
     ]
    }
   ],
   "source": [
    "def report_rate_constants(n=8):\n",
    "    print(\"\\nHighest forward rate constants, gas\")\n",
    "    for i in np.argsort(abs(gas.forward_rate_constants))[-1:-n:-1]: # top n in descending order\n",
    "        print(f\"{i+1:3d} : {gas.reaction_equation(i):48s}  {gas.forward_rate_constants[i]:8.1e}\")\n",
    "    print(\"\\nHighest forward rate constants, surface\")\n",
    "    for i in np.argsort(abs(surf.forward_rate_constants))[-1:-n:-1]: # top n in descending order\n",
    "        print(f\"{i+1:3d} : {surf.reaction_equation(i):48s}  {surf.forward_rate_constants[i]:8.1e}\")\n",
    "        print(surf.reaction(i).is_sticking_coefficient)\n",
    "    print(\"\\nHighest reverse rate constants, gas\")\n",
    "    for i in np.argsort(abs(gas.reverse_rate_constants))[-1:-n:-1]: # top n in descending order\n",
    "        print(f\"{i+1:3d} : {gas.reaction_equation(i):48s}  {gas.reverse_rate_constants[i]:8.1e}\")\n",
    "    print(\"\\nHighest reverse rate constants, surface\")\n",
    "    for i in np.argsort(abs(surf.reverse_rate_constants))[-1:-n:-1]: # top n in descending order\n",
    "        print(f\"{i+1:3d} : {surf.reaction_equation(i):48s}  {surf.reverse_rate_constants[i]:8.1e}\")\n",
    "\n",
    "    print(\"Units are a combination of kmol, m^3 and s, that depend on the rate expression for the reaction.\")\n",
    "report_rate_constants()"
   ]
  },
  {
   "source": [
    "#################################################\n",
    "# Run single reactor \n",
    "#################################################\n",
    "\n",
    "output_filename = f'Grabow_Results_RMG'\n",
    "outfile = open(output_filename,'w')\n",
    "writer = csv.writer(outfile)\n",
    "writer.writerow(['T (C)', 'P (atm)', 'V (M^3/s)', 'X_co initial','X_co initial','X_co initial', 'T (C) final'] +\n",
    "                gas.species_names + surf.species_names,)\n",
    "\n",
    "t = 0.0\n",
    "dt = 0.1\n",
    "# sim.max_err_test_fails = 1e6\n",
    "\n",
    "while t < 100000.0:\n",
    "    t += dt\n",
    "    sim.advance(t)\n",
    "\n",
    "\n",
    "\n",
    "\n",
    "\n",
    "\n",
    "\n",
    "\n",
    "\n",
    "\n",
    "\n"
   ],
   "cell_type": "code",
   "metadata": {},
   "execution_count": 219,
   "outputs": []
  },
  {
   "cell_type": "code",
   "execution_count": 220,
   "metadata": {},
   "outputs": [
    {
     "output_type": "stream",
     "name": "stdout",
     "text": [
      "\n***********************************************************************\nCanteraError thrown by checkFinite:\nydot contains non-finite elements:\n\nydot[0] = -nan\nydot[2] = -nan\nydot[3] = -nan\nydot[4] = -nan\nydot[5] = -nan\nydot[6] = -nan\nydot[7] = -nan\nydot[8] = -nan\nydot[9] = -nan\nydot[10] = -nan\nydot[11] = -nan\nydot[12] = -nan\nydot[13] = -nan\nydot[14] = -nan\nydot[15] = -nan\nydot[16] = -nan\nydot[17] = -nan\nydot[18] = -nan\nydot[19] = -nan\nydot[20] = -nan\nydot[21] = -nan\nydot[22] = -nan\nydot[23] = -nan\nydot[24] = -nan\nydot[25] = -nan\nydot[26] = -nan\nydot[27] = -nan\n***********************************************************************\n\n***********************************************************************\nCanteraError thrown by checkFinite:\nydot contains non-finite elements:\n\nydot[0] = -nan\nydot[2] = -nan\nydot[3] = -nan\nydot[4] = -nan\nydot[5] = -nan\nydot[6] = -nan\nydot[7] = -nan\nydot[8] = -nan\nydot[9] = -nan\nydot[10] = -nan\nydot[11] = -nan\nydot[12] = -nan\nydot[13] = -nan\nydot[14] = -nan\nydot[15] = -nan\nydot[16] = -nan\nydot[17] = -nan\nydot[18] = -nan\nydot[19] = -nan\nydot[20] = -nan\nydot[21] = -nan\nydot[22] = -nan\nydot[23] = -nan\nydot[24] = -nan\nydot[25] = -nan\nydot[26] = -nan\nydot[27] = -nan\n***********************************************************************\n\n***********************************************************************\nCanteraError thrown by checkFinite:\nydot contains non-finite elements:\n\nydot[0] = -nan\nydot[2] = -nan\nydot[3] = -nan\nydot[4] = -nan\nydot[5] = -nan\nydot[6] = -nan\nydot[7] = -nan\nydot[8] = -nan\nydot[9] = -nan\nydot[10] = -nan\nydot[11] = -nan\nydot[12] = -nan\nydot[13] = -nan\nydot[14] = -nan\nydot[15] = -nan\nydot[16] = -nan\nydot[17] = -nan\nydot[18] = -nan\nydot[19] = -nan\nydot[20] = -nan\nydot[21] = -nan\nydot[22] = -nan\nydot[23] = -nan\nydot[24] = -nan\nydot[25] = -nan\nydot[26] = -nan\nydot[27] = -nan\n***********************************************************************\n\n***********************************************************************\nCanteraError thrown by checkFinite:\nydot contains non-finite elements:\n\nydot[0] = -nan\nydot[2] = -nan\nydot[3] = -nan\nydot[4] = -nan\nydot[5] = -nan\nydot[6] = -nan\nydot[7] = -nan\nydot[8] = -nan\nydot[9] = -nan\nydot[10] = -nan\nydot[11] = -nan\nydot[12] = -nan\nydot[13] = -nan\nydot[14] = -nan\nydot[15] = -nan\nydot[16] = -nan\nydot[17] = -nan\nydot[18] = -nan\nydot[19] = -nan\nydot[20] = -nan\nydot[21] = -nan\nydot[22] = -nan\nydot[23] = -nan\nydot[24] = -nan\nydot[25] = -nan\nydot[26] = -nan\nydot[27] = -nan\n***********************************************************************\n\n***********************************************************************\nCanteraError thrown by checkFinite:\nydot contains non-finite elements:\n\nydot[0] = -nan\nydot[2] = -nan\nydot[3] = -nan\nydot[4] = -nan\nydot[5] = -nan\nydot[6] = -nan\nydot[7] = -nan\nydot[8] = -nan\nydot[9] = -nan\nydot[10] = -nan\nydot[11] = -nan\nydot[12] = -nan\nydot[13] = -nan\nydot[14] = -nan\nydot[15] = -nan\nydot[16] = -nan\nydot[17] = -nan\nydot[18] = -nan\nydot[19] = -nan\nydot[20] = -nan\nydot[21] = -nan\nydot[22] = -nan\nydot[23] = -nan\nydot[24] = -nan\nydot[25] = -nan\nydot[26] = -nan\nydot[27] = -nan\n***********************************************************************\n\n***********************************************************************\nCanteraError thrown by checkFinite:\nydot contains non-finite elements:\n\nydot[0] = -nan\nydot[2] = -nan\nydot[3] = -nan\nydot[4] = -nan\nydot[5] = -nan\nydot[6] = -nan\nydot[7] = -nan\nydot[8] = -nan\nydot[9] = -nan\nydot[10] = -nan\nydot[11] = -nan\nydot[12] = -nan\nydot[13] = -nan\nydot[14] = -nan\nydot[15] = -nan\nydot[16] = -nan\nydot[17] = -nan\nydot[18] = -nan\nydot[19] = -nan\nydot[20] = -nan\nydot[21] = -nan\nydot[22] = -nan\nydot[23] = -nan\nydot[24] = -nan\nydot[25] = -nan\nydot[26] = -nan\nydot[27] = -nan\n***********************************************************************\n\n***********************************************************************\nCanteraError thrown by checkFinite:\nydot contains non-finite elements:\n\nydot[0] = -nan\nydot[2] = -nan\nydot[3] = -nan\nydot[4] = -nan\nydot[5] = -nan\nydot[6] = -nan\nydot[7] = -nan\nydot[8] = -nan\nydot[9] = -nan\nydot[10] = -nan\nydot[11] = -nan\nydot[12] = -nan\nydot[13] = -nan\nydot[14] = -nan\nydot[15] = -nan\nydot[16] = -nan\nydot[17] = -nan\nydot[18] = -nan\nydot[19] = -nan\nydot[20] = -nan\nydot[21] = -nan\nydot[22] = -nan\nydot[23] = -nan\nydot[24] = -nan\nydot[25] = -nan\nydot[26] = -nan\nydot[27] = -nan\n***********************************************************************\n\n***********************************************************************\nCanteraError thrown by checkFinite:\nydot contains non-finite elements:\n\nydot[0] = -nan\nydot[2] = -nan\nydot[3] = -nan\nydot[4] = -nan\nydot[5] = -nan\nydot[6] = -nan\nydot[7] = -nan\nydot[8] = -nan\nydot[9] = -nan\nydot[10] = -nan\nydot[11] = -nan\nydot[12] = -nan\nydot[13] = -nan\nydot[14] = -nan\nydot[15] = -nan\nydot[16] = -nan\nydot[17] = -nan\nydot[18] = -nan\nydot[19] = -nan\nydot[20] = -nan\nydot[21] = -nan\nydot[22] = -nan\nydot[23] = -nan\nydot[24] = -nan\nydot[25] = -nan\nydot[26] = -nan\nydot[27] = -nan\n***********************************************************************\n\n***********************************************************************\nCanteraError thrown by checkFinite:\nydot contains non-finite elements:\n\nydot[0] = -nan\nydot[2] = -nan\nydot[3] = -nan\nydot[4] = -nan\nydot[5] = -nan\nydot[6] = -nan\nydot[7] = -nan\nydot[8] = -nan\nydot[9] = -nan\nydot[10] = -nan\nydot[11] = -nan\nydot[12] = -nan\nydot[13] = -nan\nydot[14] = -nan\nydot[15] = -nan\nydot[16] = -nan\nydot[17] = -nan\nydot[18] = -nan\nydot[19] = -nan\nydot[20] = -nan\nydot[21] = -nan\nydot[22] = -nan\nydot[23] = -nan\nydot[24] = -nan\nydot[25] = -nan\nydot[26] = -nan\nydot[27] = -nan\n***********************************************************************\n\n***********************************************************************\nCanteraError thrown by checkFinite:\nydot contains non-finite elements:\n\nydot[0] = -nan\nydot[2] = -nan\nydot[3] = -nan\nydot[4] = -nan\nydot[5] = -nan\nydot[6] = -nan\nydot[7] = -nan\nydot[8] = -nan\nydot[9] = -nan\nydot[10] = -nan\nydot[11] = -nan\nydot[12] = -nan\nydot[13] = -nan\nydot[14] = -nan\nydot[15] = -nan\nydot[16] = -nan\nydot[17] = -nan\nydot[18] = -nan\nydot[19] = -nan\nydot[20] = -nan\nydot[21] = -nan\nydot[22] = -nan\nydot[23] = -nan\nydot[24] = -nan\nydot[25] = -nan\nydot[26] = -nan\nydot[27] = -nan\n***********************************************************************\n"
     ]
    },
    {
     "output_type": "error",
     "ename": "CanteraError",
     "evalue": "\n***********************************************************************\nCanteraError thrown by CVodesIntegrator::step:\nCVodes error encountered. Error code: -10\n\nAt t = 6.86305e+14 repeated recoverable right-hand side function errors.\nComponents with largest weighted error estimates:\n0: -nan\n1: 0\n2: -nan\n3: -nan\n4: -nan\n5: -nan\n6: -nan\n7: -nan\n8: -nan\n9: -nan\n***********************************************************************\n",
     "traceback": [
      "\u001b[0;31m---------------------------------------------------------------------------\u001b[0m",
      "\u001b[0;31mCanteraError\u001b[0m                              Traceback (most recent call last)",
      "\u001b[0;32m<ipython-input-220-eae07dfd3579>\u001b[0m in \u001b[0;36m<module>\u001b[0;34m\u001b[0m\n\u001b[0;32m----> 1\u001b[0;31m \u001b[0msim\u001b[0m\u001b[0;34m.\u001b[0m\u001b[0madvance_to_steady_state\u001b[0m\u001b[0;34m(\u001b[0m\u001b[0;34m)\u001b[0m\u001b[0;34m\u001b[0m\u001b[0;34m\u001b[0m\u001b[0m\n\u001b[0m\u001b[1;32m      2\u001b[0m \u001b[0;31m# writer.writerow([temp, pressure, 'V (M^3/s)', 'X_co initial','X_co initial','X_co initial', gas.T] +\u001b[0m\u001b[0;34m\u001b[0m\u001b[0;34m\u001b[0m\u001b[0;34m\u001b[0m\u001b[0m\n\u001b[1;32m      3\u001b[0m                 \u001b[0;31m# list(gas.X) + list(surf.X),)\u001b[0m\u001b[0;34m\u001b[0m\u001b[0;34m\u001b[0m\u001b[0;34m\u001b[0m\u001b[0m\n",
      "\u001b[0;32minterfaces/cython/cantera/reactor.pyx\u001b[0m in \u001b[0;36mcantera._cantera.ReactorNet.advance_to_steady_state\u001b[0;34m()\u001b[0m\n",
      "\u001b[0;32minterfaces/cython/cantera/reactor.pyx\u001b[0m in \u001b[0;36mcantera._cantera.ReactorNet.step\u001b[0;34m()\u001b[0m\n",
      "\u001b[0;31mCanteraError\u001b[0m: \n***********************************************************************\nCanteraError thrown by CVodesIntegrator::step:\nCVodes error encountered. Error code: -10\n\nAt t = 6.86305e+14 repeated recoverable right-hand side function errors.\nComponents with largest weighted error estimates:\n0: -nan\n1: 0\n2: -nan\n3: -nan\n4: -nan\n5: -nan\n6: -nan\n7: -nan\n8: -nan\n9: -nan\n***********************************************************************\n"
     ]
    }
   ],
   "source": [
    "sim.advance_to_steady_state()\n",
    "# writer.writerow([temp, pressure, 'V (M^3/s)', 'X_co initial','X_co initial','X_co initial', gas.T] +\n",
    "                # list(gas.X) + list(surf.X),)"
   ]
  },
  {
   "cell_type": "code",
   "execution_count": 204,
   "metadata": {},
   "outputs": [
    {
     "output_type": "execute_result",
     "data": {
      "text/plain": [
       "'IdealGasReactor_80: mass'"
      ]
     },
     "metadata": {},
     "execution_count": 204
    }
   ],
   "source": [
    "# print(np.nonzero(np.isnan(gas.reverse_rate_constants)))\n",
    "sim.component_name(0)"
   ]
  },
  {
   "source": [
    "t = 0.0\n",
    "dt = 0.1\n",
    "\n",
    "# Setup solution array\n",
    "states = ct.SolutionArray(gas, extra=['t'])\n",
    "\n",
    "\n",
    "while t < 10000.0:\n",
    "    t += dt\n",
    "    sim.advance(t)\n",
    "    states.append(r.thermo.state, t=t)\n",
    "\n",
    "if __name__ == '__main__':\n",
    "    print(__doc__)\n",
    "    try:\n",
    "        import matplotlib.pyplot as plt\n",
    "        plt.figure(1)\n",
    "        plt.plot(states.t, states('CO(3)','CO2(4)','H2O(5)').Y)\n",
    "        plt.title('Mass Fractions')\n",
    "        plt.legend([\"CO\",\"CO2\",\"H2O\"])\n",
    "        plt.show()\n",
    "    except ImportError:\n",
    "        print('Matplotlib not found. Unable to plot results.')"
   ],
   "cell_type": "code",
   "metadata": {},
   "execution_count": 222,
   "outputs": [
    {
     "output_type": "stream",
     "name": "stdout",
     "text": [
      "Automatically created module for IPython interactive environment\n"
     ]
    },
    {
     "output_type": "display_data",
     "data": {
      "text/plain": "<Figure size 432x288 with 1 Axes>",
      "image/svg+xml": "<?xml version=\"1.0\" encoding=\"utf-8\" standalone=\"no\"?>\n<!DOCTYPE svg PUBLIC \"-//W3C//DTD SVG 1.1//EN\"\n  \"http://www.w3.org/Graphics/SVG/1.1/DTD/svg11.dtd\">\n<!-- Created with matplotlib (https://matplotlib.org/) -->\n<svg height=\"263.63625pt\" version=\"1.1\" viewBox=\"0 0 372.791193 263.63625\" width=\"372.791193pt\" xmlns=\"http://www.w3.org/2000/svg\" xmlns:xlink=\"http://www.w3.org/1999/xlink\">\n <metadata>\n  <rdf:RDF xmlns:cc=\"http://creativecommons.org/ns#\" xmlns:dc=\"http://purl.org/dc/elements/1.1/\" xmlns:rdf=\"http://www.w3.org/1999/02/22-rdf-syntax-ns#\">\n   <cc:Work>\n    <dc:type rdf:resource=\"http://purl.org/dc/dcmitype/StillImage\"/>\n    <dc:date>2020-11-18T15:21:11.204006</dc:date>\n    <dc:format>image/svg+xml</dc:format>\n    <dc:creator>\n     <cc:Agent>\n      <dc:title>Matplotlib v3.3.2, https://matplotlib.org/</dc:title>\n     </cc:Agent>\n    </dc:creator>\n   </cc:Work>\n  </rdf:RDF>\n </metadata>\n <defs>\n  <style type=\"text/css\">*{stroke-linecap:butt;stroke-linejoin:round;}</style>\n </defs>\n <g id=\"figure_1\">\n  <g id=\"patch_1\">\n   <path d=\"M 0 263.63625 \nL 372.791193 263.63625 \nL 372.791193 0 \nL 0 0 \nz\n\" style=\"fill:none;\"/>\n  </g>\n  <g id=\"axes_1\">\n   <g id=\"patch_2\">\n    <path d=\"M 30.103125 239.758125 \nL 364.903125 239.758125 \nL 364.903125 22.318125 \nL 30.103125 22.318125 \nz\n\" style=\"fill:#ffffff;\"/>\n   </g>\n   <g id=\"matplotlib.axis_1\">\n    <g id=\"xtick_1\">\n     <g id=\"line2d_1\">\n      <defs>\n       <path d=\"M 0 0 \nL 0 3.5 \n\" id=\"m9fb8169db8\" style=\"stroke:#000000;stroke-width:0.8;\"/>\n      </defs>\n      <g>\n       <use style=\"stroke:#000000;stroke-width:0.8;\" x=\"45.318263\" xlink:href=\"#m9fb8169db8\" y=\"239.758125\"/>\n      </g>\n     </g>\n     <g id=\"text_1\">\n      <!-- 0 -->\n      <g transform=\"translate(42.137013 254.356563)scale(0.1 -0.1)\">\n       <defs>\n        <path d=\"M 31.78125 66.40625 \nQ 24.171875 66.40625 20.328125 58.90625 \nQ 16.5 51.421875 16.5 36.375 \nQ 16.5 21.390625 20.328125 13.890625 \nQ 24.171875 6.390625 31.78125 6.390625 \nQ 39.453125 6.390625 43.28125 13.890625 \nQ 47.125 21.390625 47.125 36.375 \nQ 47.125 51.421875 43.28125 58.90625 \nQ 39.453125 66.40625 31.78125 66.40625 \nz\nM 31.78125 74.21875 \nQ 44.046875 74.21875 50.515625 64.515625 \nQ 56.984375 54.828125 56.984375 36.375 \nQ 56.984375 17.96875 50.515625 8.265625 \nQ 44.046875 -1.421875 31.78125 -1.421875 \nQ 19.53125 -1.421875 13.0625 8.265625 \nQ 6.59375 17.96875 6.59375 36.375 \nQ 6.59375 54.828125 13.0625 64.515625 \nQ 19.53125 74.21875 31.78125 74.21875 \nz\n\" id=\"DejaVuSans-48\"/>\n       </defs>\n       <use xlink:href=\"#DejaVuSans-48\"/>\n      </g>\n     </g>\n    </g>\n    <g id=\"xtick_2\">\n     <g id=\"line2d_2\">\n      <g>\n       <use style=\"stroke:#000000;stroke-width:0.8;\" x=\"106.191599\" xlink:href=\"#m9fb8169db8\" y=\"239.758125\"/>\n      </g>\n     </g>\n     <g id=\"text_2\">\n      <!-- 2000 -->\n      <g transform=\"translate(93.466599 254.356563)scale(0.1 -0.1)\">\n       <defs>\n        <path d=\"M 19.1875 8.296875 \nL 53.609375 8.296875 \nL 53.609375 0 \nL 7.328125 0 \nL 7.328125 8.296875 \nQ 12.9375 14.109375 22.625 23.890625 \nQ 32.328125 33.6875 34.8125 36.53125 \nQ 39.546875 41.84375 41.421875 45.53125 \nQ 43.3125 49.21875 43.3125 52.78125 \nQ 43.3125 58.59375 39.234375 62.25 \nQ 35.15625 65.921875 28.609375 65.921875 \nQ 23.96875 65.921875 18.8125 64.3125 \nQ 13.671875 62.703125 7.8125 59.421875 \nL 7.8125 69.390625 \nQ 13.765625 71.78125 18.9375 73 \nQ 24.125 74.21875 28.421875 74.21875 \nQ 39.75 74.21875 46.484375 68.546875 \nQ 53.21875 62.890625 53.21875 53.421875 \nQ 53.21875 48.921875 51.53125 44.890625 \nQ 49.859375 40.875 45.40625 35.40625 \nQ 44.1875 33.984375 37.640625 27.21875 \nQ 31.109375 20.453125 19.1875 8.296875 \nz\n\" id=\"DejaVuSans-50\"/>\n       </defs>\n       <use xlink:href=\"#DejaVuSans-50\"/>\n       <use x=\"63.623047\" xlink:href=\"#DejaVuSans-48\"/>\n       <use x=\"127.246094\" xlink:href=\"#DejaVuSans-48\"/>\n       <use x=\"190.869141\" xlink:href=\"#DejaVuSans-48\"/>\n      </g>\n     </g>\n    </g>\n    <g id=\"xtick_3\">\n     <g id=\"line2d_3\">\n      <g>\n       <use style=\"stroke:#000000;stroke-width:0.8;\" x=\"167.064935\" xlink:href=\"#m9fb8169db8\" y=\"239.758125\"/>\n      </g>\n     </g>\n     <g id=\"text_3\">\n      <!-- 4000 -->\n      <g transform=\"translate(154.339935 254.356563)scale(0.1 -0.1)\">\n       <defs>\n        <path d=\"M 37.796875 64.3125 \nL 12.890625 25.390625 \nL 37.796875 25.390625 \nz\nM 35.203125 72.90625 \nL 47.609375 72.90625 \nL 47.609375 25.390625 \nL 58.015625 25.390625 \nL 58.015625 17.1875 \nL 47.609375 17.1875 \nL 47.609375 0 \nL 37.796875 0 \nL 37.796875 17.1875 \nL 4.890625 17.1875 \nL 4.890625 26.703125 \nz\n\" id=\"DejaVuSans-52\"/>\n       </defs>\n       <use xlink:href=\"#DejaVuSans-52\"/>\n       <use x=\"63.623047\" xlink:href=\"#DejaVuSans-48\"/>\n       <use x=\"127.246094\" xlink:href=\"#DejaVuSans-48\"/>\n       <use x=\"190.869141\" xlink:href=\"#DejaVuSans-48\"/>\n      </g>\n     </g>\n    </g>\n    <g id=\"xtick_4\">\n     <g id=\"line2d_4\">\n      <g>\n       <use style=\"stroke:#000000;stroke-width:0.8;\" x=\"227.938271\" xlink:href=\"#m9fb8169db8\" y=\"239.758125\"/>\n      </g>\n     </g>\n     <g id=\"text_4\">\n      <!-- 6000 -->\n      <g transform=\"translate(215.213271 254.356563)scale(0.1 -0.1)\">\n       <defs>\n        <path d=\"M 33.015625 40.375 \nQ 26.375 40.375 22.484375 35.828125 \nQ 18.609375 31.296875 18.609375 23.390625 \nQ 18.609375 15.53125 22.484375 10.953125 \nQ 26.375 6.390625 33.015625 6.390625 \nQ 39.65625 6.390625 43.53125 10.953125 \nQ 47.40625 15.53125 47.40625 23.390625 \nQ 47.40625 31.296875 43.53125 35.828125 \nQ 39.65625 40.375 33.015625 40.375 \nz\nM 52.59375 71.296875 \nL 52.59375 62.3125 \nQ 48.875 64.0625 45.09375 64.984375 \nQ 41.3125 65.921875 37.59375 65.921875 \nQ 27.828125 65.921875 22.671875 59.328125 \nQ 17.53125 52.734375 16.796875 39.40625 \nQ 19.671875 43.65625 24.015625 45.921875 \nQ 28.375 48.1875 33.59375 48.1875 \nQ 44.578125 48.1875 50.953125 41.515625 \nQ 57.328125 34.859375 57.328125 23.390625 \nQ 57.328125 12.15625 50.6875 5.359375 \nQ 44.046875 -1.421875 33.015625 -1.421875 \nQ 20.359375 -1.421875 13.671875 8.265625 \nQ 6.984375 17.96875 6.984375 36.375 \nQ 6.984375 53.65625 15.1875 63.9375 \nQ 23.390625 74.21875 37.203125 74.21875 \nQ 40.921875 74.21875 44.703125 73.484375 \nQ 48.484375 72.75 52.59375 71.296875 \nz\n\" id=\"DejaVuSans-54\"/>\n       </defs>\n       <use xlink:href=\"#DejaVuSans-54\"/>\n       <use x=\"63.623047\" xlink:href=\"#DejaVuSans-48\"/>\n       <use x=\"127.246094\" xlink:href=\"#DejaVuSans-48\"/>\n       <use x=\"190.869141\" xlink:href=\"#DejaVuSans-48\"/>\n      </g>\n     </g>\n    </g>\n    <g id=\"xtick_5\">\n     <g id=\"line2d_5\">\n      <g>\n       <use style=\"stroke:#000000;stroke-width:0.8;\" x=\"288.811607\" xlink:href=\"#m9fb8169db8\" y=\"239.758125\"/>\n      </g>\n     </g>\n     <g id=\"text_5\">\n      <!-- 8000 -->\n      <g transform=\"translate(276.086607 254.356563)scale(0.1 -0.1)\">\n       <defs>\n        <path d=\"M 31.78125 34.625 \nQ 24.75 34.625 20.71875 30.859375 \nQ 16.703125 27.09375 16.703125 20.515625 \nQ 16.703125 13.921875 20.71875 10.15625 \nQ 24.75 6.390625 31.78125 6.390625 \nQ 38.8125 6.390625 42.859375 10.171875 \nQ 46.921875 13.96875 46.921875 20.515625 \nQ 46.921875 27.09375 42.890625 30.859375 \nQ 38.875 34.625 31.78125 34.625 \nz\nM 21.921875 38.8125 \nQ 15.578125 40.375 12.03125 44.71875 \nQ 8.5 49.078125 8.5 55.328125 \nQ 8.5 64.0625 14.71875 69.140625 \nQ 20.953125 74.21875 31.78125 74.21875 \nQ 42.671875 74.21875 48.875 69.140625 \nQ 55.078125 64.0625 55.078125 55.328125 \nQ 55.078125 49.078125 51.53125 44.71875 \nQ 48 40.375 41.703125 38.8125 \nQ 48.828125 37.15625 52.796875 32.3125 \nQ 56.78125 27.484375 56.78125 20.515625 \nQ 56.78125 9.90625 50.3125 4.234375 \nQ 43.84375 -1.421875 31.78125 -1.421875 \nQ 19.734375 -1.421875 13.25 4.234375 \nQ 6.78125 9.90625 6.78125 20.515625 \nQ 6.78125 27.484375 10.78125 32.3125 \nQ 14.796875 37.15625 21.921875 38.8125 \nz\nM 18.3125 54.390625 \nQ 18.3125 48.734375 21.84375 45.5625 \nQ 25.390625 42.390625 31.78125 42.390625 \nQ 38.140625 42.390625 41.71875 45.5625 \nQ 45.3125 48.734375 45.3125 54.390625 \nQ 45.3125 60.0625 41.71875 63.234375 \nQ 38.140625 66.40625 31.78125 66.40625 \nQ 25.390625 66.40625 21.84375 63.234375 \nQ 18.3125 60.0625 18.3125 54.390625 \nz\n\" id=\"DejaVuSans-56\"/>\n       </defs>\n       <use xlink:href=\"#DejaVuSans-56\"/>\n       <use x=\"63.623047\" xlink:href=\"#DejaVuSans-48\"/>\n       <use x=\"127.246094\" xlink:href=\"#DejaVuSans-48\"/>\n       <use x=\"190.869141\" xlink:href=\"#DejaVuSans-48\"/>\n      </g>\n     </g>\n    </g>\n    <g id=\"xtick_6\">\n     <g id=\"line2d_6\">\n      <g>\n       <use style=\"stroke:#000000;stroke-width:0.8;\" x=\"349.684943\" xlink:href=\"#m9fb8169db8\" y=\"239.758125\"/>\n      </g>\n     </g>\n     <g id=\"text_6\">\n      <!-- 10000 -->\n      <g transform=\"translate(333.778693 254.356563)scale(0.1 -0.1)\">\n       <defs>\n        <path d=\"M 12.40625 8.296875 \nL 28.515625 8.296875 \nL 28.515625 63.921875 \nL 10.984375 60.40625 \nL 10.984375 69.390625 \nL 28.421875 72.90625 \nL 38.28125 72.90625 \nL 38.28125 8.296875 \nL 54.390625 8.296875 \nL 54.390625 0 \nL 12.40625 0 \nz\n\" id=\"DejaVuSans-49\"/>\n       </defs>\n       <use xlink:href=\"#DejaVuSans-49\"/>\n       <use x=\"63.623047\" xlink:href=\"#DejaVuSans-48\"/>\n       <use x=\"127.246094\" xlink:href=\"#DejaVuSans-48\"/>\n       <use x=\"190.869141\" xlink:href=\"#DejaVuSans-48\"/>\n       <use x=\"254.492188\" xlink:href=\"#DejaVuSans-48\"/>\n      </g>\n     </g>\n    </g>\n   </g>\n   <g id=\"matplotlib.axis_2\">\n    <g id=\"ytick_1\">\n     <g id=\"line2d_7\">\n      <defs>\n       <path d=\"M 0 0 \nL -3.5 0 \n\" id=\"mca5f2877ca\" style=\"stroke:#000000;stroke-width:0.8;\"/>\n      </defs>\n      <g>\n       <use style=\"stroke:#000000;stroke-width:0.8;\" x=\"30.103125\" xlink:href=\"#mca5f2877ca\" y=\"229.897443\"/>\n      </g>\n     </g>\n     <g id=\"text_7\">\n      <!-- 0.0 -->\n      <g transform=\"translate(7.2 233.696662)scale(0.1 -0.1)\">\n       <defs>\n        <path d=\"M 10.6875 12.40625 \nL 21 12.40625 \nL 21 0 \nL 10.6875 0 \nz\n\" id=\"DejaVuSans-46\"/>\n       </defs>\n       <use xlink:href=\"#DejaVuSans-48\"/>\n       <use x=\"63.623047\" xlink:href=\"#DejaVuSans-46\"/>\n       <use x=\"95.410156\" xlink:href=\"#DejaVuSans-48\"/>\n      </g>\n     </g>\n    </g>\n    <g id=\"ytick_2\">\n     <g id=\"line2d_8\">\n      <g>\n       <use style=\"stroke:#000000;stroke-width:0.8;\" x=\"30.103125\" xlink:href=\"#mca5f2877ca\" y=\"200.248704\"/>\n      </g>\n     </g>\n     <g id=\"text_8\">\n      <!-- 0.1 -->\n      <g transform=\"translate(7.2 204.047923)scale(0.1 -0.1)\">\n       <use xlink:href=\"#DejaVuSans-48\"/>\n       <use x=\"63.623047\" xlink:href=\"#DejaVuSans-46\"/>\n       <use x=\"95.410156\" xlink:href=\"#DejaVuSans-49\"/>\n      </g>\n     </g>\n    </g>\n    <g id=\"ytick_3\">\n     <g id=\"line2d_9\">\n      <g>\n       <use style=\"stroke:#000000;stroke-width:0.8;\" x=\"30.103125\" xlink:href=\"#mca5f2877ca\" y=\"170.599965\"/>\n      </g>\n     </g>\n     <g id=\"text_9\">\n      <!-- 0.2 -->\n      <g transform=\"translate(7.2 174.399184)scale(0.1 -0.1)\">\n       <use xlink:href=\"#DejaVuSans-48\"/>\n       <use x=\"63.623047\" xlink:href=\"#DejaVuSans-46\"/>\n       <use x=\"95.410156\" xlink:href=\"#DejaVuSans-50\"/>\n      </g>\n     </g>\n    </g>\n    <g id=\"ytick_4\">\n     <g id=\"line2d_10\">\n      <g>\n       <use style=\"stroke:#000000;stroke-width:0.8;\" x=\"30.103125\" xlink:href=\"#mca5f2877ca\" y=\"140.951226\"/>\n      </g>\n     </g>\n     <g id=\"text_10\">\n      <!-- 0.3 -->\n      <g transform=\"translate(7.2 144.750445)scale(0.1 -0.1)\">\n       <defs>\n        <path d=\"M 40.578125 39.3125 \nQ 47.65625 37.796875 51.625 33 \nQ 55.609375 28.21875 55.609375 21.1875 \nQ 55.609375 10.40625 48.1875 4.484375 \nQ 40.765625 -1.421875 27.09375 -1.421875 \nQ 22.515625 -1.421875 17.65625 -0.515625 \nQ 12.796875 0.390625 7.625 2.203125 \nL 7.625 11.71875 \nQ 11.71875 9.328125 16.59375 8.109375 \nQ 21.484375 6.890625 26.8125 6.890625 \nQ 36.078125 6.890625 40.9375 10.546875 \nQ 45.796875 14.203125 45.796875 21.1875 \nQ 45.796875 27.640625 41.28125 31.265625 \nQ 36.765625 34.90625 28.71875 34.90625 \nL 20.21875 34.90625 \nL 20.21875 43.015625 \nL 29.109375 43.015625 \nQ 36.375 43.015625 40.234375 45.921875 \nQ 44.09375 48.828125 44.09375 54.296875 \nQ 44.09375 59.90625 40.109375 62.90625 \nQ 36.140625 65.921875 28.71875 65.921875 \nQ 24.65625 65.921875 20.015625 65.03125 \nQ 15.375 64.15625 9.8125 62.3125 \nL 9.8125 71.09375 \nQ 15.4375 72.65625 20.34375 73.4375 \nQ 25.25 74.21875 29.59375 74.21875 \nQ 40.828125 74.21875 47.359375 69.109375 \nQ 53.90625 64.015625 53.90625 55.328125 \nQ 53.90625 49.265625 50.4375 45.09375 \nQ 46.96875 40.921875 40.578125 39.3125 \nz\n\" id=\"DejaVuSans-51\"/>\n       </defs>\n       <use xlink:href=\"#DejaVuSans-48\"/>\n       <use x=\"63.623047\" xlink:href=\"#DejaVuSans-46\"/>\n       <use x=\"95.410156\" xlink:href=\"#DejaVuSans-51\"/>\n      </g>\n     </g>\n    </g>\n    <g id=\"ytick_5\">\n     <g id=\"line2d_11\">\n      <g>\n       <use style=\"stroke:#000000;stroke-width:0.8;\" x=\"30.103125\" xlink:href=\"#mca5f2877ca\" y=\"111.302487\"/>\n      </g>\n     </g>\n     <g id=\"text_11\">\n      <!-- 0.4 -->\n      <g transform=\"translate(7.2 115.101705)scale(0.1 -0.1)\">\n       <use xlink:href=\"#DejaVuSans-48\"/>\n       <use x=\"63.623047\" xlink:href=\"#DejaVuSans-46\"/>\n       <use x=\"95.410156\" xlink:href=\"#DejaVuSans-52\"/>\n      </g>\n     </g>\n    </g>\n    <g id=\"ytick_6\">\n     <g id=\"line2d_12\">\n      <g>\n       <use style=\"stroke:#000000;stroke-width:0.8;\" x=\"30.103125\" xlink:href=\"#mca5f2877ca\" y=\"81.653747\"/>\n      </g>\n     </g>\n     <g id=\"text_12\">\n      <!-- 0.5 -->\n      <g transform=\"translate(7.2 85.452966)scale(0.1 -0.1)\">\n       <defs>\n        <path d=\"M 10.796875 72.90625 \nL 49.515625 72.90625 \nL 49.515625 64.59375 \nL 19.828125 64.59375 \nL 19.828125 46.734375 \nQ 21.96875 47.46875 24.109375 47.828125 \nQ 26.265625 48.1875 28.421875 48.1875 \nQ 40.625 48.1875 47.75 41.5 \nQ 54.890625 34.8125 54.890625 23.390625 \nQ 54.890625 11.625 47.5625 5.09375 \nQ 40.234375 -1.421875 26.90625 -1.421875 \nQ 22.3125 -1.421875 17.546875 -0.640625 \nQ 12.796875 0.140625 7.71875 1.703125 \nL 7.71875 11.625 \nQ 12.109375 9.234375 16.796875 8.0625 \nQ 21.484375 6.890625 26.703125 6.890625 \nQ 35.15625 6.890625 40.078125 11.328125 \nQ 45.015625 15.765625 45.015625 23.390625 \nQ 45.015625 31 40.078125 35.4375 \nQ 35.15625 39.890625 26.703125 39.890625 \nQ 22.75 39.890625 18.8125 39.015625 \nQ 14.890625 38.140625 10.796875 36.28125 \nz\n\" id=\"DejaVuSans-53\"/>\n       </defs>\n       <use xlink:href=\"#DejaVuSans-48\"/>\n       <use x=\"63.623047\" xlink:href=\"#DejaVuSans-46\"/>\n       <use x=\"95.410156\" xlink:href=\"#DejaVuSans-53\"/>\n      </g>\n     </g>\n    </g>\n    <g id=\"ytick_7\">\n     <g id=\"line2d_13\">\n      <g>\n       <use style=\"stroke:#000000;stroke-width:0.8;\" x=\"30.103125\" xlink:href=\"#mca5f2877ca\" y=\"52.005008\"/>\n      </g>\n     </g>\n     <g id=\"text_13\">\n      <!-- 0.6 -->\n      <g transform=\"translate(7.2 55.804227)scale(0.1 -0.1)\">\n       <use xlink:href=\"#DejaVuSans-48\"/>\n       <use x=\"63.623047\" xlink:href=\"#DejaVuSans-46\"/>\n       <use x=\"95.410156\" xlink:href=\"#DejaVuSans-54\"/>\n      </g>\n     </g>\n    </g>\n    <g id=\"ytick_8\">\n     <g id=\"line2d_14\">\n      <g>\n       <use style=\"stroke:#000000;stroke-width:0.8;\" x=\"30.103125\" xlink:href=\"#mca5f2877ca\" y=\"22.356269\"/>\n      </g>\n     </g>\n     <g id=\"text_14\">\n      <!-- 0.7 -->\n      <g transform=\"translate(7.2 26.155488)scale(0.1 -0.1)\">\n       <defs>\n        <path d=\"M 8.203125 72.90625 \nL 55.078125 72.90625 \nL 55.078125 68.703125 \nL 28.609375 0 \nL 18.3125 0 \nL 43.21875 64.59375 \nL 8.203125 64.59375 \nz\n\" id=\"DejaVuSans-55\"/>\n       </defs>\n       <use xlink:href=\"#DejaVuSans-48\"/>\n       <use x=\"63.623047\" xlink:href=\"#DejaVuSans-46\"/>\n       <use x=\"95.410156\" xlink:href=\"#DejaVuSans-55\"/>\n      </g>\n     </g>\n    </g>\n   </g>\n   <g id=\"line2d_15\">\n    <path clip-path=\"url(#pe937a36863)\" d=\"M 45.321307 191.474955 \nL 51.378204 191.586189 \nL 57.222044 191.913439 \nL 62.654989 192.436839 \nL 67.56138 193.128597 \nL 71.91078 193.961742 \nL 75.724494 194.91397 \nL 79.051222 195.969076 \nL 81.95488 197.119068 \nL 84.493299 198.35988 \nL 86.721263 199.693034 \nL 88.693559 201.130014 \nL 90.449754 202.683067 \nL 92.029418 204.376116 \nL 93.469072 206.246659 \nL 94.796111 208.339439 \nL 96.04097 210.724237 \nL 97.249306 213.532508 \nL 98.509384 217.050894 \nL 101.732627 226.437345 \nL 102.453976 227.623596 \nL 103.138801 228.340653 \nL 103.872325 228.790182 \nL 104.779338 229.074669 \nL 106.145944 229.246181 \nL 109.253528 229.353747 \nL 124.770141 229.554764 \nL 155.998163 229.72398 \nL 224.760683 229.831867 \nL 349.684943 229.874489 \nL 349.684943 229.874489 \n\" style=\"fill:none;stroke:#1f77b4;stroke-linecap:square;stroke-width:1.5;\"/>\n   </g>\n   <g id=\"line2d_16\">\n    <path clip-path=\"url(#pe937a36863)\" d=\"M 45.321307 169.528222 \nL 349.684943 169.521992 \nL 349.684943 169.521992 \n\" style=\"fill:none;stroke:#ff7f0e;stroke-linecap:square;stroke-width:1.5;\"/>\n   </g>\n   <g id=\"line2d_17\">\n    <path clip-path=\"url(#pe937a36863)\" d=\"M 45.321307 32.201761 \nL 52.857426 32.312942 \nL 59.991781 32.636927 \nL 66.383481 33.144594 \nL 71.901649 33.799883 \nL 76.573678 34.572387 \nL 80.49392 35.439803 \nL 83.781081 36.389055 \nL 86.54473 37.412905 \nL 88.888353 38.513215 \nL 90.897173 39.698079 \nL 92.641195 40.982426 \nL 94.178246 42.389114 \nL 95.566158 43.961737 \nL 96.859717 45.768167 \nL 98.144144 47.956119 \nL 99.793812 51.262436 \nL 101.224335 53.959109 \nL 102.055256 55.068473 \nL 102.810085 55.718942 \nL 103.616657 56.119489 \nL 104.636285 56.364143 \nL 106.282909 56.500776 \nL 111.021898 56.584776 \nL 136.174761 56.746724 \nL 193.322649 56.851685 \nL 349.684943 56.898958 \nL 349.684943 56.898958 \n\" style=\"fill:none;stroke:#2ca02c;stroke-linecap:square;stroke-width:1.5;\"/>\n   </g>\n   <g id=\"patch_3\">\n    <path d=\"M 30.103125 239.758125 \nL 30.103125 22.318125 \n\" style=\"fill:none;stroke:#000000;stroke-linecap:square;stroke-linejoin:miter;stroke-width:0.8;\"/>\n   </g>\n   <g id=\"patch_4\">\n    <path d=\"M 364.903125 239.758125 \nL 364.903125 22.318125 \n\" style=\"fill:none;stroke:#000000;stroke-linecap:square;stroke-linejoin:miter;stroke-width:0.8;\"/>\n   </g>\n   <g id=\"patch_5\">\n    <path d=\"M 30.103125 239.758125 \nL 364.903125 239.758125 \n\" style=\"fill:none;stroke:#000000;stroke-linecap:square;stroke-linejoin:miter;stroke-width:0.8;\"/>\n   </g>\n   <g id=\"patch_6\">\n    <path d=\"M 30.103125 22.318125 \nL 364.903125 22.318125 \n\" style=\"fill:none;stroke:#000000;stroke-linecap:square;stroke-linejoin:miter;stroke-width:0.8;\"/>\n   </g>\n   <g id=\"text_15\">\n    <!-- Mass Fractions -->\n    <g transform=\"translate(153.414375 16.318125)scale(0.12 -0.12)\">\n     <defs>\n      <path d=\"M 9.8125 72.90625 \nL 24.515625 72.90625 \nL 43.109375 23.296875 \nL 61.8125 72.90625 \nL 76.515625 72.90625 \nL 76.515625 0 \nL 66.890625 0 \nL 66.890625 64.015625 \nL 48.09375 14.015625 \nL 38.1875 14.015625 \nL 19.390625 64.015625 \nL 19.390625 0 \nL 9.8125 0 \nz\n\" id=\"DejaVuSans-77\"/>\n      <path d=\"M 34.28125 27.484375 \nQ 23.390625 27.484375 19.1875 25 \nQ 14.984375 22.515625 14.984375 16.5 \nQ 14.984375 11.71875 18.140625 8.90625 \nQ 21.296875 6.109375 26.703125 6.109375 \nQ 34.1875 6.109375 38.703125 11.40625 \nQ 43.21875 16.703125 43.21875 25.484375 \nL 43.21875 27.484375 \nz\nM 52.203125 31.203125 \nL 52.203125 0 \nL 43.21875 0 \nL 43.21875 8.296875 \nQ 40.140625 3.328125 35.546875 0.953125 \nQ 30.953125 -1.421875 24.3125 -1.421875 \nQ 15.921875 -1.421875 10.953125 3.296875 \nQ 6 8.015625 6 15.921875 \nQ 6 25.140625 12.171875 29.828125 \nQ 18.359375 34.515625 30.609375 34.515625 \nL 43.21875 34.515625 \nL 43.21875 35.40625 \nQ 43.21875 41.609375 39.140625 45 \nQ 35.0625 48.390625 27.6875 48.390625 \nQ 23 48.390625 18.546875 47.265625 \nQ 14.109375 46.140625 10.015625 43.890625 \nL 10.015625 52.203125 \nQ 14.9375 54.109375 19.578125 55.046875 \nQ 24.21875 56 28.609375 56 \nQ 40.484375 56 46.34375 49.84375 \nQ 52.203125 43.703125 52.203125 31.203125 \nz\n\" id=\"DejaVuSans-97\"/>\n      <path d=\"M 44.28125 53.078125 \nL 44.28125 44.578125 \nQ 40.484375 46.53125 36.375 47.5 \nQ 32.28125 48.484375 27.875 48.484375 \nQ 21.1875 48.484375 17.84375 46.4375 \nQ 14.5 44.390625 14.5 40.28125 \nQ 14.5 37.15625 16.890625 35.375 \nQ 19.28125 33.59375 26.515625 31.984375 \nL 29.59375 31.296875 \nQ 39.15625 29.25 43.1875 25.515625 \nQ 47.21875 21.78125 47.21875 15.09375 \nQ 47.21875 7.46875 41.1875 3.015625 \nQ 35.15625 -1.421875 24.609375 -1.421875 \nQ 20.21875 -1.421875 15.453125 -0.5625 \nQ 10.6875 0.296875 5.421875 2 \nL 5.421875 11.28125 \nQ 10.40625 8.6875 15.234375 7.390625 \nQ 20.0625 6.109375 24.8125 6.109375 \nQ 31.15625 6.109375 34.5625 8.28125 \nQ 37.984375 10.453125 37.984375 14.40625 \nQ 37.984375 18.0625 35.515625 20.015625 \nQ 33.0625 21.96875 24.703125 23.78125 \nL 21.578125 24.515625 \nQ 13.234375 26.265625 9.515625 29.90625 \nQ 5.8125 33.546875 5.8125 39.890625 \nQ 5.8125 47.609375 11.28125 51.796875 \nQ 16.75 56 26.8125 56 \nQ 31.78125 56 36.171875 55.265625 \nQ 40.578125 54.546875 44.28125 53.078125 \nz\n\" id=\"DejaVuSans-115\"/>\n      <path id=\"DejaVuSans-32\"/>\n      <path d=\"M 9.8125 72.90625 \nL 51.703125 72.90625 \nL 51.703125 64.59375 \nL 19.671875 64.59375 \nL 19.671875 43.109375 \nL 48.578125 43.109375 \nL 48.578125 34.8125 \nL 19.671875 34.8125 \nL 19.671875 0 \nL 9.8125 0 \nz\n\" id=\"DejaVuSans-70\"/>\n      <path d=\"M 41.109375 46.296875 \nQ 39.59375 47.171875 37.8125 47.578125 \nQ 36.03125 48 33.890625 48 \nQ 26.265625 48 22.1875 43.046875 \nQ 18.109375 38.09375 18.109375 28.8125 \nL 18.109375 0 \nL 9.078125 0 \nL 9.078125 54.6875 \nL 18.109375 54.6875 \nL 18.109375 46.1875 \nQ 20.953125 51.171875 25.484375 53.578125 \nQ 30.03125 56 36.53125 56 \nQ 37.453125 56 38.578125 55.875 \nQ 39.703125 55.765625 41.0625 55.515625 \nz\n\" id=\"DejaVuSans-114\"/>\n      <path d=\"M 48.78125 52.59375 \nL 48.78125 44.1875 \nQ 44.96875 46.296875 41.140625 47.34375 \nQ 37.3125 48.390625 33.40625 48.390625 \nQ 24.65625 48.390625 19.8125 42.84375 \nQ 14.984375 37.3125 14.984375 27.296875 \nQ 14.984375 17.28125 19.8125 11.734375 \nQ 24.65625 6.203125 33.40625 6.203125 \nQ 37.3125 6.203125 41.140625 7.25 \nQ 44.96875 8.296875 48.78125 10.40625 \nL 48.78125 2.09375 \nQ 45.015625 0.34375 40.984375 -0.53125 \nQ 36.96875 -1.421875 32.421875 -1.421875 \nQ 20.0625 -1.421875 12.78125 6.34375 \nQ 5.515625 14.109375 5.515625 27.296875 \nQ 5.515625 40.671875 12.859375 48.328125 \nQ 20.21875 56 33.015625 56 \nQ 37.15625 56 41.109375 55.140625 \nQ 45.0625 54.296875 48.78125 52.59375 \nz\n\" id=\"DejaVuSans-99\"/>\n      <path d=\"M 18.3125 70.21875 \nL 18.3125 54.6875 \nL 36.8125 54.6875 \nL 36.8125 47.703125 \nL 18.3125 47.703125 \nL 18.3125 18.015625 \nQ 18.3125 11.328125 20.140625 9.421875 \nQ 21.96875 7.515625 27.59375 7.515625 \nL 36.8125 7.515625 \nL 36.8125 0 \nL 27.59375 0 \nQ 17.1875 0 13.234375 3.875 \nQ 9.28125 7.765625 9.28125 18.015625 \nL 9.28125 47.703125 \nL 2.6875 47.703125 \nL 2.6875 54.6875 \nL 9.28125 54.6875 \nL 9.28125 70.21875 \nz\n\" id=\"DejaVuSans-116\"/>\n      <path d=\"M 9.421875 54.6875 \nL 18.40625 54.6875 \nL 18.40625 0 \nL 9.421875 0 \nz\nM 9.421875 75.984375 \nL 18.40625 75.984375 \nL 18.40625 64.59375 \nL 9.421875 64.59375 \nz\n\" id=\"DejaVuSans-105\"/>\n      <path d=\"M 30.609375 48.390625 \nQ 23.390625 48.390625 19.1875 42.75 \nQ 14.984375 37.109375 14.984375 27.296875 \nQ 14.984375 17.484375 19.15625 11.84375 \nQ 23.34375 6.203125 30.609375 6.203125 \nQ 37.796875 6.203125 41.984375 11.859375 \nQ 46.1875 17.53125 46.1875 27.296875 \nQ 46.1875 37.015625 41.984375 42.703125 \nQ 37.796875 48.390625 30.609375 48.390625 \nz\nM 30.609375 56 \nQ 42.328125 56 49.015625 48.375 \nQ 55.71875 40.765625 55.71875 27.296875 \nQ 55.71875 13.875 49.015625 6.21875 \nQ 42.328125 -1.421875 30.609375 -1.421875 \nQ 18.84375 -1.421875 12.171875 6.21875 \nQ 5.515625 13.875 5.515625 27.296875 \nQ 5.515625 40.765625 12.171875 48.375 \nQ 18.84375 56 30.609375 56 \nz\n\" id=\"DejaVuSans-111\"/>\n      <path d=\"M 54.890625 33.015625 \nL 54.890625 0 \nL 45.90625 0 \nL 45.90625 32.71875 \nQ 45.90625 40.484375 42.875 44.328125 \nQ 39.84375 48.1875 33.796875 48.1875 \nQ 26.515625 48.1875 22.3125 43.546875 \nQ 18.109375 38.921875 18.109375 30.90625 \nL 18.109375 0 \nL 9.078125 0 \nL 9.078125 54.6875 \nL 18.109375 54.6875 \nL 18.109375 46.1875 \nQ 21.34375 51.125 25.703125 53.5625 \nQ 30.078125 56 35.796875 56 \nQ 45.21875 56 50.046875 50.171875 \nQ 54.890625 44.34375 54.890625 33.015625 \nz\n\" id=\"DejaVuSans-110\"/>\n     </defs>\n     <use xlink:href=\"#DejaVuSans-77\"/>\n     <use x=\"86.279297\" xlink:href=\"#DejaVuSans-97\"/>\n     <use x=\"147.558594\" xlink:href=\"#DejaVuSans-115\"/>\n     <use x=\"199.658203\" xlink:href=\"#DejaVuSans-115\"/>\n     <use x=\"251.757812\" xlink:href=\"#DejaVuSans-32\"/>\n     <use x=\"283.544922\" xlink:href=\"#DejaVuSans-70\"/>\n     <use x=\"333.814453\" xlink:href=\"#DejaVuSans-114\"/>\n     <use x=\"374.927734\" xlink:href=\"#DejaVuSans-97\"/>\n     <use x=\"436.207031\" xlink:href=\"#DejaVuSans-99\"/>\n     <use x=\"491.1875\" xlink:href=\"#DejaVuSans-116\"/>\n     <use x=\"530.396484\" xlink:href=\"#DejaVuSans-105\"/>\n     <use x=\"558.179688\" xlink:href=\"#DejaVuSans-111\"/>\n     <use x=\"619.361328\" xlink:href=\"#DejaVuSans-110\"/>\n     <use x=\"682.740234\" xlink:href=\"#DejaVuSans-115\"/>\n    </g>\n   </g>\n   <g id=\"legend_1\">\n    <g id=\"patch_7\">\n     <path d=\"M 304.148438 154.555313 \nL 357.903125 154.555313 \nQ 359.903125 154.555313 359.903125 152.555313 \nL 359.903125 109.520938 \nQ 359.903125 107.520938 357.903125 107.520938 \nL 304.148438 107.520938 \nQ 302.148438 107.520938 302.148438 109.520938 \nL 302.148438 152.555313 \nQ 302.148438 154.555313 304.148438 154.555313 \nz\n\" style=\"fill:#ffffff;opacity:0.8;stroke:#cccccc;stroke-linejoin:miter;\"/>\n    </g>\n    <g id=\"line2d_18\">\n     <path d=\"M 306.148438 115.619375 \nL 326.148438 115.619375 \n\" style=\"fill:none;stroke:#1f77b4;stroke-linecap:square;stroke-width:1.5;\"/>\n    </g>\n    <g id=\"line2d_19\"/>\n    <g id=\"text_16\">\n     <!-- CO -->\n     <g transform=\"translate(334.148438 119.119375)scale(0.1 -0.1)\">\n      <defs>\n       <path d=\"M 64.40625 67.28125 \nL 64.40625 56.890625 \nQ 59.421875 61.53125 53.78125 63.8125 \nQ 48.140625 66.109375 41.796875 66.109375 \nQ 29.296875 66.109375 22.65625 58.46875 \nQ 16.015625 50.828125 16.015625 36.375 \nQ 16.015625 21.96875 22.65625 14.328125 \nQ 29.296875 6.6875 41.796875 6.6875 \nQ 48.140625 6.6875 53.78125 8.984375 \nQ 59.421875 11.28125 64.40625 15.921875 \nL 64.40625 5.609375 \nQ 59.234375 2.09375 53.4375 0.328125 \nQ 47.65625 -1.421875 41.21875 -1.421875 \nQ 24.65625 -1.421875 15.125 8.703125 \nQ 5.609375 18.84375 5.609375 36.375 \nQ 5.609375 53.953125 15.125 64.078125 \nQ 24.65625 74.21875 41.21875 74.21875 \nQ 47.75 74.21875 53.53125 72.484375 \nQ 59.328125 70.75 64.40625 67.28125 \nz\n\" id=\"DejaVuSans-67\"/>\n       <path d=\"M 39.40625 66.21875 \nQ 28.65625 66.21875 22.328125 58.203125 \nQ 16.015625 50.203125 16.015625 36.375 \nQ 16.015625 22.609375 22.328125 14.59375 \nQ 28.65625 6.59375 39.40625 6.59375 \nQ 50.140625 6.59375 56.421875 14.59375 \nQ 62.703125 22.609375 62.703125 36.375 \nQ 62.703125 50.203125 56.421875 58.203125 \nQ 50.140625 66.21875 39.40625 66.21875 \nz\nM 39.40625 74.21875 \nQ 54.734375 74.21875 63.90625 63.9375 \nQ 73.09375 53.65625 73.09375 36.375 \nQ 73.09375 19.140625 63.90625 8.859375 \nQ 54.734375 -1.421875 39.40625 -1.421875 \nQ 24.03125 -1.421875 14.8125 8.828125 \nQ 5.609375 19.09375 5.609375 36.375 \nQ 5.609375 53.65625 14.8125 63.9375 \nQ 24.03125 74.21875 39.40625 74.21875 \nz\n\" id=\"DejaVuSans-79\"/>\n      </defs>\n      <use xlink:href=\"#DejaVuSans-67\"/>\n      <use x=\"69.824219\" xlink:href=\"#DejaVuSans-79\"/>\n     </g>\n    </g>\n    <g id=\"line2d_20\">\n     <path d=\"M 306.148438 130.2975 \nL 326.148438 130.2975 \n\" style=\"fill:none;stroke:#ff7f0e;stroke-linecap:square;stroke-width:1.5;\"/>\n    </g>\n    <g id=\"line2d_21\"/>\n    <g id=\"text_17\">\n     <!-- CO2 -->\n     <g transform=\"translate(334.148438 133.7975)scale(0.1 -0.1)\">\n      <use xlink:href=\"#DejaVuSans-67\"/>\n      <use x=\"69.824219\" xlink:href=\"#DejaVuSans-79\"/>\n      <use x=\"148.535156\" xlink:href=\"#DejaVuSans-50\"/>\n     </g>\n    </g>\n    <g id=\"line2d_22\">\n     <path d=\"M 306.148438 144.975625 \nL 326.148438 144.975625 \n\" style=\"fill:none;stroke:#2ca02c;stroke-linecap:square;stroke-width:1.5;\"/>\n    </g>\n    <g id=\"line2d_23\"/>\n    <g id=\"text_18\">\n     <!-- H2O -->\n     <g transform=\"translate(334.148438 148.475625)scale(0.1 -0.1)\">\n      <defs>\n       <path d=\"M 9.8125 72.90625 \nL 19.671875 72.90625 \nL 19.671875 43.015625 \nL 55.515625 43.015625 \nL 55.515625 72.90625 \nL 65.375 72.90625 \nL 65.375 0 \nL 55.515625 0 \nL 55.515625 34.71875 \nL 19.671875 34.71875 \nL 19.671875 0 \nL 9.8125 0 \nz\n\" id=\"DejaVuSans-72\"/>\n      </defs>\n      <use xlink:href=\"#DejaVuSans-72\"/>\n      <use x=\"75.195312\" xlink:href=\"#DejaVuSans-50\"/>\n      <use x=\"138.818359\" xlink:href=\"#DejaVuSans-79\"/>\n     </g>\n    </g>\n   </g>\n  </g>\n </g>\n <defs>\n  <clipPath id=\"pe937a36863\">\n   <rect height=\"217.44\" width=\"334.8\" x=\"30.103125\" y=\"22.318125\"/>\n  </clipPath>\n </defs>\n</svg>\n",
      "image/png": "[encoded data removed]"
     },
     "metadata": {
      "needs_background": "light"
     }
    }
   ]
  },
  {
   "cell_type": "code",
   "execution_count": null,
   "metadata": {},
   "outputs": [],
   "source": []
  }
 ]
}