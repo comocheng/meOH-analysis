{
 "cells": [
  {
   "cell_type": "markdown",
   "metadata": {},
   "source": [
    "# Run the reactor sensitivity using our method"
   ]
  },
  {
   "cell_type": "code",
   "execution_count": 1,
   "metadata": {},
   "outputs": [],
   "source": [
    "from surface_reactor_test import sensitivity_test"
   ]
  },
  {
   "cell_type": "code",
   "execution_count": 2,
   "metadata": {},
   "outputs": [],
   "source": [
    "# brute force sensitivity object\n",
    "st_brute_pet = sensitivity_test(yaml_file = \"methane_pox_on_pt.cti\")\n",
    "\n",
    "# brute force sensitivity object\n",
    "st_brute_unpet = sensitivity_test(yaml_file = \"methane_pox_on_pt.cti\")\n",
    "\n",
    "# builtin sensitivity object\n",
    "st_builtin = sensitivity_test(yaml_file = \"methane_pox_on_pt.cti\")\n",
    "\n",
    "# set enthalpy perturbation\n",
    "dH = 1e4"
   ]
  },
  {
   "cell_type": "code",
   "execution_count": 3,
   "metadata": {},
   "outputs": [
    {
     "name": "stdout",
     "output_type": "stream",
     "text": [
      "initial H298: -109616975.32015607\n",
      "initial conc: 1.8098360699377896e-16\n"
     ]
    },
    {
     "data": {
      "text/plain": [
       "[1.8098360699377896e-16, -109616975.32015607, 1.0223498562863027e-08]"
      ]
     },
     "execution_count": 3,
     "metadata": {},
     "output_type": "execute_result"
    }
   ],
   "source": [
    "solution1 = st_brute_pet.brute_unperturbed(\"O(S)\")\n",
    "solution1"
   ]
  },
  {
   "cell_type": "code",
   "execution_count": 4,
   "metadata": {},
   "outputs": [
    {
     "name": "stdout",
     "output_type": "stream",
     "text": [
      "final H298: -109606975.32015607\n",
      "final conc: 1.778192119175572e-16\n"
     ]
    },
    {
     "data": {
      "text/plain": [
       "[1.778192119175572e-16, -109606975.32015607, 1.0021710924350186e-08]"
      ]
     },
     "execution_count": 4,
     "metadata": {},
     "output_type": "execute_result"
    }
   ],
   "source": [
    "solution2 = st_brute_unpet.brute_perturbed(\"O(S)\", dH)\n",
    "solution2"
   ]
  },
  {
   "cell_type": "code",
   "execution_count": 5,
   "metadata": {},
   "outputs": [
    {
     "data": {
      "text/plain": [
       "5.224588921335279e-46"
      ]
     },
     "execution_count": 5,
     "metadata": {},
     "output_type": "execute_result"
    }
   ],
   "source": [
    "sensitivity = ((solution1[0]-solution2[0])/(solution1[1]-solution2[1]))*((solution1[0]/solution1[1]))\n",
    "sensitivity"
   ]
  },
  {
   "cell_type": "code",
   "execution_count": 6,
   "metadata": {},
   "outputs": [
    {
     "name": "stdout",
     "output_type": "stream",
     "text": [
      "initial conc: 0.0\n",
      "initial H298: -109616975.32015607\n",
      "simulation time before step:1e-08\n",
      "n-1 conc: 1.8050618551912276e-16\n",
      "simulation time after step:1.0223498562863027e-08\n",
      "amount of time for step: 2.2349856286302647e-10\n",
      "final conc: 1.8050618551912276e-16\n"
     ]
    },
    {
     "data": {
      "text/plain": [
       "array([1.02266785e-09])"
      ]
     },
     "execution_count": 6,
     "metadata": {},
     "output_type": "execute_result"
    }
   ],
   "source": [
    "st_builtin.normal_thermo(\"O(S)\")"
   ]
  }
 ],
 "metadata": {
  "interpreter": {
   "hash": "e8c7cf37b9a683dd164fb775095fbd3941e7f4fb7815e0c1ab08493fd52a807b"
  },
  "kernelspec": {
   "display_name": "cantera",
   "language": "python",
   "name": "cantera"
  },
  "language_info": {
   "codemirror_mode": {
    "name": "ipython",
    "version": 3
   },
   "file_extension": ".py",
   "mimetype": "text/x-python",
   "name": "python",
   "nbconvert_exporter": "python",
   "pygments_lexer": "ipython3",
   "version": "3.9.6"
  }
 },
 "nbformat": 4,
 "nbformat_minor": 2
}
